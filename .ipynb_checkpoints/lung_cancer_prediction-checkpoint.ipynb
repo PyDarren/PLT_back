{
 "cells": [
  {
   "cell_type": "code",
   "execution_count": 6,
   "metadata": {
    "ExecuteTime": {
     "end_time": "2019-11-03T09:21:51.775985Z",
     "start_time": "2019-11-03T09:21:51.772993Z"
    }
   },
   "outputs": [],
   "source": [
    "# Created by: Chen Da\n",
    "# Created on: 20191031"
   ]
  },
  {
   "cell_type": "code",
   "execution_count": 7,
   "metadata": {
    "ExecuteTime": {
     "end_time": "2019-11-03T09:21:51.786956Z",
     "start_time": "2019-11-03T09:21:51.776982Z"
    }
   },
   "outputs": [],
   "source": [
    "import pandas as pd\n",
    "import numpy as np\n",
    "import matplotlib.pyplot as plt\n",
    "import plotly as py\n",
    "import plotly.graph_objs as go\n",
    "import plotly.express as px"
   ]
  },
  {
   "cell_type": "code",
   "execution_count": 8,
   "metadata": {
    "ExecuteTime": {
     "end_time": "2019-11-03T09:21:51.792940Z",
     "start_time": "2019-11-03T09:21:51.788951Z"
    }
   },
   "outputs": [],
   "source": [
    "# LR函数\n",
    "def functionLR(id_data):\n",
    "    z = intercept + np.dot(coefs, id_data.values[1:-1])\n",
    "    prob = 1 / (1 + np.exp(-z))\n",
    "    return prob"
   ]
  },
  {
   "cell_type": "code",
   "execution_count": 9,
   "metadata": {
    "ExecuteTime": {
     "end_time": "2019-11-03T09:21:51.802914Z",
     "start_time": "2019-11-03T09:21:51.793937Z"
    }
   },
   "outputs": [],
   "source": [
    "# 肝癌预测\n",
    "def lungCancerPrediction(raw_df, file_name):\n",
    "    df = raw_df.loc[:, selected_columns] \n",
    "    prob_list = list()\n",
    "    for info in df['id'].values:\n",
    "        prob = functionLR(df[df['id'] == info].iloc[0, :])\n",
    "        prob_list.append(prob)\n",
    "    df_pro = df.loc[:, ['id', 'class']]\n",
    "    df_pro['prob'] = pd.Series(prob_list)\n",
    "#     df_healthy = df_pro[df_pro['class'] == 0]\n",
    "#     df_unhealthy = df_pro[df_pro['class'] == 1]\n",
    "#     plt.figure(figsize=(12,10))\n",
    "#     plt.scatter(df_healthy['id'], df_healthy['prob'], color='red')\n",
    "#     plt.scatter(df_unhealthy['id'], df_unhealthy['prob'], color='skyblue')\n",
    "#     plt.axhline(y=0.5, color='grey', linestyle='--', alpha=0.6)\n",
    "#     plt.xticks(rotation=90)\n",
    "#     plt.grid()\n",
    "#     plt.show()\n",
    "    df_pro['class'] = df_pro['class'].apply(lambda x : str(x))\n",
    "    df_pro['id'] = df_pro['id'].apply(lambda x : str(x)+'_')\n",
    "    df_pro = df_pro.sort_values(by='class')\n",
    "    fig = px.scatter(df_pro, x='id', y='prob',\n",
    "                 color='class', template='ggplot2', color_discrete_sequence=['green', '#EE0000'])\n",
    "    fig.add_trace(go.Scatter(x=[df_pro['id'].iloc[0, ], df_pro['id'].iloc[-1,]], y=[0.5, 0.5], \n",
    "                             mode='lines', \n",
    "                             line=dict(color='grey', dash='dash'),\n",
    "                             showlegend=False))\n",
    "    fig.update_layout(width=1200, height=800)\n",
    "#     fig.to_image('C:/Users/pc/Desktop/output.png')\n",
    "    py.io.write_image(fig, 'C:/Users/pc/Desktop/lungCancerPrediction_%s' % file_name + '.png')\n",
    "    fig.show()\n",
    "    return df_pro"
   ]
  },
  {
   "cell_type": "code",
   "execution_count": 10,
   "metadata": {
    "ExecuteTime": {
     "end_time": "2019-11-03T09:21:55.600344Z",
     "start_time": "2019-11-03T09:21:51.803911Z"
    }
   },
   "outputs": [
    {
     "name": "stdout",
     "output_type": "stream",
     "text": [
      "请输入原始数据的名称：20191103\n"
     ]
    },
    {
     "data": {
      "application/vnd.plotly.v1+json": {
       "config": {
        "plotlyServerURL": "https://plot.ly"
       },
       "data": [
        {
         "hoverlabel": {
          "namelength": 0
         },
         "hovertemplate": "class=0<br>id=%{x}<br>prob=%{y}",
         "legendgroup": "class=0",
         "marker": {
          "color": "green",
          "symbol": "circle"
         },
         "mode": "markers",
         "name": "class=0",
         "showlegend": true,
         "type": "scatter",
         "x": [
          "B001.fcs_",
          "B146.fcs_",
          "B147.fcs_",
          "B148.fcs_",
          "B149.fcs_",
          "B150.fcs_",
          "B151.fcs_",
          "B152.fcs_",
          "B153.fcs_",
          "B154.fcs_",
          "B155.fcs_",
          "B145.fcs_",
          "B156.fcs_",
          "B158.fcs_",
          "B159.fcs_",
          "B160.fcs_",
          "B161.fcs_",
          "B162.fcs_",
          "B163.fcs_",
          "B164.fcs_",
          "B165.fcs_",
          "B166.fcs_",
          "B167.fcs_",
          "B157.fcs_",
          "B144.fcs_",
          "B143.fcs_",
          "B142.fcs_",
          "B199_",
          "B200_",
          "B121.fcs_",
          "B122.fcs_",
          "B123.fcs_",
          "B124.fcs_",
          "B125.fcs_",
          "B126.fcs_",
          "B127.fcs_",
          "B128.fcs_",
          "B129.fcs_",
          "B130.fcs_",
          "B131.fcs_",
          "B132.fcs_",
          "B133.fcs_",
          "B134.fcs_",
          "B135.fcs_",
          "B136.fcs_",
          "B137.fcs_",
          "B138.fcs_",
          "B139.fcs_",
          "B140.fcs_",
          "B141.fcs_",
          "B168.fcs_",
          "B169.fcs_",
          "ZB002.fcs_",
          "ZB003.fcs_",
          "2913_B017-A.fcs_",
          "2924_B018-A.fcs_",
          "3000_B041.fcs_",
          "3000_B042.fcs_",
          "3458_B085_F.fcs_",
          "B101.fcs_",
          "B102.fcs_",
          "B103.fcs_",
          "B104.fcs_",
          "B105.fcs_",
          "B106.fcs_",
          "B107.fcs_",
          "B108.fcs_",
          "B109.fcs_",
          "B110.fcs_",
          "B111.fcs_",
          "B112.fcs_",
          "B113.fcs_",
          "B114.fcs_",
          "B115.fcs_",
          "B116.fcs_",
          "B117.fcs_",
          "B118.fcs_",
          "2869_B015F-1.fcs_",
          "B198_",
          "2869_B014F-1.fcs_",
          "2869_B012F-1.fcs_",
          "B170.fcs_",
          "B171.fcs_",
          "B172.fcs_",
          "B173.fcs_",
          "B174.fcs_",
          "B175.fcs_",
          "B176.fcs_",
          "B177.fcs_",
          "B178.fcs_",
          "B179.fcs_",
          "B180.fcs_",
          "B181.fcs_",
          "B182.fcs_",
          "B183.fcs_",
          "B184.fcs_",
          "B185.fcs_",
          "B186.fcs_",
          "B187.fcs_",
          "B188.fcs_",
          "B189.fcs_",
          "ZB004.fcs_",
          "ZB005.fcs_",
          "2869_B011F-1.fcs_",
          "2869_B013F-1.fcs_",
          "B197_",
          "B196_",
          "B195_",
          "B030.fcs_",
          "B031.fcs_",
          "B032.fcs_",
          "B033.fcs_",
          "B034.fcs_",
          "B035.fcs_",
          "B036.fcs_",
          "B037.fcs_",
          "B038.fcs_",
          "B039.fcs_",
          "B040.fcs_",
          "B041.fcs_",
          "B042.fcs_",
          "B043.fcs_",
          "B044.fcs_",
          "B045.fcs_",
          "B046.fcs_",
          "B047.fcs_",
          "B048.fcs_",
          "B049.fcs_",
          "B050.fcs_",
          "B051.fcs_",
          "B052.fcs_",
          "B029.fcs_",
          "B053.fcs_",
          "B028.fcs_",
          "B026.fcs_",
          "B002.fcs_",
          "B003.fcs_",
          "B004.fcs_",
          "B005.fcs_",
          "B006.fcs_",
          "B007.fcs_",
          "B009.fcs_",
          "B010.fcs_",
          "B011.fcs_",
          "B012.fcs_",
          "B013.fcs_",
          "B014.fcs_",
          "B015.fcs_",
          "B016.fcs_",
          "B017.fcs_",
          "B018.fcs_",
          "B019.fcs_",
          "B020.fcs_",
          "B021.fcs_",
          "B022.fcs_",
          "B023.fcs_",
          "B024.fcs_",
          "B025.fcs_",
          "B027.fcs_",
          "B119.fcs_",
          "B054.fcs_",
          "B056.fcs_",
          "B084.fcs_",
          "B085.fcs_",
          "B086.fcs_",
          "B087.fcs_",
          "B088.fcs_",
          "B089.fcs_",
          "B090.fcs_",
          "B091.fcs_",
          "B092.fcs_",
          "B093.fcs_",
          "B094.fcs_",
          "B095.fcs_",
          "B096.fcs_",
          "B097.fcs_",
          "B098.fcs_",
          "B099.fcs_",
          "B100.fcs_",
          "ZB001.fcs_",
          "B190_",
          "B191_",
          "B192_",
          "B193_",
          "B194_",
          "B083.fcs_",
          "B055.fcs_",
          "B082.fcs_",
          "B080.fcs_",
          "B057.fcs_",
          "B058.fcs_",
          "B059.fcs_",
          "B060.fcs_",
          "B061.fcs_",
          "B062.fcs_",
          "B063.fcs_",
          "B064.fcs_",
          "B065.fcs_",
          "B066.fcs_",
          "B067.fcs_",
          "B068.fcs_",
          "B069.fcs_",
          "B070.fcs_",
          "B071.fcs_",
          "B072.fcs_",
          "B073.fcs_",
          "B074.fcs_",
          "B075.fcs_",
          "B076.fcs_",
          "B077.fcs_",
          "B078.fcs_",
          "B079.fcs_",
          "B081.fcs_",
          "B120.fcs_"
         ],
         "xaxis": "x",
         "y": [
          0.022056736644056336,
          0.021904869090263842,
          0.01903870801096046,
          0.003289090491711188,
          0.17220536809424283,
          0.16054130658090726,
          0.0051754913480087875,
          0.2466546369339227,
          0.07513419582400939,
          0.0029912907861962866,
          0.006024835069224208,
          0.046764953288656416,
          0.00034273813356978076,
          0.0063040206986366976,
          0.0229286384562541,
          0.0209148735444315,
          0.013465702562450874,
          0.000559908324771309,
          0.011778383243222808,
          0.013067890279426408,
          0.013546851411082276,
          0.005742335642195285,
          0.08209429973108057,
          0.006577138469910077,
          0.2696767474412241,
          0.030196836520342368,
          0.02741495045856515,
          0.006335902723839203,
          0.23497070458330438,
          0.0003716931837281869,
          0.2611047968050886,
          0.11064509354459028,
          0.03588855575491197,
          0.002306344303485977,
          0.05268404529363483,
          0.020629973266946773,
          0.092267246011097,
          0.04772230575209639,
          0.0056039830354755495,
          0.022315842915961382,
          0.007107697643178193,
          0.0014584678248962036,
          0.05425011892364197,
          0.001957912409308739,
          0.018920605338541563,
          0.014432670050541184,
          0.20074050958441747,
          0.004823976229567402,
          0.058636547912823266,
          0.024801488533298475,
          0.0005682798882768191,
          0.0159689915254696,
          0.019746533312363087,
          0.0007349065239051941,
          0.08423422770892514,
          0.0030706887058191065,
          0.0034854561236973337,
          0.003745807294099391,
          0.00043007880911284294,
          0.0014198201529059878,
          0.09790506959747748,
          0.019296832143497027,
          0.006563914749945099,
          0.06171385700045318,
          0.003040311432577784,
          0.023637303177900255,
          0.11870529032823574,
          0.001677572077728677,
          0.012831247360409727,
          0.008612364321714496,
          0.0014223736640624795,
          0.026570729510179983,
          0.23538727333970802,
          0.03194876338726609,
          0.084861079708518,
          0.007148228858490573,
          0.009345891328642796,
          0.6572122528068547,
          0.00894302793227729,
          0.0423093581540545,
          0.09927941410612519,
          0.00859740120582103,
          0.0005254022507196382,
          0.003741417786101737,
          0.21345437959354344,
          0.0038298521790004893,
          0.040115525701922325,
          0.06919493836357611,
          0.001045183717764446,
          0.008420946196739424,
          0.010411660130347186,
          0.00795264143938944,
          0.002537656571707141,
          0.006335813857547153,
          0.02540924901826048,
          0.03179530989069719,
          0.06001782925434227,
          0.005131661217193146,
          0.276761936880481,
          0.01773720931133887,
          0.006820349399495082,
          0.019639580376095925,
          0.709127573707261,
          0.44674934150206713,
          0.010875220989094027,
          0.02516697447279576,
          0.055699935494114894,
          0.0033172465303450754,
          0.08759931494067882,
          0.1703126256986891,
          0.020164935578722776,
          0.02814930527546768,
          0.019768394964560964,
          0.022993081859639438,
          0.1969570047584465,
          0.23867811334521594,
          0.0024372117592704563,
          0.056460835006487624,
          0.9530512107549378,
          0.007079644835704375,
          0.5306214923834376,
          0.08933238294960891,
          0.05323648607153606,
          0.003088684221990818,
          0.028657784520245547,
          0.006035445066291311,
          0.768261035209262,
          0.0018099759633400843,
          0.0753287495447385,
          0.0827814060690571,
          0.05346208114376076,
          0.8354106137482824,
          0.025466708075489557,
          0.1282219736248179,
          0.0025759894992021196,
          0.017549105084351587,
          0.024845462816645743,
          0.1239230280227878,
          0.006972488231942339,
          0.02636520130424031,
          0.3407114044561935,
          0.1276858112249333,
          0.022908430174239373,
          0.27208724313854804,
          0.6891795301885612,
          0.20893583507537095,
          0.08216830355450264,
          0.005203140520268929,
          0.001283818343454352,
          0.24943516596518134,
          0.2009707900906594,
          0.04475754425133234,
          0.001656064865137751,
          0.2343638651303866,
          0.7950272725416274,
          0.024948010748003343,
          0.008768701391515697,
          0.04924601051684431,
          0.0008411918946720077,
          0.0022730475064237582,
          0.07119674879988118,
          0.003540358457409451,
          0.15196129737554717,
          0.9999964078580698,
          0.17748678660266595,
          0.0032711126163864593,
          0.0013983578719972082,
          0.0003166080230607241,
          0.015560883117619996,
          0.039719512947950425,
          0.05758649643534555,
          0.025089165472392646,
          0.002684325333062281,
          0.06159964159797094,
          0.007597111902296395,
          0.01688298143278199,
          0.08787988588803193,
          0.004263434380589179,
          0.005530471010977501,
          0.001757279720017485,
          0.5205927552223217,
          0.14497486228323408,
          0.0172570937837922,
          0.013209058490682038,
          0.08275519444997899,
          0.3138277237611022,
          0.4346141419960272,
          0.013440569608749658,
          0.006992183125131752,
          0.006288065447980692,
          0.0011825826653866069,
          0.0054518929723733674,
          0.0038324789801967786,
          0.007674258727692919,
          0.04720386687516922,
          0.0364878117898702,
          0.0023732605475560577,
          0.05234370800505155,
          0.018133514044038682,
          0.2843976057815072,
          0.10375711250053694,
          0.0008371737878272704,
          0.3447374024181183,
          0.07346320997723324,
          0.11670088891367922,
          0.010204440179895557,
          0.10927952985171976,
          0.06469563779311863,
          0.015546410605739166,
          0.06804746188006042,
          0.0006403262595483623,
          0.015994020827945626,
          0.05460577578892382,
          0.04559423808418441
         ],
         "yaxis": "y"
        },
        {
         "line": {
          "color": "grey",
          "dash": "dash"
         },
         "mode": "lines",
         "showlegend": false,
         "type": "scatter",
         "x": [
          "B001.fcs_",
          "B120.fcs_"
         ],
         "y": [
          0.5,
          0.5
         ]
        }
       ],
       "layout": {
        "height": 800,
        "legend": {
         "tracegroupgap": 0
        },
        "margin": {
         "t": 60
        },
        "template": {
         "data": {
          "bar": [
           {
            "error_x": {
             "color": "rgb(51,51,51)"
            },
            "error_y": {
             "color": "rgb(51,51,51)"
            },
            "marker": {
             "line": {
              "color": "rgb(237,237,237)",
              "width": 0.5
             }
            },
            "type": "bar"
           }
          ],
          "barpolar": [
           {
            "marker": {
             "line": {
              "color": "rgb(237,237,237)",
              "width": 0.5
             }
            },
            "type": "barpolar"
           }
          ],
          "carpet": [
           {
            "aaxis": {
             "endlinecolor": "rgb(51,51,51)",
             "gridcolor": "white",
             "linecolor": "white",
             "minorgridcolor": "white",
             "startlinecolor": "rgb(51,51,51)"
            },
            "baxis": {
             "endlinecolor": "rgb(51,51,51)",
             "gridcolor": "white",
             "linecolor": "white",
             "minorgridcolor": "white",
             "startlinecolor": "rgb(51,51,51)"
            },
            "type": "carpet"
           }
          ],
          "choropleth": [
           {
            "colorbar": {
             "outlinewidth": 0,
             "tickcolor": "rgb(237,237,237)",
             "ticklen": 6,
             "ticks": "inside"
            },
            "type": "choropleth"
           }
          ],
          "contour": [
           {
            "colorbar": {
             "outlinewidth": 0,
             "tickcolor": "rgb(237,237,237)",
             "ticklen": 6,
             "ticks": "inside"
            },
            "colorscale": [
             [
              0,
              "rgb(20,44,66)"
             ],
             [
              1,
              "rgb(90,179,244)"
             ]
            ],
            "type": "contour"
           }
          ],
          "contourcarpet": [
           {
            "colorbar": {
             "outlinewidth": 0,
             "tickcolor": "rgb(237,237,237)",
             "ticklen": 6,
             "ticks": "inside"
            },
            "type": "contourcarpet"
           }
          ],
          "heatmap": [
           {
            "colorbar": {
             "outlinewidth": 0,
             "tickcolor": "rgb(237,237,237)",
             "ticklen": 6,
             "ticks": "inside"
            },
            "colorscale": [
             [
              0,
              "rgb(20,44,66)"
             ],
             [
              1,
              "rgb(90,179,244)"
             ]
            ],
            "type": "heatmap"
           }
          ],
          "heatmapgl": [
           {
            "colorbar": {
             "outlinewidth": 0,
             "tickcolor": "rgb(237,237,237)",
             "ticklen": 6,
             "ticks": "inside"
            },
            "colorscale": [
             [
              0,
              "rgb(20,44,66)"
             ],
             [
              1,
              "rgb(90,179,244)"
             ]
            ],
            "type": "heatmapgl"
           }
          ],
          "histogram": [
           {
            "marker": {
             "colorbar": {
              "outlinewidth": 0,
              "tickcolor": "rgb(237,237,237)",
              "ticklen": 6,
              "ticks": "inside"
             }
            },
            "type": "histogram"
           }
          ],
          "histogram2d": [
           {
            "colorbar": {
             "outlinewidth": 0,
             "tickcolor": "rgb(237,237,237)",
             "ticklen": 6,
             "ticks": "inside"
            },
            "colorscale": [
             [
              0,
              "rgb(20,44,66)"
             ],
             [
              1,
              "rgb(90,179,244)"
             ]
            ],
            "type": "histogram2d"
           }
          ],
          "histogram2dcontour": [
           {
            "colorbar": {
             "outlinewidth": 0,
             "tickcolor": "rgb(237,237,237)",
             "ticklen": 6,
             "ticks": "inside"
            },
            "colorscale": [
             [
              0,
              "rgb(20,44,66)"
             ],
             [
              1,
              "rgb(90,179,244)"
             ]
            ],
            "type": "histogram2dcontour"
           }
          ],
          "mesh3d": [
           {
            "colorbar": {
             "outlinewidth": 0,
             "tickcolor": "rgb(237,237,237)",
             "ticklen": 6,
             "ticks": "inside"
            },
            "type": "mesh3d"
           }
          ],
          "parcoords": [
           {
            "line": {
             "colorbar": {
              "outlinewidth": 0,
              "tickcolor": "rgb(237,237,237)",
              "ticklen": 6,
              "ticks": "inside"
             }
            },
            "type": "parcoords"
           }
          ],
          "scatter": [
           {
            "marker": {
             "colorbar": {
              "outlinewidth": 0,
              "tickcolor": "rgb(237,237,237)",
              "ticklen": 6,
              "ticks": "inside"
             }
            },
            "type": "scatter"
           }
          ],
          "scatter3d": [
           {
            "line": {
             "colorbar": {
              "outlinewidth": 0,
              "tickcolor": "rgb(237,237,237)",
              "ticklen": 6,
              "ticks": "inside"
             }
            },
            "marker": {
             "colorbar": {
              "outlinewidth": 0,
              "tickcolor": "rgb(237,237,237)",
              "ticklen": 6,
              "ticks": "inside"
             }
            },
            "type": "scatter3d"
           }
          ],
          "scattercarpet": [
           {
            "marker": {
             "colorbar": {
              "outlinewidth": 0,
              "tickcolor": "rgb(237,237,237)",
              "ticklen": 6,
              "ticks": "inside"
             }
            },
            "type": "scattercarpet"
           }
          ],
          "scattergeo": [
           {
            "marker": {
             "colorbar": {
              "outlinewidth": 0,
              "tickcolor": "rgb(237,237,237)",
              "ticklen": 6,
              "ticks": "inside"
             }
            },
            "type": "scattergeo"
           }
          ],
          "scattergl": [
           {
            "marker": {
             "colorbar": {
              "outlinewidth": 0,
              "tickcolor": "rgb(237,237,237)",
              "ticklen": 6,
              "ticks": "inside"
             }
            },
            "type": "scattergl"
           }
          ],
          "scattermapbox": [
           {
            "marker": {
             "colorbar": {
              "outlinewidth": 0,
              "tickcolor": "rgb(237,237,237)",
              "ticklen": 6,
              "ticks": "inside"
             }
            },
            "type": "scattermapbox"
           }
          ],
          "scatterpolar": [
           {
            "marker": {
             "colorbar": {
              "outlinewidth": 0,
              "tickcolor": "rgb(237,237,237)",
              "ticklen": 6,
              "ticks": "inside"
             }
            },
            "type": "scatterpolar"
           }
          ],
          "scatterpolargl": [
           {
            "marker": {
             "colorbar": {
              "outlinewidth": 0,
              "tickcolor": "rgb(237,237,237)",
              "ticklen": 6,
              "ticks": "inside"
             }
            },
            "type": "scatterpolargl"
           }
          ],
          "scatterternary": [
           {
            "marker": {
             "colorbar": {
              "outlinewidth": 0,
              "tickcolor": "rgb(237,237,237)",
              "ticklen": 6,
              "ticks": "inside"
             }
            },
            "type": "scatterternary"
           }
          ],
          "surface": [
           {
            "colorbar": {
             "outlinewidth": 0,
             "tickcolor": "rgb(237,237,237)",
             "ticklen": 6,
             "ticks": "inside"
            },
            "colorscale": [
             [
              0,
              "rgb(20,44,66)"
             ],
             [
              1,
              "rgb(90,179,244)"
             ]
            ],
            "type": "surface"
           }
          ],
          "table": [
           {
            "cells": {
             "fill": {
              "color": "rgb(237,237,237)"
             },
             "line": {
              "color": "white"
             }
            },
            "header": {
             "fill": {
              "color": "rgb(217,217,217)"
             },
             "line": {
              "color": "white"
             }
            },
            "type": "table"
           }
          ]
         },
         "layout": {
          "annotationdefaults": {
           "arrowhead": 0,
           "arrowwidth": 1
          },
          "colorscale": {
           "sequential": [
            [
             0,
             "rgb(20,44,66)"
            ],
            [
             1,
             "rgb(90,179,244)"
            ]
           ],
           "sequentialminus": [
            [
             0,
             "rgb(20,44,66)"
            ],
            [
             1,
             "rgb(90,179,244)"
            ]
           ]
          },
          "colorway": [
           "#F8766D",
           "#A3A500",
           "#00BF7D",
           "#00B0F6",
           "#E76BF3"
          ],
          "font": {
           "color": "rgb(51,51,51)"
          },
          "geo": {
           "bgcolor": "white",
           "lakecolor": "white",
           "landcolor": "rgb(237,237,237)",
           "showlakes": true,
           "showland": true,
           "subunitcolor": "white"
          },
          "hoverlabel": {
           "align": "left"
          },
          "hovermode": "closest",
          "paper_bgcolor": "white",
          "plot_bgcolor": "rgb(237,237,237)",
          "polar": {
           "angularaxis": {
            "gridcolor": "white",
            "linecolor": "white",
            "showgrid": true,
            "tickcolor": "rgb(51,51,51)",
            "ticks": "outside"
           },
           "bgcolor": "rgb(237,237,237)",
           "radialaxis": {
            "gridcolor": "white",
            "linecolor": "white",
            "showgrid": true,
            "tickcolor": "rgb(51,51,51)",
            "ticks": "outside"
           }
          },
          "scene": {
           "xaxis": {
            "backgroundcolor": "rgb(237,237,237)",
            "gridcolor": "white",
            "gridwidth": 2,
            "linecolor": "white",
            "showbackground": true,
            "showgrid": true,
            "tickcolor": "rgb(51,51,51)",
            "ticks": "outside",
            "zerolinecolor": "white"
           },
           "yaxis": {
            "backgroundcolor": "rgb(237,237,237)",
            "gridcolor": "white",
            "gridwidth": 2,
            "linecolor": "white",
            "showbackground": true,
            "showgrid": true,
            "tickcolor": "rgb(51,51,51)",
            "ticks": "outside",
            "zerolinecolor": "white"
           },
           "zaxis": {
            "backgroundcolor": "rgb(237,237,237)",
            "gridcolor": "white",
            "gridwidth": 2,
            "linecolor": "white",
            "showbackground": true,
            "showgrid": true,
            "tickcolor": "rgb(51,51,51)",
            "ticks": "outside",
            "zerolinecolor": "white"
           }
          },
          "shapedefaults": {
           "fillcolor": "black",
           "line": {
            "width": 0
           },
           "opacity": 0.3
          },
          "ternary": {
           "aaxis": {
            "gridcolor": "white",
            "linecolor": "white",
            "showgrid": true,
            "tickcolor": "rgb(51,51,51)",
            "ticks": "outside"
           },
           "baxis": {
            "gridcolor": "white",
            "linecolor": "white",
            "showgrid": true,
            "tickcolor": "rgb(51,51,51)",
            "ticks": "outside"
           },
           "bgcolor": "rgb(237,237,237)",
           "caxis": {
            "gridcolor": "white",
            "linecolor": "white",
            "showgrid": true,
            "tickcolor": "rgb(51,51,51)",
            "ticks": "outside"
           }
          },
          "xaxis": {
           "automargin": true,
           "gridcolor": "white",
           "linecolor": "white",
           "showgrid": true,
           "tickcolor": "rgb(51,51,51)",
           "ticks": "outside",
           "zerolinecolor": "white"
          },
          "yaxis": {
           "automargin": true,
           "gridcolor": "white",
           "linecolor": "white",
           "showgrid": true,
           "tickcolor": "rgb(51,51,51)",
           "ticks": "outside",
           "zerolinecolor": "white"
          }
         }
        },
        "width": 1200,
        "xaxis": {
         "anchor": "y",
         "domain": [
          0,
          0.98
         ],
         "title": {
          "text": "id"
         }
        },
        "yaxis": {
         "anchor": "x",
         "domain": [
          0,
          1
         ],
         "title": {
          "text": "prob"
         }
        }
       }
      },
      "text/html": [
       "<div>\n",
       "        \n",
       "        \n",
       "            <div id=\"8d026288-d230-418f-8672-bf842f787f43\" class=\"plotly-graph-div\" style=\"height:800px; width:1200px;\"></div>\n",
       "            <script type=\"text/javascript\">\n",
       "                require([\"plotly\"], function(Plotly) {\n",
       "                    window.PLOTLYENV=window.PLOTLYENV || {};\n",
       "                    \n",
       "                if (document.getElementById(\"8d026288-d230-418f-8672-bf842f787f43\")) {\n",
       "                    Plotly.newPlot(\n",
       "                        '8d026288-d230-418f-8672-bf842f787f43',\n",
       "                        [{\"hoverlabel\": {\"namelength\": 0}, \"hovertemplate\": \"class=0<br>id=%{x}<br>prob=%{y}\", \"legendgroup\": \"class=0\", \"marker\": {\"color\": \"green\", \"symbol\": \"circle\"}, \"mode\": \"markers\", \"name\": \"class=0\", \"showlegend\": true, \"type\": \"scatter\", \"x\": [\"B001.fcs_\", \"B146.fcs_\", \"B147.fcs_\", \"B148.fcs_\", \"B149.fcs_\", \"B150.fcs_\", \"B151.fcs_\", \"B152.fcs_\", \"B153.fcs_\", \"B154.fcs_\", \"B155.fcs_\", \"B145.fcs_\", \"B156.fcs_\", \"B158.fcs_\", \"B159.fcs_\", \"B160.fcs_\", \"B161.fcs_\", \"B162.fcs_\", \"B163.fcs_\", \"B164.fcs_\", \"B165.fcs_\", \"B166.fcs_\", \"B167.fcs_\", \"B157.fcs_\", \"B144.fcs_\", \"B143.fcs_\", \"B142.fcs_\", \"B199_\", \"B200_\", \"B121.fcs_\", \"B122.fcs_\", \"B123.fcs_\", \"B124.fcs_\", \"B125.fcs_\", \"B126.fcs_\", \"B127.fcs_\", \"B128.fcs_\", \"B129.fcs_\", \"B130.fcs_\", \"B131.fcs_\", \"B132.fcs_\", \"B133.fcs_\", \"B134.fcs_\", \"B135.fcs_\", \"B136.fcs_\", \"B137.fcs_\", \"B138.fcs_\", \"B139.fcs_\", \"B140.fcs_\", \"B141.fcs_\", \"B168.fcs_\", \"B169.fcs_\", \"ZB002.fcs_\", \"ZB003.fcs_\", \"2913_B017-A.fcs_\", \"2924_B018-A.fcs_\", \"3000_B041.fcs_\", \"3000_B042.fcs_\", \"3458_B085_F.fcs_\", \"B101.fcs_\", \"B102.fcs_\", \"B103.fcs_\", \"B104.fcs_\", \"B105.fcs_\", \"B106.fcs_\", \"B107.fcs_\", \"B108.fcs_\", \"B109.fcs_\", \"B110.fcs_\", \"B111.fcs_\", \"B112.fcs_\", \"B113.fcs_\", \"B114.fcs_\", \"B115.fcs_\", \"B116.fcs_\", \"B117.fcs_\", \"B118.fcs_\", \"2869_B015F-1.fcs_\", \"B198_\", \"2869_B014F-1.fcs_\", \"2869_B012F-1.fcs_\", \"B170.fcs_\", \"B171.fcs_\", \"B172.fcs_\", \"B173.fcs_\", \"B174.fcs_\", \"B175.fcs_\", \"B176.fcs_\", \"B177.fcs_\", \"B178.fcs_\", \"B179.fcs_\", \"B180.fcs_\", \"B181.fcs_\", \"B182.fcs_\", \"B183.fcs_\", \"B184.fcs_\", \"B185.fcs_\", \"B186.fcs_\", \"B187.fcs_\", \"B188.fcs_\", \"B189.fcs_\", \"ZB004.fcs_\", \"ZB005.fcs_\", \"2869_B011F-1.fcs_\", \"2869_B013F-1.fcs_\", \"B197_\", \"B196_\", \"B195_\", \"B030.fcs_\", \"B031.fcs_\", \"B032.fcs_\", \"B033.fcs_\", \"B034.fcs_\", \"B035.fcs_\", \"B036.fcs_\", \"B037.fcs_\", \"B038.fcs_\", \"B039.fcs_\", \"B040.fcs_\", \"B041.fcs_\", \"B042.fcs_\", \"B043.fcs_\", \"B044.fcs_\", \"B045.fcs_\", \"B046.fcs_\", \"B047.fcs_\", \"B048.fcs_\", \"B049.fcs_\", \"B050.fcs_\", \"B051.fcs_\", \"B052.fcs_\", \"B029.fcs_\", \"B053.fcs_\", \"B028.fcs_\", \"B026.fcs_\", \"B002.fcs_\", \"B003.fcs_\", \"B004.fcs_\", \"B005.fcs_\", \"B006.fcs_\", \"B007.fcs_\", \"B009.fcs_\", \"B010.fcs_\", \"B011.fcs_\", \"B012.fcs_\", \"B013.fcs_\", \"B014.fcs_\", \"B015.fcs_\", \"B016.fcs_\", \"B017.fcs_\", \"B018.fcs_\", \"B019.fcs_\", \"B020.fcs_\", \"B021.fcs_\", \"B022.fcs_\", \"B023.fcs_\", \"B024.fcs_\", \"B025.fcs_\", \"B027.fcs_\", \"B119.fcs_\", \"B054.fcs_\", \"B056.fcs_\", \"B084.fcs_\", \"B085.fcs_\", \"B086.fcs_\", \"B087.fcs_\", \"B088.fcs_\", \"B089.fcs_\", \"B090.fcs_\", \"B091.fcs_\", \"B092.fcs_\", \"B093.fcs_\", \"B094.fcs_\", \"B095.fcs_\", \"B096.fcs_\", \"B097.fcs_\", \"B098.fcs_\", \"B099.fcs_\", \"B100.fcs_\", \"ZB001.fcs_\", \"B190_\", \"B191_\", \"B192_\", \"B193_\", \"B194_\", \"B083.fcs_\", \"B055.fcs_\", \"B082.fcs_\", \"B080.fcs_\", \"B057.fcs_\", \"B058.fcs_\", \"B059.fcs_\", \"B060.fcs_\", \"B061.fcs_\", \"B062.fcs_\", \"B063.fcs_\", \"B064.fcs_\", \"B065.fcs_\", \"B066.fcs_\", \"B067.fcs_\", \"B068.fcs_\", \"B069.fcs_\", \"B070.fcs_\", \"B071.fcs_\", \"B072.fcs_\", \"B073.fcs_\", \"B074.fcs_\", \"B075.fcs_\", \"B076.fcs_\", \"B077.fcs_\", \"B078.fcs_\", \"B079.fcs_\", \"B081.fcs_\", \"B120.fcs_\"], \"xaxis\": \"x\", \"y\": [0.022056736644056336, 0.021904869090263842, 0.01903870801096046, 0.003289090491711188, 0.17220536809424283, 0.16054130658090726, 0.0051754913480087875, 0.2466546369339227, 0.07513419582400939, 0.0029912907861962866, 0.006024835069224208, 0.046764953288656416, 0.00034273813356978076, 0.0063040206986366976, 0.0229286384562541, 0.0209148735444315, 0.013465702562450874, 0.000559908324771309, 0.011778383243222808, 0.013067890279426408, 0.013546851411082276, 0.005742335642195285, 0.08209429973108057, 0.006577138469910077, 0.2696767474412241, 0.030196836520342368, 0.02741495045856515, 0.006335902723839203, 0.23497070458330438, 0.0003716931837281869, 0.2611047968050886, 0.11064509354459028, 0.03588855575491197, 0.002306344303485977, 0.05268404529363483, 0.020629973266946773, 0.092267246011097, 0.04772230575209639, 0.0056039830354755495, 0.022315842915961382, 0.007107697643178193, 0.0014584678248962036, 0.05425011892364197, 0.001957912409308739, 0.018920605338541563, 0.014432670050541184, 0.20074050958441747, 0.004823976229567402, 0.058636547912823266, 0.024801488533298475, 0.0005682798882768191, 0.0159689915254696, 0.019746533312363087, 0.0007349065239051941, 0.08423422770892514, 0.0030706887058191065, 0.0034854561236973337, 0.003745807294099391, 0.00043007880911284294, 0.0014198201529059878, 0.09790506959747748, 0.019296832143497027, 0.006563914749945099, 0.06171385700045318, 0.003040311432577784, 0.023637303177900255, 0.11870529032823574, 0.001677572077728677, 0.012831247360409727, 0.008612364321714496, 0.0014223736640624795, 0.026570729510179983, 0.23538727333970802, 0.03194876338726609, 0.084861079708518, 0.007148228858490573, 0.009345891328642796, 0.6572122528068547, 0.00894302793227729, 0.0423093581540545, 0.09927941410612519, 0.00859740120582103, 0.0005254022507196382, 0.003741417786101737, 0.21345437959354344, 0.0038298521790004893, 0.040115525701922325, 0.06919493836357611, 0.001045183717764446, 0.008420946196739424, 0.010411660130347186, 0.00795264143938944, 0.002537656571707141, 0.006335813857547153, 0.02540924901826048, 0.03179530989069719, 0.06001782925434227, 0.005131661217193146, 0.276761936880481, 0.01773720931133887, 0.006820349399495082, 0.019639580376095925, 0.709127573707261, 0.44674934150206713, 0.010875220989094027, 0.02516697447279576, 0.055699935494114894, 0.0033172465303450754, 0.08759931494067882, 0.1703126256986891, 0.020164935578722776, 0.02814930527546768, 0.019768394964560964, 0.022993081859639438, 0.1969570047584465, 0.23867811334521594, 0.0024372117592704563, 0.056460835006487624, 0.9530512107549378, 0.007079644835704375, 0.5306214923834376, 0.08933238294960891, 0.05323648607153606, 0.003088684221990818, 0.028657784520245547, 0.006035445066291311, 0.768261035209262, 0.0018099759633400843, 0.0753287495447385, 0.0827814060690571, 0.05346208114376076, 0.8354106137482824, 0.025466708075489557, 0.1282219736248179, 0.0025759894992021196, 0.017549105084351587, 0.024845462816645743, 0.1239230280227878, 0.006972488231942339, 0.02636520130424031, 0.3407114044561935, 0.1276858112249333, 0.022908430174239373, 0.27208724313854804, 0.6891795301885612, 0.20893583507537095, 0.08216830355450264, 0.005203140520268929, 0.001283818343454352, 0.24943516596518134, 0.2009707900906594, 0.04475754425133234, 0.001656064865137751, 0.2343638651303866, 0.7950272725416274, 0.024948010748003343, 0.008768701391515697, 0.04924601051684431, 0.0008411918946720077, 0.0022730475064237582, 0.07119674879988118, 0.003540358457409451, 0.15196129737554717, 0.9999964078580698, 0.17748678660266595, 0.0032711126163864593, 0.0013983578719972082, 0.0003166080230607241, 0.015560883117619996, 0.039719512947950425, 0.05758649643534555, 0.025089165472392646, 0.002684325333062281, 0.06159964159797094, 0.007597111902296395, 0.01688298143278199, 0.08787988588803193, 0.004263434380589179, 0.005530471010977501, 0.001757279720017485, 0.5205927552223217, 0.14497486228323408, 0.0172570937837922, 0.013209058490682038, 0.08275519444997899, 0.3138277237611022, 0.4346141419960272, 0.013440569608749658, 0.006992183125131752, 0.006288065447980692, 0.0011825826653866069, 0.0054518929723733674, 0.0038324789801967786, 0.007674258727692919, 0.04720386687516922, 0.0364878117898702, 0.0023732605475560577, 0.05234370800505155, 0.018133514044038682, 0.2843976057815072, 0.10375711250053694, 0.0008371737878272704, 0.3447374024181183, 0.07346320997723324, 0.11670088891367922, 0.010204440179895557, 0.10927952985171976, 0.06469563779311863, 0.015546410605739166, 0.06804746188006042, 0.0006403262595483623, 0.015994020827945626, 0.05460577578892382, 0.04559423808418441], \"yaxis\": \"y\"}, {\"line\": {\"color\": \"grey\", \"dash\": \"dash\"}, \"mode\": \"lines\", \"showlegend\": false, \"type\": \"scatter\", \"x\": [\"B001.fcs_\", \"B120.fcs_\"], \"y\": [0.5, 0.5]}],\n",
       "                        {\"height\": 800, \"legend\": {\"tracegroupgap\": 0}, \"margin\": {\"t\": 60}, \"template\": {\"data\": {\"bar\": [{\"error_x\": {\"color\": \"rgb(51,51,51)\"}, \"error_y\": {\"color\": \"rgb(51,51,51)\"}, \"marker\": {\"line\": {\"color\": \"rgb(237,237,237)\", \"width\": 0.5}}, \"type\": \"bar\"}], \"barpolar\": [{\"marker\": {\"line\": {\"color\": \"rgb(237,237,237)\", \"width\": 0.5}}, \"type\": \"barpolar\"}], \"carpet\": [{\"aaxis\": {\"endlinecolor\": \"rgb(51,51,51)\", \"gridcolor\": \"white\", \"linecolor\": \"white\", \"minorgridcolor\": \"white\", \"startlinecolor\": \"rgb(51,51,51)\"}, \"baxis\": {\"endlinecolor\": \"rgb(51,51,51)\", \"gridcolor\": \"white\", \"linecolor\": \"white\", \"minorgridcolor\": \"white\", \"startlinecolor\": \"rgb(51,51,51)\"}, \"type\": \"carpet\"}], \"choropleth\": [{\"colorbar\": {\"outlinewidth\": 0, \"tickcolor\": \"rgb(237,237,237)\", \"ticklen\": 6, \"ticks\": \"inside\"}, \"type\": \"choropleth\"}], \"contour\": [{\"colorbar\": {\"outlinewidth\": 0, \"tickcolor\": \"rgb(237,237,237)\", \"ticklen\": 6, \"ticks\": \"inside\"}, \"colorscale\": [[0, \"rgb(20,44,66)\"], [1, \"rgb(90,179,244)\"]], \"type\": \"contour\"}], \"contourcarpet\": [{\"colorbar\": {\"outlinewidth\": 0, \"tickcolor\": \"rgb(237,237,237)\", \"ticklen\": 6, \"ticks\": \"inside\"}, \"type\": \"contourcarpet\"}], \"heatmap\": [{\"colorbar\": {\"outlinewidth\": 0, \"tickcolor\": \"rgb(237,237,237)\", \"ticklen\": 6, \"ticks\": \"inside\"}, \"colorscale\": [[0, \"rgb(20,44,66)\"], [1, \"rgb(90,179,244)\"]], \"type\": \"heatmap\"}], \"heatmapgl\": [{\"colorbar\": {\"outlinewidth\": 0, \"tickcolor\": \"rgb(237,237,237)\", \"ticklen\": 6, \"ticks\": \"inside\"}, \"colorscale\": [[0, \"rgb(20,44,66)\"], [1, \"rgb(90,179,244)\"]], \"type\": \"heatmapgl\"}], \"histogram\": [{\"marker\": {\"colorbar\": {\"outlinewidth\": 0, \"tickcolor\": \"rgb(237,237,237)\", \"ticklen\": 6, \"ticks\": \"inside\"}}, \"type\": \"histogram\"}], \"histogram2d\": [{\"colorbar\": {\"outlinewidth\": 0, \"tickcolor\": \"rgb(237,237,237)\", \"ticklen\": 6, \"ticks\": \"inside\"}, \"colorscale\": [[0, \"rgb(20,44,66)\"], [1, \"rgb(90,179,244)\"]], \"type\": \"histogram2d\"}], \"histogram2dcontour\": [{\"colorbar\": {\"outlinewidth\": 0, \"tickcolor\": \"rgb(237,237,237)\", \"ticklen\": 6, \"ticks\": \"inside\"}, \"colorscale\": [[0, \"rgb(20,44,66)\"], [1, \"rgb(90,179,244)\"]], \"type\": \"histogram2dcontour\"}], \"mesh3d\": [{\"colorbar\": {\"outlinewidth\": 0, \"tickcolor\": \"rgb(237,237,237)\", \"ticklen\": 6, \"ticks\": \"inside\"}, \"type\": \"mesh3d\"}], \"parcoords\": [{\"line\": {\"colorbar\": {\"outlinewidth\": 0, \"tickcolor\": \"rgb(237,237,237)\", \"ticklen\": 6, \"ticks\": \"inside\"}}, \"type\": \"parcoords\"}], \"scatter\": [{\"marker\": {\"colorbar\": {\"outlinewidth\": 0, \"tickcolor\": \"rgb(237,237,237)\", \"ticklen\": 6, \"ticks\": \"inside\"}}, \"type\": \"scatter\"}], \"scatter3d\": [{\"line\": {\"colorbar\": {\"outlinewidth\": 0, \"tickcolor\": \"rgb(237,237,237)\", \"ticklen\": 6, \"ticks\": \"inside\"}}, \"marker\": {\"colorbar\": {\"outlinewidth\": 0, \"tickcolor\": \"rgb(237,237,237)\", \"ticklen\": 6, \"ticks\": \"inside\"}}, \"type\": \"scatter3d\"}], \"scattercarpet\": [{\"marker\": {\"colorbar\": {\"outlinewidth\": 0, \"tickcolor\": \"rgb(237,237,237)\", \"ticklen\": 6, \"ticks\": \"inside\"}}, \"type\": \"scattercarpet\"}], \"scattergeo\": [{\"marker\": {\"colorbar\": {\"outlinewidth\": 0, \"tickcolor\": \"rgb(237,237,237)\", \"ticklen\": 6, \"ticks\": \"inside\"}}, \"type\": \"scattergeo\"}], \"scattergl\": [{\"marker\": {\"colorbar\": {\"outlinewidth\": 0, \"tickcolor\": \"rgb(237,237,237)\", \"ticklen\": 6, \"ticks\": \"inside\"}}, \"type\": \"scattergl\"}], \"scattermapbox\": [{\"marker\": {\"colorbar\": {\"outlinewidth\": 0, \"tickcolor\": \"rgb(237,237,237)\", \"ticklen\": 6, \"ticks\": \"inside\"}}, \"type\": \"scattermapbox\"}], \"scatterpolar\": [{\"marker\": {\"colorbar\": {\"outlinewidth\": 0, \"tickcolor\": \"rgb(237,237,237)\", \"ticklen\": 6, \"ticks\": \"inside\"}}, \"type\": \"scatterpolar\"}], \"scatterpolargl\": [{\"marker\": {\"colorbar\": {\"outlinewidth\": 0, \"tickcolor\": \"rgb(237,237,237)\", \"ticklen\": 6, \"ticks\": \"inside\"}}, \"type\": \"scatterpolargl\"}], \"scatterternary\": [{\"marker\": {\"colorbar\": {\"outlinewidth\": 0, \"tickcolor\": \"rgb(237,237,237)\", \"ticklen\": 6, \"ticks\": \"inside\"}}, \"type\": \"scatterternary\"}], \"surface\": [{\"colorbar\": {\"outlinewidth\": 0, \"tickcolor\": \"rgb(237,237,237)\", \"ticklen\": 6, \"ticks\": \"inside\"}, \"colorscale\": [[0, \"rgb(20,44,66)\"], [1, \"rgb(90,179,244)\"]], \"type\": \"surface\"}], \"table\": [{\"cells\": {\"fill\": {\"color\": \"rgb(237,237,237)\"}, \"line\": {\"color\": \"white\"}}, \"header\": {\"fill\": {\"color\": \"rgb(217,217,217)\"}, \"line\": {\"color\": \"white\"}}, \"type\": \"table\"}]}, \"layout\": {\"annotationdefaults\": {\"arrowhead\": 0, \"arrowwidth\": 1}, \"colorscale\": {\"sequential\": [[0, \"rgb(20,44,66)\"], [1, \"rgb(90,179,244)\"]], \"sequentialminus\": [[0, \"rgb(20,44,66)\"], [1, \"rgb(90,179,244)\"]]}, \"colorway\": [\"#F8766D\", \"#A3A500\", \"#00BF7D\", \"#00B0F6\", \"#E76BF3\"], \"font\": {\"color\": \"rgb(51,51,51)\"}, \"geo\": {\"bgcolor\": \"white\", \"lakecolor\": \"white\", \"landcolor\": \"rgb(237,237,237)\", \"showlakes\": true, \"showland\": true, \"subunitcolor\": \"white\"}, \"hoverlabel\": {\"align\": \"left\"}, \"hovermode\": \"closest\", \"paper_bgcolor\": \"white\", \"plot_bgcolor\": \"rgb(237,237,237)\", \"polar\": {\"angularaxis\": {\"gridcolor\": \"white\", \"linecolor\": \"white\", \"showgrid\": true, \"tickcolor\": \"rgb(51,51,51)\", \"ticks\": \"outside\"}, \"bgcolor\": \"rgb(237,237,237)\", \"radialaxis\": {\"gridcolor\": \"white\", \"linecolor\": \"white\", \"showgrid\": true, \"tickcolor\": \"rgb(51,51,51)\", \"ticks\": \"outside\"}}, \"scene\": {\"xaxis\": {\"backgroundcolor\": \"rgb(237,237,237)\", \"gridcolor\": \"white\", \"gridwidth\": 2, \"linecolor\": \"white\", \"showbackground\": true, \"showgrid\": true, \"tickcolor\": \"rgb(51,51,51)\", \"ticks\": \"outside\", \"zerolinecolor\": \"white\"}, \"yaxis\": {\"backgroundcolor\": \"rgb(237,237,237)\", \"gridcolor\": \"white\", \"gridwidth\": 2, \"linecolor\": \"white\", \"showbackground\": true, \"showgrid\": true, \"tickcolor\": \"rgb(51,51,51)\", \"ticks\": \"outside\", \"zerolinecolor\": \"white\"}, \"zaxis\": {\"backgroundcolor\": \"rgb(237,237,237)\", \"gridcolor\": \"white\", \"gridwidth\": 2, \"linecolor\": \"white\", \"showbackground\": true, \"showgrid\": true, \"tickcolor\": \"rgb(51,51,51)\", \"ticks\": \"outside\", \"zerolinecolor\": \"white\"}}, \"shapedefaults\": {\"fillcolor\": \"black\", \"line\": {\"width\": 0}, \"opacity\": 0.3}, \"ternary\": {\"aaxis\": {\"gridcolor\": \"white\", \"linecolor\": \"white\", \"showgrid\": true, \"tickcolor\": \"rgb(51,51,51)\", \"ticks\": \"outside\"}, \"baxis\": {\"gridcolor\": \"white\", \"linecolor\": \"white\", \"showgrid\": true, \"tickcolor\": \"rgb(51,51,51)\", \"ticks\": \"outside\"}, \"bgcolor\": \"rgb(237,237,237)\", \"caxis\": {\"gridcolor\": \"white\", \"linecolor\": \"white\", \"showgrid\": true, \"tickcolor\": \"rgb(51,51,51)\", \"ticks\": \"outside\"}}, \"xaxis\": {\"automargin\": true, \"gridcolor\": \"white\", \"linecolor\": \"white\", \"showgrid\": true, \"tickcolor\": \"rgb(51,51,51)\", \"ticks\": \"outside\", \"zerolinecolor\": \"white\"}, \"yaxis\": {\"automargin\": true, \"gridcolor\": \"white\", \"linecolor\": \"white\", \"showgrid\": true, \"tickcolor\": \"rgb(51,51,51)\", \"ticks\": \"outside\", \"zerolinecolor\": \"white\"}}}, \"width\": 1200, \"xaxis\": {\"anchor\": \"y\", \"domain\": [0.0, 0.98], \"title\": {\"text\": \"id\"}}, \"yaxis\": {\"anchor\": \"x\", \"domain\": [0.0, 1.0], \"title\": {\"text\": \"prob\"}}},\n",
       "                        {\"responsive\": true}\n",
       "                    ).then(function(){\n",
       "                            \n",
       "var gd = document.getElementById('8d026288-d230-418f-8672-bf842f787f43');\n",
       "var x = new MutationObserver(function (mutations, observer) {{\n",
       "        var display = window.getComputedStyle(gd).display;\n",
       "        if (!display || display === 'none') {{\n",
       "            console.log([gd, 'removed!']);\n",
       "            Plotly.purge(gd);\n",
       "            observer.disconnect();\n",
       "        }}\n",
       "}});\n",
       "\n",
       "// Listen for the removal of the full notebook cells\n",
       "var notebookContainer = gd.closest('#notebook-container');\n",
       "if (notebookContainer) {{\n",
       "    x.observe(notebookContainer, {childList: true});\n",
       "}}\n",
       "\n",
       "// Listen for the clearing of the current output cell\n",
       "var outputEl = gd.closest('.output');\n",
       "if (outputEl) {{\n",
       "    x.observe(outputEl, {childList: true});\n",
       "}}\n",
       "\n",
       "                        })\n",
       "                };\n",
       "                });\n",
       "            </script>\n",
       "        </div>"
      ]
     },
     "metadata": {},
     "output_type": "display_data"
    }
   ],
   "source": [
    "file_name = input(\"请输入原始数据的名称：\")\n",
    "data_path = 'C:/Users/pc/OneDrive/PLTTECH/Project/20191030肺癌分类模型/Rawdata/%s' % file_name + '.xlsx'\n",
    "df = pd.read_excel(data_path)\n",
    "df.head()\n",
    "\n",
    "# 模型所用变量\n",
    "selected_columns = ['id',\n",
    "             'CD85j+CD8+ T cells',\n",
    "             'CD20- CD3- lymphocytes',\n",
    "             'monocytes',\n",
    "             'T cells',\n",
    "             'CD28+CD8+ T cells',\n",
    "             'lymphocytes',\n",
    "             'B cells',\n",
    "             'class']\n",
    "# 模型系数\n",
    "coefs = [0.3336963252086717,\n",
    "         -0.009967495181819792,\n",
    "         0.1359226803758734,\n",
    "         -0.1125818108473672,\n",
    "         0.04455083303212085,\n",
    "         -0.05501862244784657,\n",
    "         0.08889617447585611]\n",
    "intercept = 0.0007974303412539442\n",
    "\n",
    "plot_df = lungCancerPrediction(df, file_name)"
   ]
  },
  {
   "cell_type": "code",
   "execution_count": null,
   "metadata": {},
   "outputs": [],
   "source": []
  }
 ],
 "metadata": {
  "kernelspec": {
   "display_name": "Python 3",
   "language": "python",
   "name": "python3"
  },
  "language_info": {
   "codemirror_mode": {
    "name": "ipython",
    "version": 3
   },
   "file_extension": ".py",
   "mimetype": "text/x-python",
   "name": "python",
   "nbconvert_exporter": "python",
   "pygments_lexer": "ipython3",
   "version": "3.7.3"
  }
 },
 "nbformat": 4,
 "nbformat_minor": 2
}
