{
 "cells": [
  {
   "cell_type": "code",
   "execution_count": 13,
   "metadata": {
    "ExecuteTime": {
     "end_time": "2019-12-18T02:12:56.023792Z",
     "start_time": "2019-12-18T02:12:56.020799Z"
    }
   },
   "outputs": [],
   "source": [
    "# Created by: Chen Da\n",
    "# 做一些简单的预处理工作"
   ]
  },
  {
   "cell_type": "code",
   "execution_count": 14,
   "metadata": {
    "ExecuteTime": {
     "end_time": "2019-12-18T02:12:56.034762Z",
     "start_time": "2019-12-18T02:12:56.024788Z"
    }
   },
   "outputs": [],
   "source": [
    "import pandas as pd\n",
    "import numpy as np"
   ]
  },
  {
   "cell_type": "code",
   "execution_count": 15,
   "metadata": {
    "ExecuteTime": {
     "end_time": "2019-12-18T02:12:56.089641Z",
     "start_time": "2019-12-18T02:12:56.036758Z"
    }
   },
   "outputs": [
    {
     "data": {
      "text/plain": [
       "(94, 44)"
      ]
     },
     "execution_count": 15,
     "metadata": {},
     "output_type": "execute_result"
    }
   ],
   "source": [
    "path = 'C:/Users/pc/OneDrive/PLTTECH/Project/20191205_lung_cancer/'\n",
    "df_name = 'lung_marker_all'\n",
    "df = pd.read_excel(path + 'rawdata/' + df_name + '.xlsx')\n",
    "df.shape"
   ]
  },
  {
   "cell_type": "code",
   "execution_count": 16,
   "metadata": {
    "ExecuteTime": {
     "end_time": "2019-12-18T02:12:56.109590Z",
     "start_time": "2019-12-18T02:12:56.090613Z"
    }
   },
   "outputs": [
    {
     "data": {
      "text/plain": [
       "array(['B004.expo', 'B015.expo', 'B016.expo', 'B023.expo', 'B031.expo',\n",
       "       'B034.expo', 'B037.expo', 'B040.expo'], dtype=object)"
      ]
     },
     "execution_count": 16,
     "metadata": {},
     "output_type": "execute_result"
    }
   ],
   "source": [
    "benign_df = pd.read_excel(path+'rawdata/marker_benign.xlsx')\n",
    "benign_df['id'].values"
   ]
  },
  {
   "cell_type": "code",
   "execution_count": 17,
   "metadata": {
    "ExecuteTime": {
     "end_time": "2019-12-18T02:12:56.120533Z",
     "start_time": "2019-12-18T02:12:56.110559Z"
    }
   },
   "outputs": [],
   "source": [
    "model_id = ['B001.expo', 'B002.expo', 'B003.expo', 'B005.expo', 'B006.expo',\n",
    "       'B007.expo', 'B008.expo', 'B009.expo', 'B010.expo', 'B011.expo',\n",
    "       'B012.expo', 'B013.expo', 'B014.expo', 'B017.expo', 'B018.expo',\n",
    "       'B019.expo', 'B020.expo', 'B021.expo', 'B022.expo', 'B024.expo',\n",
    "       'B025.expo', 'B026.expo', 'B027.expo', 'B028.expo', 'B029.expo',\n",
    "       'B030.expo', 'B032.expo', 'B033.expo', 'B035.expo', 'B036.expo',\n",
    "       'B038.expo', 'B039.expo', 'B040.expo', 'B041.expo', 'B042.expo',\n",
    "       'B043.expo', 'B054.expo', 'B055.expo', 'B056.expo', 'B064.expo',\n",
    "       'B065.expo', 'B066.expo', 'B067.expo', 'B068.expo', 'B069.expo',\n",
    "       'B070.expo', 'B004.expo', 'B015.expo', 'B016.expo', 'B023.expo', 'B031.expo',\n",
    "       'B034.expo', 'B037.expo', 'B040.expo']\n",
    "df_model = df[df['id'].isin(model_id)]"
   ]
  },
  {
   "cell_type": "code",
   "execution_count": 18,
   "metadata": {
    "ExecuteTime": {
     "end_time": "2019-12-18T02:12:56.143471Z",
     "start_time": "2019-12-18T02:12:56.121529Z"
    }
   },
   "outputs": [
    {
     "data": {
      "text/plain": [
       "(41, 44)"
      ]
     },
     "execution_count": 18,
     "metadata": {},
     "output_type": "execute_result"
    }
   ],
   "source": [
    "df = df.append(df_model)\n",
    "df = df.append(df_model)\n",
    "df_test = df.drop_duplicates(subset=list(df.columns), keep=False)\n",
    "df_test.shape"
   ]
  },
  {
   "cell_type": "code",
   "execution_count": 19,
   "metadata": {
    "ExecuteTime": {
     "end_time": "2019-12-18T02:12:56.203311Z",
     "start_time": "2019-12-18T02:12:56.144469Z"
    }
   },
   "outputs": [],
   "source": [
    "df_test.to_excel(path+'rawdata/marker_lung_cancer_new.xlsx', index=False)"
   ]
  },
  {
   "cell_type": "code",
   "execution_count": null,
   "metadata": {},
   "outputs": [],
   "source": []
  }
 ],
 "metadata": {
  "kernelspec": {
   "display_name": "Python 3",
   "language": "python",
   "name": "python3"
  },
  "language_info": {
   "codemirror_mode": {
    "name": "ipython",
    "version": 3
   },
   "file_extension": ".py",
   "mimetype": "text/x-python",
   "name": "python",
   "nbconvert_exporter": "python",
   "pygments_lexer": "ipython3",
   "version": "3.7.3"
  }
 },
 "nbformat": 4,
 "nbformat_minor": 2
}
