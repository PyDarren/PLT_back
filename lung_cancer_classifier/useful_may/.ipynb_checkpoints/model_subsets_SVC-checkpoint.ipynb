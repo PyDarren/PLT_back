{
 "cells": [
  {
   "cell_type": "code",
   "execution_count": 22,
   "metadata": {
    "ExecuteTime": {
     "end_time": "2019-12-27T09:04:21.987529Z",
     "start_time": "2019-12-27T09:04:21.984513Z"
    }
   },
   "outputs": [],
   "source": [
    "# Created by: Chen Da\n",
    "# Created on: 20191225"
   ]
  },
  {
   "cell_type": "code",
   "execution_count": 23,
   "metadata": {
    "ExecuteTime": {
     "end_time": "2019-12-27T09:04:21.998499Z",
     "start_time": "2019-12-27T09:04:21.988503Z"
    }
   },
   "outputs": [],
   "source": [
    "import pandas as pd\n",
    "import numpy as np\n",
    "import matplotlib.pyplot as plt\n",
    "import random, warnings\n",
    "import matplotlib.pyplot as plt\n",
    "from sklearn.model_selection import validation_curve\n",
    "from sklearn.linear_model import LogisticRegression\n",
    "from sklearn.svm import SVC\n",
    "from sklearn.preprocessing import StandardScaler\n",
    "import plotly as py\n",
    "import plotly.graph_objs as go\n",
    "import plotly.express as px\n",
    "\n",
    "warnings.filterwarnings('ignore')"
   ]
  },
  {
   "cell_type": "code",
   "execution_count": 24,
   "metadata": {
    "ExecuteTime": {
     "end_time": "2019-12-27T09:04:22.011469Z",
     "start_time": "2019-12-27T09:04:22.000470Z"
    }
   },
   "outputs": [],
   "source": [
    "def predict_plot(df_name, thres=0.5):\n",
    "    data = pd.read_excel(path + 'rawdata/' + df_name + '.xlsx').iloc[:, pnasSubsetsIndex]\n",
    "    score = lr.score(data.iloc[:, 1:-1].values, data['class'].values)\n",
    "#     print('Predict Score is %s.' % score)\n",
    "    probability = lr.predict_proba(data.iloc[:, 1:-1].values)[:, 1]\n",
    "    pre_df = pd.DataFrame(probability, columns=['pro'])\n",
    "    pre_df['class'] = data['class']\n",
    "    pre_df['id'] = data['id']\n",
    "    predict_df = pre_df.reindex(columns=['id', 'pro', 'class'])\n",
    "    predict_df['class'] = predict_df['class'].apply(lambda x : str(x))\n",
    "#     predict_df['id'] = predict_df['id'].apply(lambda x : str(x)+'_')\n",
    "    predict_df = predict_df.sort_values(by='class')\n",
    "    fig = px.scatter(predict_df, x='id', y='pro',\n",
    "                     color='class', template='ggplot2', color_discrete_sequence=['green', '#EE0000'],\n",
    "                     color_discrete_map={'0': 'green', '1': '#EE0000'})\n",
    "    fig.add_trace(go.Scatter(x=[predict_df['id'].iloc[0, ], predict_df['id'].iloc[-1,]], y=[thres, thres], \n",
    "                             mode='lines', \n",
    "                             line=dict(color='grey', dash='dash'),\n",
    "                             showlegend=False))\n",
    "    fig.update_layout(width=1200, height=800)\n",
    "    fig.show()\n",
    "    predict_df['pre_label'] = np.where(predict_df['pro']>thres, 1, 0)\n",
    "    predict_df['class'] = predict_df['class'].apply(lambda x: int(x))\n",
    "    pre_0_right = predict_df[np.logical_and(predict_df['class'] == 0, predict_df['pre_label'] == 0)].shape[0]\n",
    "    pre_0_wrong = predict_df[np.logical_and(predict_df['class'] == 0, predict_df['pre_label'] == 1)].shape[0]\n",
    "    pre_1_right = predict_df[np.logical_and(predict_df['class'] == 1, predict_df['pre_label'] == 1)].shape[0]\n",
    "    pre_1_wrong = predict_df[np.logical_and(predict_df['class'] == 1, predict_df['pre_label'] == 0)].shape[0]\n",
    "    print('总体准确率为%s' % ((pre_0_right + pre_1_right) / predict_df.shape[0]))\n",
    "    print('混淆矩阵为%s' % [pre_0_right, pre_0_wrong, pre_1_right, pre_1_wrong])\n",
    "    return predict_df"
   ]
  },
  {
   "cell_type": "code",
   "execution_count": 25,
   "metadata": {
    "ExecuteTime": {
     "end_time": "2019-12-27T09:04:22.018434Z",
     "start_time": "2019-12-27T09:04:22.013435Z"
    }
   },
   "outputs": [],
   "source": [
    "pnasSubsetsIndex = [0,2,3,4,10,18,19,42,48,50,57,59,61,63,70,78,80,81,88,89,90,94,95,97,98,100,101,102]       \n",
    "path = 'C:/Users/pc/OneDrive/PLTTECH/Project/02_Disease_early_screening/lung_cancer/'"
   ]
  },
  {
   "cell_type": "code",
   "execution_count": 26,
   "metadata": {
    "ExecuteTime": {
     "end_time": "2019-12-27T09:04:22.130151Z",
     "start_time": "2019-12-27T09:04:22.020417Z"
    }
   },
   "outputs": [
    {
     "data": {
      "text/plain": [
       "SVC(C=0.2, cache_size=200, class_weight=None, coef0=0.0,\n",
       "    decision_function_shape='ovr', degree=3, gamma=4.2813324, kernel='rbf',\n",
       "    max_iter=-1, probability=True, random_state=123, shrinking=True, tol=0.001,\n",
       "    verbose=False)"
      ]
     },
     "execution_count": 26,
     "metadata": {},
     "output_type": "execute_result"
    }
   ],
   "source": [
    "model_data = pd.read_excel(path + 'rawdata/raw_data.xlsx').iloc[:, pnasSubsetsIndex]\n",
    "lr = SVC(gamma=4.28133240e+00, C=0.2, probability=True, random_state=123)\n",
    "lr.fit(model_data.iloc[:, 1:-1].values, model_data['class'].values)"
   ]
  },
  {
   "cell_type": "code",
   "execution_count": 27,
   "metadata": {
    "ExecuteTime": {
     "end_time": "2019-12-27T09:04:22.464229Z",
     "start_time": "2019-12-27T09:04:22.131121Z"
    }
   },
   "outputs": [
    {
     "data": {
      "application/vnd.plotly.v1+json": {
       "config": {
        "plotlyServerURL": "https://plot.ly"
       },
       "data": [
        {
         "hoverlabel": {
          "namelength": 0
         },
         "hovertemplate": "class=0<br>id=%{x}<br>pro=%{y}",
         "legendgroup": "class=0",
         "marker": {
          "color": "green",
          "symbol": "circle"
         },
         "mode": "markers",
         "name": "class=0",
         "showlegend": true,
         "type": "scatter",
         "x": [
          "000009_01",
          "000135_01",
          "000137_01",
          "000140_01",
          "000143_01",
          "000145_01",
          "000149_01",
          "000156_01",
          "000162_01",
          "000168_01",
          "000172_01",
          "000174_01",
          "000120_01",
          "000175_01",
          "000180_01",
          "000185_01",
          "000204_01",
          "000206_01",
          "000207_01",
          "000208_01",
          "000209_01",
          "000210_01",
          "000211_01",
          "000212_01",
          "000213_01",
          "000179_01",
          "000119_01",
          "000214_01",
          "000104_01",
          "000010_01",
          "000011_01",
          "000013_01",
          "000017_01",
          "000019_01",
          "000020_01",
          "000024_01",
          "000113_01",
          "000034_01",
          "000035_03",
          "000038_01",
          "000042_01",
          "000031_01",
          "000059_01",
          "000044_01",
          "000093_01",
          "000092_01",
          "000087_01",
          "000078_01",
          "000095_01",
          "000071_01",
          "000064_01",
          "000063_01",
          "000061_01",
          "000060_01",
          "000076_01"
         ],
         "xaxis": "x",
         "y": [
          0.0014268808765830266,
          0.2780735318663893,
          0.6934577499941491,
          0.0028548047012454635,
          0.0016195530172455252,
          0.00020665014469521388,
          0.012509980560502886,
          0.0016228388547843834,
          0.0025211922980849124,
          0.0003801774293752857,
          0.0013395264922792922,
          0.000471261090710858,
          0.0023221156418144263,
          0.11762004783577049,
          0.0018552853161015312,
          0.00722221250359322,
          0.0016188898040491867,
          0.045572626625742074,
          0.0057510844088892454,
          0.0016213866086326975,
          0.006132445630171568,
          0.0610878509971567,
          0.11423620250032482,
          0.02921204751701493,
          0.1348358407396285,
          0.004548712836003162,
          0.0062813582801223514,
          0.08787591274124189,
          0.029249814561958815,
          0.01506438870247173,
          0.02135141613020194,
          0.00017723683810668051,
          0.002450959981865484,
          0.004953588836240658,
          0.001621386547875307,
          0.00618794236373081,
          0.046104681028785906,
          0.000203299188737001,
          0.0016246810776942467,
          0.01487642510148357,
          0.0005869292843470302,
          0.007252277583002146,
          0.041490104017925904,
          0.006458311427140461,
          0.04884195313350725,
          0.009214777909897548,
          0.04489443551951378,
          0.7613428870159944,
          0.0013788279036379342,
          0.007865258090790314,
          0.0009134514075915099,
          0.0024663160867806344,
          0.07989596522615658,
          0.053726297144371486,
          0.09785785409959523
         ],
         "yaxis": "y"
        },
        {
         "hoverlabel": {
          "namelength": 0
         },
         "hovertemplate": "class=1<br>id=%{x}<br>pro=%{y}",
         "legendgroup": "class=1",
         "marker": {
          "color": "#EE0000",
          "symbol": "circle"
         },
         "mode": "markers",
         "name": "class=1",
         "showlegend": true,
         "type": "scatter",
         "x": [
          "B046.expo",
          "B045.expo",
          "B044.expo",
          "B043.expo",
          "B040.expo",
          "B041.expo",
          "B039.expo",
          "B038.expo",
          "B036.expo",
          "B042.expo",
          "B047.expo",
          "B068.expo",
          "B049.expo",
          "B050.expo",
          "B051.expo",
          "B052.expo",
          "B054.expo",
          "B055.expo",
          "B056.expo",
          "B064.expo",
          "B065.expo",
          "B066.expo",
          "B067.expo",
          "B035.expo",
          "B048.expo",
          "B033.expo",
          "B017.expo",
          "B030.expo",
          "B069.expo",
          "B001.expo",
          "B002.expo",
          "B003.expo",
          "B005.expo",
          "B006.expo",
          "B007.expo",
          "B008.expo",
          "B009.expo",
          "B010.expo",
          "B011.expo",
          "B012.expo",
          "B013.expo",
          "B014.expo",
          "B018.expo",
          "B019.expo",
          "B020.expo",
          "B021.expo",
          "B022.expo",
          "B024.expo",
          "B025.expo",
          "B026.expo",
          "B027.expo",
          "B028.expo",
          "B029.expo",
          "B032.expo",
          "B070.expo"
         ],
         "xaxis": "x",
         "y": [
          0.9738116615738672,
          0.7831089282361865,
          0.9968165169178039,
          0.9205373345683407,
          0.7916227291714513,
          0.9960998388107307,
          0.9865244042347379,
          0.9911502528863988,
          0.8292617380607719,
          0.8891448096714755,
          0.9565921638345689,
          0.9865371692546439,
          0.9999827515754688,
          0.9971744674878669,
          0.9953996797914774,
          0.9974589348779951,
          0.9999968763814738,
          0.7536134706192983,
          0.9805806962692413,
          0.989587947154861,
          0.9882937892212225,
          0.9795552468621739,
          0.9950652121977328,
          0.9839420729467178,
          0.9599942161304108,
          0.9961003384026677,
          0.9462564371126956,
          0.9935793350564402,
          0.9868177003290988,
          0.968892184755112,
          0.9903919500485953,
          0.9960928326615037,
          0.9769757343347867,
          0.9871873581283278,
          0.996096880331774,
          0.9961003131045556,
          0.9847223629907484,
          0.9920497707745791,
          0.8083824708485565,
          0.9960891209765805,
          0.9604251296334498,
          0.9920972990481808,
          0.6822314818456762,
          0.8373960363098286,
          0.9920656284616718,
          0.9885833075636297,
          0.9949988116213715,
          0.9960896002707245,
          0.999994537175914,
          0.9960930751519228,
          0.9603424301033641,
          0.996212298463742,
          0.9999949360923169,
          0.9999983727495283,
          0.9930857340102536
         ],
         "yaxis": "y"
        },
        {
         "line": {
          "color": "grey",
          "dash": "dash"
         },
         "mode": "lines",
         "showlegend": false,
         "type": "scatter",
         "x": [
          "000009_01",
          "B070.expo"
         ],
         "y": [
          0.5,
          0.5
         ]
        }
       ],
       "layout": {
        "height": 800,
        "legend": {
         "tracegroupgap": 0
        },
        "margin": {
         "t": 60
        },
        "template": {
         "data": {
          "bar": [
           {
            "error_x": {
             "color": "rgb(51,51,51)"
            },
            "error_y": {
             "color": "rgb(51,51,51)"
            },
            "marker": {
             "line": {
              "color": "rgb(237,237,237)",
              "width": 0.5
             }
            },
            "type": "bar"
           }
          ],
          "barpolar": [
           {
            "marker": {
             "line": {
              "color": "rgb(237,237,237)",
              "width": 0.5
             }
            },
            "type": "barpolar"
           }
          ],
          "carpet": [
           {
            "aaxis": {
             "endlinecolor": "rgb(51,51,51)",
             "gridcolor": "white",
             "linecolor": "white",
             "minorgridcolor": "white",
             "startlinecolor": "rgb(51,51,51)"
            },
            "baxis": {
             "endlinecolor": "rgb(51,51,51)",
             "gridcolor": "white",
             "linecolor": "white",
             "minorgridcolor": "white",
             "startlinecolor": "rgb(51,51,51)"
            },
            "type": "carpet"
           }
          ],
          "choropleth": [
           {
            "colorbar": {
             "outlinewidth": 0,
             "tickcolor": "rgb(237,237,237)",
             "ticklen": 6,
             "ticks": "inside"
            },
            "type": "choropleth"
           }
          ],
          "contour": [
           {
            "colorbar": {
             "outlinewidth": 0,
             "tickcolor": "rgb(237,237,237)",
             "ticklen": 6,
             "ticks": "inside"
            },
            "colorscale": [
             [
              0,
              "rgb(20,44,66)"
             ],
             [
              1,
              "rgb(90,179,244)"
             ]
            ],
            "type": "contour"
           }
          ],
          "contourcarpet": [
           {
            "colorbar": {
             "outlinewidth": 0,
             "tickcolor": "rgb(237,237,237)",
             "ticklen": 6,
             "ticks": "inside"
            },
            "type": "contourcarpet"
           }
          ],
          "heatmap": [
           {
            "colorbar": {
             "outlinewidth": 0,
             "tickcolor": "rgb(237,237,237)",
             "ticklen": 6,
             "ticks": "inside"
            },
            "colorscale": [
             [
              0,
              "rgb(20,44,66)"
             ],
             [
              1,
              "rgb(90,179,244)"
             ]
            ],
            "type": "heatmap"
           }
          ],
          "heatmapgl": [
           {
            "colorbar": {
             "outlinewidth": 0,
             "tickcolor": "rgb(237,237,237)",
             "ticklen": 6,
             "ticks": "inside"
            },
            "colorscale": [
             [
              0,
              "rgb(20,44,66)"
             ],
             [
              1,
              "rgb(90,179,244)"
             ]
            ],
            "type": "heatmapgl"
           }
          ],
          "histogram": [
           {
            "marker": {
             "colorbar": {
              "outlinewidth": 0,
              "tickcolor": "rgb(237,237,237)",
              "ticklen": 6,
              "ticks": "inside"
             }
            },
            "type": "histogram"
           }
          ],
          "histogram2d": [
           {
            "colorbar": {
             "outlinewidth": 0,
             "tickcolor": "rgb(237,237,237)",
             "ticklen": 6,
             "ticks": "inside"
            },
            "colorscale": [
             [
              0,
              "rgb(20,44,66)"
             ],
             [
              1,
              "rgb(90,179,244)"
             ]
            ],
            "type": "histogram2d"
           }
          ],
          "histogram2dcontour": [
           {
            "colorbar": {
             "outlinewidth": 0,
             "tickcolor": "rgb(237,237,237)",
             "ticklen": 6,
             "ticks": "inside"
            },
            "colorscale": [
             [
              0,
              "rgb(20,44,66)"
             ],
             [
              1,
              "rgb(90,179,244)"
             ]
            ],
            "type": "histogram2dcontour"
           }
          ],
          "mesh3d": [
           {
            "colorbar": {
             "outlinewidth": 0,
             "tickcolor": "rgb(237,237,237)",
             "ticklen": 6,
             "ticks": "inside"
            },
            "type": "mesh3d"
           }
          ],
          "parcoords": [
           {
            "line": {
             "colorbar": {
              "outlinewidth": 0,
              "tickcolor": "rgb(237,237,237)",
              "ticklen": 6,
              "ticks": "inside"
             }
            },
            "type": "parcoords"
           }
          ],
          "scatter": [
           {
            "marker": {
             "colorbar": {
              "outlinewidth": 0,
              "tickcolor": "rgb(237,237,237)",
              "ticklen": 6,
              "ticks": "inside"
             }
            },
            "type": "scatter"
           }
          ],
          "scatter3d": [
           {
            "line": {
             "colorbar": {
              "outlinewidth": 0,
              "tickcolor": "rgb(237,237,237)",
              "ticklen": 6,
              "ticks": "inside"
             }
            },
            "marker": {
             "colorbar": {
              "outlinewidth": 0,
              "tickcolor": "rgb(237,237,237)",
              "ticklen": 6,
              "ticks": "inside"
             }
            },
            "type": "scatter3d"
           }
          ],
          "scattercarpet": [
           {
            "marker": {
             "colorbar": {
              "outlinewidth": 0,
              "tickcolor": "rgb(237,237,237)",
              "ticklen": 6,
              "ticks": "inside"
             }
            },
            "type": "scattercarpet"
           }
          ],
          "scattergeo": [
           {
            "marker": {
             "colorbar": {
              "outlinewidth": 0,
              "tickcolor": "rgb(237,237,237)",
              "ticklen": 6,
              "ticks": "inside"
             }
            },
            "type": "scattergeo"
           }
          ],
          "scattergl": [
           {
            "marker": {
             "colorbar": {
              "outlinewidth": 0,
              "tickcolor": "rgb(237,237,237)",
              "ticklen": 6,
              "ticks": "inside"
             }
            },
            "type": "scattergl"
           }
          ],
          "scattermapbox": [
           {
            "marker": {
             "colorbar": {
              "outlinewidth": 0,
              "tickcolor": "rgb(237,237,237)",
              "ticklen": 6,
              "ticks": "inside"
             }
            },
            "type": "scattermapbox"
           }
          ],
          "scatterpolar": [
           {
            "marker": {
             "colorbar": {
              "outlinewidth": 0,
              "tickcolor": "rgb(237,237,237)",
              "ticklen": 6,
              "ticks": "inside"
             }
            },
            "type": "scatterpolar"
           }
          ],
          "scatterpolargl": [
           {
            "marker": {
             "colorbar": {
              "outlinewidth": 0,
              "tickcolor": "rgb(237,237,237)",
              "ticklen": 6,
              "ticks": "inside"
             }
            },
            "type": "scatterpolargl"
           }
          ],
          "scatterternary": [
           {
            "marker": {
             "colorbar": {
              "outlinewidth": 0,
              "tickcolor": "rgb(237,237,237)",
              "ticklen": 6,
              "ticks": "inside"
             }
            },
            "type": "scatterternary"
           }
          ],
          "surface": [
           {
            "colorbar": {
             "outlinewidth": 0,
             "tickcolor": "rgb(237,237,237)",
             "ticklen": 6,
             "ticks": "inside"
            },
            "colorscale": [
             [
              0,
              "rgb(20,44,66)"
             ],
             [
              1,
              "rgb(90,179,244)"
             ]
            ],
            "type": "surface"
           }
          ],
          "table": [
           {
            "cells": {
             "fill": {
              "color": "rgb(237,237,237)"
             },
             "line": {
              "color": "white"
             }
            },
            "header": {
             "fill": {
              "color": "rgb(217,217,217)"
             },
             "line": {
              "color": "white"
             }
            },
            "type": "table"
           }
          ]
         },
         "layout": {
          "annotationdefaults": {
           "arrowhead": 0,
           "arrowwidth": 1
          },
          "colorscale": {
           "sequential": [
            [
             0,
             "rgb(20,44,66)"
            ],
            [
             1,
             "rgb(90,179,244)"
            ]
           ],
           "sequentialminus": [
            [
             0,
             "rgb(20,44,66)"
            ],
            [
             1,
             "rgb(90,179,244)"
            ]
           ]
          },
          "colorway": [
           "#F8766D",
           "#A3A500",
           "#00BF7D",
           "#00B0F6",
           "#E76BF3"
          ],
          "font": {
           "color": "rgb(51,51,51)"
          },
          "geo": {
           "bgcolor": "white",
           "lakecolor": "white",
           "landcolor": "rgb(237,237,237)",
           "showlakes": true,
           "showland": true,
           "subunitcolor": "white"
          },
          "hoverlabel": {
           "align": "left"
          },
          "hovermode": "closest",
          "paper_bgcolor": "white",
          "plot_bgcolor": "rgb(237,237,237)",
          "polar": {
           "angularaxis": {
            "gridcolor": "white",
            "linecolor": "white",
            "showgrid": true,
            "tickcolor": "rgb(51,51,51)",
            "ticks": "outside"
           },
           "bgcolor": "rgb(237,237,237)",
           "radialaxis": {
            "gridcolor": "white",
            "linecolor": "white",
            "showgrid": true,
            "tickcolor": "rgb(51,51,51)",
            "ticks": "outside"
           }
          },
          "scene": {
           "xaxis": {
            "backgroundcolor": "rgb(237,237,237)",
            "gridcolor": "white",
            "gridwidth": 2,
            "linecolor": "white",
            "showbackground": true,
            "showgrid": true,
            "tickcolor": "rgb(51,51,51)",
            "ticks": "outside",
            "zerolinecolor": "white"
           },
           "yaxis": {
            "backgroundcolor": "rgb(237,237,237)",
            "gridcolor": "white",
            "gridwidth": 2,
            "linecolor": "white",
            "showbackground": true,
            "showgrid": true,
            "tickcolor": "rgb(51,51,51)",
            "ticks": "outside",
            "zerolinecolor": "white"
           },
           "zaxis": {
            "backgroundcolor": "rgb(237,237,237)",
            "gridcolor": "white",
            "gridwidth": 2,
            "linecolor": "white",
            "showbackground": true,
            "showgrid": true,
            "tickcolor": "rgb(51,51,51)",
            "ticks": "outside",
            "zerolinecolor": "white"
           }
          },
          "shapedefaults": {
           "fillcolor": "black",
           "line": {
            "width": 0
           },
           "opacity": 0.3
          },
          "ternary": {
           "aaxis": {
            "gridcolor": "white",
            "linecolor": "white",
            "showgrid": true,
            "tickcolor": "rgb(51,51,51)",
            "ticks": "outside"
           },
           "baxis": {
            "gridcolor": "white",
            "linecolor": "white",
            "showgrid": true,
            "tickcolor": "rgb(51,51,51)",
            "ticks": "outside"
           },
           "bgcolor": "rgb(237,237,237)",
           "caxis": {
            "gridcolor": "white",
            "linecolor": "white",
            "showgrid": true,
            "tickcolor": "rgb(51,51,51)",
            "ticks": "outside"
           }
          },
          "xaxis": {
           "automargin": true,
           "gridcolor": "white",
           "linecolor": "white",
           "showgrid": true,
           "tickcolor": "rgb(51,51,51)",
           "ticks": "outside",
           "zerolinecolor": "white"
          },
          "yaxis": {
           "automargin": true,
           "gridcolor": "white",
           "linecolor": "white",
           "showgrid": true,
           "tickcolor": "rgb(51,51,51)",
           "ticks": "outside",
           "zerolinecolor": "white"
          }
         }
        },
        "width": 1200,
        "xaxis": {
         "anchor": "y",
         "domain": [
          0,
          0.98
         ],
         "title": {
          "text": "id"
         }
        },
        "yaxis": {
         "anchor": "x",
         "domain": [
          0,
          1
         ],
         "title": {
          "text": "pro"
         }
        }
       }
      },
      "text/html": [
       "<div>\n",
       "        \n",
       "        \n",
       "            <div id=\"fd7aa487-6466-44db-be06-286911c081b7\" class=\"plotly-graph-div\" style=\"height:800px; width:1200px;\"></div>\n",
       "            <script type=\"text/javascript\">\n",
       "                require([\"plotly\"], function(Plotly) {\n",
       "                    window.PLOTLYENV=window.PLOTLYENV || {};\n",
       "                    \n",
       "                if (document.getElementById(\"fd7aa487-6466-44db-be06-286911c081b7\")) {\n",
       "                    Plotly.newPlot(\n",
       "                        'fd7aa487-6466-44db-be06-286911c081b7',\n",
       "                        [{\"hoverlabel\": {\"namelength\": 0}, \"hovertemplate\": \"class=0<br>id=%{x}<br>pro=%{y}\", \"legendgroup\": \"class=0\", \"marker\": {\"color\": \"green\", \"symbol\": \"circle\"}, \"mode\": \"markers\", \"name\": \"class=0\", \"showlegend\": true, \"type\": \"scatter\", \"x\": [\"000009_01\", \"000135_01\", \"000137_01\", \"000140_01\", \"000143_01\", \"000145_01\", \"000149_01\", \"000156_01\", \"000162_01\", \"000168_01\", \"000172_01\", \"000174_01\", \"000120_01\", \"000175_01\", \"000180_01\", \"000185_01\", \"000204_01\", \"000206_01\", \"000207_01\", \"000208_01\", \"000209_01\", \"000210_01\", \"000211_01\", \"000212_01\", \"000213_01\", \"000179_01\", \"000119_01\", \"000214_01\", \"000104_01\", \"000010_01\", \"000011_01\", \"000013_01\", \"000017_01\", \"000019_01\", \"000020_01\", \"000024_01\", \"000113_01\", \"000034_01\", \"000035_03\", \"000038_01\", \"000042_01\", \"000031_01\", \"000059_01\", \"000044_01\", \"000093_01\", \"000092_01\", \"000087_01\", \"000078_01\", \"000095_01\", \"000071_01\", \"000064_01\", \"000063_01\", \"000061_01\", \"000060_01\", \"000076_01\"], \"xaxis\": \"x\", \"y\": [0.0014268808765830266, 0.2780735318663893, 0.6934577499941491, 0.0028548047012454635, 0.0016195530172455252, 0.00020665014469521388, 0.012509980560502886, 0.0016228388547843834, 0.0025211922980849124, 0.0003801774293752857, 0.0013395264922792922, 0.000471261090710858, 0.0023221156418144263, 0.11762004783577049, 0.0018552853161015312, 0.00722221250359322, 0.0016188898040491867, 0.045572626625742074, 0.0057510844088892454, 0.0016213866086326975, 0.006132445630171568, 0.0610878509971567, 0.11423620250032482, 0.02921204751701493, 0.1348358407396285, 0.004548712836003162, 0.0062813582801223514, 0.08787591274124189, 0.029249814561958815, 0.01506438870247173, 0.02135141613020194, 0.00017723683810668051, 0.002450959981865484, 0.004953588836240658, 0.001621386547875307, 0.00618794236373081, 0.046104681028785906, 0.000203299188737001, 0.0016246810776942467, 0.01487642510148357, 0.0005869292843470302, 0.007252277583002146, 0.041490104017925904, 0.006458311427140461, 0.04884195313350725, 0.009214777909897548, 0.04489443551951378, 0.7613428870159944, 0.0013788279036379342, 0.007865258090790314, 0.0009134514075915099, 0.0024663160867806344, 0.07989596522615658, 0.053726297144371486, 0.09785785409959523], \"yaxis\": \"y\"}, {\"hoverlabel\": {\"namelength\": 0}, \"hovertemplate\": \"class=1<br>id=%{x}<br>pro=%{y}\", \"legendgroup\": \"class=1\", \"marker\": {\"color\": \"#EE0000\", \"symbol\": \"circle\"}, \"mode\": \"markers\", \"name\": \"class=1\", \"showlegend\": true, \"type\": \"scatter\", \"x\": [\"B046.expo\", \"B045.expo\", \"B044.expo\", \"B043.expo\", \"B040.expo\", \"B041.expo\", \"B039.expo\", \"B038.expo\", \"B036.expo\", \"B042.expo\", \"B047.expo\", \"B068.expo\", \"B049.expo\", \"B050.expo\", \"B051.expo\", \"B052.expo\", \"B054.expo\", \"B055.expo\", \"B056.expo\", \"B064.expo\", \"B065.expo\", \"B066.expo\", \"B067.expo\", \"B035.expo\", \"B048.expo\", \"B033.expo\", \"B017.expo\", \"B030.expo\", \"B069.expo\", \"B001.expo\", \"B002.expo\", \"B003.expo\", \"B005.expo\", \"B006.expo\", \"B007.expo\", \"B008.expo\", \"B009.expo\", \"B010.expo\", \"B011.expo\", \"B012.expo\", \"B013.expo\", \"B014.expo\", \"B018.expo\", \"B019.expo\", \"B020.expo\", \"B021.expo\", \"B022.expo\", \"B024.expo\", \"B025.expo\", \"B026.expo\", \"B027.expo\", \"B028.expo\", \"B029.expo\", \"B032.expo\", \"B070.expo\"], \"xaxis\": \"x\", \"y\": [0.9738116615738672, 0.7831089282361865, 0.9968165169178039, 0.9205373345683407, 0.7916227291714513, 0.9960998388107307, 0.9865244042347379, 0.9911502528863988, 0.8292617380607719, 0.8891448096714755, 0.9565921638345689, 0.9865371692546439, 0.9999827515754688, 0.9971744674878669, 0.9953996797914774, 0.9974589348779951, 0.9999968763814738, 0.7536134706192983, 0.9805806962692413, 0.989587947154861, 0.9882937892212225, 0.9795552468621739, 0.9950652121977328, 0.9839420729467178, 0.9599942161304108, 0.9961003384026677, 0.9462564371126956, 0.9935793350564402, 0.9868177003290988, 0.968892184755112, 0.9903919500485953, 0.9960928326615037, 0.9769757343347867, 0.9871873581283278, 0.996096880331774, 0.9961003131045556, 0.9847223629907484, 0.9920497707745791, 0.8083824708485565, 0.9960891209765805, 0.9604251296334498, 0.9920972990481808, 0.6822314818456762, 0.8373960363098286, 0.9920656284616718, 0.9885833075636297, 0.9949988116213715, 0.9960896002707245, 0.999994537175914, 0.9960930751519228, 0.9603424301033641, 0.996212298463742, 0.9999949360923169, 0.9999983727495283, 0.9930857340102536], \"yaxis\": \"y\"}, {\"line\": {\"color\": \"grey\", \"dash\": \"dash\"}, \"mode\": \"lines\", \"showlegend\": false, \"type\": \"scatter\", \"x\": [\"000009_01\", \"B070.expo\"], \"y\": [0.5, 0.5]}],\n",
       "                        {\"height\": 800, \"legend\": {\"tracegroupgap\": 0}, \"margin\": {\"t\": 60}, \"template\": {\"data\": {\"bar\": [{\"error_x\": {\"color\": \"rgb(51,51,51)\"}, \"error_y\": {\"color\": \"rgb(51,51,51)\"}, \"marker\": {\"line\": {\"color\": \"rgb(237,237,237)\", \"width\": 0.5}}, \"type\": \"bar\"}], \"barpolar\": [{\"marker\": {\"line\": {\"color\": \"rgb(237,237,237)\", \"width\": 0.5}}, \"type\": \"barpolar\"}], \"carpet\": [{\"aaxis\": {\"endlinecolor\": \"rgb(51,51,51)\", \"gridcolor\": \"white\", \"linecolor\": \"white\", \"minorgridcolor\": \"white\", \"startlinecolor\": \"rgb(51,51,51)\"}, \"baxis\": {\"endlinecolor\": \"rgb(51,51,51)\", \"gridcolor\": \"white\", \"linecolor\": \"white\", \"minorgridcolor\": \"white\", \"startlinecolor\": \"rgb(51,51,51)\"}, \"type\": \"carpet\"}], \"choropleth\": [{\"colorbar\": {\"outlinewidth\": 0, \"tickcolor\": \"rgb(237,237,237)\", \"ticklen\": 6, \"ticks\": \"inside\"}, \"type\": \"choropleth\"}], \"contour\": [{\"colorbar\": {\"outlinewidth\": 0, \"tickcolor\": \"rgb(237,237,237)\", \"ticklen\": 6, \"ticks\": \"inside\"}, \"colorscale\": [[0, \"rgb(20,44,66)\"], [1, \"rgb(90,179,244)\"]], \"type\": \"contour\"}], \"contourcarpet\": [{\"colorbar\": {\"outlinewidth\": 0, \"tickcolor\": \"rgb(237,237,237)\", \"ticklen\": 6, \"ticks\": \"inside\"}, \"type\": \"contourcarpet\"}], \"heatmap\": [{\"colorbar\": {\"outlinewidth\": 0, \"tickcolor\": \"rgb(237,237,237)\", \"ticklen\": 6, \"ticks\": \"inside\"}, \"colorscale\": [[0, \"rgb(20,44,66)\"], [1, \"rgb(90,179,244)\"]], \"type\": \"heatmap\"}], \"heatmapgl\": [{\"colorbar\": {\"outlinewidth\": 0, \"tickcolor\": \"rgb(237,237,237)\", \"ticklen\": 6, \"ticks\": \"inside\"}, \"colorscale\": [[0, \"rgb(20,44,66)\"], [1, \"rgb(90,179,244)\"]], \"type\": \"heatmapgl\"}], \"histogram\": [{\"marker\": {\"colorbar\": {\"outlinewidth\": 0, \"tickcolor\": \"rgb(237,237,237)\", \"ticklen\": 6, \"ticks\": \"inside\"}}, \"type\": \"histogram\"}], \"histogram2d\": [{\"colorbar\": {\"outlinewidth\": 0, \"tickcolor\": \"rgb(237,237,237)\", \"ticklen\": 6, \"ticks\": \"inside\"}, \"colorscale\": [[0, \"rgb(20,44,66)\"], [1, \"rgb(90,179,244)\"]], \"type\": \"histogram2d\"}], \"histogram2dcontour\": [{\"colorbar\": {\"outlinewidth\": 0, \"tickcolor\": \"rgb(237,237,237)\", \"ticklen\": 6, \"ticks\": \"inside\"}, \"colorscale\": [[0, \"rgb(20,44,66)\"], [1, \"rgb(90,179,244)\"]], \"type\": \"histogram2dcontour\"}], \"mesh3d\": [{\"colorbar\": {\"outlinewidth\": 0, \"tickcolor\": \"rgb(237,237,237)\", \"ticklen\": 6, \"ticks\": \"inside\"}, \"type\": \"mesh3d\"}], \"parcoords\": [{\"line\": {\"colorbar\": {\"outlinewidth\": 0, \"tickcolor\": \"rgb(237,237,237)\", \"ticklen\": 6, \"ticks\": \"inside\"}}, \"type\": \"parcoords\"}], \"scatter\": [{\"marker\": {\"colorbar\": {\"outlinewidth\": 0, \"tickcolor\": \"rgb(237,237,237)\", \"ticklen\": 6, \"ticks\": \"inside\"}}, \"type\": \"scatter\"}], \"scatter3d\": [{\"line\": {\"colorbar\": {\"outlinewidth\": 0, \"tickcolor\": \"rgb(237,237,237)\", \"ticklen\": 6, \"ticks\": \"inside\"}}, \"marker\": {\"colorbar\": {\"outlinewidth\": 0, \"tickcolor\": \"rgb(237,237,237)\", \"ticklen\": 6, \"ticks\": \"inside\"}}, \"type\": \"scatter3d\"}], \"scattercarpet\": [{\"marker\": {\"colorbar\": {\"outlinewidth\": 0, \"tickcolor\": \"rgb(237,237,237)\", \"ticklen\": 6, \"ticks\": \"inside\"}}, \"type\": \"scattercarpet\"}], \"scattergeo\": [{\"marker\": {\"colorbar\": {\"outlinewidth\": 0, \"tickcolor\": \"rgb(237,237,237)\", \"ticklen\": 6, \"ticks\": \"inside\"}}, \"type\": \"scattergeo\"}], \"scattergl\": [{\"marker\": {\"colorbar\": {\"outlinewidth\": 0, \"tickcolor\": \"rgb(237,237,237)\", \"ticklen\": 6, \"ticks\": \"inside\"}}, \"type\": \"scattergl\"}], \"scattermapbox\": [{\"marker\": {\"colorbar\": {\"outlinewidth\": 0, \"tickcolor\": \"rgb(237,237,237)\", \"ticklen\": 6, \"ticks\": \"inside\"}}, \"type\": \"scattermapbox\"}], \"scatterpolar\": [{\"marker\": {\"colorbar\": {\"outlinewidth\": 0, \"tickcolor\": \"rgb(237,237,237)\", \"ticklen\": 6, \"ticks\": \"inside\"}}, \"type\": \"scatterpolar\"}], \"scatterpolargl\": [{\"marker\": {\"colorbar\": {\"outlinewidth\": 0, \"tickcolor\": \"rgb(237,237,237)\", \"ticklen\": 6, \"ticks\": \"inside\"}}, \"type\": \"scatterpolargl\"}], \"scatterternary\": [{\"marker\": {\"colorbar\": {\"outlinewidth\": 0, \"tickcolor\": \"rgb(237,237,237)\", \"ticklen\": 6, \"ticks\": \"inside\"}}, \"type\": \"scatterternary\"}], \"surface\": [{\"colorbar\": {\"outlinewidth\": 0, \"tickcolor\": \"rgb(237,237,237)\", \"ticklen\": 6, \"ticks\": \"inside\"}, \"colorscale\": [[0, \"rgb(20,44,66)\"], [1, \"rgb(90,179,244)\"]], \"type\": \"surface\"}], \"table\": [{\"cells\": {\"fill\": {\"color\": \"rgb(237,237,237)\"}, \"line\": {\"color\": \"white\"}}, \"header\": {\"fill\": {\"color\": \"rgb(217,217,217)\"}, \"line\": {\"color\": \"white\"}}, \"type\": \"table\"}]}, \"layout\": {\"annotationdefaults\": {\"arrowhead\": 0, \"arrowwidth\": 1}, \"colorscale\": {\"sequential\": [[0, \"rgb(20,44,66)\"], [1, \"rgb(90,179,244)\"]], \"sequentialminus\": [[0, \"rgb(20,44,66)\"], [1, \"rgb(90,179,244)\"]]}, \"colorway\": [\"#F8766D\", \"#A3A500\", \"#00BF7D\", \"#00B0F6\", \"#E76BF3\"], \"font\": {\"color\": \"rgb(51,51,51)\"}, \"geo\": {\"bgcolor\": \"white\", \"lakecolor\": \"white\", \"landcolor\": \"rgb(237,237,237)\", \"showlakes\": true, \"showland\": true, \"subunitcolor\": \"white\"}, \"hoverlabel\": {\"align\": \"left\"}, \"hovermode\": \"closest\", \"paper_bgcolor\": \"white\", \"plot_bgcolor\": \"rgb(237,237,237)\", \"polar\": {\"angularaxis\": {\"gridcolor\": \"white\", \"linecolor\": \"white\", \"showgrid\": true, \"tickcolor\": \"rgb(51,51,51)\", \"ticks\": \"outside\"}, \"bgcolor\": \"rgb(237,237,237)\", \"radialaxis\": {\"gridcolor\": \"white\", \"linecolor\": \"white\", \"showgrid\": true, \"tickcolor\": \"rgb(51,51,51)\", \"ticks\": \"outside\"}}, \"scene\": {\"xaxis\": {\"backgroundcolor\": \"rgb(237,237,237)\", \"gridcolor\": \"white\", \"gridwidth\": 2, \"linecolor\": \"white\", \"showbackground\": true, \"showgrid\": true, \"tickcolor\": \"rgb(51,51,51)\", \"ticks\": \"outside\", \"zerolinecolor\": \"white\"}, \"yaxis\": {\"backgroundcolor\": \"rgb(237,237,237)\", \"gridcolor\": \"white\", \"gridwidth\": 2, \"linecolor\": \"white\", \"showbackground\": true, \"showgrid\": true, \"tickcolor\": \"rgb(51,51,51)\", \"ticks\": \"outside\", \"zerolinecolor\": \"white\"}, \"zaxis\": {\"backgroundcolor\": \"rgb(237,237,237)\", \"gridcolor\": \"white\", \"gridwidth\": 2, \"linecolor\": \"white\", \"showbackground\": true, \"showgrid\": true, \"tickcolor\": \"rgb(51,51,51)\", \"ticks\": \"outside\", \"zerolinecolor\": \"white\"}}, \"shapedefaults\": {\"fillcolor\": \"black\", \"line\": {\"width\": 0}, \"opacity\": 0.3}, \"ternary\": {\"aaxis\": {\"gridcolor\": \"white\", \"linecolor\": \"white\", \"showgrid\": true, \"tickcolor\": \"rgb(51,51,51)\", \"ticks\": \"outside\"}, \"baxis\": {\"gridcolor\": \"white\", \"linecolor\": \"white\", \"showgrid\": true, \"tickcolor\": \"rgb(51,51,51)\", \"ticks\": \"outside\"}, \"bgcolor\": \"rgb(237,237,237)\", \"caxis\": {\"gridcolor\": \"white\", \"linecolor\": \"white\", \"showgrid\": true, \"tickcolor\": \"rgb(51,51,51)\", \"ticks\": \"outside\"}}, \"xaxis\": {\"automargin\": true, \"gridcolor\": \"white\", \"linecolor\": \"white\", \"showgrid\": true, \"tickcolor\": \"rgb(51,51,51)\", \"ticks\": \"outside\", \"zerolinecolor\": \"white\"}, \"yaxis\": {\"automargin\": true, \"gridcolor\": \"white\", \"linecolor\": \"white\", \"showgrid\": true, \"tickcolor\": \"rgb(51,51,51)\", \"ticks\": \"outside\", \"zerolinecolor\": \"white\"}}}, \"width\": 1200, \"xaxis\": {\"anchor\": \"y\", \"domain\": [0.0, 0.98], \"title\": {\"text\": \"id\"}}, \"yaxis\": {\"anchor\": \"x\", \"domain\": [0.0, 1.0], \"title\": {\"text\": \"pro\"}}},\n",
       "                        {\"responsive\": true}\n",
       "                    ).then(function(){\n",
       "                            \n",
       "var gd = document.getElementById('fd7aa487-6466-44db-be06-286911c081b7');\n",
       "var x = new MutationObserver(function (mutations, observer) {{\n",
       "        var display = window.getComputedStyle(gd).display;\n",
       "        if (!display || display === 'none') {{\n",
       "            console.log([gd, 'removed!']);\n",
       "            Plotly.purge(gd);\n",
       "            observer.disconnect();\n",
       "        }}\n",
       "}});\n",
       "\n",
       "// Listen for the removal of the full notebook cells\n",
       "var notebookContainer = gd.closest('#notebook-container');\n",
       "if (notebookContainer) {{\n",
       "    x.observe(notebookContainer, {childList: true});\n",
       "}}\n",
       "\n",
       "// Listen for the clearing of the current output cell\n",
       "var outputEl = gd.closest('.output');\n",
       "if (outputEl) {{\n",
       "    x.observe(outputEl, {childList: true});\n",
       "}}\n",
       "\n",
       "                        })\n",
       "                };\n",
       "                });\n",
       "            </script>\n",
       "        </div>"
      ]
     },
     "metadata": {},
     "output_type": "display_data"
    },
    {
     "name": "stdout",
     "output_type": "stream",
     "text": [
      "总体准确率为0.9818181818181818\n",
      "混淆矩阵为[53, 2, 55, 0]\n"
     ]
    }
   ],
   "source": [
    "raw_pre = predict_plot('raw_data', thres=0.5)"
   ]
  },
  {
   "cell_type": "code",
   "execution_count": 28,
   "metadata": {
    "ExecuteTime": {
     "end_time": "2019-12-27T09:04:22.990821Z",
     "start_time": "2019-12-27T09:04:22.465241Z"
    }
   },
   "outputs": [
    {
     "data": {
      "application/vnd.plotly.v1+json": {
       "config": {
        "plotlyServerURL": "https://plot.ly"
       },
       "data": [
        {
         "hoverlabel": {
          "namelength": 0
         },
         "hovertemplate": "class=0<br>id=%{x}<br>pro=%{y}",
         "legendgroup": "class=0",
         "marker": {
          "color": "green",
          "symbol": "circle"
         },
         "mode": "markers",
         "name": "class=0",
         "showlegend": true,
         "type": "scatter",
         "x": [
          "000009_01",
          "000141_01",
          "000142_01",
          "000143_01",
          "000144_01",
          "000145_01",
          "000146_01",
          "000147_01",
          "000148_01",
          "000149_01",
          "000150_01",
          "000140_01",
          "000151_01",
          "000153_01",
          "000154_01",
          "000155_01",
          "000156_01",
          "000157_01",
          "000158_01",
          "000159_01",
          "000160_01",
          "000161_01",
          "000162_01",
          "000152_01",
          "000163_01",
          "000139_01",
          "000137_01",
          "000115_01",
          "000116_01",
          "000117_01",
          "000118_01",
          "000119_01",
          "000120_01",
          "000121_01",
          "000122_01",
          "000123_01",
          "000124_01",
          "000138_01",
          "000125_01",
          "000127_01",
          "000128_01",
          "000129_01",
          "000130_01",
          "000131_01",
          "000132_01",
          "000133_01",
          "000134_01",
          "000135_01",
          "000136_01",
          "000126_01",
          "000114_01",
          "000164_01",
          "000166_01",
          "000194_01",
          "000195_01",
          "000196_01",
          "000197_01",
          "000198_01",
          "000199_01",
          "000200_02",
          "000201_02",
          "000202_01",
          "000203_02",
          "000193_01",
          "000204_01",
          "000206_01",
          "000207_01",
          "000208_01",
          "000209_01",
          "000210_01",
          "000211_01",
          "000212_01",
          "000213_01",
          "000214_01",
          "000215_01",
          "000205_01",
          "000165_01",
          "000192_01",
          "000190_01",
          "000167_01",
          "000169_01",
          "000170_01",
          "000171_01",
          "000172_01",
          "000173_01",
          "000174_01",
          "000175_01",
          "000176_01",
          "000177_01",
          "000191_01",
          "000178_01",
          "000180_01",
          "000181_01",
          "000182_02",
          "000183_01",
          "000184_01",
          "000185_01",
          "000186_01",
          "000187_01",
          "000188_01",
          "000189_01",
          "000179_01",
          "000113_01",
          "000168_01",
          "000111_01",
          "000036_01",
          "000037_01",
          "000038_01",
          "000039_01",
          "000040_01",
          "000041_01",
          "000042_01",
          "000043_01",
          "000044_01",
          "000045_01",
          "000035_03",
          "000046_01",
          "000048_01",
          "000049_01",
          "000050_01",
          "000051_01",
          "000052_01",
          "000053_01",
          "000054_01",
          "000055_01",
          "000056_01",
          "000057_01",
          "000047_01",
          "000058_01",
          "000033_01",
          "000031_01",
          "000112_01",
          "000010_01",
          "000011_01",
          "000012_01",
          "000013_01",
          "000014_01",
          "000015_01",
          "000016_01",
          "000017_01",
          "000018_01",
          "000032_01",
          "000019_01",
          "000021_01",
          "000022_01",
          "000023_01",
          "000024_01",
          "000025_01",
          "000026_01",
          "000027_01",
          "000028_01",
          "000029_01",
          "000030_01",
          "000020_01",
          "000059_01",
          "000034_01",
          "000061_01",
          "000088_01",
          "000089_01",
          "000090_01",
          "000091_01",
          "000092_01",
          "000093_01",
          "000094_01",
          "000095_01",
          "000096_01",
          "000098_01",
          "000099_01",
          "000100_01",
          "000101_01",
          "000102_01",
          "000103_01",
          "000104_01",
          "000105_01",
          "000106_01",
          "000107_01",
          "000108_01",
          "000109_01",
          "000060_01",
          "000110_01",
          "000087_01",
          "000086_01",
          "000097_01",
          "000085_01",
          "000062_01",
          "000063_01",
          "000064_01",
          "000065_01",
          "000066_01",
          "000067_01",
          "000068_01",
          "000070_01",
          "000071_01",
          "000072_01",
          "000073_01",
          "000069_01",
          "000075_01",
          "000076_01",
          "000077_01",
          "000078_01",
          "000079_01",
          "000080_01",
          "000081_01",
          "000082_01",
          "000074_01",
          "000083_01",
          "000084_01"
         ],
         "xaxis": "x",
         "y": [
          0.0014268808765830266,
          0.009520398228228345,
          0.5120916031173242,
          0.0016195530172455252,
          0.002470620914493377,
          0.00020665014469521388,
          0.8582997493751574,
          0.1425928713676641,
          0.036186862796815815,
          0.012509980560502886,
          0.5323782943390202,
          0.0028548047012454635,
          0.21655902089481552,
          0.5448276158828685,
          0.065025942108924,
          0.28373034167192024,
          0.0016228388547843834,
          0.14116578702596752,
          0.7518889982416379,
          0.31882727631630575,
          0.598955117191056,
          0.0714076325177322,
          0.0025211922980849124,
          0.7582343557387095,
          0.0011700197690802155,
          0.024931005673051936,
          0.6934577499941491,
          0.01214550112253205,
          0.2681107116170656,
          0.0011545684848786838,
          0.0004834402599757949,
          0.0062813582801223514,
          0.0023221156418144263,
          0.0036408233179002322,
          0.2127422876386491,
          0.005564075991285285,
          0.041213752852777945,
          0.3536979524246076,
          0.0043870447064168466,
          0.024891919056669456,
          0.053806307438193667,
          0.1989820611592484,
          0.44556775879590493,
          0.34802175565802274,
          0.8108896699233078,
          0.6217313282671814,
          0.7733276565069745,
          0.2780735318663893,
          0.8287034284354946,
          0.03470708792673552,
          0.17872030006616565,
          0.0016121416561784576,
          0.01555153111170326,
          0.009939113774735577,
          0.031211617250810543,
          0.042701610395204335,
          0.23434309501921635,
          0.2224498492038824,
          0.14795308805080473,
          0.019151751050076438,
          0.888422162985177,
          0.06315260048480499,
          0.17232481728900906,
          0.004089766791803238,
          0.0016188898040491867,
          0.045572626625742074,
          0.0057510844088892454,
          0.0016213866086326975,
          0.006132445630171568,
          0.0610878509971567,
          0.11423620250032482,
          0.02921204751701493,
          0.1348358407396285,
          0.08787591274124189,
          0.25041342544648426,
          0.05083588800708915,
          0.06856038694693574,
          0.006047158842687188,
          0.013585361592486795,
          0.0367014742043719,
          0.4238946192162596,
          0.007695022305489385,
          0.009468247295541805,
          0.0013395264922792922,
          0.020342139473751894,
          0.000471261090710858,
          0.11762004783577049,
          0.002717382587116302,
          0.014024122283468058,
          0.004796238499941923,
          0.003200041121032388,
          0.0018552853161015312,
          0.10997368363591044,
          0.006382747700875389,
          0.07917102522580023,
          9.055763997447698e-05,
          0.00722221250359322,
          0.003529178099281067,
          0.008980195809123695,
          0.015546710105662049,
          0.0015362756015704728,
          0.004548712836003162,
          0.046104681028785906,
          0.0003801774293752857,
          0.026508555104957105,
          0.5322487529421847,
          0.18186054178030103,
          0.01487642510148357,
          0.024636872188442287,
          0.033190822567573074,
          0.0051174388806896716,
          0.0005869292843470302,
          0.01225040229991244,
          0.006458311427140461,
          0.0641174188065879,
          0.0016246810776942467,
          0.18182552417053055,
          0.18979095153838885,
          0.9155930319202459,
          0.23630116332286819,
          0.23722287656902818,
          0.06184508335085459,
          0.37304982604010195,
          0.14067942470872352,
          0.9385907416015741,
          0.2387613158308194,
          0.8785824756287046,
          0.4844372525554024,
          0.056962506203892316,
          0.007478119412853681,
          0.007252277583002146,
          0.06765034514524404,
          0.01506438870247173,
          0.02135141613020194,
          0.07123842474422673,
          0.00017723683810668051,
          0.019574676820510423,
          0.01745240368026012,
          0.01473710256515833,
          0.002450959981865484,
          0.2734506345303412,
          0.0003186809142809088,
          0.004953588836240658,
          0.18362621832707465,
          0.022070329815349437,
          0.04065442674039816,
          0.00618794236373081,
          0.019346803696065357,
          0.10145702623345329,
          0.019387640943944972,
          0.9045416794815262,
          0.6503488852431311,
          0.6817108679071734,
          0.001621386547875307,
          0.041490104017925904,
          0.000203299188737001,
          0.07989596522615658,
          0.03182040843644843,
          0.2875432680233434,
          0.02637770452476163,
          0.2504289248392103,
          0.009214777909897548,
          0.04884195313350725,
          0.008860899213652792,
          0.0013788279036379342,
          0.0018119445366048315,
          0.0014044993895526406,
          0.001212238123836741,
          0.021705925832076322,
          0.003729465552954399,
          0.004542793270188229,
          0.014190088228856933,
          0.029249814561958815,
          0.013462492151469132,
          0.0073680602017984495,
          0.002195419706201511,
          0.0009687348253850756,
          0.006100317026968635,
          0.053726297144371486,
          0.6735782682561693,
          0.04489443551951378,
          0.17467452260713404,
          0.00903805203724086,
          0.025522988005491826,
          0.3585727856774777,
          0.0024663160867806344,
          0.0009134514075915099,
          0.014771394338948342,
          0.14489427516906514,
          0.0172763022979905,
          0.009429391983576209,
          0.2640382344681997,
          0.007865258090790314,
          0.9426883816404827,
          0.4377532989614513,
          0.1319851641455946,
          0.8767670090402605,
          0.09785785409959523,
          0.42472301151813274,
          0.7613428870159944,
          0.8792796585716903,
          0.1644657034033373,
          0.22620429637170403,
          0.33747826062007846,
          0.9124466492048614,
          0.30349121801797674,
          0.34802775617671156
         ],
         "yaxis": "y"
        },
        {
         "hoverlabel": {
          "namelength": 0
         },
         "hovertemplate": "class=1<br>id=%{x}<br>pro=%{y}",
         "legendgroup": "class=1",
         "marker": {
          "color": "#EE0000",
          "symbol": "circle"
         },
         "mode": "markers",
         "name": "class=1",
         "showlegend": true,
         "type": "scatter",
         "x": [
          "B081.expo",
          "B072.expo",
          "B073.expo",
          "B074.expo",
          "B075.expo",
          "B079.expo",
          "B077.expo",
          "B078.expo",
          "B080.expo",
          "B071.expo",
          "B076.expo",
          "B070.expo",
          "B060.expo",
          "B068.expo",
          "B067.expo",
          "B066.expo",
          "B065.expo",
          "B064.expo",
          "B063.expo",
          "B062.expo",
          "B061.expo",
          "B059.expo",
          "B058.expo",
          "B082.expo",
          "B069.expo",
          "B083.expo",
          "B108.expo",
          "B085.expo",
          "B110.expo",
          "B057.expo",
          "B109.expo",
          "B107.expo",
          "B106.expo",
          "B105.expo",
          "B104.expo",
          "B103.expo",
          "B102.expo",
          "B101.expo",
          "B100.expo",
          "B099.expo",
          "B098.expo",
          "B097.expo",
          "B096.expo",
          "B095.expo",
          "B094.expo",
          "B093.expo",
          "B092.expo",
          "B091.expo",
          "B090.expo",
          "B089.expo",
          "B088.expo",
          "B087.expo",
          "B086.expo",
          "B084.expo",
          "B056.expo",
          "B005.expo",
          "B054.expo",
          "B024.expo",
          "B023.expo",
          "B022.expo",
          "B021.expo",
          "B020.expo",
          "B019.expo",
          "B018.expo",
          "B017.expo",
          "B016.expo",
          "B015.expo",
          "B014.expo",
          "B025.expo",
          "B013.expo",
          "B011.expo",
          "B010.expo",
          "B009.expo",
          "B008.expo",
          "B007.expo",
          "B006.expo",
          "B004.expo",
          "B003.expo",
          "B002.expo",
          "B001.expo",
          "B111.expo",
          "B012.expo",
          "B026.expo",
          "B027.expo",
          "B028.expo",
          "B053.expo",
          "B052.expo",
          "B051.expo",
          "B050.expo",
          "B049.expo",
          "B048.expo",
          "B047.expo",
          "B046.expo",
          "B045.expo",
          "B044.expo",
          "B043.expo",
          "B042.expo",
          "B041.expo",
          "B040.expo",
          "B039.expo",
          "B038.expo",
          "B037.expo",
          "B036.expo",
          "B035.expo",
          "B034.expo",
          "B033.expo",
          "B032.expo",
          "B031.expo",
          "B030.expo",
          "B029.expo",
          "B055.expo",
          "B112.expo"
         ],
         "xaxis": "x",
         "y": [
          0.08788263133764401,
          0.9802780234960029,
          0.8641525631003003,
          0.9580304196443474,
          0.9195575401655391,
          0.1745200860843782,
          0.995624548873354,
          0.9858482992576946,
          0.9008927477392712,
          0.9130569878324837,
          0.6303794308266222,
          0.9930857340102536,
          0.9922987011386343,
          0.9865371692546439,
          0.9950652121977328,
          0.9795552468621739,
          0.9882937892212225,
          0.989587947154861,
          0.985393877772953,
          0.9732549521685402,
          0.9971647150356981,
          0.9428772009187792,
          0.9837314342790783,
          0.4492105474439915,
          0.9868177003290988,
          0.98297404333433,
          0.895233142049037,
          0.4423381495285538,
          0.42026469374697345,
          0.9934715899767035,
          0.9627645783418578,
          0.9864481598906619,
          0.9329544923759934,
          0.8681888944103233,
          0.9942073838305224,
          0.9999996433327332,
          0.5915721177016243,
          0.7379009410538793,
          0.996058937702059,
          0.9821054334033502,
          0.9837145370409269,
          0.36375164610047045,
          0.983090712742496,
          0.0014156001976596462,
          0.9035715632065704,
          0.9423554838441522,
          0.9899650668513049,
          0.8757635776134994,
          0.6908413110865138,
          0.8398763233760377,
          0.7423660934987985,
          0.8527374591611899,
          0.7901577525174099,
          0.9807819282418531,
          0.9805806962692413,
          0.9769757343347867,
          0.9999968763814738,
          0.9960896002707245,
          0.9586810320756024,
          0.9949988116213715,
          0.9885833075636297,
          0.9920656284616718,
          0.8373960363098286,
          0.6822314818456762,
          0.9462564371126956,
          0.9898092161950618,
          0.9234811588273754,
          0.9920972990481808,
          0.999994537175914,
          0.9604251296334498,
          0.8083824708485565,
          0.9920497707745791,
          0.9847223629907484,
          0.9961003131045556,
          0.996096880331774,
          0.9871873581283278,
          0.948636764090811,
          0.9960928326615037,
          0.9903919500485953,
          0.968892184755112,
          0.896151029330943,
          0.9960891209765805,
          0.9960930751519228,
          0.9603424301033641,
          0.996212298463742,
          0.9962071995747221,
          0.9974589348779951,
          0.9953996797914774,
          0.9971744674878669,
          0.9999827515754688,
          0.9599942161304108,
          0.9565921638345689,
          0.9738116615738672,
          0.7831089282361865,
          0.9968165169178039,
          0.9205373345683407,
          0.8891448096714755,
          0.9960998388107307,
          0.7916227291714513,
          0.9865244042347379,
          0.9911502528863988,
          0.9170900676672693,
          0.8292617380607719,
          0.9839420729467178,
          0.9678237158517043,
          0.9961003384026677,
          0.9999983727495283,
          0.99620055819986,
          0.9935793350564402,
          0.9999949360923169,
          0.7536134706192983,
          0.8590034341401601
         ],
         "yaxis": "y"
        },
        {
         "line": {
          "color": "grey",
          "dash": "dash"
         },
         "mode": "lines",
         "showlegend": false,
         "type": "scatter",
         "x": [
          "000009_01",
          "B112.expo"
         ],
         "y": [
          0.5,
          0.5
         ]
        }
       ],
       "layout": {
        "height": 800,
        "legend": {
         "tracegroupgap": 0
        },
        "margin": {
         "t": 60
        },
        "template": {
         "data": {
          "bar": [
           {
            "error_x": {
             "color": "rgb(51,51,51)"
            },
            "error_y": {
             "color": "rgb(51,51,51)"
            },
            "marker": {
             "line": {
              "color": "rgb(237,237,237)",
              "width": 0.5
             }
            },
            "type": "bar"
           }
          ],
          "barpolar": [
           {
            "marker": {
             "line": {
              "color": "rgb(237,237,237)",
              "width": 0.5
             }
            },
            "type": "barpolar"
           }
          ],
          "carpet": [
           {
            "aaxis": {
             "endlinecolor": "rgb(51,51,51)",
             "gridcolor": "white",
             "linecolor": "white",
             "minorgridcolor": "white",
             "startlinecolor": "rgb(51,51,51)"
            },
            "baxis": {
             "endlinecolor": "rgb(51,51,51)",
             "gridcolor": "white",
             "linecolor": "white",
             "minorgridcolor": "white",
             "startlinecolor": "rgb(51,51,51)"
            },
            "type": "carpet"
           }
          ],
          "choropleth": [
           {
            "colorbar": {
             "outlinewidth": 0,
             "tickcolor": "rgb(237,237,237)",
             "ticklen": 6,
             "ticks": "inside"
            },
            "type": "choropleth"
           }
          ],
          "contour": [
           {
            "colorbar": {
             "outlinewidth": 0,
             "tickcolor": "rgb(237,237,237)",
             "ticklen": 6,
             "ticks": "inside"
            },
            "colorscale": [
             [
              0,
              "rgb(20,44,66)"
             ],
             [
              1,
              "rgb(90,179,244)"
             ]
            ],
            "type": "contour"
           }
          ],
          "contourcarpet": [
           {
            "colorbar": {
             "outlinewidth": 0,
             "tickcolor": "rgb(237,237,237)",
             "ticklen": 6,
             "ticks": "inside"
            },
            "type": "contourcarpet"
           }
          ],
          "heatmap": [
           {
            "colorbar": {
             "outlinewidth": 0,
             "tickcolor": "rgb(237,237,237)",
             "ticklen": 6,
             "ticks": "inside"
            },
            "colorscale": [
             [
              0,
              "rgb(20,44,66)"
             ],
             [
              1,
              "rgb(90,179,244)"
             ]
            ],
            "type": "heatmap"
           }
          ],
          "heatmapgl": [
           {
            "colorbar": {
             "outlinewidth": 0,
             "tickcolor": "rgb(237,237,237)",
             "ticklen": 6,
             "ticks": "inside"
            },
            "colorscale": [
             [
              0,
              "rgb(20,44,66)"
             ],
             [
              1,
              "rgb(90,179,244)"
             ]
            ],
            "type": "heatmapgl"
           }
          ],
          "histogram": [
           {
            "marker": {
             "colorbar": {
              "outlinewidth": 0,
              "tickcolor": "rgb(237,237,237)",
              "ticklen": 6,
              "ticks": "inside"
             }
            },
            "type": "histogram"
           }
          ],
          "histogram2d": [
           {
            "colorbar": {
             "outlinewidth": 0,
             "tickcolor": "rgb(237,237,237)",
             "ticklen": 6,
             "ticks": "inside"
            },
            "colorscale": [
             [
              0,
              "rgb(20,44,66)"
             ],
             [
              1,
              "rgb(90,179,244)"
             ]
            ],
            "type": "histogram2d"
           }
          ],
          "histogram2dcontour": [
           {
            "colorbar": {
             "outlinewidth": 0,
             "tickcolor": "rgb(237,237,237)",
             "ticklen": 6,
             "ticks": "inside"
            },
            "colorscale": [
             [
              0,
              "rgb(20,44,66)"
             ],
             [
              1,
              "rgb(90,179,244)"
             ]
            ],
            "type": "histogram2dcontour"
           }
          ],
          "mesh3d": [
           {
            "colorbar": {
             "outlinewidth": 0,
             "tickcolor": "rgb(237,237,237)",
             "ticklen": 6,
             "ticks": "inside"
            },
            "type": "mesh3d"
           }
          ],
          "parcoords": [
           {
            "line": {
             "colorbar": {
              "outlinewidth": 0,
              "tickcolor": "rgb(237,237,237)",
              "ticklen": 6,
              "ticks": "inside"
             }
            },
            "type": "parcoords"
           }
          ],
          "scatter": [
           {
            "marker": {
             "colorbar": {
              "outlinewidth": 0,
              "tickcolor": "rgb(237,237,237)",
              "ticklen": 6,
              "ticks": "inside"
             }
            },
            "type": "scatter"
           }
          ],
          "scatter3d": [
           {
            "line": {
             "colorbar": {
              "outlinewidth": 0,
              "tickcolor": "rgb(237,237,237)",
              "ticklen": 6,
              "ticks": "inside"
             }
            },
            "marker": {
             "colorbar": {
              "outlinewidth": 0,
              "tickcolor": "rgb(237,237,237)",
              "ticklen": 6,
              "ticks": "inside"
             }
            },
            "type": "scatter3d"
           }
          ],
          "scattercarpet": [
           {
            "marker": {
             "colorbar": {
              "outlinewidth": 0,
              "tickcolor": "rgb(237,237,237)",
              "ticklen": 6,
              "ticks": "inside"
             }
            },
            "type": "scattercarpet"
           }
          ],
          "scattergeo": [
           {
            "marker": {
             "colorbar": {
              "outlinewidth": 0,
              "tickcolor": "rgb(237,237,237)",
              "ticklen": 6,
              "ticks": "inside"
             }
            },
            "type": "scattergeo"
           }
          ],
          "scattergl": [
           {
            "marker": {
             "colorbar": {
              "outlinewidth": 0,
              "tickcolor": "rgb(237,237,237)",
              "ticklen": 6,
              "ticks": "inside"
             }
            },
            "type": "scattergl"
           }
          ],
          "scattermapbox": [
           {
            "marker": {
             "colorbar": {
              "outlinewidth": 0,
              "tickcolor": "rgb(237,237,237)",
              "ticklen": 6,
              "ticks": "inside"
             }
            },
            "type": "scattermapbox"
           }
          ],
          "scatterpolar": [
           {
            "marker": {
             "colorbar": {
              "outlinewidth": 0,
              "tickcolor": "rgb(237,237,237)",
              "ticklen": 6,
              "ticks": "inside"
             }
            },
            "type": "scatterpolar"
           }
          ],
          "scatterpolargl": [
           {
            "marker": {
             "colorbar": {
              "outlinewidth": 0,
              "tickcolor": "rgb(237,237,237)",
              "ticklen": 6,
              "ticks": "inside"
             }
            },
            "type": "scatterpolargl"
           }
          ],
          "scatterternary": [
           {
            "marker": {
             "colorbar": {
              "outlinewidth": 0,
              "tickcolor": "rgb(237,237,237)",
              "ticklen": 6,
              "ticks": "inside"
             }
            },
            "type": "scatterternary"
           }
          ],
          "surface": [
           {
            "colorbar": {
             "outlinewidth": 0,
             "tickcolor": "rgb(237,237,237)",
             "ticklen": 6,
             "ticks": "inside"
            },
            "colorscale": [
             [
              0,
              "rgb(20,44,66)"
             ],
             [
              1,
              "rgb(90,179,244)"
             ]
            ],
            "type": "surface"
           }
          ],
          "table": [
           {
            "cells": {
             "fill": {
              "color": "rgb(237,237,237)"
             },
             "line": {
              "color": "white"
             }
            },
            "header": {
             "fill": {
              "color": "rgb(217,217,217)"
             },
             "line": {
              "color": "white"
             }
            },
            "type": "table"
           }
          ]
         },
         "layout": {
          "annotationdefaults": {
           "arrowhead": 0,
           "arrowwidth": 1
          },
          "colorscale": {
           "sequential": [
            [
             0,
             "rgb(20,44,66)"
            ],
            [
             1,
             "rgb(90,179,244)"
            ]
           ],
           "sequentialminus": [
            [
             0,
             "rgb(20,44,66)"
            ],
            [
             1,
             "rgb(90,179,244)"
            ]
           ]
          },
          "colorway": [
           "#F8766D",
           "#A3A500",
           "#00BF7D",
           "#00B0F6",
           "#E76BF3"
          ],
          "font": {
           "color": "rgb(51,51,51)"
          },
          "geo": {
           "bgcolor": "white",
           "lakecolor": "white",
           "landcolor": "rgb(237,237,237)",
           "showlakes": true,
           "showland": true,
           "subunitcolor": "white"
          },
          "hoverlabel": {
           "align": "left"
          },
          "hovermode": "closest",
          "paper_bgcolor": "white",
          "plot_bgcolor": "rgb(237,237,237)",
          "polar": {
           "angularaxis": {
            "gridcolor": "white",
            "linecolor": "white",
            "showgrid": true,
            "tickcolor": "rgb(51,51,51)",
            "ticks": "outside"
           },
           "bgcolor": "rgb(237,237,237)",
           "radialaxis": {
            "gridcolor": "white",
            "linecolor": "white",
            "showgrid": true,
            "tickcolor": "rgb(51,51,51)",
            "ticks": "outside"
           }
          },
          "scene": {
           "xaxis": {
            "backgroundcolor": "rgb(237,237,237)",
            "gridcolor": "white",
            "gridwidth": 2,
            "linecolor": "white",
            "showbackground": true,
            "showgrid": true,
            "tickcolor": "rgb(51,51,51)",
            "ticks": "outside",
            "zerolinecolor": "white"
           },
           "yaxis": {
            "backgroundcolor": "rgb(237,237,237)",
            "gridcolor": "white",
            "gridwidth": 2,
            "linecolor": "white",
            "showbackground": true,
            "showgrid": true,
            "tickcolor": "rgb(51,51,51)",
            "ticks": "outside",
            "zerolinecolor": "white"
           },
           "zaxis": {
            "backgroundcolor": "rgb(237,237,237)",
            "gridcolor": "white",
            "gridwidth": 2,
            "linecolor": "white",
            "showbackground": true,
            "showgrid": true,
            "tickcolor": "rgb(51,51,51)",
            "ticks": "outside",
            "zerolinecolor": "white"
           }
          },
          "shapedefaults": {
           "fillcolor": "black",
           "line": {
            "width": 0
           },
           "opacity": 0.3
          },
          "ternary": {
           "aaxis": {
            "gridcolor": "white",
            "linecolor": "white",
            "showgrid": true,
            "tickcolor": "rgb(51,51,51)",
            "ticks": "outside"
           },
           "baxis": {
            "gridcolor": "white",
            "linecolor": "white",
            "showgrid": true,
            "tickcolor": "rgb(51,51,51)",
            "ticks": "outside"
           },
           "bgcolor": "rgb(237,237,237)",
           "caxis": {
            "gridcolor": "white",
            "linecolor": "white",
            "showgrid": true,
            "tickcolor": "rgb(51,51,51)",
            "ticks": "outside"
           }
          },
          "xaxis": {
           "automargin": true,
           "gridcolor": "white",
           "linecolor": "white",
           "showgrid": true,
           "tickcolor": "rgb(51,51,51)",
           "ticks": "outside",
           "zerolinecolor": "white"
          },
          "yaxis": {
           "automargin": true,
           "gridcolor": "white",
           "linecolor": "white",
           "showgrid": true,
           "tickcolor": "rgb(51,51,51)",
           "ticks": "outside",
           "zerolinecolor": "white"
          }
         }
        },
        "width": 1200,
        "xaxis": {
         "anchor": "y",
         "domain": [
          0,
          0.98
         ],
         "title": {
          "text": "id"
         }
        },
        "yaxis": {
         "anchor": "x",
         "domain": [
          0,
          1
         ],
         "title": {
          "text": "pro"
         }
        }
       }
      },
      "text/html": [
       "<div>\n",
       "        \n",
       "        \n",
       "            <div id=\"4c907509-30c5-46d9-a314-7634d0ea6573\" class=\"plotly-graph-div\" style=\"height:800px; width:1200px;\"></div>\n",
       "            <script type=\"text/javascript\">\n",
       "                require([\"plotly\"], function(Plotly) {\n",
       "                    window.PLOTLYENV=window.PLOTLYENV || {};\n",
       "                    \n",
       "                if (document.getElementById(\"4c907509-30c5-46d9-a314-7634d0ea6573\")) {\n",
       "                    Plotly.newPlot(\n",
       "                        '4c907509-30c5-46d9-a314-7634d0ea6573',\n",
       "                        [{\"hoverlabel\": {\"namelength\": 0}, \"hovertemplate\": \"class=0<br>id=%{x}<br>pro=%{y}\", \"legendgroup\": \"class=0\", \"marker\": {\"color\": \"green\", \"symbol\": \"circle\"}, \"mode\": \"markers\", \"name\": \"class=0\", \"showlegend\": true, \"type\": \"scatter\", \"x\": [\"000009_01\", \"000141_01\", \"000142_01\", \"000143_01\", \"000144_01\", \"000145_01\", \"000146_01\", \"000147_01\", \"000148_01\", \"000149_01\", \"000150_01\", \"000140_01\", \"000151_01\", \"000153_01\", \"000154_01\", \"000155_01\", \"000156_01\", \"000157_01\", \"000158_01\", \"000159_01\", \"000160_01\", \"000161_01\", \"000162_01\", \"000152_01\", \"000163_01\", \"000139_01\", \"000137_01\", \"000115_01\", \"000116_01\", \"000117_01\", \"000118_01\", \"000119_01\", \"000120_01\", \"000121_01\", \"000122_01\", \"000123_01\", \"000124_01\", \"000138_01\", \"000125_01\", \"000127_01\", \"000128_01\", \"000129_01\", \"000130_01\", \"000131_01\", \"000132_01\", \"000133_01\", \"000134_01\", \"000135_01\", \"000136_01\", \"000126_01\", \"000114_01\", \"000164_01\", \"000166_01\", \"000194_01\", \"000195_01\", \"000196_01\", \"000197_01\", \"000198_01\", \"000199_01\", \"000200_02\", \"000201_02\", \"000202_01\", \"000203_02\", \"000193_01\", \"000204_01\", \"000206_01\", \"000207_01\", \"000208_01\", \"000209_01\", \"000210_01\", \"000211_01\", \"000212_01\", \"000213_01\", \"000214_01\", \"000215_01\", \"000205_01\", \"000165_01\", \"000192_01\", \"000190_01\", \"000167_01\", \"000169_01\", \"000170_01\", \"000171_01\", \"000172_01\", \"000173_01\", \"000174_01\", \"000175_01\", \"000176_01\", \"000177_01\", \"000191_01\", \"000178_01\", \"000180_01\", \"000181_01\", \"000182_02\", \"000183_01\", \"000184_01\", \"000185_01\", \"000186_01\", \"000187_01\", \"000188_01\", \"000189_01\", \"000179_01\", \"000113_01\", \"000168_01\", \"000111_01\", \"000036_01\", \"000037_01\", \"000038_01\", \"000039_01\", \"000040_01\", \"000041_01\", \"000042_01\", \"000043_01\", \"000044_01\", \"000045_01\", \"000035_03\", \"000046_01\", \"000048_01\", \"000049_01\", \"000050_01\", \"000051_01\", \"000052_01\", \"000053_01\", \"000054_01\", \"000055_01\", \"000056_01\", \"000057_01\", \"000047_01\", \"000058_01\", \"000033_01\", \"000031_01\", \"000112_01\", \"000010_01\", \"000011_01\", \"000012_01\", \"000013_01\", \"000014_01\", \"000015_01\", \"000016_01\", \"000017_01\", \"000018_01\", \"000032_01\", \"000019_01\", \"000021_01\", \"000022_01\", \"000023_01\", \"000024_01\", \"000025_01\", \"000026_01\", \"000027_01\", \"000028_01\", \"000029_01\", \"000030_01\", \"000020_01\", \"000059_01\", \"000034_01\", \"000061_01\", \"000088_01\", \"000089_01\", \"000090_01\", \"000091_01\", \"000092_01\", \"000093_01\", \"000094_01\", \"000095_01\", \"000096_01\", \"000098_01\", \"000099_01\", \"000100_01\", \"000101_01\", \"000102_01\", \"000103_01\", \"000104_01\", \"000105_01\", \"000106_01\", \"000107_01\", \"000108_01\", \"000109_01\", \"000060_01\", \"000110_01\", \"000087_01\", \"000086_01\", \"000097_01\", \"000085_01\", \"000062_01\", \"000063_01\", \"000064_01\", \"000065_01\", \"000066_01\", \"000067_01\", \"000068_01\", \"000070_01\", \"000071_01\", \"000072_01\", \"000073_01\", \"000069_01\", \"000075_01\", \"000076_01\", \"000077_01\", \"000078_01\", \"000079_01\", \"000080_01\", \"000081_01\", \"000082_01\", \"000074_01\", \"000083_01\", \"000084_01\"], \"xaxis\": \"x\", \"y\": [0.0014268808765830266, 0.009520398228228345, 0.5120916031173242, 0.0016195530172455252, 0.002470620914493377, 0.00020665014469521388, 0.8582997493751574, 0.1425928713676641, 0.036186862796815815, 0.012509980560502886, 0.5323782943390202, 0.0028548047012454635, 0.21655902089481552, 0.5448276158828685, 0.065025942108924, 0.28373034167192024, 0.0016228388547843834, 0.14116578702596752, 0.7518889982416379, 0.31882727631630575, 0.598955117191056, 0.0714076325177322, 0.0025211922980849124, 0.7582343557387095, 0.0011700197690802155, 0.024931005673051936, 0.6934577499941491, 0.01214550112253205, 0.2681107116170656, 0.0011545684848786838, 0.0004834402599757949, 0.0062813582801223514, 0.0023221156418144263, 0.0036408233179002322, 0.2127422876386491, 0.005564075991285285, 0.041213752852777945, 0.3536979524246076, 0.0043870447064168466, 0.024891919056669456, 0.053806307438193667, 0.1989820611592484, 0.44556775879590493, 0.34802175565802274, 0.8108896699233078, 0.6217313282671814, 0.7733276565069745, 0.2780735318663893, 0.8287034284354946, 0.03470708792673552, 0.17872030006616565, 0.0016121416561784576, 0.01555153111170326, 0.009939113774735577, 0.031211617250810543, 0.042701610395204335, 0.23434309501921635, 0.2224498492038824, 0.14795308805080473, 0.019151751050076438, 0.888422162985177, 0.06315260048480499, 0.17232481728900906, 0.004089766791803238, 0.0016188898040491867, 0.045572626625742074, 0.0057510844088892454, 0.0016213866086326975, 0.006132445630171568, 0.0610878509971567, 0.11423620250032482, 0.02921204751701493, 0.1348358407396285, 0.08787591274124189, 0.25041342544648426, 0.05083588800708915, 0.06856038694693574, 0.006047158842687188, 0.013585361592486795, 0.0367014742043719, 0.4238946192162596, 0.007695022305489385, 0.009468247295541805, 0.0013395264922792922, 0.020342139473751894, 0.000471261090710858, 0.11762004783577049, 0.002717382587116302, 0.014024122283468058, 0.004796238499941923, 0.003200041121032388, 0.0018552853161015312, 0.10997368363591044, 0.006382747700875389, 0.07917102522580023, 9.055763997447698e-05, 0.00722221250359322, 0.003529178099281067, 0.008980195809123695, 0.015546710105662049, 0.0015362756015704728, 0.004548712836003162, 0.046104681028785906, 0.0003801774293752857, 0.026508555104957105, 0.5322487529421847, 0.18186054178030103, 0.01487642510148357, 0.024636872188442287, 0.033190822567573074, 0.0051174388806896716, 0.0005869292843470302, 0.01225040229991244, 0.006458311427140461, 0.0641174188065879, 0.0016246810776942467, 0.18182552417053055, 0.18979095153838885, 0.9155930319202459, 0.23630116332286819, 0.23722287656902818, 0.06184508335085459, 0.37304982604010195, 0.14067942470872352, 0.9385907416015741, 0.2387613158308194, 0.8785824756287046, 0.4844372525554024, 0.056962506203892316, 0.007478119412853681, 0.007252277583002146, 0.06765034514524404, 0.01506438870247173, 0.02135141613020194, 0.07123842474422673, 0.00017723683810668051, 0.019574676820510423, 0.01745240368026012, 0.01473710256515833, 0.002450959981865484, 0.2734506345303412, 0.0003186809142809088, 0.004953588836240658, 0.18362621832707465, 0.022070329815349437, 0.04065442674039816, 0.00618794236373081, 0.019346803696065357, 0.10145702623345329, 0.019387640943944972, 0.9045416794815262, 0.6503488852431311, 0.6817108679071734, 0.001621386547875307, 0.041490104017925904, 0.000203299188737001, 0.07989596522615658, 0.03182040843644843, 0.2875432680233434, 0.02637770452476163, 0.2504289248392103, 0.009214777909897548, 0.04884195313350725, 0.008860899213652792, 0.0013788279036379342, 0.0018119445366048315, 0.0014044993895526406, 0.001212238123836741, 0.021705925832076322, 0.003729465552954399, 0.004542793270188229, 0.014190088228856933, 0.029249814561958815, 0.013462492151469132, 0.0073680602017984495, 0.002195419706201511, 0.0009687348253850756, 0.006100317026968635, 0.053726297144371486, 0.6735782682561693, 0.04489443551951378, 0.17467452260713404, 0.00903805203724086, 0.025522988005491826, 0.3585727856774777, 0.0024663160867806344, 0.0009134514075915099, 0.014771394338948342, 0.14489427516906514, 0.0172763022979905, 0.009429391983576209, 0.2640382344681997, 0.007865258090790314, 0.9426883816404827, 0.4377532989614513, 0.1319851641455946, 0.8767670090402605, 0.09785785409959523, 0.42472301151813274, 0.7613428870159944, 0.8792796585716903, 0.1644657034033373, 0.22620429637170403, 0.33747826062007846, 0.9124466492048614, 0.30349121801797674, 0.34802775617671156], \"yaxis\": \"y\"}, {\"hoverlabel\": {\"namelength\": 0}, \"hovertemplate\": \"class=1<br>id=%{x}<br>pro=%{y}\", \"legendgroup\": \"class=1\", \"marker\": {\"color\": \"#EE0000\", \"symbol\": \"circle\"}, \"mode\": \"markers\", \"name\": \"class=1\", \"showlegend\": true, \"type\": \"scatter\", \"x\": [\"B081.expo\", \"B072.expo\", \"B073.expo\", \"B074.expo\", \"B075.expo\", \"B079.expo\", \"B077.expo\", \"B078.expo\", \"B080.expo\", \"B071.expo\", \"B076.expo\", \"B070.expo\", \"B060.expo\", \"B068.expo\", \"B067.expo\", \"B066.expo\", \"B065.expo\", \"B064.expo\", \"B063.expo\", \"B062.expo\", \"B061.expo\", \"B059.expo\", \"B058.expo\", \"B082.expo\", \"B069.expo\", \"B083.expo\", \"B108.expo\", \"B085.expo\", \"B110.expo\", \"B057.expo\", \"B109.expo\", \"B107.expo\", \"B106.expo\", \"B105.expo\", \"B104.expo\", \"B103.expo\", \"B102.expo\", \"B101.expo\", \"B100.expo\", \"B099.expo\", \"B098.expo\", \"B097.expo\", \"B096.expo\", \"B095.expo\", \"B094.expo\", \"B093.expo\", \"B092.expo\", \"B091.expo\", \"B090.expo\", \"B089.expo\", \"B088.expo\", \"B087.expo\", \"B086.expo\", \"B084.expo\", \"B056.expo\", \"B005.expo\", \"B054.expo\", \"B024.expo\", \"B023.expo\", \"B022.expo\", \"B021.expo\", \"B020.expo\", \"B019.expo\", \"B018.expo\", \"B017.expo\", \"B016.expo\", \"B015.expo\", \"B014.expo\", \"B025.expo\", \"B013.expo\", \"B011.expo\", \"B010.expo\", \"B009.expo\", \"B008.expo\", \"B007.expo\", \"B006.expo\", \"B004.expo\", \"B003.expo\", \"B002.expo\", \"B001.expo\", \"B111.expo\", \"B012.expo\", \"B026.expo\", \"B027.expo\", \"B028.expo\", \"B053.expo\", \"B052.expo\", \"B051.expo\", \"B050.expo\", \"B049.expo\", \"B048.expo\", \"B047.expo\", \"B046.expo\", \"B045.expo\", \"B044.expo\", \"B043.expo\", \"B042.expo\", \"B041.expo\", \"B040.expo\", \"B039.expo\", \"B038.expo\", \"B037.expo\", \"B036.expo\", \"B035.expo\", \"B034.expo\", \"B033.expo\", \"B032.expo\", \"B031.expo\", \"B030.expo\", \"B029.expo\", \"B055.expo\", \"B112.expo\"], \"xaxis\": \"x\", \"y\": [0.08788263133764401, 0.9802780234960029, 0.8641525631003003, 0.9580304196443474, 0.9195575401655391, 0.1745200860843782, 0.995624548873354, 0.9858482992576946, 0.9008927477392712, 0.9130569878324837, 0.6303794308266222, 0.9930857340102536, 0.9922987011386343, 0.9865371692546439, 0.9950652121977328, 0.9795552468621739, 0.9882937892212225, 0.989587947154861, 0.985393877772953, 0.9732549521685402, 0.9971647150356981, 0.9428772009187792, 0.9837314342790783, 0.4492105474439915, 0.9868177003290988, 0.98297404333433, 0.895233142049037, 0.4423381495285538, 0.42026469374697345, 0.9934715899767035, 0.9627645783418578, 0.9864481598906619, 0.9329544923759934, 0.8681888944103233, 0.9942073838305224, 0.9999996433327332, 0.5915721177016243, 0.7379009410538793, 0.996058937702059, 0.9821054334033502, 0.9837145370409269, 0.36375164610047045, 0.983090712742496, 0.0014156001976596462, 0.9035715632065704, 0.9423554838441522, 0.9899650668513049, 0.8757635776134994, 0.6908413110865138, 0.8398763233760377, 0.7423660934987985, 0.8527374591611899, 0.7901577525174099, 0.9807819282418531, 0.9805806962692413, 0.9769757343347867, 0.9999968763814738, 0.9960896002707245, 0.9586810320756024, 0.9949988116213715, 0.9885833075636297, 0.9920656284616718, 0.8373960363098286, 0.6822314818456762, 0.9462564371126956, 0.9898092161950618, 0.9234811588273754, 0.9920972990481808, 0.999994537175914, 0.9604251296334498, 0.8083824708485565, 0.9920497707745791, 0.9847223629907484, 0.9961003131045556, 0.996096880331774, 0.9871873581283278, 0.948636764090811, 0.9960928326615037, 0.9903919500485953, 0.968892184755112, 0.896151029330943, 0.9960891209765805, 0.9960930751519228, 0.9603424301033641, 0.996212298463742, 0.9962071995747221, 0.9974589348779951, 0.9953996797914774, 0.9971744674878669, 0.9999827515754688, 0.9599942161304108, 0.9565921638345689, 0.9738116615738672, 0.7831089282361865, 0.9968165169178039, 0.9205373345683407, 0.8891448096714755, 0.9960998388107307, 0.7916227291714513, 0.9865244042347379, 0.9911502528863988, 0.9170900676672693, 0.8292617380607719, 0.9839420729467178, 0.9678237158517043, 0.9961003384026677, 0.9999983727495283, 0.99620055819986, 0.9935793350564402, 0.9999949360923169, 0.7536134706192983, 0.8590034341401601], \"yaxis\": \"y\"}, {\"line\": {\"color\": \"grey\", \"dash\": \"dash\"}, \"mode\": \"lines\", \"showlegend\": false, \"type\": \"scatter\", \"x\": [\"000009_01\", \"B112.expo\"], \"y\": [0.5, 0.5]}],\n",
       "                        {\"height\": 800, \"legend\": {\"tracegroupgap\": 0}, \"margin\": {\"t\": 60}, \"template\": {\"data\": {\"bar\": [{\"error_x\": {\"color\": \"rgb(51,51,51)\"}, \"error_y\": {\"color\": \"rgb(51,51,51)\"}, \"marker\": {\"line\": {\"color\": \"rgb(237,237,237)\", \"width\": 0.5}}, \"type\": \"bar\"}], \"barpolar\": [{\"marker\": {\"line\": {\"color\": \"rgb(237,237,237)\", \"width\": 0.5}}, \"type\": \"barpolar\"}], \"carpet\": [{\"aaxis\": {\"endlinecolor\": \"rgb(51,51,51)\", \"gridcolor\": \"white\", \"linecolor\": \"white\", \"minorgridcolor\": \"white\", \"startlinecolor\": \"rgb(51,51,51)\"}, \"baxis\": {\"endlinecolor\": \"rgb(51,51,51)\", \"gridcolor\": \"white\", \"linecolor\": \"white\", \"minorgridcolor\": \"white\", \"startlinecolor\": \"rgb(51,51,51)\"}, \"type\": \"carpet\"}], \"choropleth\": [{\"colorbar\": {\"outlinewidth\": 0, \"tickcolor\": \"rgb(237,237,237)\", \"ticklen\": 6, \"ticks\": \"inside\"}, \"type\": \"choropleth\"}], \"contour\": [{\"colorbar\": {\"outlinewidth\": 0, \"tickcolor\": \"rgb(237,237,237)\", \"ticklen\": 6, \"ticks\": \"inside\"}, \"colorscale\": [[0, \"rgb(20,44,66)\"], [1, \"rgb(90,179,244)\"]], \"type\": \"contour\"}], \"contourcarpet\": [{\"colorbar\": {\"outlinewidth\": 0, \"tickcolor\": \"rgb(237,237,237)\", \"ticklen\": 6, \"ticks\": \"inside\"}, \"type\": \"contourcarpet\"}], \"heatmap\": [{\"colorbar\": {\"outlinewidth\": 0, \"tickcolor\": \"rgb(237,237,237)\", \"ticklen\": 6, \"ticks\": \"inside\"}, \"colorscale\": [[0, \"rgb(20,44,66)\"], [1, \"rgb(90,179,244)\"]], \"type\": \"heatmap\"}], \"heatmapgl\": [{\"colorbar\": {\"outlinewidth\": 0, \"tickcolor\": \"rgb(237,237,237)\", \"ticklen\": 6, \"ticks\": \"inside\"}, \"colorscale\": [[0, \"rgb(20,44,66)\"], [1, \"rgb(90,179,244)\"]], \"type\": \"heatmapgl\"}], \"histogram\": [{\"marker\": {\"colorbar\": {\"outlinewidth\": 0, \"tickcolor\": \"rgb(237,237,237)\", \"ticklen\": 6, \"ticks\": \"inside\"}}, \"type\": \"histogram\"}], \"histogram2d\": [{\"colorbar\": {\"outlinewidth\": 0, \"tickcolor\": \"rgb(237,237,237)\", \"ticklen\": 6, \"ticks\": \"inside\"}, \"colorscale\": [[0, \"rgb(20,44,66)\"], [1, \"rgb(90,179,244)\"]], \"type\": \"histogram2d\"}], \"histogram2dcontour\": [{\"colorbar\": {\"outlinewidth\": 0, \"tickcolor\": \"rgb(237,237,237)\", \"ticklen\": 6, \"ticks\": \"inside\"}, \"colorscale\": [[0, \"rgb(20,44,66)\"], [1, \"rgb(90,179,244)\"]], \"type\": \"histogram2dcontour\"}], \"mesh3d\": [{\"colorbar\": {\"outlinewidth\": 0, \"tickcolor\": \"rgb(237,237,237)\", \"ticklen\": 6, \"ticks\": \"inside\"}, \"type\": \"mesh3d\"}], \"parcoords\": [{\"line\": {\"colorbar\": {\"outlinewidth\": 0, \"tickcolor\": \"rgb(237,237,237)\", \"ticklen\": 6, \"ticks\": \"inside\"}}, \"type\": \"parcoords\"}], \"scatter\": [{\"marker\": {\"colorbar\": {\"outlinewidth\": 0, \"tickcolor\": \"rgb(237,237,237)\", \"ticklen\": 6, \"ticks\": \"inside\"}}, \"type\": \"scatter\"}], \"scatter3d\": [{\"line\": {\"colorbar\": {\"outlinewidth\": 0, \"tickcolor\": \"rgb(237,237,237)\", \"ticklen\": 6, \"ticks\": \"inside\"}}, \"marker\": {\"colorbar\": {\"outlinewidth\": 0, \"tickcolor\": \"rgb(237,237,237)\", \"ticklen\": 6, \"ticks\": \"inside\"}}, \"type\": \"scatter3d\"}], \"scattercarpet\": [{\"marker\": {\"colorbar\": {\"outlinewidth\": 0, \"tickcolor\": \"rgb(237,237,237)\", \"ticklen\": 6, \"ticks\": \"inside\"}}, \"type\": \"scattercarpet\"}], \"scattergeo\": [{\"marker\": {\"colorbar\": {\"outlinewidth\": 0, \"tickcolor\": \"rgb(237,237,237)\", \"ticklen\": 6, \"ticks\": \"inside\"}}, \"type\": \"scattergeo\"}], \"scattergl\": [{\"marker\": {\"colorbar\": {\"outlinewidth\": 0, \"tickcolor\": \"rgb(237,237,237)\", \"ticklen\": 6, \"ticks\": \"inside\"}}, \"type\": \"scattergl\"}], \"scattermapbox\": [{\"marker\": {\"colorbar\": {\"outlinewidth\": 0, \"tickcolor\": \"rgb(237,237,237)\", \"ticklen\": 6, \"ticks\": \"inside\"}}, \"type\": \"scattermapbox\"}], \"scatterpolar\": [{\"marker\": {\"colorbar\": {\"outlinewidth\": 0, \"tickcolor\": \"rgb(237,237,237)\", \"ticklen\": 6, \"ticks\": \"inside\"}}, \"type\": \"scatterpolar\"}], \"scatterpolargl\": [{\"marker\": {\"colorbar\": {\"outlinewidth\": 0, \"tickcolor\": \"rgb(237,237,237)\", \"ticklen\": 6, \"ticks\": \"inside\"}}, \"type\": \"scatterpolargl\"}], \"scatterternary\": [{\"marker\": {\"colorbar\": {\"outlinewidth\": 0, \"tickcolor\": \"rgb(237,237,237)\", \"ticklen\": 6, \"ticks\": \"inside\"}}, \"type\": \"scatterternary\"}], \"surface\": [{\"colorbar\": {\"outlinewidth\": 0, \"tickcolor\": \"rgb(237,237,237)\", \"ticklen\": 6, \"ticks\": \"inside\"}, \"colorscale\": [[0, \"rgb(20,44,66)\"], [1, \"rgb(90,179,244)\"]], \"type\": \"surface\"}], \"table\": [{\"cells\": {\"fill\": {\"color\": \"rgb(237,237,237)\"}, \"line\": {\"color\": \"white\"}}, \"header\": {\"fill\": {\"color\": \"rgb(217,217,217)\"}, \"line\": {\"color\": \"white\"}}, \"type\": \"table\"}]}, \"layout\": {\"annotationdefaults\": {\"arrowhead\": 0, \"arrowwidth\": 1}, \"colorscale\": {\"sequential\": [[0, \"rgb(20,44,66)\"], [1, \"rgb(90,179,244)\"]], \"sequentialminus\": [[0, \"rgb(20,44,66)\"], [1, \"rgb(90,179,244)\"]]}, \"colorway\": [\"#F8766D\", \"#A3A500\", \"#00BF7D\", \"#00B0F6\", \"#E76BF3\"], \"font\": {\"color\": \"rgb(51,51,51)\"}, \"geo\": {\"bgcolor\": \"white\", \"lakecolor\": \"white\", \"landcolor\": \"rgb(237,237,237)\", \"showlakes\": true, \"showland\": true, \"subunitcolor\": \"white\"}, \"hoverlabel\": {\"align\": \"left\"}, \"hovermode\": \"closest\", \"paper_bgcolor\": \"white\", \"plot_bgcolor\": \"rgb(237,237,237)\", \"polar\": {\"angularaxis\": {\"gridcolor\": \"white\", \"linecolor\": \"white\", \"showgrid\": true, \"tickcolor\": \"rgb(51,51,51)\", \"ticks\": \"outside\"}, \"bgcolor\": \"rgb(237,237,237)\", \"radialaxis\": {\"gridcolor\": \"white\", \"linecolor\": \"white\", \"showgrid\": true, \"tickcolor\": \"rgb(51,51,51)\", \"ticks\": \"outside\"}}, \"scene\": {\"xaxis\": {\"backgroundcolor\": \"rgb(237,237,237)\", \"gridcolor\": \"white\", \"gridwidth\": 2, \"linecolor\": \"white\", \"showbackground\": true, \"showgrid\": true, \"tickcolor\": \"rgb(51,51,51)\", \"ticks\": \"outside\", \"zerolinecolor\": \"white\"}, \"yaxis\": {\"backgroundcolor\": \"rgb(237,237,237)\", \"gridcolor\": \"white\", \"gridwidth\": 2, \"linecolor\": \"white\", \"showbackground\": true, \"showgrid\": true, \"tickcolor\": \"rgb(51,51,51)\", \"ticks\": \"outside\", \"zerolinecolor\": \"white\"}, \"zaxis\": {\"backgroundcolor\": \"rgb(237,237,237)\", \"gridcolor\": \"white\", \"gridwidth\": 2, \"linecolor\": \"white\", \"showbackground\": true, \"showgrid\": true, \"tickcolor\": \"rgb(51,51,51)\", \"ticks\": \"outside\", \"zerolinecolor\": \"white\"}}, \"shapedefaults\": {\"fillcolor\": \"black\", \"line\": {\"width\": 0}, \"opacity\": 0.3}, \"ternary\": {\"aaxis\": {\"gridcolor\": \"white\", \"linecolor\": \"white\", \"showgrid\": true, \"tickcolor\": \"rgb(51,51,51)\", \"ticks\": \"outside\"}, \"baxis\": {\"gridcolor\": \"white\", \"linecolor\": \"white\", \"showgrid\": true, \"tickcolor\": \"rgb(51,51,51)\", \"ticks\": \"outside\"}, \"bgcolor\": \"rgb(237,237,237)\", \"caxis\": {\"gridcolor\": \"white\", \"linecolor\": \"white\", \"showgrid\": true, \"tickcolor\": \"rgb(51,51,51)\", \"ticks\": \"outside\"}}, \"xaxis\": {\"automargin\": true, \"gridcolor\": \"white\", \"linecolor\": \"white\", \"showgrid\": true, \"tickcolor\": \"rgb(51,51,51)\", \"ticks\": \"outside\", \"zerolinecolor\": \"white\"}, \"yaxis\": {\"automargin\": true, \"gridcolor\": \"white\", \"linecolor\": \"white\", \"showgrid\": true, \"tickcolor\": \"rgb(51,51,51)\", \"ticks\": \"outside\", \"zerolinecolor\": \"white\"}}}, \"width\": 1200, \"xaxis\": {\"anchor\": \"y\", \"domain\": [0.0, 0.98], \"title\": {\"text\": \"id\"}}, \"yaxis\": {\"anchor\": \"x\", \"domain\": [0.0, 1.0], \"title\": {\"text\": \"pro\"}}},\n",
       "                        {\"responsive\": true}\n",
       "                    ).then(function(){\n",
       "                            \n",
       "var gd = document.getElementById('4c907509-30c5-46d9-a314-7634d0ea6573');\n",
       "var x = new MutationObserver(function (mutations, observer) {{\n",
       "        var display = window.getComputedStyle(gd).display;\n",
       "        if (!display || display === 'none') {{\n",
       "            console.log([gd, 'removed!']);\n",
       "            Plotly.purge(gd);\n",
       "            observer.disconnect();\n",
       "        }}\n",
       "}});\n",
       "\n",
       "// Listen for the removal of the full notebook cells\n",
       "var notebookContainer = gd.closest('#notebook-container');\n",
       "if (notebookContainer) {{\n",
       "    x.observe(notebookContainer, {childList: true});\n",
       "}}\n",
       "\n",
       "// Listen for the clearing of the current output cell\n",
       "var outputEl = gd.closest('.output');\n",
       "if (outputEl) {{\n",
       "    x.observe(outputEl, {childList: true});\n",
       "}}\n",
       "\n",
       "                        })\n",
       "                };\n",
       "                });\n",
       "            </script>\n",
       "        </div>"
      ]
     },
     "metadata": {},
     "output_type": "display_data"
    },
    {
     "name": "stdout",
     "output_type": "stream",
     "text": [
      "总体准确率为0.896551724137931\n",
      "混淆矩阵为[181, 26, 105, 7]\n"
     ]
    }
   ],
   "source": [
    "all_pre = predict_plot('all', thres=0.5)"
   ]
  },
  {
   "cell_type": "code",
   "execution_count": 29,
   "metadata": {
    "ExecuteTime": {
     "end_time": "2019-12-27T09:04:23.606207Z",
     "start_time": "2019-12-27T09:04:22.992816Z"
    }
   },
   "outputs": [
    {
     "data": {
      "application/vnd.plotly.v1+json": {
       "config": {
        "plotlyServerURL": "https://plot.ly"
       },
       "data": [
        {
         "hoverlabel": {
          "namelength": 0
         },
         "hovertemplate": "class=1<br>id=%{x}<br>pro=%{y}",
         "legendgroup": "class=1",
         "marker": {
          "color": "#EE0000",
          "symbol": "circle"
         },
         "mode": "markers",
         "name": "class=1",
         "showlegend": true,
         "type": "scatter",
         "x": [
          "B071.expo",
          "B105.expo",
          "B106.expo",
          "B107.expo",
          "B108.expo",
          "B109.expo",
          "B110.expo",
          "B111.expo",
          "B112.expo",
          "B113.expo",
          "B114.expo",
          "B115.expo",
          "B116.expo",
          "B119.expo",
          "B120.expo",
          "B122.expo",
          "B123.expo",
          "B125.expo",
          "B127.expo",
          "B129.expo",
          "B130.expo",
          "B131.expo",
          "B132.expo",
          "B133.expo",
          "B134.expo",
          "B135.expo",
          "B136.expo",
          "B137.expo",
          "B138.expo",
          "B139.expo",
          "B104.expo",
          "B140.expo",
          "B103.expo",
          "B101.expo",
          "B072.expo",
          "B073.expo",
          "B074.expo",
          "B075.expo",
          "B076.expo",
          "B077.expo",
          "B078.expo",
          "B079.expo",
          "B080.expo",
          "B081.expo",
          "B082.expo",
          "B083.expo",
          "B084.expo",
          "B085.expo",
          "B086.expo",
          "B087.expo",
          "B088.expo",
          "B089.expo",
          "B090.expo",
          "B091.expo",
          "B092.expo",
          "B093.expo",
          "B094.expo",
          "B095.expo",
          "B096.expo",
          "B097.expo",
          "B098.expo",
          "B099.expo",
          "B100.expo",
          "B102.expo",
          "B141.expo"
         ],
         "xaxis": "x",
         "y": [
          0.9130569878324837,
          0.8681888944103233,
          0.9329544923759934,
          0.9864481598906619,
          0.895233142049037,
          0.9627645783418578,
          0.42026469374697345,
          0.896151029330943,
          0.8590034341401601,
          0.6442171508518636,
          0.40204476390801197,
          0.6456712426812246,
          0.38526341172240897,
          0.8317699325121726,
          0.5529277008748352,
          0.44553613238277684,
          0.8100086115916368,
          0.6439745091812229,
          0.41562394736962127,
          0.9953356976133804,
          0.5786360796564396,
          0.9809273377559946,
          0.7941513069980641,
          0.6707442553188298,
          0.8718365536395718,
          0.8268062100398861,
          0.7097990417974648,
          0.6236721741137403,
          0.9773750534518516,
          0.6223146211606767,
          0.9942073838305224,
          0.5246444586416406,
          0.9999996433327332,
          0.7379009410538793,
          0.9802780234960029,
          0.8641525631003003,
          0.9580304196443474,
          0.9195575401655391,
          0.6303794308266222,
          0.995624548873354,
          0.9858482992576946,
          0.1745200860843782,
          0.9008927477392712,
          0.08788263133764401,
          0.4492105474439915,
          0.98297404333433,
          0.9807819282418531,
          0.4423381495285538,
          0.7901577525174099,
          0.8527374591611899,
          0.7423660934987985,
          0.8398763233760377,
          0.6908413110865138,
          0.8757635776134994,
          0.9899650668513049,
          0.9423554838441522,
          0.9035715632065704,
          0.0014156001976596462,
          0.983090712742496,
          0.36375164610047045,
          0.9837145370409269,
          0.9821054334033502,
          0.996058937702059,
          0.5915721177016243,
          0.5196711484137333
         ],
         "yaxis": "y"
        },
        {
         "line": {
          "color": "grey",
          "dash": "dash"
         },
         "mode": "lines",
         "showlegend": false,
         "type": "scatter",
         "x": [
          "B071.expo",
          "B141.expo"
         ],
         "y": [
          0.5,
          0.5
         ]
        }
       ],
       "layout": {
        "height": 800,
        "legend": {
         "tracegroupgap": 0
        },
        "margin": {
         "t": 60
        },
        "template": {
         "data": {
          "bar": [
           {
            "error_x": {
             "color": "rgb(51,51,51)"
            },
            "error_y": {
             "color": "rgb(51,51,51)"
            },
            "marker": {
             "line": {
              "color": "rgb(237,237,237)",
              "width": 0.5
             }
            },
            "type": "bar"
           }
          ],
          "barpolar": [
           {
            "marker": {
             "line": {
              "color": "rgb(237,237,237)",
              "width": 0.5
             }
            },
            "type": "barpolar"
           }
          ],
          "carpet": [
           {
            "aaxis": {
             "endlinecolor": "rgb(51,51,51)",
             "gridcolor": "white",
             "linecolor": "white",
             "minorgridcolor": "white",
             "startlinecolor": "rgb(51,51,51)"
            },
            "baxis": {
             "endlinecolor": "rgb(51,51,51)",
             "gridcolor": "white",
             "linecolor": "white",
             "minorgridcolor": "white",
             "startlinecolor": "rgb(51,51,51)"
            },
            "type": "carpet"
           }
          ],
          "choropleth": [
           {
            "colorbar": {
             "outlinewidth": 0,
             "tickcolor": "rgb(237,237,237)",
             "ticklen": 6,
             "ticks": "inside"
            },
            "type": "choropleth"
           }
          ],
          "contour": [
           {
            "colorbar": {
             "outlinewidth": 0,
             "tickcolor": "rgb(237,237,237)",
             "ticklen": 6,
             "ticks": "inside"
            },
            "colorscale": [
             [
              0,
              "rgb(20,44,66)"
             ],
             [
              1,
              "rgb(90,179,244)"
             ]
            ],
            "type": "contour"
           }
          ],
          "contourcarpet": [
           {
            "colorbar": {
             "outlinewidth": 0,
             "tickcolor": "rgb(237,237,237)",
             "ticklen": 6,
             "ticks": "inside"
            },
            "type": "contourcarpet"
           }
          ],
          "heatmap": [
           {
            "colorbar": {
             "outlinewidth": 0,
             "tickcolor": "rgb(237,237,237)",
             "ticklen": 6,
             "ticks": "inside"
            },
            "colorscale": [
             [
              0,
              "rgb(20,44,66)"
             ],
             [
              1,
              "rgb(90,179,244)"
             ]
            ],
            "type": "heatmap"
           }
          ],
          "heatmapgl": [
           {
            "colorbar": {
             "outlinewidth": 0,
             "tickcolor": "rgb(237,237,237)",
             "ticklen": 6,
             "ticks": "inside"
            },
            "colorscale": [
             [
              0,
              "rgb(20,44,66)"
             ],
             [
              1,
              "rgb(90,179,244)"
             ]
            ],
            "type": "heatmapgl"
           }
          ],
          "histogram": [
           {
            "marker": {
             "colorbar": {
              "outlinewidth": 0,
              "tickcolor": "rgb(237,237,237)",
              "ticklen": 6,
              "ticks": "inside"
             }
            },
            "type": "histogram"
           }
          ],
          "histogram2d": [
           {
            "colorbar": {
             "outlinewidth": 0,
             "tickcolor": "rgb(237,237,237)",
             "ticklen": 6,
             "ticks": "inside"
            },
            "colorscale": [
             [
              0,
              "rgb(20,44,66)"
             ],
             [
              1,
              "rgb(90,179,244)"
             ]
            ],
            "type": "histogram2d"
           }
          ],
          "histogram2dcontour": [
           {
            "colorbar": {
             "outlinewidth": 0,
             "tickcolor": "rgb(237,237,237)",
             "ticklen": 6,
             "ticks": "inside"
            },
            "colorscale": [
             [
              0,
              "rgb(20,44,66)"
             ],
             [
              1,
              "rgb(90,179,244)"
             ]
            ],
            "type": "histogram2dcontour"
           }
          ],
          "mesh3d": [
           {
            "colorbar": {
             "outlinewidth": 0,
             "tickcolor": "rgb(237,237,237)",
             "ticklen": 6,
             "ticks": "inside"
            },
            "type": "mesh3d"
           }
          ],
          "parcoords": [
           {
            "line": {
             "colorbar": {
              "outlinewidth": 0,
              "tickcolor": "rgb(237,237,237)",
              "ticklen": 6,
              "ticks": "inside"
             }
            },
            "type": "parcoords"
           }
          ],
          "scatter": [
           {
            "marker": {
             "colorbar": {
              "outlinewidth": 0,
              "tickcolor": "rgb(237,237,237)",
              "ticklen": 6,
              "ticks": "inside"
             }
            },
            "type": "scatter"
           }
          ],
          "scatter3d": [
           {
            "line": {
             "colorbar": {
              "outlinewidth": 0,
              "tickcolor": "rgb(237,237,237)",
              "ticklen": 6,
              "ticks": "inside"
             }
            },
            "marker": {
             "colorbar": {
              "outlinewidth": 0,
              "tickcolor": "rgb(237,237,237)",
              "ticklen": 6,
              "ticks": "inside"
             }
            },
            "type": "scatter3d"
           }
          ],
          "scattercarpet": [
           {
            "marker": {
             "colorbar": {
              "outlinewidth": 0,
              "tickcolor": "rgb(237,237,237)",
              "ticklen": 6,
              "ticks": "inside"
             }
            },
            "type": "scattercarpet"
           }
          ],
          "scattergeo": [
           {
            "marker": {
             "colorbar": {
              "outlinewidth": 0,
              "tickcolor": "rgb(237,237,237)",
              "ticklen": 6,
              "ticks": "inside"
             }
            },
            "type": "scattergeo"
           }
          ],
          "scattergl": [
           {
            "marker": {
             "colorbar": {
              "outlinewidth": 0,
              "tickcolor": "rgb(237,237,237)",
              "ticklen": 6,
              "ticks": "inside"
             }
            },
            "type": "scattergl"
           }
          ],
          "scattermapbox": [
           {
            "marker": {
             "colorbar": {
              "outlinewidth": 0,
              "tickcolor": "rgb(237,237,237)",
              "ticklen": 6,
              "ticks": "inside"
             }
            },
            "type": "scattermapbox"
           }
          ],
          "scatterpolar": [
           {
            "marker": {
             "colorbar": {
              "outlinewidth": 0,
              "tickcolor": "rgb(237,237,237)",
              "ticklen": 6,
              "ticks": "inside"
             }
            },
            "type": "scatterpolar"
           }
          ],
          "scatterpolargl": [
           {
            "marker": {
             "colorbar": {
              "outlinewidth": 0,
              "tickcolor": "rgb(237,237,237)",
              "ticklen": 6,
              "ticks": "inside"
             }
            },
            "type": "scatterpolargl"
           }
          ],
          "scatterternary": [
           {
            "marker": {
             "colorbar": {
              "outlinewidth": 0,
              "tickcolor": "rgb(237,237,237)",
              "ticklen": 6,
              "ticks": "inside"
             }
            },
            "type": "scatterternary"
           }
          ],
          "surface": [
           {
            "colorbar": {
             "outlinewidth": 0,
             "tickcolor": "rgb(237,237,237)",
             "ticklen": 6,
             "ticks": "inside"
            },
            "colorscale": [
             [
              0,
              "rgb(20,44,66)"
             ],
             [
              1,
              "rgb(90,179,244)"
             ]
            ],
            "type": "surface"
           }
          ],
          "table": [
           {
            "cells": {
             "fill": {
              "color": "rgb(237,237,237)"
             },
             "line": {
              "color": "white"
             }
            },
            "header": {
             "fill": {
              "color": "rgb(217,217,217)"
             },
             "line": {
              "color": "white"
             }
            },
            "type": "table"
           }
          ]
         },
         "layout": {
          "annotationdefaults": {
           "arrowhead": 0,
           "arrowwidth": 1
          },
          "colorscale": {
           "sequential": [
            [
             0,
             "rgb(20,44,66)"
            ],
            [
             1,
             "rgb(90,179,244)"
            ]
           ],
           "sequentialminus": [
            [
             0,
             "rgb(20,44,66)"
            ],
            [
             1,
             "rgb(90,179,244)"
            ]
           ]
          },
          "colorway": [
           "#F8766D",
           "#A3A500",
           "#00BF7D",
           "#00B0F6",
           "#E76BF3"
          ],
          "font": {
           "color": "rgb(51,51,51)"
          },
          "geo": {
           "bgcolor": "white",
           "lakecolor": "white",
           "landcolor": "rgb(237,237,237)",
           "showlakes": true,
           "showland": true,
           "subunitcolor": "white"
          },
          "hoverlabel": {
           "align": "left"
          },
          "hovermode": "closest",
          "paper_bgcolor": "white",
          "plot_bgcolor": "rgb(237,237,237)",
          "polar": {
           "angularaxis": {
            "gridcolor": "white",
            "linecolor": "white",
            "showgrid": true,
            "tickcolor": "rgb(51,51,51)",
            "ticks": "outside"
           },
           "bgcolor": "rgb(237,237,237)",
           "radialaxis": {
            "gridcolor": "white",
            "linecolor": "white",
            "showgrid": true,
            "tickcolor": "rgb(51,51,51)",
            "ticks": "outside"
           }
          },
          "scene": {
           "xaxis": {
            "backgroundcolor": "rgb(237,237,237)",
            "gridcolor": "white",
            "gridwidth": 2,
            "linecolor": "white",
            "showbackground": true,
            "showgrid": true,
            "tickcolor": "rgb(51,51,51)",
            "ticks": "outside",
            "zerolinecolor": "white"
           },
           "yaxis": {
            "backgroundcolor": "rgb(237,237,237)",
            "gridcolor": "white",
            "gridwidth": 2,
            "linecolor": "white",
            "showbackground": true,
            "showgrid": true,
            "tickcolor": "rgb(51,51,51)",
            "ticks": "outside",
            "zerolinecolor": "white"
           },
           "zaxis": {
            "backgroundcolor": "rgb(237,237,237)",
            "gridcolor": "white",
            "gridwidth": 2,
            "linecolor": "white",
            "showbackground": true,
            "showgrid": true,
            "tickcolor": "rgb(51,51,51)",
            "ticks": "outside",
            "zerolinecolor": "white"
           }
          },
          "shapedefaults": {
           "fillcolor": "black",
           "line": {
            "width": 0
           },
           "opacity": 0.3
          },
          "ternary": {
           "aaxis": {
            "gridcolor": "white",
            "linecolor": "white",
            "showgrid": true,
            "tickcolor": "rgb(51,51,51)",
            "ticks": "outside"
           },
           "baxis": {
            "gridcolor": "white",
            "linecolor": "white",
            "showgrid": true,
            "tickcolor": "rgb(51,51,51)",
            "ticks": "outside"
           },
           "bgcolor": "rgb(237,237,237)",
           "caxis": {
            "gridcolor": "white",
            "linecolor": "white",
            "showgrid": true,
            "tickcolor": "rgb(51,51,51)",
            "ticks": "outside"
           }
          },
          "xaxis": {
           "automargin": true,
           "gridcolor": "white",
           "linecolor": "white",
           "showgrid": true,
           "tickcolor": "rgb(51,51,51)",
           "ticks": "outside",
           "zerolinecolor": "white"
          },
          "yaxis": {
           "automargin": true,
           "gridcolor": "white",
           "linecolor": "white",
           "showgrid": true,
           "tickcolor": "rgb(51,51,51)",
           "ticks": "outside",
           "zerolinecolor": "white"
          }
         }
        },
        "width": 1200,
        "xaxis": {
         "anchor": "y",
         "domain": [
          0,
          0.98
         ],
         "title": {
          "text": "id"
         }
        },
        "yaxis": {
         "anchor": "x",
         "domain": [
          0,
          1
         ],
         "title": {
          "text": "pro"
         }
        }
       }
      },
      "text/html": [
       "<div>\n",
       "        \n",
       "        \n",
       "            <div id=\"3ebc13d6-d6be-4193-b52c-da98f1a45453\" class=\"plotly-graph-div\" style=\"height:800px; width:1200px;\"></div>\n",
       "            <script type=\"text/javascript\">\n",
       "                require([\"plotly\"], function(Plotly) {\n",
       "                    window.PLOTLYENV=window.PLOTLYENV || {};\n",
       "                    \n",
       "                if (document.getElementById(\"3ebc13d6-d6be-4193-b52c-da98f1a45453\")) {\n",
       "                    Plotly.newPlot(\n",
       "                        '3ebc13d6-d6be-4193-b52c-da98f1a45453',\n",
       "                        [{\"hoverlabel\": {\"namelength\": 0}, \"hovertemplate\": \"class=1<br>id=%{x}<br>pro=%{y}\", \"legendgroup\": \"class=1\", \"marker\": {\"color\": \"#EE0000\", \"symbol\": \"circle\"}, \"mode\": \"markers\", \"name\": \"class=1\", \"showlegend\": true, \"type\": \"scatter\", \"x\": [\"B071.expo\", \"B105.expo\", \"B106.expo\", \"B107.expo\", \"B108.expo\", \"B109.expo\", \"B110.expo\", \"B111.expo\", \"B112.expo\", \"B113.expo\", \"B114.expo\", \"B115.expo\", \"B116.expo\", \"B119.expo\", \"B120.expo\", \"B122.expo\", \"B123.expo\", \"B125.expo\", \"B127.expo\", \"B129.expo\", \"B130.expo\", \"B131.expo\", \"B132.expo\", \"B133.expo\", \"B134.expo\", \"B135.expo\", \"B136.expo\", \"B137.expo\", \"B138.expo\", \"B139.expo\", \"B104.expo\", \"B140.expo\", \"B103.expo\", \"B101.expo\", \"B072.expo\", \"B073.expo\", \"B074.expo\", \"B075.expo\", \"B076.expo\", \"B077.expo\", \"B078.expo\", \"B079.expo\", \"B080.expo\", \"B081.expo\", \"B082.expo\", \"B083.expo\", \"B084.expo\", \"B085.expo\", \"B086.expo\", \"B087.expo\", \"B088.expo\", \"B089.expo\", \"B090.expo\", \"B091.expo\", \"B092.expo\", \"B093.expo\", \"B094.expo\", \"B095.expo\", \"B096.expo\", \"B097.expo\", \"B098.expo\", \"B099.expo\", \"B100.expo\", \"B102.expo\", \"B141.expo\"], \"xaxis\": \"x\", \"y\": [0.9130569878324837, 0.8681888944103233, 0.9329544923759934, 0.9864481598906619, 0.895233142049037, 0.9627645783418578, 0.42026469374697345, 0.896151029330943, 0.8590034341401601, 0.6442171508518636, 0.40204476390801197, 0.6456712426812246, 0.38526341172240897, 0.8317699325121726, 0.5529277008748352, 0.44553613238277684, 0.8100086115916368, 0.6439745091812229, 0.41562394736962127, 0.9953356976133804, 0.5786360796564396, 0.9809273377559946, 0.7941513069980641, 0.6707442553188298, 0.8718365536395718, 0.8268062100398861, 0.7097990417974648, 0.6236721741137403, 0.9773750534518516, 0.6223146211606767, 0.9942073838305224, 0.5246444586416406, 0.9999996433327332, 0.7379009410538793, 0.9802780234960029, 0.8641525631003003, 0.9580304196443474, 0.9195575401655391, 0.6303794308266222, 0.995624548873354, 0.9858482992576946, 0.1745200860843782, 0.9008927477392712, 0.08788263133764401, 0.4492105474439915, 0.98297404333433, 0.9807819282418531, 0.4423381495285538, 0.7901577525174099, 0.8527374591611899, 0.7423660934987985, 0.8398763233760377, 0.6908413110865138, 0.8757635776134994, 0.9899650668513049, 0.9423554838441522, 0.9035715632065704, 0.0014156001976596462, 0.983090712742496, 0.36375164610047045, 0.9837145370409269, 0.9821054334033502, 0.996058937702059, 0.5915721177016243, 0.5196711484137333], \"yaxis\": \"y\"}, {\"line\": {\"color\": \"grey\", \"dash\": \"dash\"}, \"mode\": \"lines\", \"showlegend\": false, \"type\": \"scatter\", \"x\": [\"B071.expo\", \"B141.expo\"], \"y\": [0.5, 0.5]}],\n",
       "                        {\"height\": 800, \"legend\": {\"tracegroupgap\": 0}, \"margin\": {\"t\": 60}, \"template\": {\"data\": {\"bar\": [{\"error_x\": {\"color\": \"rgb(51,51,51)\"}, \"error_y\": {\"color\": \"rgb(51,51,51)\"}, \"marker\": {\"line\": {\"color\": \"rgb(237,237,237)\", \"width\": 0.5}}, \"type\": \"bar\"}], \"barpolar\": [{\"marker\": {\"line\": {\"color\": \"rgb(237,237,237)\", \"width\": 0.5}}, \"type\": \"barpolar\"}], \"carpet\": [{\"aaxis\": {\"endlinecolor\": \"rgb(51,51,51)\", \"gridcolor\": \"white\", \"linecolor\": \"white\", \"minorgridcolor\": \"white\", \"startlinecolor\": \"rgb(51,51,51)\"}, \"baxis\": {\"endlinecolor\": \"rgb(51,51,51)\", \"gridcolor\": \"white\", \"linecolor\": \"white\", \"minorgridcolor\": \"white\", \"startlinecolor\": \"rgb(51,51,51)\"}, \"type\": \"carpet\"}], \"choropleth\": [{\"colorbar\": {\"outlinewidth\": 0, \"tickcolor\": \"rgb(237,237,237)\", \"ticklen\": 6, \"ticks\": \"inside\"}, \"type\": \"choropleth\"}], \"contour\": [{\"colorbar\": {\"outlinewidth\": 0, \"tickcolor\": \"rgb(237,237,237)\", \"ticklen\": 6, \"ticks\": \"inside\"}, \"colorscale\": [[0, \"rgb(20,44,66)\"], [1, \"rgb(90,179,244)\"]], \"type\": \"contour\"}], \"contourcarpet\": [{\"colorbar\": {\"outlinewidth\": 0, \"tickcolor\": \"rgb(237,237,237)\", \"ticklen\": 6, \"ticks\": \"inside\"}, \"type\": \"contourcarpet\"}], \"heatmap\": [{\"colorbar\": {\"outlinewidth\": 0, \"tickcolor\": \"rgb(237,237,237)\", \"ticklen\": 6, \"ticks\": \"inside\"}, \"colorscale\": [[0, \"rgb(20,44,66)\"], [1, \"rgb(90,179,244)\"]], \"type\": \"heatmap\"}], \"heatmapgl\": [{\"colorbar\": {\"outlinewidth\": 0, \"tickcolor\": \"rgb(237,237,237)\", \"ticklen\": 6, \"ticks\": \"inside\"}, \"colorscale\": [[0, \"rgb(20,44,66)\"], [1, \"rgb(90,179,244)\"]], \"type\": \"heatmapgl\"}], \"histogram\": [{\"marker\": {\"colorbar\": {\"outlinewidth\": 0, \"tickcolor\": \"rgb(237,237,237)\", \"ticklen\": 6, \"ticks\": \"inside\"}}, \"type\": \"histogram\"}], \"histogram2d\": [{\"colorbar\": {\"outlinewidth\": 0, \"tickcolor\": \"rgb(237,237,237)\", \"ticklen\": 6, \"ticks\": \"inside\"}, \"colorscale\": [[0, \"rgb(20,44,66)\"], [1, \"rgb(90,179,244)\"]], \"type\": \"histogram2d\"}], \"histogram2dcontour\": [{\"colorbar\": {\"outlinewidth\": 0, \"tickcolor\": \"rgb(237,237,237)\", \"ticklen\": 6, \"ticks\": \"inside\"}, \"colorscale\": [[0, \"rgb(20,44,66)\"], [1, \"rgb(90,179,244)\"]], \"type\": \"histogram2dcontour\"}], \"mesh3d\": [{\"colorbar\": {\"outlinewidth\": 0, \"tickcolor\": \"rgb(237,237,237)\", \"ticklen\": 6, \"ticks\": \"inside\"}, \"type\": \"mesh3d\"}], \"parcoords\": [{\"line\": {\"colorbar\": {\"outlinewidth\": 0, \"tickcolor\": \"rgb(237,237,237)\", \"ticklen\": 6, \"ticks\": \"inside\"}}, \"type\": \"parcoords\"}], \"scatter\": [{\"marker\": {\"colorbar\": {\"outlinewidth\": 0, \"tickcolor\": \"rgb(237,237,237)\", \"ticklen\": 6, \"ticks\": \"inside\"}}, \"type\": \"scatter\"}], \"scatter3d\": [{\"line\": {\"colorbar\": {\"outlinewidth\": 0, \"tickcolor\": \"rgb(237,237,237)\", \"ticklen\": 6, \"ticks\": \"inside\"}}, \"marker\": {\"colorbar\": {\"outlinewidth\": 0, \"tickcolor\": \"rgb(237,237,237)\", \"ticklen\": 6, \"ticks\": \"inside\"}}, \"type\": \"scatter3d\"}], \"scattercarpet\": [{\"marker\": {\"colorbar\": {\"outlinewidth\": 0, \"tickcolor\": \"rgb(237,237,237)\", \"ticklen\": 6, \"ticks\": \"inside\"}}, \"type\": \"scattercarpet\"}], \"scattergeo\": [{\"marker\": {\"colorbar\": {\"outlinewidth\": 0, \"tickcolor\": \"rgb(237,237,237)\", \"ticklen\": 6, \"ticks\": \"inside\"}}, \"type\": \"scattergeo\"}], \"scattergl\": [{\"marker\": {\"colorbar\": {\"outlinewidth\": 0, \"tickcolor\": \"rgb(237,237,237)\", \"ticklen\": 6, \"ticks\": \"inside\"}}, \"type\": \"scattergl\"}], \"scattermapbox\": [{\"marker\": {\"colorbar\": {\"outlinewidth\": 0, \"tickcolor\": \"rgb(237,237,237)\", \"ticklen\": 6, \"ticks\": \"inside\"}}, \"type\": \"scattermapbox\"}], \"scatterpolar\": [{\"marker\": {\"colorbar\": {\"outlinewidth\": 0, \"tickcolor\": \"rgb(237,237,237)\", \"ticklen\": 6, \"ticks\": \"inside\"}}, \"type\": \"scatterpolar\"}], \"scatterpolargl\": [{\"marker\": {\"colorbar\": {\"outlinewidth\": 0, \"tickcolor\": \"rgb(237,237,237)\", \"ticklen\": 6, \"ticks\": \"inside\"}}, \"type\": \"scatterpolargl\"}], \"scatterternary\": [{\"marker\": {\"colorbar\": {\"outlinewidth\": 0, \"tickcolor\": \"rgb(237,237,237)\", \"ticklen\": 6, \"ticks\": \"inside\"}}, \"type\": \"scatterternary\"}], \"surface\": [{\"colorbar\": {\"outlinewidth\": 0, \"tickcolor\": \"rgb(237,237,237)\", \"ticklen\": 6, \"ticks\": \"inside\"}, \"colorscale\": [[0, \"rgb(20,44,66)\"], [1, \"rgb(90,179,244)\"]], \"type\": \"surface\"}], \"table\": [{\"cells\": {\"fill\": {\"color\": \"rgb(237,237,237)\"}, \"line\": {\"color\": \"white\"}}, \"header\": {\"fill\": {\"color\": \"rgb(217,217,217)\"}, \"line\": {\"color\": \"white\"}}, \"type\": \"table\"}]}, \"layout\": {\"annotationdefaults\": {\"arrowhead\": 0, \"arrowwidth\": 1}, \"colorscale\": {\"sequential\": [[0, \"rgb(20,44,66)\"], [1, \"rgb(90,179,244)\"]], \"sequentialminus\": [[0, \"rgb(20,44,66)\"], [1, \"rgb(90,179,244)\"]]}, \"colorway\": [\"#F8766D\", \"#A3A500\", \"#00BF7D\", \"#00B0F6\", \"#E76BF3\"], \"font\": {\"color\": \"rgb(51,51,51)\"}, \"geo\": {\"bgcolor\": \"white\", \"lakecolor\": \"white\", \"landcolor\": \"rgb(237,237,237)\", \"showlakes\": true, \"showland\": true, \"subunitcolor\": \"white\"}, \"hoverlabel\": {\"align\": \"left\"}, \"hovermode\": \"closest\", \"paper_bgcolor\": \"white\", \"plot_bgcolor\": \"rgb(237,237,237)\", \"polar\": {\"angularaxis\": {\"gridcolor\": \"white\", \"linecolor\": \"white\", \"showgrid\": true, \"tickcolor\": \"rgb(51,51,51)\", \"ticks\": \"outside\"}, \"bgcolor\": \"rgb(237,237,237)\", \"radialaxis\": {\"gridcolor\": \"white\", \"linecolor\": \"white\", \"showgrid\": true, \"tickcolor\": \"rgb(51,51,51)\", \"ticks\": \"outside\"}}, \"scene\": {\"xaxis\": {\"backgroundcolor\": \"rgb(237,237,237)\", \"gridcolor\": \"white\", \"gridwidth\": 2, \"linecolor\": \"white\", \"showbackground\": true, \"showgrid\": true, \"tickcolor\": \"rgb(51,51,51)\", \"ticks\": \"outside\", \"zerolinecolor\": \"white\"}, \"yaxis\": {\"backgroundcolor\": \"rgb(237,237,237)\", \"gridcolor\": \"white\", \"gridwidth\": 2, \"linecolor\": \"white\", \"showbackground\": true, \"showgrid\": true, \"tickcolor\": \"rgb(51,51,51)\", \"ticks\": \"outside\", \"zerolinecolor\": \"white\"}, \"zaxis\": {\"backgroundcolor\": \"rgb(237,237,237)\", \"gridcolor\": \"white\", \"gridwidth\": 2, \"linecolor\": \"white\", \"showbackground\": true, \"showgrid\": true, \"tickcolor\": \"rgb(51,51,51)\", \"ticks\": \"outside\", \"zerolinecolor\": \"white\"}}, \"shapedefaults\": {\"fillcolor\": \"black\", \"line\": {\"width\": 0}, \"opacity\": 0.3}, \"ternary\": {\"aaxis\": {\"gridcolor\": \"white\", \"linecolor\": \"white\", \"showgrid\": true, \"tickcolor\": \"rgb(51,51,51)\", \"ticks\": \"outside\"}, \"baxis\": {\"gridcolor\": \"white\", \"linecolor\": \"white\", \"showgrid\": true, \"tickcolor\": \"rgb(51,51,51)\", \"ticks\": \"outside\"}, \"bgcolor\": \"rgb(237,237,237)\", \"caxis\": {\"gridcolor\": \"white\", \"linecolor\": \"white\", \"showgrid\": true, \"tickcolor\": \"rgb(51,51,51)\", \"ticks\": \"outside\"}}, \"xaxis\": {\"automargin\": true, \"gridcolor\": \"white\", \"linecolor\": \"white\", \"showgrid\": true, \"tickcolor\": \"rgb(51,51,51)\", \"ticks\": \"outside\", \"zerolinecolor\": \"white\"}, \"yaxis\": {\"automargin\": true, \"gridcolor\": \"white\", \"linecolor\": \"white\", \"showgrid\": true, \"tickcolor\": \"rgb(51,51,51)\", \"ticks\": \"outside\", \"zerolinecolor\": \"white\"}}}, \"width\": 1200, \"xaxis\": {\"anchor\": \"y\", \"domain\": [0.0, 0.98], \"title\": {\"text\": \"id\"}}, \"yaxis\": {\"anchor\": \"x\", \"domain\": [0.0, 1.0], \"title\": {\"text\": \"pro\"}}},\n",
       "                        {\"responsive\": true}\n",
       "                    ).then(function(){\n",
       "                            \n",
       "var gd = document.getElementById('3ebc13d6-d6be-4193-b52c-da98f1a45453');\n",
       "var x = new MutationObserver(function (mutations, observer) {{\n",
       "        var display = window.getComputedStyle(gd).display;\n",
       "        if (!display || display === 'none') {{\n",
       "            console.log([gd, 'removed!']);\n",
       "            Plotly.purge(gd);\n",
       "            observer.disconnect();\n",
       "        }}\n",
       "}});\n",
       "\n",
       "// Listen for the removal of the full notebook cells\n",
       "var notebookContainer = gd.closest('#notebook-container');\n",
       "if (notebookContainer) {{\n",
       "    x.observe(notebookContainer, {childList: true});\n",
       "}}\n",
       "\n",
       "// Listen for the clearing of the current output cell\n",
       "var outputEl = gd.closest('.output');\n",
       "if (outputEl) {{\n",
       "    x.observe(outputEl, {childList: true});\n",
       "}}\n",
       "\n",
       "                        })\n",
       "                };\n",
       "                });\n",
       "            </script>\n",
       "        </div>"
      ]
     },
     "metadata": {},
     "output_type": "display_data"
    },
    {
     "name": "stdout",
     "output_type": "stream",
     "text": [
      "总体准确率为0.8307692307692308\n",
      "混淆矩阵为[0, 0, 54, 11]\n"
     ]
    }
   ],
   "source": [
    "lung_pre = predict_plot('test_lung', thres=0.5)"
   ]
  },
  {
   "cell_type": "code",
   "execution_count": 30,
   "metadata": {
    "ExecuteTime": {
     "end_time": "2019-12-27T09:04:23.986183Z",
     "start_time": "2019-12-27T09:04:23.607173Z"
    }
   },
   "outputs": [
    {
     "data": {
      "application/vnd.plotly.v1+json": {
       "config": {
        "plotlyServerURL": "https://plot.ly"
       },
       "data": [
        {
         "hoverlabel": {
          "namelength": 0
         },
         "hovertemplate": "class=0<br>id=%{x}<br>pro=%{y}",
         "legendgroup": "class=0",
         "marker": {
          "color": "green",
          "symbol": "circle"
         },
         "mode": "markers",
         "name": "class=0",
         "showlegend": true,
         "type": "scatter",
         "x": [
          "000012_01",
          "000138_01",
          "000139_01",
          "000141_01",
          "000142_01",
          "000144_01",
          "000146_01",
          "000147_01",
          "000148_01",
          "000150_01",
          "000151_01",
          "000152_01",
          "000153_01",
          "000154_01",
          "000155_01",
          "000157_01",
          "000136_01",
          "000158_01",
          "000134_01",
          "000132_01",
          "000115_01",
          "000116_01",
          "000117_01",
          "000118_01",
          "000121_01",
          "000122_01",
          "000123_01",
          "000124_01",
          "000125_01",
          "000126_01",
          "000127_01",
          "000128_01",
          "000129_01",
          "000130_01",
          "000131_01",
          "000133_01",
          "000159_01",
          "000160_01",
          "000161_01",
          "000190_01",
          "000191_01",
          "000192_01",
          "000193_01",
          "000194_01",
          "000195_01",
          "000196_01",
          "000197_01",
          "000198_01",
          "000199_01",
          "000200_02",
          "000201_02",
          "000202_01",
          "000203_02",
          "000205_01",
          "000189_01",
          "000188_01",
          "000187_01",
          "000186_01",
          "000163_01",
          "000164_01",
          "000165_01",
          "000166_01",
          "000167_01",
          "000169_01",
          "000170_01",
          "000114_01",
          "000171_01",
          "000176_01",
          "000177_01",
          "000178_01",
          "000181_01",
          "000182_02",
          "000183_01",
          "000184_01",
          "000173_01",
          "000214_01",
          "000112_01",
          "000110_01",
          "000041_01",
          "000043_01",
          "000045_01",
          "000046_01",
          "000047_01",
          "000048_01",
          "000049_01",
          "000050_01",
          "000051_01",
          "000052_01",
          "000053_01",
          "000054_01",
          "000055_01",
          "000056_01",
          "000057_01",
          "000040_01",
          "000058_01",
          "000039_01",
          "000036_01",
          "000014_01",
          "000015_01",
          "000016_01",
          "000018_01",
          "000021_01",
          "000022_01",
          "000023_01",
          "000025_01",
          "000026_01",
          "000027_01",
          "000028_01",
          "000029_01",
          "000030_01",
          "000032_01",
          "000033_01",
          "000037_01",
          "000062_01",
          "000065_01",
          "000066_01",
          "000091_01",
          "000094_01",
          "000096_01",
          "000097_01",
          "000098_01",
          "000099_01",
          "000100_01",
          "000101_01",
          "000102_01",
          "000103_01",
          "000105_01",
          "000106_01",
          "000107_01",
          "000108_01",
          "000109_01",
          "000090_01",
          "000089_01",
          "000088_01",
          "000086_01",
          "000067_01",
          "000068_01",
          "000069_01",
          "000070_01",
          "000072_01",
          "000073_01",
          "000074_01",
          "000111_01",
          "000075_01",
          "000079_01",
          "000080_01",
          "000081_01",
          "000082_01",
          "000083_01",
          "000084_01",
          "000085_01",
          "000077_01",
          "000215_01"
         ],
         "xaxis": "x",
         "y": [
          0.07123842474422673,
          0.3536979524246076,
          0.024931005673051936,
          0.009520398228228345,
          0.5120916031173242,
          0.002470620914493377,
          0.8582997493751574,
          0.1425928713676641,
          0.036186862796815815,
          0.5323782943390202,
          0.21655902089481552,
          0.7582343557387095,
          0.5448276158828685,
          0.065025942108924,
          0.28373034167192024,
          0.14116578702596752,
          0.8287034284354946,
          0.7518889982416379,
          0.7733276565069745,
          0.8108896699233078,
          0.01214550112253205,
          0.2681107116170656,
          0.0011545684848786838,
          0.0004834402599757949,
          0.0036408233179002322,
          0.2127422876386491,
          0.005564075991285285,
          0.041213752852777945,
          0.0043870447064168466,
          0.03470708792673552,
          0.024891919056669456,
          0.053806307438193667,
          0.1989820611592484,
          0.44556775879590493,
          0.34802175565802274,
          0.6217313282671814,
          0.31882727631630575,
          0.598955117191056,
          0.0714076325177322,
          0.013585361592486795,
          0.004796238499941923,
          0.006047158842687188,
          0.004089766791803238,
          0.009939113774735577,
          0.031211617250810543,
          0.042701610395204335,
          0.23434309501921635,
          0.2224498492038824,
          0.14795308805080473,
          0.019151751050076438,
          0.888422162985177,
          0.06315260048480499,
          0.17232481728900906,
          0.05083588800708915,
          0.0015362756015704728,
          0.015546710105662049,
          0.008980195809123695,
          0.003529178099281067,
          0.0011700197690802155,
          0.0016121416561784576,
          0.06856038694693574,
          0.01555153111170326,
          0.0367014742043719,
          0.4238946192162596,
          0.007695022305489385,
          0.17872030006616565,
          0.009468247295541805,
          0.002717382587116302,
          0.014024122283468058,
          0.003200041121032388,
          0.10997368363591044,
          0.006382747700875389,
          0.07917102522580023,
          9.055763997447698e-05,
          0.020342139473751894,
          0.08787591274124189,
          0.06765034514524404,
          0.6735782682561693,
          0.0051174388806896716,
          0.01225040229991244,
          0.0641174188065879,
          0.18182552417053055,
          0.4844372525554024,
          0.18979095153838885,
          0.9155930319202459,
          0.23630116332286819,
          0.23722287656902818,
          0.06184508335085459,
          0.37304982604010195,
          0.14067942470872352,
          0.9385907416015741,
          0.2387613158308194,
          0.8785824756287046,
          0.033190822567573074,
          0.056962506203892316,
          0.024636872188442287,
          0.5322487529421847,
          0.019574676820510423,
          0.01745240368026012,
          0.01473710256515833,
          0.2734506345303412,
          0.18362621832707465,
          0.022070329815349437,
          0.04065442674039816,
          0.019346803696065357,
          0.10145702623345329,
          0.019387640943944972,
          0.9045416794815262,
          0.6503488852431311,
          0.6817108679071734,
          0.0003186809142809088,
          0.007478119412853681,
          0.18186054178030103,
          0.3585727856774777,
          0.014771394338948342,
          0.14489427516906514,
          0.2504289248392103,
          0.008860899213652792,
          0.0018119445366048315,
          0.00903805203724086,
          0.0014044993895526406,
          0.001212238123836741,
          0.021705925832076322,
          0.003729465552954399,
          0.004542793270188229,
          0.014190088228856933,
          0.013462492151469132,
          0.0073680602017984495,
          0.002195419706201511,
          0.0009687348253850756,
          0.006100317026968635,
          0.02637770452476163,
          0.2875432680233434,
          0.03182040843644843,
          0.17467452260713404,
          0.0172763022979905,
          0.009429391983576209,
          0.1319851641455946,
          0.2640382344681997,
          0.9426883816404827,
          0.4377532989614513,
          0.9124466492048614,
          0.026508555104957105,
          0.8767670090402605,
          0.8792796585716903,
          0.1644657034033373,
          0.22620429637170403,
          0.33747826062007846,
          0.30349121801797674,
          0.34802775617671156,
          0.025522988005491826,
          0.42472301151813274,
          0.25041342544648426
         ],
         "yaxis": "y"
        },
        {
         "line": {
          "color": "grey",
          "dash": "dash"
         },
         "mode": "lines",
         "showlegend": false,
         "type": "scatter",
         "x": [
          "000012_01",
          "000215_01"
         ],
         "y": [
          0.5,
          0.5
         ]
        }
       ],
       "layout": {
        "height": 800,
        "legend": {
         "tracegroupgap": 0
        },
        "margin": {
         "t": 60
        },
        "template": {
         "data": {
          "bar": [
           {
            "error_x": {
             "color": "rgb(51,51,51)"
            },
            "error_y": {
             "color": "rgb(51,51,51)"
            },
            "marker": {
             "line": {
              "color": "rgb(237,237,237)",
              "width": 0.5
             }
            },
            "type": "bar"
           }
          ],
          "barpolar": [
           {
            "marker": {
             "line": {
              "color": "rgb(237,237,237)",
              "width": 0.5
             }
            },
            "type": "barpolar"
           }
          ],
          "carpet": [
           {
            "aaxis": {
             "endlinecolor": "rgb(51,51,51)",
             "gridcolor": "white",
             "linecolor": "white",
             "minorgridcolor": "white",
             "startlinecolor": "rgb(51,51,51)"
            },
            "baxis": {
             "endlinecolor": "rgb(51,51,51)",
             "gridcolor": "white",
             "linecolor": "white",
             "minorgridcolor": "white",
             "startlinecolor": "rgb(51,51,51)"
            },
            "type": "carpet"
           }
          ],
          "choropleth": [
           {
            "colorbar": {
             "outlinewidth": 0,
             "tickcolor": "rgb(237,237,237)",
             "ticklen": 6,
             "ticks": "inside"
            },
            "type": "choropleth"
           }
          ],
          "contour": [
           {
            "colorbar": {
             "outlinewidth": 0,
             "tickcolor": "rgb(237,237,237)",
             "ticklen": 6,
             "ticks": "inside"
            },
            "colorscale": [
             [
              0,
              "rgb(20,44,66)"
             ],
             [
              1,
              "rgb(90,179,244)"
             ]
            ],
            "type": "contour"
           }
          ],
          "contourcarpet": [
           {
            "colorbar": {
             "outlinewidth": 0,
             "tickcolor": "rgb(237,237,237)",
             "ticklen": 6,
             "ticks": "inside"
            },
            "type": "contourcarpet"
           }
          ],
          "heatmap": [
           {
            "colorbar": {
             "outlinewidth": 0,
             "tickcolor": "rgb(237,237,237)",
             "ticklen": 6,
             "ticks": "inside"
            },
            "colorscale": [
             [
              0,
              "rgb(20,44,66)"
             ],
             [
              1,
              "rgb(90,179,244)"
             ]
            ],
            "type": "heatmap"
           }
          ],
          "heatmapgl": [
           {
            "colorbar": {
             "outlinewidth": 0,
             "tickcolor": "rgb(237,237,237)",
             "ticklen": 6,
             "ticks": "inside"
            },
            "colorscale": [
             [
              0,
              "rgb(20,44,66)"
             ],
             [
              1,
              "rgb(90,179,244)"
             ]
            ],
            "type": "heatmapgl"
           }
          ],
          "histogram": [
           {
            "marker": {
             "colorbar": {
              "outlinewidth": 0,
              "tickcolor": "rgb(237,237,237)",
              "ticklen": 6,
              "ticks": "inside"
             }
            },
            "type": "histogram"
           }
          ],
          "histogram2d": [
           {
            "colorbar": {
             "outlinewidth": 0,
             "tickcolor": "rgb(237,237,237)",
             "ticklen": 6,
             "ticks": "inside"
            },
            "colorscale": [
             [
              0,
              "rgb(20,44,66)"
             ],
             [
              1,
              "rgb(90,179,244)"
             ]
            ],
            "type": "histogram2d"
           }
          ],
          "histogram2dcontour": [
           {
            "colorbar": {
             "outlinewidth": 0,
             "tickcolor": "rgb(237,237,237)",
             "ticklen": 6,
             "ticks": "inside"
            },
            "colorscale": [
             [
              0,
              "rgb(20,44,66)"
             ],
             [
              1,
              "rgb(90,179,244)"
             ]
            ],
            "type": "histogram2dcontour"
           }
          ],
          "mesh3d": [
           {
            "colorbar": {
             "outlinewidth": 0,
             "tickcolor": "rgb(237,237,237)",
             "ticklen": 6,
             "ticks": "inside"
            },
            "type": "mesh3d"
           }
          ],
          "parcoords": [
           {
            "line": {
             "colorbar": {
              "outlinewidth": 0,
              "tickcolor": "rgb(237,237,237)",
              "ticklen": 6,
              "ticks": "inside"
             }
            },
            "type": "parcoords"
           }
          ],
          "scatter": [
           {
            "marker": {
             "colorbar": {
              "outlinewidth": 0,
              "tickcolor": "rgb(237,237,237)",
              "ticklen": 6,
              "ticks": "inside"
             }
            },
            "type": "scatter"
           }
          ],
          "scatter3d": [
           {
            "line": {
             "colorbar": {
              "outlinewidth": 0,
              "tickcolor": "rgb(237,237,237)",
              "ticklen": 6,
              "ticks": "inside"
             }
            },
            "marker": {
             "colorbar": {
              "outlinewidth": 0,
              "tickcolor": "rgb(237,237,237)",
              "ticklen": 6,
              "ticks": "inside"
             }
            },
            "type": "scatter3d"
           }
          ],
          "scattercarpet": [
           {
            "marker": {
             "colorbar": {
              "outlinewidth": 0,
              "tickcolor": "rgb(237,237,237)",
              "ticklen": 6,
              "ticks": "inside"
             }
            },
            "type": "scattercarpet"
           }
          ],
          "scattergeo": [
           {
            "marker": {
             "colorbar": {
              "outlinewidth": 0,
              "tickcolor": "rgb(237,237,237)",
              "ticklen": 6,
              "ticks": "inside"
             }
            },
            "type": "scattergeo"
           }
          ],
          "scattergl": [
           {
            "marker": {
             "colorbar": {
              "outlinewidth": 0,
              "tickcolor": "rgb(237,237,237)",
              "ticklen": 6,
              "ticks": "inside"
             }
            },
            "type": "scattergl"
           }
          ],
          "scattermapbox": [
           {
            "marker": {
             "colorbar": {
              "outlinewidth": 0,
              "tickcolor": "rgb(237,237,237)",
              "ticklen": 6,
              "ticks": "inside"
             }
            },
            "type": "scattermapbox"
           }
          ],
          "scatterpolar": [
           {
            "marker": {
             "colorbar": {
              "outlinewidth": 0,
              "tickcolor": "rgb(237,237,237)",
              "ticklen": 6,
              "ticks": "inside"
             }
            },
            "type": "scatterpolar"
           }
          ],
          "scatterpolargl": [
           {
            "marker": {
             "colorbar": {
              "outlinewidth": 0,
              "tickcolor": "rgb(237,237,237)",
              "ticklen": 6,
              "ticks": "inside"
             }
            },
            "type": "scatterpolargl"
           }
          ],
          "scatterternary": [
           {
            "marker": {
             "colorbar": {
              "outlinewidth": 0,
              "tickcolor": "rgb(237,237,237)",
              "ticklen": 6,
              "ticks": "inside"
             }
            },
            "type": "scatterternary"
           }
          ],
          "surface": [
           {
            "colorbar": {
             "outlinewidth": 0,
             "tickcolor": "rgb(237,237,237)",
             "ticklen": 6,
             "ticks": "inside"
            },
            "colorscale": [
             [
              0,
              "rgb(20,44,66)"
             ],
             [
              1,
              "rgb(90,179,244)"
             ]
            ],
            "type": "surface"
           }
          ],
          "table": [
           {
            "cells": {
             "fill": {
              "color": "rgb(237,237,237)"
             },
             "line": {
              "color": "white"
             }
            },
            "header": {
             "fill": {
              "color": "rgb(217,217,217)"
             },
             "line": {
              "color": "white"
             }
            },
            "type": "table"
           }
          ]
         },
         "layout": {
          "annotationdefaults": {
           "arrowhead": 0,
           "arrowwidth": 1
          },
          "colorscale": {
           "sequential": [
            [
             0,
             "rgb(20,44,66)"
            ],
            [
             1,
             "rgb(90,179,244)"
            ]
           ],
           "sequentialminus": [
            [
             0,
             "rgb(20,44,66)"
            ],
            [
             1,
             "rgb(90,179,244)"
            ]
           ]
          },
          "colorway": [
           "#F8766D",
           "#A3A500",
           "#00BF7D",
           "#00B0F6",
           "#E76BF3"
          ],
          "font": {
           "color": "rgb(51,51,51)"
          },
          "geo": {
           "bgcolor": "white",
           "lakecolor": "white",
           "landcolor": "rgb(237,237,237)",
           "showlakes": true,
           "showland": true,
           "subunitcolor": "white"
          },
          "hoverlabel": {
           "align": "left"
          },
          "hovermode": "closest",
          "paper_bgcolor": "white",
          "plot_bgcolor": "rgb(237,237,237)",
          "polar": {
           "angularaxis": {
            "gridcolor": "white",
            "linecolor": "white",
            "showgrid": true,
            "tickcolor": "rgb(51,51,51)",
            "ticks": "outside"
           },
           "bgcolor": "rgb(237,237,237)",
           "radialaxis": {
            "gridcolor": "white",
            "linecolor": "white",
            "showgrid": true,
            "tickcolor": "rgb(51,51,51)",
            "ticks": "outside"
           }
          },
          "scene": {
           "xaxis": {
            "backgroundcolor": "rgb(237,237,237)",
            "gridcolor": "white",
            "gridwidth": 2,
            "linecolor": "white",
            "showbackground": true,
            "showgrid": true,
            "tickcolor": "rgb(51,51,51)",
            "ticks": "outside",
            "zerolinecolor": "white"
           },
           "yaxis": {
            "backgroundcolor": "rgb(237,237,237)",
            "gridcolor": "white",
            "gridwidth": 2,
            "linecolor": "white",
            "showbackground": true,
            "showgrid": true,
            "tickcolor": "rgb(51,51,51)",
            "ticks": "outside",
            "zerolinecolor": "white"
           },
           "zaxis": {
            "backgroundcolor": "rgb(237,237,237)",
            "gridcolor": "white",
            "gridwidth": 2,
            "linecolor": "white",
            "showbackground": true,
            "showgrid": true,
            "tickcolor": "rgb(51,51,51)",
            "ticks": "outside",
            "zerolinecolor": "white"
           }
          },
          "shapedefaults": {
           "fillcolor": "black",
           "line": {
            "width": 0
           },
           "opacity": 0.3
          },
          "ternary": {
           "aaxis": {
            "gridcolor": "white",
            "linecolor": "white",
            "showgrid": true,
            "tickcolor": "rgb(51,51,51)",
            "ticks": "outside"
           },
           "baxis": {
            "gridcolor": "white",
            "linecolor": "white",
            "showgrid": true,
            "tickcolor": "rgb(51,51,51)",
            "ticks": "outside"
           },
           "bgcolor": "rgb(237,237,237)",
           "caxis": {
            "gridcolor": "white",
            "linecolor": "white",
            "showgrid": true,
            "tickcolor": "rgb(51,51,51)",
            "ticks": "outside"
           }
          },
          "xaxis": {
           "automargin": true,
           "gridcolor": "white",
           "linecolor": "white",
           "showgrid": true,
           "tickcolor": "rgb(51,51,51)",
           "ticks": "outside",
           "zerolinecolor": "white"
          },
          "yaxis": {
           "automargin": true,
           "gridcolor": "white",
           "linecolor": "white",
           "showgrid": true,
           "tickcolor": "rgb(51,51,51)",
           "ticks": "outside",
           "zerolinecolor": "white"
          }
         }
        },
        "width": 1200,
        "xaxis": {
         "anchor": "y",
         "domain": [
          0,
          0.98
         ],
         "title": {
          "text": "id"
         }
        },
        "yaxis": {
         "anchor": "x",
         "domain": [
          0,
          1
         ],
         "title": {
          "text": "pro"
         }
        }
       }
      },
      "text/html": [
       "<div>\n",
       "        \n",
       "        \n",
       "            <div id=\"2d5a299b-5b19-4ae1-b4f4-7e6d866cefe1\" class=\"plotly-graph-div\" style=\"height:800px; width:1200px;\"></div>\n",
       "            <script type=\"text/javascript\">\n",
       "                require([\"plotly\"], function(Plotly) {\n",
       "                    window.PLOTLYENV=window.PLOTLYENV || {};\n",
       "                    \n",
       "                if (document.getElementById(\"2d5a299b-5b19-4ae1-b4f4-7e6d866cefe1\")) {\n",
       "                    Plotly.newPlot(\n",
       "                        '2d5a299b-5b19-4ae1-b4f4-7e6d866cefe1',\n",
       "                        [{\"hoverlabel\": {\"namelength\": 0}, \"hovertemplate\": \"class=0<br>id=%{x}<br>pro=%{y}\", \"legendgroup\": \"class=0\", \"marker\": {\"color\": \"green\", \"symbol\": \"circle\"}, \"mode\": \"markers\", \"name\": \"class=0\", \"showlegend\": true, \"type\": \"scatter\", \"x\": [\"000012_01\", \"000138_01\", \"000139_01\", \"000141_01\", \"000142_01\", \"000144_01\", \"000146_01\", \"000147_01\", \"000148_01\", \"000150_01\", \"000151_01\", \"000152_01\", \"000153_01\", \"000154_01\", \"000155_01\", \"000157_01\", \"000136_01\", \"000158_01\", \"000134_01\", \"000132_01\", \"000115_01\", \"000116_01\", \"000117_01\", \"000118_01\", \"000121_01\", \"000122_01\", \"000123_01\", \"000124_01\", \"000125_01\", \"000126_01\", \"000127_01\", \"000128_01\", \"000129_01\", \"000130_01\", \"000131_01\", \"000133_01\", \"000159_01\", \"000160_01\", \"000161_01\", \"000190_01\", \"000191_01\", \"000192_01\", \"000193_01\", \"000194_01\", \"000195_01\", \"000196_01\", \"000197_01\", \"000198_01\", \"000199_01\", \"000200_02\", \"000201_02\", \"000202_01\", \"000203_02\", \"000205_01\", \"000189_01\", \"000188_01\", \"000187_01\", \"000186_01\", \"000163_01\", \"000164_01\", \"000165_01\", \"000166_01\", \"000167_01\", \"000169_01\", \"000170_01\", \"000114_01\", \"000171_01\", \"000176_01\", \"000177_01\", \"000178_01\", \"000181_01\", \"000182_02\", \"000183_01\", \"000184_01\", \"000173_01\", \"000214_01\", \"000112_01\", \"000110_01\", \"000041_01\", \"000043_01\", \"000045_01\", \"000046_01\", \"000047_01\", \"000048_01\", \"000049_01\", \"000050_01\", \"000051_01\", \"000052_01\", \"000053_01\", \"000054_01\", \"000055_01\", \"000056_01\", \"000057_01\", \"000040_01\", \"000058_01\", \"000039_01\", \"000036_01\", \"000014_01\", \"000015_01\", \"000016_01\", \"000018_01\", \"000021_01\", \"000022_01\", \"000023_01\", \"000025_01\", \"000026_01\", \"000027_01\", \"000028_01\", \"000029_01\", \"000030_01\", \"000032_01\", \"000033_01\", \"000037_01\", \"000062_01\", \"000065_01\", \"000066_01\", \"000091_01\", \"000094_01\", \"000096_01\", \"000097_01\", \"000098_01\", \"000099_01\", \"000100_01\", \"000101_01\", \"000102_01\", \"000103_01\", \"000105_01\", \"000106_01\", \"000107_01\", \"000108_01\", \"000109_01\", \"000090_01\", \"000089_01\", \"000088_01\", \"000086_01\", \"000067_01\", \"000068_01\", \"000069_01\", \"000070_01\", \"000072_01\", \"000073_01\", \"000074_01\", \"000111_01\", \"000075_01\", \"000079_01\", \"000080_01\", \"000081_01\", \"000082_01\", \"000083_01\", \"000084_01\", \"000085_01\", \"000077_01\", \"000215_01\"], \"xaxis\": \"x\", \"y\": [0.07123842474422673, 0.3536979524246076, 0.024931005673051936, 0.009520398228228345, 0.5120916031173242, 0.002470620914493377, 0.8582997493751574, 0.1425928713676641, 0.036186862796815815, 0.5323782943390202, 0.21655902089481552, 0.7582343557387095, 0.5448276158828685, 0.065025942108924, 0.28373034167192024, 0.14116578702596752, 0.8287034284354946, 0.7518889982416379, 0.7733276565069745, 0.8108896699233078, 0.01214550112253205, 0.2681107116170656, 0.0011545684848786838, 0.0004834402599757949, 0.0036408233179002322, 0.2127422876386491, 0.005564075991285285, 0.041213752852777945, 0.0043870447064168466, 0.03470708792673552, 0.024891919056669456, 0.053806307438193667, 0.1989820611592484, 0.44556775879590493, 0.34802175565802274, 0.6217313282671814, 0.31882727631630575, 0.598955117191056, 0.0714076325177322, 0.013585361592486795, 0.004796238499941923, 0.006047158842687188, 0.004089766791803238, 0.009939113774735577, 0.031211617250810543, 0.042701610395204335, 0.23434309501921635, 0.2224498492038824, 0.14795308805080473, 0.019151751050076438, 0.888422162985177, 0.06315260048480499, 0.17232481728900906, 0.05083588800708915, 0.0015362756015704728, 0.015546710105662049, 0.008980195809123695, 0.003529178099281067, 0.0011700197690802155, 0.0016121416561784576, 0.06856038694693574, 0.01555153111170326, 0.0367014742043719, 0.4238946192162596, 0.007695022305489385, 0.17872030006616565, 0.009468247295541805, 0.002717382587116302, 0.014024122283468058, 0.003200041121032388, 0.10997368363591044, 0.006382747700875389, 0.07917102522580023, 9.055763997447698e-05, 0.020342139473751894, 0.08787591274124189, 0.06765034514524404, 0.6735782682561693, 0.0051174388806896716, 0.01225040229991244, 0.0641174188065879, 0.18182552417053055, 0.4844372525554024, 0.18979095153838885, 0.9155930319202459, 0.23630116332286819, 0.23722287656902818, 0.06184508335085459, 0.37304982604010195, 0.14067942470872352, 0.9385907416015741, 0.2387613158308194, 0.8785824756287046, 0.033190822567573074, 0.056962506203892316, 0.024636872188442287, 0.5322487529421847, 0.019574676820510423, 0.01745240368026012, 0.01473710256515833, 0.2734506345303412, 0.18362621832707465, 0.022070329815349437, 0.04065442674039816, 0.019346803696065357, 0.10145702623345329, 0.019387640943944972, 0.9045416794815262, 0.6503488852431311, 0.6817108679071734, 0.0003186809142809088, 0.007478119412853681, 0.18186054178030103, 0.3585727856774777, 0.014771394338948342, 0.14489427516906514, 0.2504289248392103, 0.008860899213652792, 0.0018119445366048315, 0.00903805203724086, 0.0014044993895526406, 0.001212238123836741, 0.021705925832076322, 0.003729465552954399, 0.004542793270188229, 0.014190088228856933, 0.013462492151469132, 0.0073680602017984495, 0.002195419706201511, 0.0009687348253850756, 0.006100317026968635, 0.02637770452476163, 0.2875432680233434, 0.03182040843644843, 0.17467452260713404, 0.0172763022979905, 0.009429391983576209, 0.1319851641455946, 0.2640382344681997, 0.9426883816404827, 0.4377532989614513, 0.9124466492048614, 0.026508555104957105, 0.8767670090402605, 0.8792796585716903, 0.1644657034033373, 0.22620429637170403, 0.33747826062007846, 0.30349121801797674, 0.34802775617671156, 0.025522988005491826, 0.42472301151813274, 0.25041342544648426], \"yaxis\": \"y\"}, {\"line\": {\"color\": \"grey\", \"dash\": \"dash\"}, \"mode\": \"lines\", \"showlegend\": false, \"type\": \"scatter\", \"x\": [\"000012_01\", \"000215_01\"], \"y\": [0.5, 0.5]}],\n",
       "                        {\"height\": 800, \"legend\": {\"tracegroupgap\": 0}, \"margin\": {\"t\": 60}, \"template\": {\"data\": {\"bar\": [{\"error_x\": {\"color\": \"rgb(51,51,51)\"}, \"error_y\": {\"color\": \"rgb(51,51,51)\"}, \"marker\": {\"line\": {\"color\": \"rgb(237,237,237)\", \"width\": 0.5}}, \"type\": \"bar\"}], \"barpolar\": [{\"marker\": {\"line\": {\"color\": \"rgb(237,237,237)\", \"width\": 0.5}}, \"type\": \"barpolar\"}], \"carpet\": [{\"aaxis\": {\"endlinecolor\": \"rgb(51,51,51)\", \"gridcolor\": \"white\", \"linecolor\": \"white\", \"minorgridcolor\": \"white\", \"startlinecolor\": \"rgb(51,51,51)\"}, \"baxis\": {\"endlinecolor\": \"rgb(51,51,51)\", \"gridcolor\": \"white\", \"linecolor\": \"white\", \"minorgridcolor\": \"white\", \"startlinecolor\": \"rgb(51,51,51)\"}, \"type\": \"carpet\"}], \"choropleth\": [{\"colorbar\": {\"outlinewidth\": 0, \"tickcolor\": \"rgb(237,237,237)\", \"ticklen\": 6, \"ticks\": \"inside\"}, \"type\": \"choropleth\"}], \"contour\": [{\"colorbar\": {\"outlinewidth\": 0, \"tickcolor\": \"rgb(237,237,237)\", \"ticklen\": 6, \"ticks\": \"inside\"}, \"colorscale\": [[0, \"rgb(20,44,66)\"], [1, \"rgb(90,179,244)\"]], \"type\": \"contour\"}], \"contourcarpet\": [{\"colorbar\": {\"outlinewidth\": 0, \"tickcolor\": \"rgb(237,237,237)\", \"ticklen\": 6, \"ticks\": \"inside\"}, \"type\": \"contourcarpet\"}], \"heatmap\": [{\"colorbar\": {\"outlinewidth\": 0, \"tickcolor\": \"rgb(237,237,237)\", \"ticklen\": 6, \"ticks\": \"inside\"}, \"colorscale\": [[0, \"rgb(20,44,66)\"], [1, \"rgb(90,179,244)\"]], \"type\": \"heatmap\"}], \"heatmapgl\": [{\"colorbar\": {\"outlinewidth\": 0, \"tickcolor\": \"rgb(237,237,237)\", \"ticklen\": 6, \"ticks\": \"inside\"}, \"colorscale\": [[0, \"rgb(20,44,66)\"], [1, \"rgb(90,179,244)\"]], \"type\": \"heatmapgl\"}], \"histogram\": [{\"marker\": {\"colorbar\": {\"outlinewidth\": 0, \"tickcolor\": \"rgb(237,237,237)\", \"ticklen\": 6, \"ticks\": \"inside\"}}, \"type\": \"histogram\"}], \"histogram2d\": [{\"colorbar\": {\"outlinewidth\": 0, \"tickcolor\": \"rgb(237,237,237)\", \"ticklen\": 6, \"ticks\": \"inside\"}, \"colorscale\": [[0, \"rgb(20,44,66)\"], [1, \"rgb(90,179,244)\"]], \"type\": \"histogram2d\"}], \"histogram2dcontour\": [{\"colorbar\": {\"outlinewidth\": 0, \"tickcolor\": \"rgb(237,237,237)\", \"ticklen\": 6, \"ticks\": \"inside\"}, \"colorscale\": [[0, \"rgb(20,44,66)\"], [1, \"rgb(90,179,244)\"]], \"type\": \"histogram2dcontour\"}], \"mesh3d\": [{\"colorbar\": {\"outlinewidth\": 0, \"tickcolor\": \"rgb(237,237,237)\", \"ticklen\": 6, \"ticks\": \"inside\"}, \"type\": \"mesh3d\"}], \"parcoords\": [{\"line\": {\"colorbar\": {\"outlinewidth\": 0, \"tickcolor\": \"rgb(237,237,237)\", \"ticklen\": 6, \"ticks\": \"inside\"}}, \"type\": \"parcoords\"}], \"scatter\": [{\"marker\": {\"colorbar\": {\"outlinewidth\": 0, \"tickcolor\": \"rgb(237,237,237)\", \"ticklen\": 6, \"ticks\": \"inside\"}}, \"type\": \"scatter\"}], \"scatter3d\": [{\"line\": {\"colorbar\": {\"outlinewidth\": 0, \"tickcolor\": \"rgb(237,237,237)\", \"ticklen\": 6, \"ticks\": \"inside\"}}, \"marker\": {\"colorbar\": {\"outlinewidth\": 0, \"tickcolor\": \"rgb(237,237,237)\", \"ticklen\": 6, \"ticks\": \"inside\"}}, \"type\": \"scatter3d\"}], \"scattercarpet\": [{\"marker\": {\"colorbar\": {\"outlinewidth\": 0, \"tickcolor\": \"rgb(237,237,237)\", \"ticklen\": 6, \"ticks\": \"inside\"}}, \"type\": \"scattercarpet\"}], \"scattergeo\": [{\"marker\": {\"colorbar\": {\"outlinewidth\": 0, \"tickcolor\": \"rgb(237,237,237)\", \"ticklen\": 6, \"ticks\": \"inside\"}}, \"type\": \"scattergeo\"}], \"scattergl\": [{\"marker\": {\"colorbar\": {\"outlinewidth\": 0, \"tickcolor\": \"rgb(237,237,237)\", \"ticklen\": 6, \"ticks\": \"inside\"}}, \"type\": \"scattergl\"}], \"scattermapbox\": [{\"marker\": {\"colorbar\": {\"outlinewidth\": 0, \"tickcolor\": \"rgb(237,237,237)\", \"ticklen\": 6, \"ticks\": \"inside\"}}, \"type\": \"scattermapbox\"}], \"scatterpolar\": [{\"marker\": {\"colorbar\": {\"outlinewidth\": 0, \"tickcolor\": \"rgb(237,237,237)\", \"ticklen\": 6, \"ticks\": \"inside\"}}, \"type\": \"scatterpolar\"}], \"scatterpolargl\": [{\"marker\": {\"colorbar\": {\"outlinewidth\": 0, \"tickcolor\": \"rgb(237,237,237)\", \"ticklen\": 6, \"ticks\": \"inside\"}}, \"type\": \"scatterpolargl\"}], \"scatterternary\": [{\"marker\": {\"colorbar\": {\"outlinewidth\": 0, \"tickcolor\": \"rgb(237,237,237)\", \"ticklen\": 6, \"ticks\": \"inside\"}}, \"type\": \"scatterternary\"}], \"surface\": [{\"colorbar\": {\"outlinewidth\": 0, \"tickcolor\": \"rgb(237,237,237)\", \"ticklen\": 6, \"ticks\": \"inside\"}, \"colorscale\": [[0, \"rgb(20,44,66)\"], [1, \"rgb(90,179,244)\"]], \"type\": \"surface\"}], \"table\": [{\"cells\": {\"fill\": {\"color\": \"rgb(237,237,237)\"}, \"line\": {\"color\": \"white\"}}, \"header\": {\"fill\": {\"color\": \"rgb(217,217,217)\"}, \"line\": {\"color\": \"white\"}}, \"type\": \"table\"}]}, \"layout\": {\"annotationdefaults\": {\"arrowhead\": 0, \"arrowwidth\": 1}, \"colorscale\": {\"sequential\": [[0, \"rgb(20,44,66)\"], [1, \"rgb(90,179,244)\"]], \"sequentialminus\": [[0, \"rgb(20,44,66)\"], [1, \"rgb(90,179,244)\"]]}, \"colorway\": [\"#F8766D\", \"#A3A500\", \"#00BF7D\", \"#00B0F6\", \"#E76BF3\"], \"font\": {\"color\": \"rgb(51,51,51)\"}, \"geo\": {\"bgcolor\": \"white\", \"lakecolor\": \"white\", \"landcolor\": \"rgb(237,237,237)\", \"showlakes\": true, \"showland\": true, \"subunitcolor\": \"white\"}, \"hoverlabel\": {\"align\": \"left\"}, \"hovermode\": \"closest\", \"paper_bgcolor\": \"white\", \"plot_bgcolor\": \"rgb(237,237,237)\", \"polar\": {\"angularaxis\": {\"gridcolor\": \"white\", \"linecolor\": \"white\", \"showgrid\": true, \"tickcolor\": \"rgb(51,51,51)\", \"ticks\": \"outside\"}, \"bgcolor\": \"rgb(237,237,237)\", \"radialaxis\": {\"gridcolor\": \"white\", \"linecolor\": \"white\", \"showgrid\": true, \"tickcolor\": \"rgb(51,51,51)\", \"ticks\": \"outside\"}}, \"scene\": {\"xaxis\": {\"backgroundcolor\": \"rgb(237,237,237)\", \"gridcolor\": \"white\", \"gridwidth\": 2, \"linecolor\": \"white\", \"showbackground\": true, \"showgrid\": true, \"tickcolor\": \"rgb(51,51,51)\", \"ticks\": \"outside\", \"zerolinecolor\": \"white\"}, \"yaxis\": {\"backgroundcolor\": \"rgb(237,237,237)\", \"gridcolor\": \"white\", \"gridwidth\": 2, \"linecolor\": \"white\", \"showbackground\": true, \"showgrid\": true, \"tickcolor\": \"rgb(51,51,51)\", \"ticks\": \"outside\", \"zerolinecolor\": \"white\"}, \"zaxis\": {\"backgroundcolor\": \"rgb(237,237,237)\", \"gridcolor\": \"white\", \"gridwidth\": 2, \"linecolor\": \"white\", \"showbackground\": true, \"showgrid\": true, \"tickcolor\": \"rgb(51,51,51)\", \"ticks\": \"outside\", \"zerolinecolor\": \"white\"}}, \"shapedefaults\": {\"fillcolor\": \"black\", \"line\": {\"width\": 0}, \"opacity\": 0.3}, \"ternary\": {\"aaxis\": {\"gridcolor\": \"white\", \"linecolor\": \"white\", \"showgrid\": true, \"tickcolor\": \"rgb(51,51,51)\", \"ticks\": \"outside\"}, \"baxis\": {\"gridcolor\": \"white\", \"linecolor\": \"white\", \"showgrid\": true, \"tickcolor\": \"rgb(51,51,51)\", \"ticks\": \"outside\"}, \"bgcolor\": \"rgb(237,237,237)\", \"caxis\": {\"gridcolor\": \"white\", \"linecolor\": \"white\", \"showgrid\": true, \"tickcolor\": \"rgb(51,51,51)\", \"ticks\": \"outside\"}}, \"xaxis\": {\"automargin\": true, \"gridcolor\": \"white\", \"linecolor\": \"white\", \"showgrid\": true, \"tickcolor\": \"rgb(51,51,51)\", \"ticks\": \"outside\", \"zerolinecolor\": \"white\"}, \"yaxis\": {\"automargin\": true, \"gridcolor\": \"white\", \"linecolor\": \"white\", \"showgrid\": true, \"tickcolor\": \"rgb(51,51,51)\", \"ticks\": \"outside\", \"zerolinecolor\": \"white\"}}}, \"width\": 1200, \"xaxis\": {\"anchor\": \"y\", \"domain\": [0.0, 0.98], \"title\": {\"text\": \"id\"}}, \"yaxis\": {\"anchor\": \"x\", \"domain\": [0.0, 1.0], \"title\": {\"text\": \"pro\"}}},\n",
       "                        {\"responsive\": true}\n",
       "                    ).then(function(){\n",
       "                            \n",
       "var gd = document.getElementById('2d5a299b-5b19-4ae1-b4f4-7e6d866cefe1');\n",
       "var x = new MutationObserver(function (mutations, observer) {{\n",
       "        var display = window.getComputedStyle(gd).display;\n",
       "        if (!display || display === 'none') {{\n",
       "            console.log([gd, 'removed!']);\n",
       "            Plotly.purge(gd);\n",
       "            observer.disconnect();\n",
       "        }}\n",
       "}});\n",
       "\n",
       "// Listen for the removal of the full notebook cells\n",
       "var notebookContainer = gd.closest('#notebook-container');\n",
       "if (notebookContainer) {{\n",
       "    x.observe(notebookContainer, {childList: true});\n",
       "}}\n",
       "\n",
       "// Listen for the clearing of the current output cell\n",
       "var outputEl = gd.closest('.output');\n",
       "if (outputEl) {{\n",
       "    x.observe(outputEl, {childList: true});\n",
       "}}\n",
       "\n",
       "                        })\n",
       "                };\n",
       "                });\n",
       "            </script>\n",
       "        </div>"
      ]
     },
     "metadata": {},
     "output_type": "display_data"
    },
    {
     "name": "stdout",
     "output_type": "stream",
     "text": [
      "总体准确率为0.8431372549019608\n",
      "混淆矩阵为[129, 24, 0, 0]\n"
     ]
    }
   ],
   "source": [
    "healthy_pre = predict_plot('test_healthy')\n",
    "# healthy_pre.to_excel('C:/Users/pc/Desktop/healthy_pre.xlsx', index=False)"
   ]
  },
  {
   "cell_type": "code",
   "execution_count": 31,
   "metadata": {
    "ExecuteTime": {
     "end_time": "2019-12-27T09:04:24.243472Z",
     "start_time": "2019-12-27T09:04:23.987157Z"
    }
   },
   "outputs": [
    {
     "data": {
      "application/vnd.plotly.v1+json": {
       "config": {
        "plotlyServerURL": "https://plot.ly"
       },
       "data": [
        {
         "hoverlabel": {
          "namelength": 0
         },
         "hovertemplate": "class=0<br>id=%{x}<br>pro=%{y}",
         "legendgroup": "class=0",
         "marker": {
          "color": "green",
          "symbol": "circle"
         },
         "mode": "markers",
         "name": "class=0",
         "showlegend": true,
         "type": "scatter",
         "x": [
          "B094_F.ex",
          "B246_F.ex",
          "B229_F.ex",
          "B216_F.ex",
          "B184_F.ex",
          "B174_F.ex",
          "B173_F.ex",
          "B168_F.ex",
          "B247_F.ex",
          "B167_F.ex",
          "B161_F.ex",
          "B160_F.ex",
          "B159_F.ex",
          "B158_F.ex",
          "B157_F.ex",
          "B096_F.ex",
          "B095_F.ex",
          "B162_F.ex",
          "B256_F.ex"
         ],
         "xaxis": "x",
         "y": [
          0.8624735048570359,
          0.5597595922696333,
          0.7301440791725635,
          0.17600140365961195,
          0.7498920272717623,
          0.017919914745324915,
          0.06196761468083632,
          0.9879069038528243,
          0.5574273550116849,
          0.7724963681948643,
          0.1342822204247386,
          0.8548333126357864,
          0.9336512091781253,
          0.6022120368756821,
          0.9267013513394573,
          0.2732952941898862,
          0.028684843388535868,
          0.7354851416233064,
          0.20453061683546508
         ],
         "yaxis": "y"
        },
        {
         "line": {
          "color": "grey",
          "dash": "dash"
         },
         "mode": "lines",
         "showlegend": false,
         "type": "scatter",
         "x": [
          "B094_F.ex",
          "B256_F.ex"
         ],
         "y": [
          0.5,
          0.5
         ]
        }
       ],
       "layout": {
        "height": 800,
        "legend": {
         "tracegroupgap": 0
        },
        "margin": {
         "t": 60
        },
        "template": {
         "data": {
          "bar": [
           {
            "error_x": {
             "color": "rgb(51,51,51)"
            },
            "error_y": {
             "color": "rgb(51,51,51)"
            },
            "marker": {
             "line": {
              "color": "rgb(237,237,237)",
              "width": 0.5
             }
            },
            "type": "bar"
           }
          ],
          "barpolar": [
           {
            "marker": {
             "line": {
              "color": "rgb(237,237,237)",
              "width": 0.5
             }
            },
            "type": "barpolar"
           }
          ],
          "carpet": [
           {
            "aaxis": {
             "endlinecolor": "rgb(51,51,51)",
             "gridcolor": "white",
             "linecolor": "white",
             "minorgridcolor": "white",
             "startlinecolor": "rgb(51,51,51)"
            },
            "baxis": {
             "endlinecolor": "rgb(51,51,51)",
             "gridcolor": "white",
             "linecolor": "white",
             "minorgridcolor": "white",
             "startlinecolor": "rgb(51,51,51)"
            },
            "type": "carpet"
           }
          ],
          "choropleth": [
           {
            "colorbar": {
             "outlinewidth": 0,
             "tickcolor": "rgb(237,237,237)",
             "ticklen": 6,
             "ticks": "inside"
            },
            "type": "choropleth"
           }
          ],
          "contour": [
           {
            "colorbar": {
             "outlinewidth": 0,
             "tickcolor": "rgb(237,237,237)",
             "ticklen": 6,
             "ticks": "inside"
            },
            "colorscale": [
             [
              0,
              "rgb(20,44,66)"
             ],
             [
              1,
              "rgb(90,179,244)"
             ]
            ],
            "type": "contour"
           }
          ],
          "contourcarpet": [
           {
            "colorbar": {
             "outlinewidth": 0,
             "tickcolor": "rgb(237,237,237)",
             "ticklen": 6,
             "ticks": "inside"
            },
            "type": "contourcarpet"
           }
          ],
          "heatmap": [
           {
            "colorbar": {
             "outlinewidth": 0,
             "tickcolor": "rgb(237,237,237)",
             "ticklen": 6,
             "ticks": "inside"
            },
            "colorscale": [
             [
              0,
              "rgb(20,44,66)"
             ],
             [
              1,
              "rgb(90,179,244)"
             ]
            ],
            "type": "heatmap"
           }
          ],
          "heatmapgl": [
           {
            "colorbar": {
             "outlinewidth": 0,
             "tickcolor": "rgb(237,237,237)",
             "ticklen": 6,
             "ticks": "inside"
            },
            "colorscale": [
             [
              0,
              "rgb(20,44,66)"
             ],
             [
              1,
              "rgb(90,179,244)"
             ]
            ],
            "type": "heatmapgl"
           }
          ],
          "histogram": [
           {
            "marker": {
             "colorbar": {
              "outlinewidth": 0,
              "tickcolor": "rgb(237,237,237)",
              "ticklen": 6,
              "ticks": "inside"
             }
            },
            "type": "histogram"
           }
          ],
          "histogram2d": [
           {
            "colorbar": {
             "outlinewidth": 0,
             "tickcolor": "rgb(237,237,237)",
             "ticklen": 6,
             "ticks": "inside"
            },
            "colorscale": [
             [
              0,
              "rgb(20,44,66)"
             ],
             [
              1,
              "rgb(90,179,244)"
             ]
            ],
            "type": "histogram2d"
           }
          ],
          "histogram2dcontour": [
           {
            "colorbar": {
             "outlinewidth": 0,
             "tickcolor": "rgb(237,237,237)",
             "ticklen": 6,
             "ticks": "inside"
            },
            "colorscale": [
             [
              0,
              "rgb(20,44,66)"
             ],
             [
              1,
              "rgb(90,179,244)"
             ]
            ],
            "type": "histogram2dcontour"
           }
          ],
          "mesh3d": [
           {
            "colorbar": {
             "outlinewidth": 0,
             "tickcolor": "rgb(237,237,237)",
             "ticklen": 6,
             "ticks": "inside"
            },
            "type": "mesh3d"
           }
          ],
          "parcoords": [
           {
            "line": {
             "colorbar": {
              "outlinewidth": 0,
              "tickcolor": "rgb(237,237,237)",
              "ticklen": 6,
              "ticks": "inside"
             }
            },
            "type": "parcoords"
           }
          ],
          "scatter": [
           {
            "marker": {
             "colorbar": {
              "outlinewidth": 0,
              "tickcolor": "rgb(237,237,237)",
              "ticklen": 6,
              "ticks": "inside"
             }
            },
            "type": "scatter"
           }
          ],
          "scatter3d": [
           {
            "line": {
             "colorbar": {
              "outlinewidth": 0,
              "tickcolor": "rgb(237,237,237)",
              "ticklen": 6,
              "ticks": "inside"
             }
            },
            "marker": {
             "colorbar": {
              "outlinewidth": 0,
              "tickcolor": "rgb(237,237,237)",
              "ticklen": 6,
              "ticks": "inside"
             }
            },
            "type": "scatter3d"
           }
          ],
          "scattercarpet": [
           {
            "marker": {
             "colorbar": {
              "outlinewidth": 0,
              "tickcolor": "rgb(237,237,237)",
              "ticklen": 6,
              "ticks": "inside"
             }
            },
            "type": "scattercarpet"
           }
          ],
          "scattergeo": [
           {
            "marker": {
             "colorbar": {
              "outlinewidth": 0,
              "tickcolor": "rgb(237,237,237)",
              "ticklen": 6,
              "ticks": "inside"
             }
            },
            "type": "scattergeo"
           }
          ],
          "scattergl": [
           {
            "marker": {
             "colorbar": {
              "outlinewidth": 0,
              "tickcolor": "rgb(237,237,237)",
              "ticklen": 6,
              "ticks": "inside"
             }
            },
            "type": "scattergl"
           }
          ],
          "scattermapbox": [
           {
            "marker": {
             "colorbar": {
              "outlinewidth": 0,
              "tickcolor": "rgb(237,237,237)",
              "ticklen": 6,
              "ticks": "inside"
             }
            },
            "type": "scattermapbox"
           }
          ],
          "scatterpolar": [
           {
            "marker": {
             "colorbar": {
              "outlinewidth": 0,
              "tickcolor": "rgb(237,237,237)",
              "ticklen": 6,
              "ticks": "inside"
             }
            },
            "type": "scatterpolar"
           }
          ],
          "scatterpolargl": [
           {
            "marker": {
             "colorbar": {
              "outlinewidth": 0,
              "tickcolor": "rgb(237,237,237)",
              "ticklen": 6,
              "ticks": "inside"
             }
            },
            "type": "scatterpolargl"
           }
          ],
          "scatterternary": [
           {
            "marker": {
             "colorbar": {
              "outlinewidth": 0,
              "tickcolor": "rgb(237,237,237)",
              "ticklen": 6,
              "ticks": "inside"
             }
            },
            "type": "scatterternary"
           }
          ],
          "surface": [
           {
            "colorbar": {
             "outlinewidth": 0,
             "tickcolor": "rgb(237,237,237)",
             "ticklen": 6,
             "ticks": "inside"
            },
            "colorscale": [
             [
              0,
              "rgb(20,44,66)"
             ],
             [
              1,
              "rgb(90,179,244)"
             ]
            ],
            "type": "surface"
           }
          ],
          "table": [
           {
            "cells": {
             "fill": {
              "color": "rgb(237,237,237)"
             },
             "line": {
              "color": "white"
             }
            },
            "header": {
             "fill": {
              "color": "rgb(217,217,217)"
             },
             "line": {
              "color": "white"
             }
            },
            "type": "table"
           }
          ]
         },
         "layout": {
          "annotationdefaults": {
           "arrowhead": 0,
           "arrowwidth": 1
          },
          "colorscale": {
           "sequential": [
            [
             0,
             "rgb(20,44,66)"
            ],
            [
             1,
             "rgb(90,179,244)"
            ]
           ],
           "sequentialminus": [
            [
             0,
             "rgb(20,44,66)"
            ],
            [
             1,
             "rgb(90,179,244)"
            ]
           ]
          },
          "colorway": [
           "#F8766D",
           "#A3A500",
           "#00BF7D",
           "#00B0F6",
           "#E76BF3"
          ],
          "font": {
           "color": "rgb(51,51,51)"
          },
          "geo": {
           "bgcolor": "white",
           "lakecolor": "white",
           "landcolor": "rgb(237,237,237)",
           "showlakes": true,
           "showland": true,
           "subunitcolor": "white"
          },
          "hoverlabel": {
           "align": "left"
          },
          "hovermode": "closest",
          "paper_bgcolor": "white",
          "plot_bgcolor": "rgb(237,237,237)",
          "polar": {
           "angularaxis": {
            "gridcolor": "white",
            "linecolor": "white",
            "showgrid": true,
            "tickcolor": "rgb(51,51,51)",
            "ticks": "outside"
           },
           "bgcolor": "rgb(237,237,237)",
           "radialaxis": {
            "gridcolor": "white",
            "linecolor": "white",
            "showgrid": true,
            "tickcolor": "rgb(51,51,51)",
            "ticks": "outside"
           }
          },
          "scene": {
           "xaxis": {
            "backgroundcolor": "rgb(237,237,237)",
            "gridcolor": "white",
            "gridwidth": 2,
            "linecolor": "white",
            "showbackground": true,
            "showgrid": true,
            "tickcolor": "rgb(51,51,51)",
            "ticks": "outside",
            "zerolinecolor": "white"
           },
           "yaxis": {
            "backgroundcolor": "rgb(237,237,237)",
            "gridcolor": "white",
            "gridwidth": 2,
            "linecolor": "white",
            "showbackground": true,
            "showgrid": true,
            "tickcolor": "rgb(51,51,51)",
            "ticks": "outside",
            "zerolinecolor": "white"
           },
           "zaxis": {
            "backgroundcolor": "rgb(237,237,237)",
            "gridcolor": "white",
            "gridwidth": 2,
            "linecolor": "white",
            "showbackground": true,
            "showgrid": true,
            "tickcolor": "rgb(51,51,51)",
            "ticks": "outside",
            "zerolinecolor": "white"
           }
          },
          "shapedefaults": {
           "fillcolor": "black",
           "line": {
            "width": 0
           },
           "opacity": 0.3
          },
          "ternary": {
           "aaxis": {
            "gridcolor": "white",
            "linecolor": "white",
            "showgrid": true,
            "tickcolor": "rgb(51,51,51)",
            "ticks": "outside"
           },
           "baxis": {
            "gridcolor": "white",
            "linecolor": "white",
            "showgrid": true,
            "tickcolor": "rgb(51,51,51)",
            "ticks": "outside"
           },
           "bgcolor": "rgb(237,237,237)",
           "caxis": {
            "gridcolor": "white",
            "linecolor": "white",
            "showgrid": true,
            "tickcolor": "rgb(51,51,51)",
            "ticks": "outside"
           }
          },
          "xaxis": {
           "automargin": true,
           "gridcolor": "white",
           "linecolor": "white",
           "showgrid": true,
           "tickcolor": "rgb(51,51,51)",
           "ticks": "outside",
           "zerolinecolor": "white"
          },
          "yaxis": {
           "automargin": true,
           "gridcolor": "white",
           "linecolor": "white",
           "showgrid": true,
           "tickcolor": "rgb(51,51,51)",
           "ticks": "outside",
           "zerolinecolor": "white"
          }
         }
        },
        "width": 1200,
        "xaxis": {
         "anchor": "y",
         "domain": [
          0,
          0.98
         ],
         "title": {
          "text": "id"
         }
        },
        "yaxis": {
         "anchor": "x",
         "domain": [
          0,
          1
         ],
         "title": {
          "text": "pro"
         }
        }
       }
      },
      "text/html": [
       "<div>\n",
       "        \n",
       "        \n",
       "            <div id=\"e1f5c95d-e863-4abb-a627-bb50d7d6bebc\" class=\"plotly-graph-div\" style=\"height:800px; width:1200px;\"></div>\n",
       "            <script type=\"text/javascript\">\n",
       "                require([\"plotly\"], function(Plotly) {\n",
       "                    window.PLOTLYENV=window.PLOTLYENV || {};\n",
       "                    \n",
       "                if (document.getElementById(\"e1f5c95d-e863-4abb-a627-bb50d7d6bebc\")) {\n",
       "                    Plotly.newPlot(\n",
       "                        'e1f5c95d-e863-4abb-a627-bb50d7d6bebc',\n",
       "                        [{\"hoverlabel\": {\"namelength\": 0}, \"hovertemplate\": \"class=0<br>id=%{x}<br>pro=%{y}\", \"legendgroup\": \"class=0\", \"marker\": {\"color\": \"green\", \"symbol\": \"circle\"}, \"mode\": \"markers\", \"name\": \"class=0\", \"showlegend\": true, \"type\": \"scatter\", \"x\": [\"B094_F.ex\", \"B246_F.ex\", \"B229_F.ex\", \"B216_F.ex\", \"B184_F.ex\", \"B174_F.ex\", \"B173_F.ex\", \"B168_F.ex\", \"B247_F.ex\", \"B167_F.ex\", \"B161_F.ex\", \"B160_F.ex\", \"B159_F.ex\", \"B158_F.ex\", \"B157_F.ex\", \"B096_F.ex\", \"B095_F.ex\", \"B162_F.ex\", \"B256_F.ex\"], \"xaxis\": \"x\", \"y\": [0.8624735048570359, 0.5597595922696333, 0.7301440791725635, 0.17600140365961195, 0.7498920272717623, 0.017919914745324915, 0.06196761468083632, 0.9879069038528243, 0.5574273550116849, 0.7724963681948643, 0.1342822204247386, 0.8548333126357864, 0.9336512091781253, 0.6022120368756821, 0.9267013513394573, 0.2732952941898862, 0.028684843388535868, 0.7354851416233064, 0.20453061683546508], \"yaxis\": \"y\"}, {\"line\": {\"color\": \"grey\", \"dash\": \"dash\"}, \"mode\": \"lines\", \"showlegend\": false, \"type\": \"scatter\", \"x\": [\"B094_F.ex\", \"B256_F.ex\"], \"y\": [0.5, 0.5]}],\n",
       "                        {\"height\": 800, \"legend\": {\"tracegroupgap\": 0}, \"margin\": {\"t\": 60}, \"template\": {\"data\": {\"bar\": [{\"error_x\": {\"color\": \"rgb(51,51,51)\"}, \"error_y\": {\"color\": \"rgb(51,51,51)\"}, \"marker\": {\"line\": {\"color\": \"rgb(237,237,237)\", \"width\": 0.5}}, \"type\": \"bar\"}], \"barpolar\": [{\"marker\": {\"line\": {\"color\": \"rgb(237,237,237)\", \"width\": 0.5}}, \"type\": \"barpolar\"}], \"carpet\": [{\"aaxis\": {\"endlinecolor\": \"rgb(51,51,51)\", \"gridcolor\": \"white\", \"linecolor\": \"white\", \"minorgridcolor\": \"white\", \"startlinecolor\": \"rgb(51,51,51)\"}, \"baxis\": {\"endlinecolor\": \"rgb(51,51,51)\", \"gridcolor\": \"white\", \"linecolor\": \"white\", \"minorgridcolor\": \"white\", \"startlinecolor\": \"rgb(51,51,51)\"}, \"type\": \"carpet\"}], \"choropleth\": [{\"colorbar\": {\"outlinewidth\": 0, \"tickcolor\": \"rgb(237,237,237)\", \"ticklen\": 6, \"ticks\": \"inside\"}, \"type\": \"choropleth\"}], \"contour\": [{\"colorbar\": {\"outlinewidth\": 0, \"tickcolor\": \"rgb(237,237,237)\", \"ticklen\": 6, \"ticks\": \"inside\"}, \"colorscale\": [[0, \"rgb(20,44,66)\"], [1, \"rgb(90,179,244)\"]], \"type\": \"contour\"}], \"contourcarpet\": [{\"colorbar\": {\"outlinewidth\": 0, \"tickcolor\": \"rgb(237,237,237)\", \"ticklen\": 6, \"ticks\": \"inside\"}, \"type\": \"contourcarpet\"}], \"heatmap\": [{\"colorbar\": {\"outlinewidth\": 0, \"tickcolor\": \"rgb(237,237,237)\", \"ticklen\": 6, \"ticks\": \"inside\"}, \"colorscale\": [[0, \"rgb(20,44,66)\"], [1, \"rgb(90,179,244)\"]], \"type\": \"heatmap\"}], \"heatmapgl\": [{\"colorbar\": {\"outlinewidth\": 0, \"tickcolor\": \"rgb(237,237,237)\", \"ticklen\": 6, \"ticks\": \"inside\"}, \"colorscale\": [[0, \"rgb(20,44,66)\"], [1, \"rgb(90,179,244)\"]], \"type\": \"heatmapgl\"}], \"histogram\": [{\"marker\": {\"colorbar\": {\"outlinewidth\": 0, \"tickcolor\": \"rgb(237,237,237)\", \"ticklen\": 6, \"ticks\": \"inside\"}}, \"type\": \"histogram\"}], \"histogram2d\": [{\"colorbar\": {\"outlinewidth\": 0, \"tickcolor\": \"rgb(237,237,237)\", \"ticklen\": 6, \"ticks\": \"inside\"}, \"colorscale\": [[0, \"rgb(20,44,66)\"], [1, \"rgb(90,179,244)\"]], \"type\": \"histogram2d\"}], \"histogram2dcontour\": [{\"colorbar\": {\"outlinewidth\": 0, \"tickcolor\": \"rgb(237,237,237)\", \"ticklen\": 6, \"ticks\": \"inside\"}, \"colorscale\": [[0, \"rgb(20,44,66)\"], [1, \"rgb(90,179,244)\"]], \"type\": \"histogram2dcontour\"}], \"mesh3d\": [{\"colorbar\": {\"outlinewidth\": 0, \"tickcolor\": \"rgb(237,237,237)\", \"ticklen\": 6, \"ticks\": \"inside\"}, \"type\": \"mesh3d\"}], \"parcoords\": [{\"line\": {\"colorbar\": {\"outlinewidth\": 0, \"tickcolor\": \"rgb(237,237,237)\", \"ticklen\": 6, \"ticks\": \"inside\"}}, \"type\": \"parcoords\"}], \"scatter\": [{\"marker\": {\"colorbar\": {\"outlinewidth\": 0, \"tickcolor\": \"rgb(237,237,237)\", \"ticklen\": 6, \"ticks\": \"inside\"}}, \"type\": \"scatter\"}], \"scatter3d\": [{\"line\": {\"colorbar\": {\"outlinewidth\": 0, \"tickcolor\": \"rgb(237,237,237)\", \"ticklen\": 6, \"ticks\": \"inside\"}}, \"marker\": {\"colorbar\": {\"outlinewidth\": 0, \"tickcolor\": \"rgb(237,237,237)\", \"ticklen\": 6, \"ticks\": \"inside\"}}, \"type\": \"scatter3d\"}], \"scattercarpet\": [{\"marker\": {\"colorbar\": {\"outlinewidth\": 0, \"tickcolor\": \"rgb(237,237,237)\", \"ticklen\": 6, \"ticks\": \"inside\"}}, \"type\": \"scattercarpet\"}], \"scattergeo\": [{\"marker\": {\"colorbar\": {\"outlinewidth\": 0, \"tickcolor\": \"rgb(237,237,237)\", \"ticklen\": 6, \"ticks\": \"inside\"}}, \"type\": \"scattergeo\"}], \"scattergl\": [{\"marker\": {\"colorbar\": {\"outlinewidth\": 0, \"tickcolor\": \"rgb(237,237,237)\", \"ticklen\": 6, \"ticks\": \"inside\"}}, \"type\": \"scattergl\"}], \"scattermapbox\": [{\"marker\": {\"colorbar\": {\"outlinewidth\": 0, \"tickcolor\": \"rgb(237,237,237)\", \"ticklen\": 6, \"ticks\": \"inside\"}}, \"type\": \"scattermapbox\"}], \"scatterpolar\": [{\"marker\": {\"colorbar\": {\"outlinewidth\": 0, \"tickcolor\": \"rgb(237,237,237)\", \"ticklen\": 6, \"ticks\": \"inside\"}}, \"type\": \"scatterpolar\"}], \"scatterpolargl\": [{\"marker\": {\"colorbar\": {\"outlinewidth\": 0, \"tickcolor\": \"rgb(237,237,237)\", \"ticklen\": 6, \"ticks\": \"inside\"}}, \"type\": \"scatterpolargl\"}], \"scatterternary\": [{\"marker\": {\"colorbar\": {\"outlinewidth\": 0, \"tickcolor\": \"rgb(237,237,237)\", \"ticklen\": 6, \"ticks\": \"inside\"}}, \"type\": \"scatterternary\"}], \"surface\": [{\"colorbar\": {\"outlinewidth\": 0, \"tickcolor\": \"rgb(237,237,237)\", \"ticklen\": 6, \"ticks\": \"inside\"}, \"colorscale\": [[0, \"rgb(20,44,66)\"], [1, \"rgb(90,179,244)\"]], \"type\": \"surface\"}], \"table\": [{\"cells\": {\"fill\": {\"color\": \"rgb(237,237,237)\"}, \"line\": {\"color\": \"white\"}}, \"header\": {\"fill\": {\"color\": \"rgb(217,217,217)\"}, \"line\": {\"color\": \"white\"}}, \"type\": \"table\"}]}, \"layout\": {\"annotationdefaults\": {\"arrowhead\": 0, \"arrowwidth\": 1}, \"colorscale\": {\"sequential\": [[0, \"rgb(20,44,66)\"], [1, \"rgb(90,179,244)\"]], \"sequentialminus\": [[0, \"rgb(20,44,66)\"], [1, \"rgb(90,179,244)\"]]}, \"colorway\": [\"#F8766D\", \"#A3A500\", \"#00BF7D\", \"#00B0F6\", \"#E76BF3\"], \"font\": {\"color\": \"rgb(51,51,51)\"}, \"geo\": {\"bgcolor\": \"white\", \"lakecolor\": \"white\", \"landcolor\": \"rgb(237,237,237)\", \"showlakes\": true, \"showland\": true, \"subunitcolor\": \"white\"}, \"hoverlabel\": {\"align\": \"left\"}, \"hovermode\": \"closest\", \"paper_bgcolor\": \"white\", \"plot_bgcolor\": \"rgb(237,237,237)\", \"polar\": {\"angularaxis\": {\"gridcolor\": \"white\", \"linecolor\": \"white\", \"showgrid\": true, \"tickcolor\": \"rgb(51,51,51)\", \"ticks\": \"outside\"}, \"bgcolor\": \"rgb(237,237,237)\", \"radialaxis\": {\"gridcolor\": \"white\", \"linecolor\": \"white\", \"showgrid\": true, \"tickcolor\": \"rgb(51,51,51)\", \"ticks\": \"outside\"}}, \"scene\": {\"xaxis\": {\"backgroundcolor\": \"rgb(237,237,237)\", \"gridcolor\": \"white\", \"gridwidth\": 2, \"linecolor\": \"white\", \"showbackground\": true, \"showgrid\": true, \"tickcolor\": \"rgb(51,51,51)\", \"ticks\": \"outside\", \"zerolinecolor\": \"white\"}, \"yaxis\": {\"backgroundcolor\": \"rgb(237,237,237)\", \"gridcolor\": \"white\", \"gridwidth\": 2, \"linecolor\": \"white\", \"showbackground\": true, \"showgrid\": true, \"tickcolor\": \"rgb(51,51,51)\", \"ticks\": \"outside\", \"zerolinecolor\": \"white\"}, \"zaxis\": {\"backgroundcolor\": \"rgb(237,237,237)\", \"gridcolor\": \"white\", \"gridwidth\": 2, \"linecolor\": \"white\", \"showbackground\": true, \"showgrid\": true, \"tickcolor\": \"rgb(51,51,51)\", \"ticks\": \"outside\", \"zerolinecolor\": \"white\"}}, \"shapedefaults\": {\"fillcolor\": \"black\", \"line\": {\"width\": 0}, \"opacity\": 0.3}, \"ternary\": {\"aaxis\": {\"gridcolor\": \"white\", \"linecolor\": \"white\", \"showgrid\": true, \"tickcolor\": \"rgb(51,51,51)\", \"ticks\": \"outside\"}, \"baxis\": {\"gridcolor\": \"white\", \"linecolor\": \"white\", \"showgrid\": true, \"tickcolor\": \"rgb(51,51,51)\", \"ticks\": \"outside\"}, \"bgcolor\": \"rgb(237,237,237)\", \"caxis\": {\"gridcolor\": \"white\", \"linecolor\": \"white\", \"showgrid\": true, \"tickcolor\": \"rgb(51,51,51)\", \"ticks\": \"outside\"}}, \"xaxis\": {\"automargin\": true, \"gridcolor\": \"white\", \"linecolor\": \"white\", \"showgrid\": true, \"tickcolor\": \"rgb(51,51,51)\", \"ticks\": \"outside\", \"zerolinecolor\": \"white\"}, \"yaxis\": {\"automargin\": true, \"gridcolor\": \"white\", \"linecolor\": \"white\", \"showgrid\": true, \"tickcolor\": \"rgb(51,51,51)\", \"ticks\": \"outside\", \"zerolinecolor\": \"white\"}}}, \"width\": 1200, \"xaxis\": {\"anchor\": \"y\", \"domain\": [0.0, 0.98], \"title\": {\"text\": \"id\"}}, \"yaxis\": {\"anchor\": \"x\", \"domain\": [0.0, 1.0], \"title\": {\"text\": \"pro\"}}},\n",
       "                        {\"responsive\": true}\n",
       "                    ).then(function(){\n",
       "                            \n",
       "var gd = document.getElementById('e1f5c95d-e863-4abb-a627-bb50d7d6bebc');\n",
       "var x = new MutationObserver(function (mutations, observer) {{\n",
       "        var display = window.getComputedStyle(gd).display;\n",
       "        if (!display || display === 'none') {{\n",
       "            console.log([gd, 'removed!']);\n",
       "            Plotly.purge(gd);\n",
       "            observer.disconnect();\n",
       "        }}\n",
       "}});\n",
       "\n",
       "// Listen for the removal of the full notebook cells\n",
       "var notebookContainer = gd.closest('#notebook-container');\n",
       "if (notebookContainer) {{\n",
       "    x.observe(notebookContainer, {childList: true});\n",
       "}}\n",
       "\n",
       "// Listen for the clearing of the current output cell\n",
       "var outputEl = gd.closest('.output');\n",
       "if (outputEl) {{\n",
       "    x.observe(outputEl, {childList: true});\n",
       "}}\n",
       "\n",
       "                        })\n",
       "                };\n",
       "                });\n",
       "            </script>\n",
       "        </div>"
      ]
     },
     "metadata": {},
     "output_type": "display_data"
    },
    {
     "name": "stdout",
     "output_type": "stream",
     "text": [
      "总体准确率为0.3684210526315789\n",
      "混淆矩阵为[7, 12, 0, 0]\n"
     ]
    }
   ],
   "source": [
    "pulmonary_pre = predict_plot('test_pulmonary')"
   ]
  },
  {
   "cell_type": "code",
   "execution_count": 32,
   "metadata": {
    "ExecuteTime": {
     "end_time": "2019-12-27T09:04:24.485823Z",
     "start_time": "2019-12-27T09:04:24.244470Z"
    }
   },
   "outputs": [
    {
     "data": {
      "application/vnd.plotly.v1+json": {
       "config": {
        "plotlyServerURL": "https://plot.ly"
       },
       "data": [
        {
         "hoverlabel": {
          "namelength": 0
         },
         "hovertemplate": "class=0<br>id=%{x}<br>pro=%{y}",
         "legendgroup": "class=0",
         "marker": {
          "color": "green",
          "symbol": "circle"
         },
         "mode": "markers",
         "name": "class=0",
         "showlegend": true,
         "type": "scatter",
         "x": [
          "B085_F.ex",
          "B096_F.ex",
          "B149_F.ex",
          "B150_F.ex",
          "B216_F.ex",
          "B229_F.ex",
          "B246_F.ex",
          "B247_F.ex"
         ],
         "xaxis": "x",
         "y": [
          0.0019355249123191468,
          0.2722573273831516,
          0.04885066804737718,
          0.40217142380404414,
          0.1763215546306511,
          0.7301855126466672,
          0.5767475066699849,
          0.558064324890613
         ],
         "yaxis": "y"
        },
        {
         "line": {
          "color": "grey",
          "dash": "dash"
         },
         "mode": "lines",
         "showlegend": false,
         "type": "scatter",
         "x": [
          "B085_F.ex",
          "B247_F.ex"
         ],
         "y": [
          0.5,
          0.5
         ]
        }
       ],
       "layout": {
        "height": 800,
        "legend": {
         "tracegroupgap": 0
        },
        "margin": {
         "t": 60
        },
        "template": {
         "data": {
          "bar": [
           {
            "error_x": {
             "color": "rgb(51,51,51)"
            },
            "error_y": {
             "color": "rgb(51,51,51)"
            },
            "marker": {
             "line": {
              "color": "rgb(237,237,237)",
              "width": 0.5
             }
            },
            "type": "bar"
           }
          ],
          "barpolar": [
           {
            "marker": {
             "line": {
              "color": "rgb(237,237,237)",
              "width": 0.5
             }
            },
            "type": "barpolar"
           }
          ],
          "carpet": [
           {
            "aaxis": {
             "endlinecolor": "rgb(51,51,51)",
             "gridcolor": "white",
             "linecolor": "white",
             "minorgridcolor": "white",
             "startlinecolor": "rgb(51,51,51)"
            },
            "baxis": {
             "endlinecolor": "rgb(51,51,51)",
             "gridcolor": "white",
             "linecolor": "white",
             "minorgridcolor": "white",
             "startlinecolor": "rgb(51,51,51)"
            },
            "type": "carpet"
           }
          ],
          "choropleth": [
           {
            "colorbar": {
             "outlinewidth": 0,
             "tickcolor": "rgb(237,237,237)",
             "ticklen": 6,
             "ticks": "inside"
            },
            "type": "choropleth"
           }
          ],
          "contour": [
           {
            "colorbar": {
             "outlinewidth": 0,
             "tickcolor": "rgb(237,237,237)",
             "ticklen": 6,
             "ticks": "inside"
            },
            "colorscale": [
             [
              0,
              "rgb(20,44,66)"
             ],
             [
              1,
              "rgb(90,179,244)"
             ]
            ],
            "type": "contour"
           }
          ],
          "contourcarpet": [
           {
            "colorbar": {
             "outlinewidth": 0,
             "tickcolor": "rgb(237,237,237)",
             "ticklen": 6,
             "ticks": "inside"
            },
            "type": "contourcarpet"
           }
          ],
          "heatmap": [
           {
            "colorbar": {
             "outlinewidth": 0,
             "tickcolor": "rgb(237,237,237)",
             "ticklen": 6,
             "ticks": "inside"
            },
            "colorscale": [
             [
              0,
              "rgb(20,44,66)"
             ],
             [
              1,
              "rgb(90,179,244)"
             ]
            ],
            "type": "heatmap"
           }
          ],
          "heatmapgl": [
           {
            "colorbar": {
             "outlinewidth": 0,
             "tickcolor": "rgb(237,237,237)",
             "ticklen": 6,
             "ticks": "inside"
            },
            "colorscale": [
             [
              0,
              "rgb(20,44,66)"
             ],
             [
              1,
              "rgb(90,179,244)"
             ]
            ],
            "type": "heatmapgl"
           }
          ],
          "histogram": [
           {
            "marker": {
             "colorbar": {
              "outlinewidth": 0,
              "tickcolor": "rgb(237,237,237)",
              "ticklen": 6,
              "ticks": "inside"
             }
            },
            "type": "histogram"
           }
          ],
          "histogram2d": [
           {
            "colorbar": {
             "outlinewidth": 0,
             "tickcolor": "rgb(237,237,237)",
             "ticklen": 6,
             "ticks": "inside"
            },
            "colorscale": [
             [
              0,
              "rgb(20,44,66)"
             ],
             [
              1,
              "rgb(90,179,244)"
             ]
            ],
            "type": "histogram2d"
           }
          ],
          "histogram2dcontour": [
           {
            "colorbar": {
             "outlinewidth": 0,
             "tickcolor": "rgb(237,237,237)",
             "ticklen": 6,
             "ticks": "inside"
            },
            "colorscale": [
             [
              0,
              "rgb(20,44,66)"
             ],
             [
              1,
              "rgb(90,179,244)"
             ]
            ],
            "type": "histogram2dcontour"
           }
          ],
          "mesh3d": [
           {
            "colorbar": {
             "outlinewidth": 0,
             "tickcolor": "rgb(237,237,237)",
             "ticklen": 6,
             "ticks": "inside"
            },
            "type": "mesh3d"
           }
          ],
          "parcoords": [
           {
            "line": {
             "colorbar": {
              "outlinewidth": 0,
              "tickcolor": "rgb(237,237,237)",
              "ticklen": 6,
              "ticks": "inside"
             }
            },
            "type": "parcoords"
           }
          ],
          "scatter": [
           {
            "marker": {
             "colorbar": {
              "outlinewidth": 0,
              "tickcolor": "rgb(237,237,237)",
              "ticklen": 6,
              "ticks": "inside"
             }
            },
            "type": "scatter"
           }
          ],
          "scatter3d": [
           {
            "line": {
             "colorbar": {
              "outlinewidth": 0,
              "tickcolor": "rgb(237,237,237)",
              "ticklen": 6,
              "ticks": "inside"
             }
            },
            "marker": {
             "colorbar": {
              "outlinewidth": 0,
              "tickcolor": "rgb(237,237,237)",
              "ticklen": 6,
              "ticks": "inside"
             }
            },
            "type": "scatter3d"
           }
          ],
          "scattercarpet": [
           {
            "marker": {
             "colorbar": {
              "outlinewidth": 0,
              "tickcolor": "rgb(237,237,237)",
              "ticklen": 6,
              "ticks": "inside"
             }
            },
            "type": "scattercarpet"
           }
          ],
          "scattergeo": [
           {
            "marker": {
             "colorbar": {
              "outlinewidth": 0,
              "tickcolor": "rgb(237,237,237)",
              "ticklen": 6,
              "ticks": "inside"
             }
            },
            "type": "scattergeo"
           }
          ],
          "scattergl": [
           {
            "marker": {
             "colorbar": {
              "outlinewidth": 0,
              "tickcolor": "rgb(237,237,237)",
              "ticklen": 6,
              "ticks": "inside"
             }
            },
            "type": "scattergl"
           }
          ],
          "scattermapbox": [
           {
            "marker": {
             "colorbar": {
              "outlinewidth": 0,
              "tickcolor": "rgb(237,237,237)",
              "ticklen": 6,
              "ticks": "inside"
             }
            },
            "type": "scattermapbox"
           }
          ],
          "scatterpolar": [
           {
            "marker": {
             "colorbar": {
              "outlinewidth": 0,
              "tickcolor": "rgb(237,237,237)",
              "ticklen": 6,
              "ticks": "inside"
             }
            },
            "type": "scatterpolar"
           }
          ],
          "scatterpolargl": [
           {
            "marker": {
             "colorbar": {
              "outlinewidth": 0,
              "tickcolor": "rgb(237,237,237)",
              "ticklen": 6,
              "ticks": "inside"
             }
            },
            "type": "scatterpolargl"
           }
          ],
          "scatterternary": [
           {
            "marker": {
             "colorbar": {
              "outlinewidth": 0,
              "tickcolor": "rgb(237,237,237)",
              "ticklen": 6,
              "ticks": "inside"
             }
            },
            "type": "scatterternary"
           }
          ],
          "surface": [
           {
            "colorbar": {
             "outlinewidth": 0,
             "tickcolor": "rgb(237,237,237)",
             "ticklen": 6,
             "ticks": "inside"
            },
            "colorscale": [
             [
              0,
              "rgb(20,44,66)"
             ],
             [
              1,
              "rgb(90,179,244)"
             ]
            ],
            "type": "surface"
           }
          ],
          "table": [
           {
            "cells": {
             "fill": {
              "color": "rgb(237,237,237)"
             },
             "line": {
              "color": "white"
             }
            },
            "header": {
             "fill": {
              "color": "rgb(217,217,217)"
             },
             "line": {
              "color": "white"
             }
            },
            "type": "table"
           }
          ]
         },
         "layout": {
          "annotationdefaults": {
           "arrowhead": 0,
           "arrowwidth": 1
          },
          "colorscale": {
           "sequential": [
            [
             0,
             "rgb(20,44,66)"
            ],
            [
             1,
             "rgb(90,179,244)"
            ]
           ],
           "sequentialminus": [
            [
             0,
             "rgb(20,44,66)"
            ],
            [
             1,
             "rgb(90,179,244)"
            ]
           ]
          },
          "colorway": [
           "#F8766D",
           "#A3A500",
           "#00BF7D",
           "#00B0F6",
           "#E76BF3"
          ],
          "font": {
           "color": "rgb(51,51,51)"
          },
          "geo": {
           "bgcolor": "white",
           "lakecolor": "white",
           "landcolor": "rgb(237,237,237)",
           "showlakes": true,
           "showland": true,
           "subunitcolor": "white"
          },
          "hoverlabel": {
           "align": "left"
          },
          "hovermode": "closest",
          "paper_bgcolor": "white",
          "plot_bgcolor": "rgb(237,237,237)",
          "polar": {
           "angularaxis": {
            "gridcolor": "white",
            "linecolor": "white",
            "showgrid": true,
            "tickcolor": "rgb(51,51,51)",
            "ticks": "outside"
           },
           "bgcolor": "rgb(237,237,237)",
           "radialaxis": {
            "gridcolor": "white",
            "linecolor": "white",
            "showgrid": true,
            "tickcolor": "rgb(51,51,51)",
            "ticks": "outside"
           }
          },
          "scene": {
           "xaxis": {
            "backgroundcolor": "rgb(237,237,237)",
            "gridcolor": "white",
            "gridwidth": 2,
            "linecolor": "white",
            "showbackground": true,
            "showgrid": true,
            "tickcolor": "rgb(51,51,51)",
            "ticks": "outside",
            "zerolinecolor": "white"
           },
           "yaxis": {
            "backgroundcolor": "rgb(237,237,237)",
            "gridcolor": "white",
            "gridwidth": 2,
            "linecolor": "white",
            "showbackground": true,
            "showgrid": true,
            "tickcolor": "rgb(51,51,51)",
            "ticks": "outside",
            "zerolinecolor": "white"
           },
           "zaxis": {
            "backgroundcolor": "rgb(237,237,237)",
            "gridcolor": "white",
            "gridwidth": 2,
            "linecolor": "white",
            "showbackground": true,
            "showgrid": true,
            "tickcolor": "rgb(51,51,51)",
            "ticks": "outside",
            "zerolinecolor": "white"
           }
          },
          "shapedefaults": {
           "fillcolor": "black",
           "line": {
            "width": 0
           },
           "opacity": 0.3
          },
          "ternary": {
           "aaxis": {
            "gridcolor": "white",
            "linecolor": "white",
            "showgrid": true,
            "tickcolor": "rgb(51,51,51)",
            "ticks": "outside"
           },
           "baxis": {
            "gridcolor": "white",
            "linecolor": "white",
            "showgrid": true,
            "tickcolor": "rgb(51,51,51)",
            "ticks": "outside"
           },
           "bgcolor": "rgb(237,237,237)",
           "caxis": {
            "gridcolor": "white",
            "linecolor": "white",
            "showgrid": true,
            "tickcolor": "rgb(51,51,51)",
            "ticks": "outside"
           }
          },
          "xaxis": {
           "automargin": true,
           "gridcolor": "white",
           "linecolor": "white",
           "showgrid": true,
           "tickcolor": "rgb(51,51,51)",
           "ticks": "outside",
           "zerolinecolor": "white"
          },
          "yaxis": {
           "automargin": true,
           "gridcolor": "white",
           "linecolor": "white",
           "showgrid": true,
           "tickcolor": "rgb(51,51,51)",
           "ticks": "outside",
           "zerolinecolor": "white"
          }
         }
        },
        "width": 1200,
        "xaxis": {
         "anchor": "y",
         "domain": [
          0,
          0.98
         ],
         "title": {
          "text": "id"
         }
        },
        "yaxis": {
         "anchor": "x",
         "domain": [
          0,
          1
         ],
         "title": {
          "text": "pro"
         }
        }
       }
      },
      "text/html": [
       "<div>\n",
       "        \n",
       "        \n",
       "            <div id=\"b0965f0d-c4a5-4613-9a01-d0ca0ffffadc\" class=\"plotly-graph-div\" style=\"height:800px; width:1200px;\"></div>\n",
       "            <script type=\"text/javascript\">\n",
       "                require([\"plotly\"], function(Plotly) {\n",
       "                    window.PLOTLYENV=window.PLOTLYENV || {};\n",
       "                    \n",
       "                if (document.getElementById(\"b0965f0d-c4a5-4613-9a01-d0ca0ffffadc\")) {\n",
       "                    Plotly.newPlot(\n",
       "                        'b0965f0d-c4a5-4613-9a01-d0ca0ffffadc',\n",
       "                        [{\"hoverlabel\": {\"namelength\": 0}, \"hovertemplate\": \"class=0<br>id=%{x}<br>pro=%{y}\", \"legendgroup\": \"class=0\", \"marker\": {\"color\": \"green\", \"symbol\": \"circle\"}, \"mode\": \"markers\", \"name\": \"class=0\", \"showlegend\": true, \"type\": \"scatter\", \"x\": [\"B085_F.ex\", \"B096_F.ex\", \"B149_F.ex\", \"B150_F.ex\", \"B216_F.ex\", \"B229_F.ex\", \"B246_F.ex\", \"B247_F.ex\"], \"xaxis\": \"x\", \"y\": [0.0019355249123191468, 0.2722573273831516, 0.04885066804737718, 0.40217142380404414, 0.1763215546306511, 0.7301855126466672, 0.5767475066699849, 0.558064324890613], \"yaxis\": \"y\"}, {\"line\": {\"color\": \"grey\", \"dash\": \"dash\"}, \"mode\": \"lines\", \"showlegend\": false, \"type\": \"scatter\", \"x\": [\"B085_F.ex\", \"B247_F.ex\"], \"y\": [0.5, 0.5]}],\n",
       "                        {\"height\": 800, \"legend\": {\"tracegroupgap\": 0}, \"margin\": {\"t\": 60}, \"template\": {\"data\": {\"bar\": [{\"error_x\": {\"color\": \"rgb(51,51,51)\"}, \"error_y\": {\"color\": \"rgb(51,51,51)\"}, \"marker\": {\"line\": {\"color\": \"rgb(237,237,237)\", \"width\": 0.5}}, \"type\": \"bar\"}], \"barpolar\": [{\"marker\": {\"line\": {\"color\": \"rgb(237,237,237)\", \"width\": 0.5}}, \"type\": \"barpolar\"}], \"carpet\": [{\"aaxis\": {\"endlinecolor\": \"rgb(51,51,51)\", \"gridcolor\": \"white\", \"linecolor\": \"white\", \"minorgridcolor\": \"white\", \"startlinecolor\": \"rgb(51,51,51)\"}, \"baxis\": {\"endlinecolor\": \"rgb(51,51,51)\", \"gridcolor\": \"white\", \"linecolor\": \"white\", \"minorgridcolor\": \"white\", \"startlinecolor\": \"rgb(51,51,51)\"}, \"type\": \"carpet\"}], \"choropleth\": [{\"colorbar\": {\"outlinewidth\": 0, \"tickcolor\": \"rgb(237,237,237)\", \"ticklen\": 6, \"ticks\": \"inside\"}, \"type\": \"choropleth\"}], \"contour\": [{\"colorbar\": {\"outlinewidth\": 0, \"tickcolor\": \"rgb(237,237,237)\", \"ticklen\": 6, \"ticks\": \"inside\"}, \"colorscale\": [[0, \"rgb(20,44,66)\"], [1, \"rgb(90,179,244)\"]], \"type\": \"contour\"}], \"contourcarpet\": [{\"colorbar\": {\"outlinewidth\": 0, \"tickcolor\": \"rgb(237,237,237)\", \"ticklen\": 6, \"ticks\": \"inside\"}, \"type\": \"contourcarpet\"}], \"heatmap\": [{\"colorbar\": {\"outlinewidth\": 0, \"tickcolor\": \"rgb(237,237,237)\", \"ticklen\": 6, \"ticks\": \"inside\"}, \"colorscale\": [[0, \"rgb(20,44,66)\"], [1, \"rgb(90,179,244)\"]], \"type\": \"heatmap\"}], \"heatmapgl\": [{\"colorbar\": {\"outlinewidth\": 0, \"tickcolor\": \"rgb(237,237,237)\", \"ticklen\": 6, \"ticks\": \"inside\"}, \"colorscale\": [[0, \"rgb(20,44,66)\"], [1, \"rgb(90,179,244)\"]], \"type\": \"heatmapgl\"}], \"histogram\": [{\"marker\": {\"colorbar\": {\"outlinewidth\": 0, \"tickcolor\": \"rgb(237,237,237)\", \"ticklen\": 6, \"ticks\": \"inside\"}}, \"type\": \"histogram\"}], \"histogram2d\": [{\"colorbar\": {\"outlinewidth\": 0, \"tickcolor\": \"rgb(237,237,237)\", \"ticklen\": 6, \"ticks\": \"inside\"}, \"colorscale\": [[0, \"rgb(20,44,66)\"], [1, \"rgb(90,179,244)\"]], \"type\": \"histogram2d\"}], \"histogram2dcontour\": [{\"colorbar\": {\"outlinewidth\": 0, \"tickcolor\": \"rgb(237,237,237)\", \"ticklen\": 6, \"ticks\": \"inside\"}, \"colorscale\": [[0, \"rgb(20,44,66)\"], [1, \"rgb(90,179,244)\"]], \"type\": \"histogram2dcontour\"}], \"mesh3d\": [{\"colorbar\": {\"outlinewidth\": 0, \"tickcolor\": \"rgb(237,237,237)\", \"ticklen\": 6, \"ticks\": \"inside\"}, \"type\": \"mesh3d\"}], \"parcoords\": [{\"line\": {\"colorbar\": {\"outlinewidth\": 0, \"tickcolor\": \"rgb(237,237,237)\", \"ticklen\": 6, \"ticks\": \"inside\"}}, \"type\": \"parcoords\"}], \"scatter\": [{\"marker\": {\"colorbar\": {\"outlinewidth\": 0, \"tickcolor\": \"rgb(237,237,237)\", \"ticklen\": 6, \"ticks\": \"inside\"}}, \"type\": \"scatter\"}], \"scatter3d\": [{\"line\": {\"colorbar\": {\"outlinewidth\": 0, \"tickcolor\": \"rgb(237,237,237)\", \"ticklen\": 6, \"ticks\": \"inside\"}}, \"marker\": {\"colorbar\": {\"outlinewidth\": 0, \"tickcolor\": \"rgb(237,237,237)\", \"ticklen\": 6, \"ticks\": \"inside\"}}, \"type\": \"scatter3d\"}], \"scattercarpet\": [{\"marker\": {\"colorbar\": {\"outlinewidth\": 0, \"tickcolor\": \"rgb(237,237,237)\", \"ticklen\": 6, \"ticks\": \"inside\"}}, \"type\": \"scattercarpet\"}], \"scattergeo\": [{\"marker\": {\"colorbar\": {\"outlinewidth\": 0, \"tickcolor\": \"rgb(237,237,237)\", \"ticklen\": 6, \"ticks\": \"inside\"}}, \"type\": \"scattergeo\"}], \"scattergl\": [{\"marker\": {\"colorbar\": {\"outlinewidth\": 0, \"tickcolor\": \"rgb(237,237,237)\", \"ticklen\": 6, \"ticks\": \"inside\"}}, \"type\": \"scattergl\"}], \"scattermapbox\": [{\"marker\": {\"colorbar\": {\"outlinewidth\": 0, \"tickcolor\": \"rgb(237,237,237)\", \"ticklen\": 6, \"ticks\": \"inside\"}}, \"type\": \"scattermapbox\"}], \"scatterpolar\": [{\"marker\": {\"colorbar\": {\"outlinewidth\": 0, \"tickcolor\": \"rgb(237,237,237)\", \"ticklen\": 6, \"ticks\": \"inside\"}}, \"type\": \"scatterpolar\"}], \"scatterpolargl\": [{\"marker\": {\"colorbar\": {\"outlinewidth\": 0, \"tickcolor\": \"rgb(237,237,237)\", \"ticklen\": 6, \"ticks\": \"inside\"}}, \"type\": \"scatterpolargl\"}], \"scatterternary\": [{\"marker\": {\"colorbar\": {\"outlinewidth\": 0, \"tickcolor\": \"rgb(237,237,237)\", \"ticklen\": 6, \"ticks\": \"inside\"}}, \"type\": \"scatterternary\"}], \"surface\": [{\"colorbar\": {\"outlinewidth\": 0, \"tickcolor\": \"rgb(237,237,237)\", \"ticklen\": 6, \"ticks\": \"inside\"}, \"colorscale\": [[0, \"rgb(20,44,66)\"], [1, \"rgb(90,179,244)\"]], \"type\": \"surface\"}], \"table\": [{\"cells\": {\"fill\": {\"color\": \"rgb(237,237,237)\"}, \"line\": {\"color\": \"white\"}}, \"header\": {\"fill\": {\"color\": \"rgb(217,217,217)\"}, \"line\": {\"color\": \"white\"}}, \"type\": \"table\"}]}, \"layout\": {\"annotationdefaults\": {\"arrowhead\": 0, \"arrowwidth\": 1}, \"colorscale\": {\"sequential\": [[0, \"rgb(20,44,66)\"], [1, \"rgb(90,179,244)\"]], \"sequentialminus\": [[0, \"rgb(20,44,66)\"], [1, \"rgb(90,179,244)\"]]}, \"colorway\": [\"#F8766D\", \"#A3A500\", \"#00BF7D\", \"#00B0F6\", \"#E76BF3\"], \"font\": {\"color\": \"rgb(51,51,51)\"}, \"geo\": {\"bgcolor\": \"white\", \"lakecolor\": \"white\", \"landcolor\": \"rgb(237,237,237)\", \"showlakes\": true, \"showland\": true, \"subunitcolor\": \"white\"}, \"hoverlabel\": {\"align\": \"left\"}, \"hovermode\": \"closest\", \"paper_bgcolor\": \"white\", \"plot_bgcolor\": \"rgb(237,237,237)\", \"polar\": {\"angularaxis\": {\"gridcolor\": \"white\", \"linecolor\": \"white\", \"showgrid\": true, \"tickcolor\": \"rgb(51,51,51)\", \"ticks\": \"outside\"}, \"bgcolor\": \"rgb(237,237,237)\", \"radialaxis\": {\"gridcolor\": \"white\", \"linecolor\": \"white\", \"showgrid\": true, \"tickcolor\": \"rgb(51,51,51)\", \"ticks\": \"outside\"}}, \"scene\": {\"xaxis\": {\"backgroundcolor\": \"rgb(237,237,237)\", \"gridcolor\": \"white\", \"gridwidth\": 2, \"linecolor\": \"white\", \"showbackground\": true, \"showgrid\": true, \"tickcolor\": \"rgb(51,51,51)\", \"ticks\": \"outside\", \"zerolinecolor\": \"white\"}, \"yaxis\": {\"backgroundcolor\": \"rgb(237,237,237)\", \"gridcolor\": \"white\", \"gridwidth\": 2, \"linecolor\": \"white\", \"showbackground\": true, \"showgrid\": true, \"tickcolor\": \"rgb(51,51,51)\", \"ticks\": \"outside\", \"zerolinecolor\": \"white\"}, \"zaxis\": {\"backgroundcolor\": \"rgb(237,237,237)\", \"gridcolor\": \"white\", \"gridwidth\": 2, \"linecolor\": \"white\", \"showbackground\": true, \"showgrid\": true, \"tickcolor\": \"rgb(51,51,51)\", \"ticks\": \"outside\", \"zerolinecolor\": \"white\"}}, \"shapedefaults\": {\"fillcolor\": \"black\", \"line\": {\"width\": 0}, \"opacity\": 0.3}, \"ternary\": {\"aaxis\": {\"gridcolor\": \"white\", \"linecolor\": \"white\", \"showgrid\": true, \"tickcolor\": \"rgb(51,51,51)\", \"ticks\": \"outside\"}, \"baxis\": {\"gridcolor\": \"white\", \"linecolor\": \"white\", \"showgrid\": true, \"tickcolor\": \"rgb(51,51,51)\", \"ticks\": \"outside\"}, \"bgcolor\": \"rgb(237,237,237)\", \"caxis\": {\"gridcolor\": \"white\", \"linecolor\": \"white\", \"showgrid\": true, \"tickcolor\": \"rgb(51,51,51)\", \"ticks\": \"outside\"}}, \"xaxis\": {\"automargin\": true, \"gridcolor\": \"white\", \"linecolor\": \"white\", \"showgrid\": true, \"tickcolor\": \"rgb(51,51,51)\", \"ticks\": \"outside\", \"zerolinecolor\": \"white\"}, \"yaxis\": {\"automargin\": true, \"gridcolor\": \"white\", \"linecolor\": \"white\", \"showgrid\": true, \"tickcolor\": \"rgb(51,51,51)\", \"ticks\": \"outside\", \"zerolinecolor\": \"white\"}}}, \"width\": 1200, \"xaxis\": {\"anchor\": \"y\", \"domain\": [0.0, 0.98], \"title\": {\"text\": \"id\"}}, \"yaxis\": {\"anchor\": \"x\", \"domain\": [0.0, 1.0], \"title\": {\"text\": \"pro\"}}},\n",
       "                        {\"responsive\": true}\n",
       "                    ).then(function(){\n",
       "                            \n",
       "var gd = document.getElementById('b0965f0d-c4a5-4613-9a01-d0ca0ffffadc');\n",
       "var x = new MutationObserver(function (mutations, observer) {{\n",
       "        var display = window.getComputedStyle(gd).display;\n",
       "        if (!display || display === 'none') {{\n",
       "            console.log([gd, 'removed!']);\n",
       "            Plotly.purge(gd);\n",
       "            observer.disconnect();\n",
       "        }}\n",
       "}});\n",
       "\n",
       "// Listen for the removal of the full notebook cells\n",
       "var notebookContainer = gd.closest('#notebook-container');\n",
       "if (notebookContainer) {{\n",
       "    x.observe(notebookContainer, {childList: true});\n",
       "}}\n",
       "\n",
       "// Listen for the clearing of the current output cell\n",
       "var outputEl = gd.closest('.output');\n",
       "if (outputEl) {{\n",
       "    x.observe(outputEl, {childList: true});\n",
       "}}\n",
       "\n",
       "                        })\n",
       "                };\n",
       "                });\n",
       "            </script>\n",
       "        </div>"
      ]
     },
     "metadata": {},
     "output_type": "display_data"
    },
    {
     "name": "stdout",
     "output_type": "stream",
     "text": [
      "总体准确率为0.625\n",
      "混淆矩阵为[5, 3, 0, 0]\n"
     ]
    }
   ],
   "source": [
    "PLT_pre = predict_plot('test_PLT', thres=0.5)"
   ]
  },
  {
   "cell_type": "code",
   "execution_count": null,
   "metadata": {},
   "outputs": [],
   "source": []
  }
 ],
 "metadata": {
  "kernelspec": {
   "display_name": "Python 3",
   "language": "python",
   "name": "python3"
  },
  "language_info": {
   "codemirror_mode": {
    "name": "ipython",
    "version": 3
   },
   "file_extension": ".py",
   "mimetype": "text/x-python",
   "name": "python",
   "nbconvert_exporter": "python",
   "pygments_lexer": "ipython3",
   "version": "3.7.3"
  }
 },
 "nbformat": 4,
 "nbformat_minor": 2
}
