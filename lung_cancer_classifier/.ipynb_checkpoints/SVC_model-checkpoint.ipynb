{
 "cells": [
  {
   "cell_type": "code",
   "execution_count": 1,
   "metadata": {
    "ExecuteTime": {
     "end_time": "2019-12-27T06:00:45.104376Z",
     "start_time": "2019-12-27T06:00:45.101384Z"
    }
   },
   "outputs": [],
   "source": [
    "# Created by: Chen Da\n",
    "# Created on: 20191217"
   ]
  },
  {
   "cell_type": "code",
   "execution_count": 92,
   "metadata": {
    "ExecuteTime": {
     "end_time": "2019-12-27T08:22:40.301780Z",
     "start_time": "2019-12-27T08:22:40.293801Z"
    }
   },
   "outputs": [],
   "source": [
    "import pandas as pd\n",
    "import numpy as np\n",
    "import matplotlib.pyplot as plt\n",
    "import random, warnings\n",
    "import matplotlib.pyplot as plt\n",
    "from sklearn.model_selection import validation_curve\n",
    "from sklearn.linear_model import LogisticRegression\n",
    "from sklearn.svm import SVC\n",
    "from sklearn.preprocessing import StandardScaler\n",
    "import plotly as py\n",
    "import plotly.graph_objs as go\n",
    "import plotly.express as px\n",
    "\n",
    "warnings.filterwarnings('ignore')"
   ]
  },
  {
   "cell_type": "code",
   "execution_count": 93,
   "metadata": {
    "ExecuteTime": {
     "end_time": "2019-12-27T08:22:40.801444Z",
     "start_time": "2019-12-27T08:22:40.782494Z"
    }
   },
   "outputs": [],
   "source": [
    "def final_model(df):\n",
    "    predict_score = list()\n",
    "    for info in range(df.shape[0]):\n",
    "        new_data = df.iloc[info, :].values[1:-1]\n",
    "        z = np.dot(new_data, coefs) + intercept\n",
    "        y = 1 / (1 + np.exp(-z))\n",
    "        predict_score.append(y)\n",
    "    predict_df = pd.DataFrame(predict_score, columns=['pro'])\n",
    "    df.index = [i for i in range(df.shape[0])]\n",
    "    predict_df['id'] = df['id']\n",
    "    predict_df['class'] = df['class']\n",
    "    predict_df = predict_df.reindex(columns=['id', 'pro', 'class'])\n",
    "    positive = predict_df[predict_df['class'] == 1]\n",
    "    negtive = predict_df[predict_df['class'] == 0]\n",
    "    plt.figure(figsize=(20, 12))\n",
    "    plt.scatter(x=positive['id'], y=positive['pro'], color='red')\n",
    "    plt.scatter(x=negtive['id'], y=negtive['pro'], color='blue')\n",
    "    plt.axhline(y=0.5, color='grey', linestyle='--', alpha=0.6)\n",
    "    plt.xticks(rotation=90)\n",
    "    plt.grid()\n",
    "    plt.show()\n",
    "    predict_df['pre_label'] = predict_df['pro'].apply(lambda x: round(x))\n",
    "    predict_df['class'] = predict_df['class'].apply(lambda x: int(x))\n",
    "    pre_0_right = predict_df[np.logical_and(predict_df['class'] == 0, predict_df['pre_label'] == 0)].shape[0]\n",
    "    pre_0_wrong = predict_df[np.logical_and(predict_df['class'] == 0, predict_df['pre_label'] == 1)].shape[0]\n",
    "    pre_1_right = predict_df[np.logical_and(predict_df['class'] == 1, predict_df['pre_label'] == 1)].shape[0]\n",
    "    pre_1_wrong = predict_df[np.logical_and(predict_df['class'] == 1, predict_df['pre_label'] == 0)].shape[0]\n",
    "    print('总体准确率为%s' % ((pre_0_right + pre_1_right) / predict_df.shape[0]))\n",
    "    return predict_df"
   ]
  },
  {
   "cell_type": "code",
   "execution_count": 94,
   "metadata": {
    "ExecuteTime": {
     "end_time": "2019-12-27T08:22:41.603018Z",
     "start_time": "2019-12-27T08:22:41.592047Z"
    }
   },
   "outputs": [],
   "source": [
    "def split_func(data_frame, size=0.8):\n",
    "    \"\"\"\n",
    "    Split the data into two data set\n",
    "    :param data_frame: the name of input data\n",
    "    :param size : the size of train data\n",
    "    :return: train_data, test_data\n",
    "    \"\"\"\n",
    "    data_frame = pd.DataFrame(data_frame.values,\n",
    "                              index=[i for i in range(data_frame.values.shape[0])],\n",
    "                              columns=data_frame.columns)\n",
    "    healthy_data = data_frame[data_frame[\"class\"] == 0]\n",
    "    unhealthy_data = data_frame[data_frame[\"class\"] == 1]\n",
    "    healthy_index = list(healthy_data.index)\n",
    "    unhealthy_index = list(unhealthy_data.index)\n",
    "    healthy_train_data_index = random.sample(healthy_index, int(size * len(healthy_index)))\n",
    "    unhealthy_train_data_index = random.sample(unhealthy_index, int(size * len(unhealthy_index)))\n",
    "    healthy_test_data_index = list(set(healthy_index).difference(set(healthy_train_data_index)))\n",
    "    unhealthy_test_data_index = list(set(unhealthy_index).difference(set(unhealthy_train_data_index)))\n",
    "    train_index = list(set(healthy_train_data_index).union(set(unhealthy_train_data_index)))\n",
    "    test_index = list(set(healthy_test_data_index).union(set(unhealthy_test_data_index)))\n",
    "    train = data_frame.iloc[train_index, :]\n",
    "    test = data_frame.iloc[test_index, :]\n",
    "    return train, test"
   ]
  },
  {
   "cell_type": "code",
   "execution_count": 166,
   "metadata": {
    "ExecuteTime": {
     "end_time": "2019-12-27T09:29:10.631211Z",
     "start_time": "2019-12-27T09:29:10.510539Z"
    },
    "scrolled": true
   },
   "outputs": [
    {
     "data": {
      "text/plain": [
       "(110, 31)"
      ]
     },
     "execution_count": 166,
     "metadata": {},
     "output_type": "execute_result"
    }
   ],
   "source": [
    "path = 'C:/Users/pc/OneDrive/PLTTECH/Project/02_Disease_early_screening/lung_cancer/'\n",
    "df_name = 'raw_data'\n",
    "df = pd.read_excel(path + 'rawdata/' + df_name + '.xlsx')\n",
    "df['id'] = df['id'].apply(lambda x:str(x))\n",
    "pnasSubsetsIndex = [0,2,3,4,10,11,18,19,28,42,48,49,50,51,57,59,61,67,69,70,71,72,80,81,90,94,95,97,98,100,102]       \n",
    "      \n",
    "df = df.iloc[:, pnasSubsetsIndex]\n",
    "# df.iloc[:, 1:-1] = df.iloc[:, 1:-1].multiply(100)\n",
    "# stdsc = StandardScaler()\n",
    "# df.iloc[:, 1:-1] = pd.DataFrame(stdsc.fit_transform(df.iloc[:, 1:-1].values), columns=df.columns[1:-1])\n",
    "df.shape"
   ]
  },
  {
   "cell_type": "code",
   "execution_count": 167,
   "metadata": {
    "ExecuteTime": {
     "end_time": "2019-12-27T09:29:11.431585Z",
     "start_time": "2019-12-27T09:29:11.426598Z"
    }
   },
   "outputs": [],
   "source": [
    "## 划分训练集和测试集\n",
    "# train_df, test_df = split_func(df)\n",
    "# X_train = train_df.iloc[:, 1:-1].values\n",
    "# y_train = train_df['class'].values.astype('int')\n",
    "# X_test = test_df.iloc[:, 1:-1].values\n",
    "# y_test = test_df['class'].values.astype('int')\n",
    "X_train = df.iloc[:, 1:-1].values\n",
    "y_train = df['class'].values.astype('int')"
   ]
  },
  {
   "cell_type": "code",
   "execution_count": 168,
   "metadata": {
    "ExecuteTime": {
     "end_time": "2019-12-27T09:29:12.714862Z",
     "start_time": "2019-12-27T09:29:12.711870Z"
    }
   },
   "outputs": [],
   "source": [
    "# train_df.to_excel('C:/Users/pc/Desktop/SVC_ModelRawData.xlsx', index=False)"
   ]
  },
  {
   "cell_type": "code",
   "execution_count": 182,
   "metadata": {
    "ExecuteTime": {
     "end_time": "2019-12-27T09:30:36.093411Z",
     "start_time": "2019-12-27T09:30:35.658778Z"
    },
    "scrolled": false
   },
   "outputs": [
    {
     "name": "stdout",
     "output_type": "stream",
     "text": [
      "[1.00000000e-06 2.97635144e-06 8.85866790e-06 2.63665090e-05\n",
      " 7.84759970e-05 2.33572147e-04 6.95192796e-04 2.06913808e-03\n",
      " 6.15848211e-03 1.83298071e-02 5.45559478e-02 1.62377674e-01\n",
      " 4.83293024e-01 1.43844989e+00 4.28133240e+00 1.27427499e+01\n",
      " 3.79269019e+01 1.12883789e+02 3.35981829e+02 1.00000000e+03]\n"
     ]
    },
    {
     "data": {
      "image/png": "[encoded data removed]",
      "text/plain": [
       "<Figure size 1440x864 with 1 Axes>"
      ]
     },
     "metadata": {
      "needs_background": "light"
     },
     "output_type": "display_data"
    }
   ],
   "source": [
    "# 通过验证曲线来确定正则参数\n",
    "# clf = LogisticRegression(penalty='elasticnet', solver='saga', l1_ratio=0.9)\n",
    "# clf = LogisticRegression(penalty='l1')\n",
    "clf = SVC(C=1)\n",
    "# param_range = [0.001, 0.01, 0.1, 1.0, 10.0, 100.0]\n",
    "param_range = np.logspace(-6, 3, 20)\n",
    "print(param_range)\n",
    "train_scores, test_scores = validation_curve(estimator=clf, X=X_train, \n",
    "                                             y=y_train,\n",
    "                                             param_name='gamma',\n",
    "                                             param_range=param_range,\n",
    "                                             cv=5)\n",
    "train_mean = np.mean(train_scores, axis=1)\n",
    "train_std = np.std(train_scores, axis=1)\n",
    "test_mean = np.mean(test_scores, axis=1)\n",
    "test_std = np.std(test_scores, axis=1)\n",
    "plt.figure(figsize=(20,12))\n",
    "plt.plot(param_range, train_mean, color='blue', marker='o',\n",
    "         markersize=5, label='training acucracy')\n",
    "plt.fill_between(param_range, train_mean+train_std, train_mean-train_std,\n",
    "                 alpha=0.15, color='blue')\n",
    "plt.plot(param_range, test_mean, color='green', linestyle='--',\n",
    "         marker='s', markersize=5, label='validation accuracy')\n",
    "plt.fill_between(param_range, test_mean+test_std, test_mean-test_std,\n",
    "                 alpha=0.15, color='green')\n",
    "plt.grid()\n",
    "plt.xscale('log')\n",
    "plt.legend(loc='best')\n",
    "plt.xlabel('Parameter C')\n",
    "plt.ylabel('Accuracy')\n",
    "plt.ylim([0.2, 1.2])\n",
    "plt.show()                "
   ]
  },
  {
   "cell_type": "code",
   "execution_count": 199,
   "metadata": {
    "ExecuteTime": {
     "end_time": "2019-12-27T09:31:40.186783Z",
     "start_time": "2019-12-27T09:31:40.178805Z"
    }
   },
   "outputs": [
    {
     "data": {
      "text/plain": [
       "SVC(C=0.6, cache_size=200, class_weight=None, coef0=0.0,\n",
       "    decision_function_shape='ovr', degree=3, gamma=0.483293024, kernel='rbf',\n",
       "    max_iter=-1, probability=True, random_state=123, shrinking=True, tol=0.001,\n",
       "    verbose=False)"
      ]
     },
     "execution_count": 199,
     "metadata": {},
     "output_type": "execute_result"
    }
   ],
   "source": [
    "lr = SVC(gamma=4.83293024e-01, C=0.6, probability=True, random_state=123)\n",
    "lr.fit(X_train, y_train)"
   ]
  },
  {
   "cell_type": "code",
   "execution_count": 200,
   "metadata": {
    "ExecuteTime": {
     "end_time": "2019-12-27T09:31:40.384535Z",
     "start_time": "2019-12-27T09:31:40.380543Z"
    }
   },
   "outputs": [
    {
     "data": {
      "text/plain": [
       "0.9727272727272728"
      ]
     },
     "execution_count": 200,
     "metadata": {},
     "output_type": "execute_result"
    }
   ],
   "source": [
    "lr.score(X_train, y_train)"
   ]
  },
  {
   "cell_type": "code",
   "execution_count": 201,
   "metadata": {
    "ExecuteTime": {
     "end_time": "2019-12-27T09:31:40.833205Z",
     "start_time": "2019-12-27T09:31:40.830215Z"
    }
   },
   "outputs": [],
   "source": [
    "# lr.score(X_test, y_test)"
   ]
  },
  {
   "cell_type": "code",
   "execution_count": 202,
   "metadata": {
    "ExecuteTime": {
     "end_time": "2019-12-27T09:31:41.233882Z",
     "start_time": "2019-12-27T09:31:41.220944Z"
    }
   },
   "outputs": [],
   "source": [
    "def predict_plot(df_name, thres=0.5):\n",
    "    data = pd.read_excel(path + 'rawdata/' + df_name + '.xlsx').iloc[:, pnasSubsetsIndex]\n",
    "    score = lr.score(data.iloc[:, 1:-1].values, data['class'].values)\n",
    "#     print('Predict Score is %s.' % score)\n",
    "    probability = lr.predict_proba(data.iloc[:, 1:-1].values)[:, 1]\n",
    "    pre_df = pd.DataFrame(probability, columns=['pro'])\n",
    "    pre_df['class'] = data['class']\n",
    "    pre_df['id'] = data['id']\n",
    "    predict_df = pre_df.reindex(columns=['id', 'pro', 'class'])\n",
    "    predict_df['class'] = predict_df['class'].apply(lambda x : str(x))\n",
    "#     predict_df['id'] = predict_df['id'].apply(lambda x : str(x)+'_')\n",
    "    predict_df = predict_df.sort_values(by='class')\n",
    "    fig = px.scatter(predict_df, x='id', y='pro',\n",
    "                     color='class', template='ggplot2', color_discrete_sequence=['green', '#EE0000'],\n",
    "                     color_discrete_map={'0': 'green', '1': '#EE0000'})\n",
    "    fig.add_trace(go.Scatter(x=[predict_df['id'].iloc[0, ], predict_df['id'].iloc[-1,]], y=[thres, thres], \n",
    "                             mode='lines', \n",
    "                             line=dict(color='grey', dash='dash'),\n",
    "                             showlegend=False))\n",
    "    fig.update_layout(width=1200, height=800)\n",
    "    fig.show()\n",
    "    predict_df['pre_label'] = np.where(predict_df['pro']>thres, 1, 0)\n",
    "    predict_df['class'] = predict_df['class'].apply(lambda x: int(x))\n",
    "    pre_0_right = predict_df[np.logical_and(predict_df['class'] == 0, predict_df['pre_label'] == 0)].shape[0]\n",
    "    pre_0_wrong = predict_df[np.logical_and(predict_df['class'] == 0, predict_df['pre_label'] == 1)].shape[0]\n",
    "    pre_1_right = predict_df[np.logical_and(predict_df['class'] == 1, predict_df['pre_label'] == 1)].shape[0]\n",
    "    pre_1_wrong = predict_df[np.logical_and(predict_df['class'] == 1, predict_df['pre_label'] == 0)].shape[0]\n",
    "    print('总体准确率为%s' % ((pre_0_right + pre_1_right) / predict_df.shape[0]))\n",
    "    print('混淆矩阵为%s' % [pre_0_right, pre_0_wrong, pre_1_right, pre_1_wrong])\n",
    "    return predict_df"
   ]
  },
  {
   "cell_type": "code",
   "execution_count": 203,
   "metadata": {
    "ExecuteTime": {
     "end_time": "2019-12-27T09:31:41.910126Z",
     "start_time": "2019-12-27T09:31:41.633181Z"
    },
    "scrolled": false
   },
   "outputs": [
    {
     "data": {
      "application/vnd.plotly.v1+json": {
       "config": {
        "plotlyServerURL": "https://plot.ly"
       },
       "data": [
        {
         "hoverlabel": {
          "namelength": 0
         },
         "hovertemplate": "class=1<br>id=%{x}<br>pro=%{y}",
         "legendgroup": "class=1",
         "marker": {
          "color": "#EE0000",
          "symbol": "circle"
         },
         "mode": "markers",
         "name": "class=1",
         "showlegend": true,
         "type": "scatter",
         "x": [
          "B071.expo",
          "B105.expo",
          "B106.expo",
          "B107.expo",
          "B108.expo",
          "B109.expo",
          "B110.expo",
          "B111.expo",
          "B112.expo",
          "B113.expo",
          "B114.expo",
          "B115.expo",
          "B116.expo",
          "B119.expo",
          "B120.expo",
          "B122.expo",
          "B123.expo",
          "B125.expo",
          "B127.expo",
          "B129.expo",
          "B130.expo",
          "B131.expo",
          "B132.expo",
          "B133.expo",
          "B134.expo",
          "B135.expo",
          "B136.expo",
          "B137.expo",
          "B138.expo",
          "B139.expo",
          "B104.expo",
          "B140.expo",
          "B103.expo",
          "B101.expo",
          "B072.expo",
          "B073.expo",
          "B074.expo",
          "B075.expo",
          "B076.expo",
          "B077.expo",
          "B078.expo",
          "B079.expo",
          "B080.expo",
          "B081.expo",
          "B082.expo",
          "B083.expo",
          "B084.expo",
          "B085.expo",
          "B086.expo",
          "B087.expo",
          "B088.expo",
          "B089.expo",
          "B090.expo",
          "B091.expo",
          "B092.expo",
          "B093.expo",
          "B094.expo",
          "B095.expo",
          "B096.expo",
          "B097.expo",
          "B098.expo",
          "B099.expo",
          "B100.expo",
          "B102.expo",
          "B141.expo"
         ],
         "xaxis": "x",
         "y": [
          0.8840642289596917,
          0.824739438208611,
          0.9489028918097172,
          0.9950489806781455,
          0.9760103634769836,
          0.8844484917012816,
          0.1871885236264054,
          0.990281795869198,
          0.8438172658124319,
          0.48257341574148566,
          0.19519894586267839,
          0.3973255833347288,
          0.23348260333672746,
          0.38241800110780366,
          0.18900951280349768,
          0.0546747001774006,
          0.5765823839286153,
          0.3548499362214872,
          0.044917048561863016,
          0.9999965471300577,
          0.13064322222741684,
          0.906364279553737,
          0.78712436708473,
          0.5458616839686838,
          0.7501393252161629,
          0.48746263264152656,
          0.6118713520594898,
          0.4717502813682678,
          0.9052362330965588,
          0.39023791164999283,
          0.9967427977139857,
          0.1116953567730098,
          0.9958544715828792,
          0.5682020015688327,
          0.9999978984126975,
          0.9755500174858285,
          0.8923770926070282,
          0.9908046530023374,
          0.5889769158633934,
          0.995499984078904,
          0.9999939372957937,
          0.07656043860090303,
          0.6505855370741396,
          0.09822048858637338,
          0.40602865644973823,
          0.9913822647327196,
          0.9706618933788614,
          0.2787239410772126,
          0.6632916899945089,
          0.9277603802066441,
          0.7863850245468998,
          0.7655170008538481,
          0.47092939007941687,
          0.9375307604877886,
          0.9880794833929927,
          0.9162480173424495,
          0.871225285075099,
          0.004731873166796934,
          0.9408341423583508,
          0.4882930473584422,
          0.9523970693394516,
          0.9999851519398432,
          0.9962069545792619,
          0.9765657610371559,
          0.19278841301065705
         ],
         "yaxis": "y"
        },
        {
         "line": {
          "color": "grey",
          "dash": "dash"
         },
         "mode": "lines",
         "showlegend": false,
         "type": "scatter",
         "x": [
          "B071.expo",
          "B141.expo"
         ],
         "y": [
          0.5,
          0.5
         ]
        }
       ],
       "layout": {
        "height": 800,
        "legend": {
         "tracegroupgap": 0
        },
        "margin": {
         "t": 60
        },
        "template": {
         "data": {
          "bar": [
           {
            "error_x": {
             "color": "rgb(51,51,51)"
            },
            "error_y": {
             "color": "rgb(51,51,51)"
            },
            "marker": {
             "line": {
              "color": "rgb(237,237,237)",
              "width": 0.5
             }
            },
            "type": "bar"
           }
          ],
          "barpolar": [
           {
            "marker": {
             "line": {
              "color": "rgb(237,237,237)",
              "width": 0.5
             }
            },
            "type": "barpolar"
           }
          ],
          "carpet": [
           {
            "aaxis": {
             "endlinecolor": "rgb(51,51,51)",
             "gridcolor": "white",
             "linecolor": "white",
             "minorgridcolor": "white",
             "startlinecolor": "rgb(51,51,51)"
            },
            "baxis": {
             "endlinecolor": "rgb(51,51,51)",
             "gridcolor": "white",
             "linecolor": "white",
             "minorgridcolor": "white",
             "startlinecolor": "rgb(51,51,51)"
            },
            "type": "carpet"
           }
          ],
          "choropleth": [
           {
            "colorbar": {
             "outlinewidth": 0,
             "tickcolor": "rgb(237,237,237)",
             "ticklen": 6,
             "ticks": "inside"
            },
            "type": "choropleth"
           }
          ],
          "contour": [
           {
            "colorbar": {
             "outlinewidth": 0,
             "tickcolor": "rgb(237,237,237)",
             "ticklen": 6,
             "ticks": "inside"
            },
            "colorscale": [
             [
              0,
              "rgb(20,44,66)"
             ],
             [
              1,
              "rgb(90,179,244)"
             ]
            ],
            "type": "contour"
           }
          ],
          "contourcarpet": [
           {
            "colorbar": {
             "outlinewidth": 0,
             "tickcolor": "rgb(237,237,237)",
             "ticklen": 6,
             "ticks": "inside"
            },
            "type": "contourcarpet"
           }
          ],
          "heatmap": [
           {
            "colorbar": {
             "outlinewidth": 0,
             "tickcolor": "rgb(237,237,237)",
             "ticklen": 6,
             "ticks": "inside"
            },
            "colorscale": [
             [
              0,
              "rgb(20,44,66)"
             ],
             [
              1,
              "rgb(90,179,244)"
             ]
            ],
            "type": "heatmap"
           }
          ],
          "heatmapgl": [
           {
            "colorbar": {
             "outlinewidth": 0,
             "tickcolor": "rgb(237,237,237)",
             "ticklen": 6,
             "ticks": "inside"
            },
            "colorscale": [
             [
              0,
              "rgb(20,44,66)"
             ],
             [
              1,
              "rgb(90,179,244)"
             ]
            ],
            "type": "heatmapgl"
           }
          ],
          "histogram": [
           {
            "marker": {
             "colorbar": {
              "outlinewidth": 0,
              "tickcolor": "rgb(237,237,237)",
              "ticklen": 6,
              "ticks": "inside"
             }
            },
            "type": "histogram"
           }
          ],
          "histogram2d": [
           {
            "colorbar": {
             "outlinewidth": 0,
             "tickcolor": "rgb(237,237,237)",
             "ticklen": 6,
             "ticks": "inside"
            },
            "colorscale": [
             [
              0,
              "rgb(20,44,66)"
             ],
             [
              1,
              "rgb(90,179,244)"
             ]
            ],
            "type": "histogram2d"
           }
          ],
          "histogram2dcontour": [
           {
            "colorbar": {
             "outlinewidth": 0,
             "tickcolor": "rgb(237,237,237)",
             "ticklen": 6,
             "ticks": "inside"
            },
            "colorscale": [
             [
              0,
              "rgb(20,44,66)"
             ],
             [
              1,
              "rgb(90,179,244)"
             ]
            ],
            "type": "histogram2dcontour"
           }
          ],
          "mesh3d": [
           {
            "colorbar": {
             "outlinewidth": 0,
             "tickcolor": "rgb(237,237,237)",
             "ticklen": 6,
             "ticks": "inside"
            },
            "type": "mesh3d"
           }
          ],
          "parcoords": [
           {
            "line": {
             "colorbar": {
              "outlinewidth": 0,
              "tickcolor": "rgb(237,237,237)",
              "ticklen": 6,
              "ticks": "inside"
             }
            },
            "type": "parcoords"
           }
          ],
          "scatter": [
           {
            "marker": {
             "colorbar": {
              "outlinewidth": 0,
              "tickcolor": "rgb(237,237,237)",
              "ticklen": 6,
              "ticks": "inside"
             }
            },
            "type": "scatter"
           }
          ],
          "scatter3d": [
           {
            "line": {
             "colorbar": {
              "outlinewidth": 0,
              "tickcolor": "rgb(237,237,237)",
              "ticklen": 6,
              "ticks": "inside"
             }
            },
            "marker": {
             "colorbar": {
              "outlinewidth": 0,
              "tickcolor": "rgb(237,237,237)",
              "ticklen": 6,
              "ticks": "inside"
             }
            },
            "type": "scatter3d"
           }
          ],
          "scattercarpet": [
           {
            "marker": {
             "colorbar": {
              "outlinewidth": 0,
              "tickcolor": "rgb(237,237,237)",
              "ticklen": 6,
              "ticks": "inside"
             }
            },
            "type": "scattercarpet"
           }
          ],
          "scattergeo": [
           {
            "marker": {
             "colorbar": {
              "outlinewidth": 0,
              "tickcolor": "rgb(237,237,237)",
              "ticklen": 6,
              "ticks": "inside"
             }
            },
            "type": "scattergeo"
           }
          ],
          "scattergl": [
           {
            "marker": {
             "colorbar": {
              "outlinewidth": 0,
              "tickcolor": "rgb(237,237,237)",
              "ticklen": 6,
              "ticks": "inside"
             }
            },
            "type": "scattergl"
           }
          ],
          "scattermapbox": [
           {
            "marker": {
             "colorbar": {
              "outlinewidth": 0,
              "tickcolor": "rgb(237,237,237)",
              "ticklen": 6,
              "ticks": "inside"
             }
            },
            "type": "scattermapbox"
           }
          ],
          "scatterpolar": [
           {
            "marker": {
             "colorbar": {
              "outlinewidth": 0,
              "tickcolor": "rgb(237,237,237)",
              "ticklen": 6,
              "ticks": "inside"
             }
            },
            "type": "scatterpolar"
           }
          ],
          "scatterpolargl": [
           {
            "marker": {
             "colorbar": {
              "outlinewidth": 0,
              "tickcolor": "rgb(237,237,237)",
              "ticklen": 6,
              "ticks": "inside"
             }
            },
            "type": "scatterpolargl"
           }
          ],
          "scatterternary": [
           {
            "marker": {
             "colorbar": {
              "outlinewidth": 0,
              "tickcolor": "rgb(237,237,237)",
              "ticklen": 6,
              "ticks": "inside"
             }
            },
            "type": "scatterternary"
           }
          ],
          "surface": [
           {
            "colorbar": {
             "outlinewidth": 0,
             "tickcolor": "rgb(237,237,237)",
             "ticklen": 6,
             "ticks": "inside"
            },
            "colorscale": [
             [
              0,
              "rgb(20,44,66)"
             ],
             [
              1,
              "rgb(90,179,244)"
             ]
            ],
            "type": "surface"
           }
          ],
          "table": [
           {
            "cells": {
             "fill": {
              "color": "rgb(237,237,237)"
             },
             "line": {
              "color": "white"
             }
            },
            "header": {
             "fill": {
              "color": "rgb(217,217,217)"
             },
             "line": {
              "color": "white"
             }
            },
            "type": "table"
           }
          ]
         },
         "layout": {
          "annotationdefaults": {
           "arrowhead": 0,
           "arrowwidth": 1
          },
          "colorscale": {
           "sequential": [
            [
             0,
             "rgb(20,44,66)"
            ],
            [
             1,
             "rgb(90,179,244)"
            ]
           ],
           "sequentialminus": [
            [
             0,
             "rgb(20,44,66)"
            ],
            [
             1,
             "rgb(90,179,244)"
            ]
           ]
          },
          "colorway": [
           "#F8766D",
           "#A3A500",
           "#00BF7D",
           "#00B0F6",
           "#E76BF3"
          ],
          "font": {
           "color": "rgb(51,51,51)"
          },
          "geo": {
           "bgcolor": "white",
           "lakecolor": "white",
           "landcolor": "rgb(237,237,237)",
           "showlakes": true,
           "showland": true,
           "subunitcolor": "white"
          },
          "hoverlabel": {
           "align": "left"
          },
          "hovermode": "closest",
          "paper_bgcolor": "white",
          "plot_bgcolor": "rgb(237,237,237)",
          "polar": {
           "angularaxis": {
            "gridcolor": "white",
            "linecolor": "white",
            "showgrid": true,
            "tickcolor": "rgb(51,51,51)",
            "ticks": "outside"
           },
           "bgcolor": "rgb(237,237,237)",
           "radialaxis": {
            "gridcolor": "white",
            "linecolor": "white",
            "showgrid": true,
            "tickcolor": "rgb(51,51,51)",
            "ticks": "outside"
           }
          },
          "scene": {
           "xaxis": {
            "backgroundcolor": "rgb(237,237,237)",
            "gridcolor": "white",
            "gridwidth": 2,
            "linecolor": "white",
            "showbackground": true,
            "showgrid": true,
            "tickcolor": "rgb(51,51,51)",
            "ticks": "outside",
            "zerolinecolor": "white"
           },
           "yaxis": {
            "backgroundcolor": "rgb(237,237,237)",
            "gridcolor": "white",
            "gridwidth": 2,
            "linecolor": "white",
            "showbackground": true,
            "showgrid": true,
            "tickcolor": "rgb(51,51,51)",
            "ticks": "outside",
            "zerolinecolor": "white"
           },
           "zaxis": {
            "backgroundcolor": "rgb(237,237,237)",
            "gridcolor": "white",
            "gridwidth": 2,
            "linecolor": "white",
            "showbackground": true,
            "showgrid": true,
            "tickcolor": "rgb(51,51,51)",
            "ticks": "outside",
            "zerolinecolor": "white"
           }
          },
          "shapedefaults": {
           "fillcolor": "black",
           "line": {
            "width": 0
           },
           "opacity": 0.3
          },
          "ternary": {
           "aaxis": {
            "gridcolor": "white",
            "linecolor": "white",
            "showgrid": true,
            "tickcolor": "rgb(51,51,51)",
            "ticks": "outside"
           },
           "baxis": {
            "gridcolor": "white",
            "linecolor": "white",
            "showgrid": true,
            "tickcolor": "rgb(51,51,51)",
            "ticks": "outside"
           },
           "bgcolor": "rgb(237,237,237)",
           "caxis": {
            "gridcolor": "white",
            "linecolor": "white",
            "showgrid": true,
            "tickcolor": "rgb(51,51,51)",
            "ticks": "outside"
           }
          },
          "xaxis": {
           "automargin": true,
           "gridcolor": "white",
           "linecolor": "white",
           "showgrid": true,
           "tickcolor": "rgb(51,51,51)",
           "ticks": "outside",
           "zerolinecolor": "white"
          },
          "yaxis": {
           "automargin": true,
           "gridcolor": "white",
           "linecolor": "white",
           "showgrid": true,
           "tickcolor": "rgb(51,51,51)",
           "ticks": "outside",
           "zerolinecolor": "white"
          }
         }
        },
        "width": 1200,
        "xaxis": {
         "anchor": "y",
         "domain": [
          0,
          0.98
         ],
         "title": {
          "text": "id"
         }
        },
        "yaxis": {
         "anchor": "x",
         "domain": [
          0,
          1
         ],
         "title": {
          "text": "pro"
         }
        }
       }
      },
      "text/html": [
       "<div>\n",
       "        \n",
       "        \n",
       "            <div id=\"9ccc8a42-bb22-43d4-943f-002734f624aa\" class=\"plotly-graph-div\" style=\"height:800px; width:1200px;\"></div>\n",
       "            <script type=\"text/javascript\">\n",
       "                require([\"plotly\"], function(Plotly) {\n",
       "                    window.PLOTLYENV=window.PLOTLYENV || {};\n",
       "                    \n",
       "                if (document.getElementById(\"9ccc8a42-bb22-43d4-943f-002734f624aa\")) {\n",
       "                    Plotly.newPlot(\n",
       "                        '9ccc8a42-bb22-43d4-943f-002734f624aa',\n",
       "                        [{\"hoverlabel\": {\"namelength\": 0}, \"hovertemplate\": \"class=1<br>id=%{x}<br>pro=%{y}\", \"legendgroup\": \"class=1\", \"marker\": {\"color\": \"#EE0000\", \"symbol\": \"circle\"}, \"mode\": \"markers\", \"name\": \"class=1\", \"showlegend\": true, \"type\": \"scatter\", \"x\": [\"B071.expo\", \"B105.expo\", \"B106.expo\", \"B107.expo\", \"B108.expo\", \"B109.expo\", \"B110.expo\", \"B111.expo\", \"B112.expo\", \"B113.expo\", \"B114.expo\", \"B115.expo\", \"B116.expo\", \"B119.expo\", \"B120.expo\", \"B122.expo\", \"B123.expo\", \"B125.expo\", \"B127.expo\", \"B129.expo\", \"B130.expo\", \"B131.expo\", \"B132.expo\", \"B133.expo\", \"B134.expo\", \"B135.expo\", \"B136.expo\", \"B137.expo\", \"B138.expo\", \"B139.expo\", \"B104.expo\", \"B140.expo\", \"B103.expo\", \"B101.expo\", \"B072.expo\", \"B073.expo\", \"B074.expo\", \"B075.expo\", \"B076.expo\", \"B077.expo\", \"B078.expo\", \"B079.expo\", \"B080.expo\", \"B081.expo\", \"B082.expo\", \"B083.expo\", \"B084.expo\", \"B085.expo\", \"B086.expo\", \"B087.expo\", \"B088.expo\", \"B089.expo\", \"B090.expo\", \"B091.expo\", \"B092.expo\", \"B093.expo\", \"B094.expo\", \"B095.expo\", \"B096.expo\", \"B097.expo\", \"B098.expo\", \"B099.expo\", \"B100.expo\", \"B102.expo\", \"B141.expo\"], \"xaxis\": \"x\", \"y\": [0.8840642289596917, 0.824739438208611, 0.9489028918097172, 0.9950489806781455, 0.9760103634769836, 0.8844484917012816, 0.1871885236264054, 0.990281795869198, 0.8438172658124319, 0.48257341574148566, 0.19519894586267839, 0.3973255833347288, 0.23348260333672746, 0.38241800110780366, 0.18900951280349768, 0.0546747001774006, 0.5765823839286153, 0.3548499362214872, 0.044917048561863016, 0.9999965471300577, 0.13064322222741684, 0.906364279553737, 0.78712436708473, 0.5458616839686838, 0.7501393252161629, 0.48746263264152656, 0.6118713520594898, 0.4717502813682678, 0.9052362330965588, 0.39023791164999283, 0.9967427977139857, 0.1116953567730098, 0.9958544715828792, 0.5682020015688327, 0.9999978984126975, 0.9755500174858285, 0.8923770926070282, 0.9908046530023374, 0.5889769158633934, 0.995499984078904, 0.9999939372957937, 0.07656043860090303, 0.6505855370741396, 0.09822048858637338, 0.40602865644973823, 0.9913822647327196, 0.9706618933788614, 0.2787239410772126, 0.6632916899945089, 0.9277603802066441, 0.7863850245468998, 0.7655170008538481, 0.47092939007941687, 0.9375307604877886, 0.9880794833929927, 0.9162480173424495, 0.871225285075099, 0.004731873166796934, 0.9408341423583508, 0.4882930473584422, 0.9523970693394516, 0.9999851519398432, 0.9962069545792619, 0.9765657610371559, 0.19278841301065705], \"yaxis\": \"y\"}, {\"line\": {\"color\": \"grey\", \"dash\": \"dash\"}, \"mode\": \"lines\", \"showlegend\": false, \"type\": \"scatter\", \"x\": [\"B071.expo\", \"B141.expo\"], \"y\": [0.5, 0.5]}],\n",
       "                        {\"height\": 800, \"legend\": {\"tracegroupgap\": 0}, \"margin\": {\"t\": 60}, \"template\": {\"data\": {\"bar\": [{\"error_x\": {\"color\": \"rgb(51,51,51)\"}, \"error_y\": {\"color\": \"rgb(51,51,51)\"}, \"marker\": {\"line\": {\"color\": \"rgb(237,237,237)\", \"width\": 0.5}}, \"type\": \"bar\"}], \"barpolar\": [{\"marker\": {\"line\": {\"color\": \"rgb(237,237,237)\", \"width\": 0.5}}, \"type\": \"barpolar\"}], \"carpet\": [{\"aaxis\": {\"endlinecolor\": \"rgb(51,51,51)\", \"gridcolor\": \"white\", \"linecolor\": \"white\", \"minorgridcolor\": \"white\", \"startlinecolor\": \"rgb(51,51,51)\"}, \"baxis\": {\"endlinecolor\": \"rgb(51,51,51)\", \"gridcolor\": \"white\", \"linecolor\": \"white\", \"minorgridcolor\": \"white\", \"startlinecolor\": \"rgb(51,51,51)\"}, \"type\": \"carpet\"}], \"choropleth\": [{\"colorbar\": {\"outlinewidth\": 0, \"tickcolor\": \"rgb(237,237,237)\", \"ticklen\": 6, \"ticks\": \"inside\"}, \"type\": \"choropleth\"}], \"contour\": [{\"colorbar\": {\"outlinewidth\": 0, \"tickcolor\": \"rgb(237,237,237)\", \"ticklen\": 6, \"ticks\": \"inside\"}, \"colorscale\": [[0, \"rgb(20,44,66)\"], [1, \"rgb(90,179,244)\"]], \"type\": \"contour\"}], \"contourcarpet\": [{\"colorbar\": {\"outlinewidth\": 0, \"tickcolor\": \"rgb(237,237,237)\", \"ticklen\": 6, \"ticks\": \"inside\"}, \"type\": \"contourcarpet\"}], \"heatmap\": [{\"colorbar\": {\"outlinewidth\": 0, \"tickcolor\": \"rgb(237,237,237)\", \"ticklen\": 6, \"ticks\": \"inside\"}, \"colorscale\": [[0, \"rgb(20,44,66)\"], [1, \"rgb(90,179,244)\"]], \"type\": \"heatmap\"}], \"heatmapgl\": [{\"colorbar\": {\"outlinewidth\": 0, \"tickcolor\": \"rgb(237,237,237)\", \"ticklen\": 6, \"ticks\": \"inside\"}, \"colorscale\": [[0, \"rgb(20,44,66)\"], [1, \"rgb(90,179,244)\"]], \"type\": \"heatmapgl\"}], \"histogram\": [{\"marker\": {\"colorbar\": {\"outlinewidth\": 0, \"tickcolor\": \"rgb(237,237,237)\", \"ticklen\": 6, \"ticks\": \"inside\"}}, \"type\": \"histogram\"}], \"histogram2d\": [{\"colorbar\": {\"outlinewidth\": 0, \"tickcolor\": \"rgb(237,237,237)\", \"ticklen\": 6, \"ticks\": \"inside\"}, \"colorscale\": [[0, \"rgb(20,44,66)\"], [1, \"rgb(90,179,244)\"]], \"type\": \"histogram2d\"}], \"histogram2dcontour\": [{\"colorbar\": {\"outlinewidth\": 0, \"tickcolor\": \"rgb(237,237,237)\", \"ticklen\": 6, \"ticks\": \"inside\"}, \"colorscale\": [[0, \"rgb(20,44,66)\"], [1, \"rgb(90,179,244)\"]], \"type\": \"histogram2dcontour\"}], \"mesh3d\": [{\"colorbar\": {\"outlinewidth\": 0, \"tickcolor\": \"rgb(237,237,237)\", \"ticklen\": 6, \"ticks\": \"inside\"}, \"type\": \"mesh3d\"}], \"parcoords\": [{\"line\": {\"colorbar\": {\"outlinewidth\": 0, \"tickcolor\": \"rgb(237,237,237)\", \"ticklen\": 6, \"ticks\": \"inside\"}}, \"type\": \"parcoords\"}], \"scatter\": [{\"marker\": {\"colorbar\": {\"outlinewidth\": 0, \"tickcolor\": \"rgb(237,237,237)\", \"ticklen\": 6, \"ticks\": \"inside\"}}, \"type\": \"scatter\"}], \"scatter3d\": [{\"line\": {\"colorbar\": {\"outlinewidth\": 0, \"tickcolor\": \"rgb(237,237,237)\", \"ticklen\": 6, \"ticks\": \"inside\"}}, \"marker\": {\"colorbar\": {\"outlinewidth\": 0, \"tickcolor\": \"rgb(237,237,237)\", \"ticklen\": 6, \"ticks\": \"inside\"}}, \"type\": \"scatter3d\"}], \"scattercarpet\": [{\"marker\": {\"colorbar\": {\"outlinewidth\": 0, \"tickcolor\": \"rgb(237,237,237)\", \"ticklen\": 6, \"ticks\": \"inside\"}}, \"type\": \"scattercarpet\"}], \"scattergeo\": [{\"marker\": {\"colorbar\": {\"outlinewidth\": 0, \"tickcolor\": \"rgb(237,237,237)\", \"ticklen\": 6, \"ticks\": \"inside\"}}, \"type\": \"scattergeo\"}], \"scattergl\": [{\"marker\": {\"colorbar\": {\"outlinewidth\": 0, \"tickcolor\": \"rgb(237,237,237)\", \"ticklen\": 6, \"ticks\": \"inside\"}}, \"type\": \"scattergl\"}], \"scattermapbox\": [{\"marker\": {\"colorbar\": {\"outlinewidth\": 0, \"tickcolor\": \"rgb(237,237,237)\", \"ticklen\": 6, \"ticks\": \"inside\"}}, \"type\": \"scattermapbox\"}], \"scatterpolar\": [{\"marker\": {\"colorbar\": {\"outlinewidth\": 0, \"tickcolor\": \"rgb(237,237,237)\", \"ticklen\": 6, \"ticks\": \"inside\"}}, \"type\": \"scatterpolar\"}], \"scatterpolargl\": [{\"marker\": {\"colorbar\": {\"outlinewidth\": 0, \"tickcolor\": \"rgb(237,237,237)\", \"ticklen\": 6, \"ticks\": \"inside\"}}, \"type\": \"scatterpolargl\"}], \"scatterternary\": [{\"marker\": {\"colorbar\": {\"outlinewidth\": 0, \"tickcolor\": \"rgb(237,237,237)\", \"ticklen\": 6, \"ticks\": \"inside\"}}, \"type\": \"scatterternary\"}], \"surface\": [{\"colorbar\": {\"outlinewidth\": 0, \"tickcolor\": \"rgb(237,237,237)\", \"ticklen\": 6, \"ticks\": \"inside\"}, \"colorscale\": [[0, \"rgb(20,44,66)\"], [1, \"rgb(90,179,244)\"]], \"type\": \"surface\"}], \"table\": [{\"cells\": {\"fill\": {\"color\": \"rgb(237,237,237)\"}, \"line\": {\"color\": \"white\"}}, \"header\": {\"fill\": {\"color\": \"rgb(217,217,217)\"}, \"line\": {\"color\": \"white\"}}, \"type\": \"table\"}]}, \"layout\": {\"annotationdefaults\": {\"arrowhead\": 0, \"arrowwidth\": 1}, \"colorscale\": {\"sequential\": [[0, \"rgb(20,44,66)\"], [1, \"rgb(90,179,244)\"]], \"sequentialminus\": [[0, \"rgb(20,44,66)\"], [1, \"rgb(90,179,244)\"]]}, \"colorway\": [\"#F8766D\", \"#A3A500\", \"#00BF7D\", \"#00B0F6\", \"#E76BF3\"], \"font\": {\"color\": \"rgb(51,51,51)\"}, \"geo\": {\"bgcolor\": \"white\", \"lakecolor\": \"white\", \"landcolor\": \"rgb(237,237,237)\", \"showlakes\": true, \"showland\": true, \"subunitcolor\": \"white\"}, \"hoverlabel\": {\"align\": \"left\"}, \"hovermode\": \"closest\", \"paper_bgcolor\": \"white\", \"plot_bgcolor\": \"rgb(237,237,237)\", \"polar\": {\"angularaxis\": {\"gridcolor\": \"white\", \"linecolor\": \"white\", \"showgrid\": true, \"tickcolor\": \"rgb(51,51,51)\", \"ticks\": \"outside\"}, \"bgcolor\": \"rgb(237,237,237)\", \"radialaxis\": {\"gridcolor\": \"white\", \"linecolor\": \"white\", \"showgrid\": true, \"tickcolor\": \"rgb(51,51,51)\", \"ticks\": \"outside\"}}, \"scene\": {\"xaxis\": {\"backgroundcolor\": \"rgb(237,237,237)\", \"gridcolor\": \"white\", \"gridwidth\": 2, \"linecolor\": \"white\", \"showbackground\": true, \"showgrid\": true, \"tickcolor\": \"rgb(51,51,51)\", \"ticks\": \"outside\", \"zerolinecolor\": \"white\"}, \"yaxis\": {\"backgroundcolor\": \"rgb(237,237,237)\", \"gridcolor\": \"white\", \"gridwidth\": 2, \"linecolor\": \"white\", \"showbackground\": true, \"showgrid\": true, \"tickcolor\": \"rgb(51,51,51)\", \"ticks\": \"outside\", \"zerolinecolor\": \"white\"}, \"zaxis\": {\"backgroundcolor\": \"rgb(237,237,237)\", \"gridcolor\": \"white\", \"gridwidth\": 2, \"linecolor\": \"white\", \"showbackground\": true, \"showgrid\": true, \"tickcolor\": \"rgb(51,51,51)\", \"ticks\": \"outside\", \"zerolinecolor\": \"white\"}}, \"shapedefaults\": {\"fillcolor\": \"black\", \"line\": {\"width\": 0}, \"opacity\": 0.3}, \"ternary\": {\"aaxis\": {\"gridcolor\": \"white\", \"linecolor\": \"white\", \"showgrid\": true, \"tickcolor\": \"rgb(51,51,51)\", \"ticks\": \"outside\"}, \"baxis\": {\"gridcolor\": \"white\", \"linecolor\": \"white\", \"showgrid\": true, \"tickcolor\": \"rgb(51,51,51)\", \"ticks\": \"outside\"}, \"bgcolor\": \"rgb(237,237,237)\", \"caxis\": {\"gridcolor\": \"white\", \"linecolor\": \"white\", \"showgrid\": true, \"tickcolor\": \"rgb(51,51,51)\", \"ticks\": \"outside\"}}, \"xaxis\": {\"automargin\": true, \"gridcolor\": \"white\", \"linecolor\": \"white\", \"showgrid\": true, \"tickcolor\": \"rgb(51,51,51)\", \"ticks\": \"outside\", \"zerolinecolor\": \"white\"}, \"yaxis\": {\"automargin\": true, \"gridcolor\": \"white\", \"linecolor\": \"white\", \"showgrid\": true, \"tickcolor\": \"rgb(51,51,51)\", \"ticks\": \"outside\", \"zerolinecolor\": \"white\"}}}, \"width\": 1200, \"xaxis\": {\"anchor\": \"y\", \"domain\": [0.0, 0.98], \"title\": {\"text\": \"id\"}}, \"yaxis\": {\"anchor\": \"x\", \"domain\": [0.0, 1.0], \"title\": {\"text\": \"pro\"}}},\n",
       "                        {\"responsive\": true}\n",
       "                    ).then(function(){\n",
       "                            \n",
       "var gd = document.getElementById('9ccc8a42-bb22-43d4-943f-002734f624aa');\n",
       "var x = new MutationObserver(function (mutations, observer) {{\n",
       "        var display = window.getComputedStyle(gd).display;\n",
       "        if (!display || display === 'none') {{\n",
       "            console.log([gd, 'removed!']);\n",
       "            Plotly.purge(gd);\n",
       "            observer.disconnect();\n",
       "        }}\n",
       "}});\n",
       "\n",
       "// Listen for the removal of the full notebook cells\n",
       "var notebookContainer = gd.closest('#notebook-container');\n",
       "if (notebookContainer) {{\n",
       "    x.observe(notebookContainer, {childList: true});\n",
       "}}\n",
       "\n",
       "// Listen for the clearing of the current output cell\n",
       "var outputEl = gd.closest('.output');\n",
       "if (outputEl) {{\n",
       "    x.observe(outputEl, {childList: true});\n",
       "}}\n",
       "\n",
       "                        })\n",
       "                };\n",
       "                });\n",
       "            </script>\n",
       "        </div>"
      ]
     },
     "metadata": {},
     "output_type": "display_data"
    },
    {
     "name": "stdout",
     "output_type": "stream",
     "text": [
      "总体准确率为0.6461538461538462\n",
      "混淆矩阵为[0, 0, 42, 23]\n"
     ]
    }
   ],
   "source": [
    "# lung_cancer_new = pd.read_excel(path + 'rawdata/test_lung_cancer_new.xlsx').iloc[:, pnasSubsetsIndex]\n",
    "pre_lung = predict_plot('test_lung')"
   ]
  },
  {
   "cell_type": "code",
   "execution_count": 204,
   "metadata": {
    "ExecuteTime": {
     "end_time": "2019-12-27T09:31:43.747370Z",
     "start_time": "2019-12-27T09:31:42.995513Z"
    }
   },
   "outputs": [
    {
     "data": {
      "application/vnd.plotly.v1+json": {
       "config": {
        "plotlyServerURL": "https://plot.ly"
       },
       "data": [
        {
         "hoverlabel": {
          "namelength": 0
         },
         "hovertemplate": "class=0<br>id=%{x}<br>pro=%{y}",
         "legendgroup": "class=0",
         "marker": {
          "color": "green",
          "symbol": "circle"
         },
         "mode": "markers",
         "name": "class=0",
         "showlegend": true,
         "type": "scatter",
         "x": [
          "000012_01",
          "000138_01",
          "000139_01",
          "000141_01",
          "000142_01",
          "000144_01",
          "000146_01",
          "000147_01",
          "000148_01",
          "000150_01",
          "000151_01",
          "000152_01",
          "000153_01",
          "000154_01",
          "000155_01",
          "000157_01",
          "000136_01",
          "000158_01",
          "000134_01",
          "000132_01",
          "000115_01",
          "000116_01",
          "000117_01",
          "000118_01",
          "000121_01",
          "000122_01",
          "000123_01",
          "000124_01",
          "000125_01",
          "000126_01",
          "000127_01",
          "000128_01",
          "000129_01",
          "000130_01",
          "000131_01",
          "000133_01",
          "000159_01",
          "000160_01",
          "000161_01",
          "000190_01",
          "000191_01",
          "000192_01",
          "000193_01",
          "000194_01",
          "000195_01",
          "000196_01",
          "000197_01",
          "000198_01",
          "000199_01",
          "000200_02",
          "000201_02",
          "000202_01",
          "000203_02",
          "000205_01",
          "000189_01",
          "000188_01",
          "000187_01",
          "000186_01",
          "000163_01",
          "000164_01",
          "000165_01",
          "000166_01",
          "000167_01",
          "000169_01",
          "000170_01",
          "000114_01",
          "000171_01",
          "000176_01",
          "000177_01",
          "000178_01",
          "000181_01",
          "000182_02",
          "000183_01",
          "000184_01",
          "000173_01",
          "000214_01",
          "000112_01",
          "000110_01",
          "000041_01",
          "000043_01",
          "000045_01",
          "000046_01",
          "000047_01",
          "000048_01",
          "000049_01",
          "000050_01",
          "000051_01",
          "000052_01",
          "000053_01",
          "000054_01",
          "000055_01",
          "000056_01",
          "000057_01",
          "000040_01",
          "000058_01",
          "000039_01",
          "000036_01",
          "000014_01",
          "000015_01",
          "000016_01",
          "000018_01",
          "000021_01",
          "000022_01",
          "000023_01",
          "000025_01",
          "000026_01",
          "000027_01",
          "000028_01",
          "000029_01",
          "000030_01",
          "000032_01",
          "000033_01",
          "000037_01",
          "000062_01",
          "000065_01",
          "000066_01",
          "000091_01",
          "000094_01",
          "000096_01",
          "000097_01",
          "000098_01",
          "000099_01",
          "000100_01",
          "000101_01",
          "000102_01",
          "000103_01",
          "000105_01",
          "000106_01",
          "000107_01",
          "000108_01",
          "000109_01",
          "000090_01",
          "000089_01",
          "000088_01",
          "000086_01",
          "000067_01",
          "000068_01",
          "000069_01",
          "000070_01",
          "000072_01",
          "000073_01",
          "000074_01",
          "000111_01",
          "000075_01",
          "000079_01",
          "000080_01",
          "000081_01",
          "000082_01",
          "000083_01",
          "000084_01",
          "000085_01",
          "000077_01",
          "000215_01"
         ],
         "xaxis": "x",
         "y": [
          0.05313901735497706,
          0.30892264519969254,
          0.10690165077590673,
          0.005139080427339335,
          0.16247047686576643,
          0.024470223998034238,
          0.9403367451866231,
          0.09772096773283247,
          0.10263899910518083,
          0.24888175939413457,
          0.08157037508158563,
          0.6504809907498873,
          0.46894658120287785,
          0.10092906881018206,
          0.11412335239087656,
          0.051240044144451435,
          0.509802494210361,
          0.7634565078377128,
          0.624054642370513,
          0.8610527114880407,
          0.018932799877896676,
          0.060491093536326125,
          0.004084601820003026,
          0.004533444495626991,
          0.015167438056824125,
          0.10773838983291678,
          0.007147296766341974,
          0.020582474024352402,
          0.00448376313686639,
          0.004413204275276734,
          0.002276027346317789,
          0.052512909442578165,
          0.09615747911795221,
          0.6493048302487473,
          0.46464529085127926,
          0.4681688150250856,
          0.1154489147578038,
          0.5519118389281844,
          0.11821121485638549,
          0.0009395722266051874,
          0.0004301117763762164,
          0.0029714790411147418,
          0.02799965337899835,
          0.052025545669184485,
          0.027797329716604136,
          0.0077973861888887335,
          0.1516620582555442,
          0.08349669400482672,
          0.0016066829881245185,
          0.027551270094797693,
          0.8359862166606999,
          0.16773364494466206,
          0.054368615940797546,
          0.025931136087491834,
          0.005682224502419992,
          0.003304350642087157,
          0.0026916081611324787,
          0.0038741832009136154,
          0.008640034367690187,
          0.0005446350519670624,
          0.013163267781832818,
          0.027253515899246565,
          0.004296050992720753,
          0.1676656734253988,
          0.033643794485082944,
          0.020727091878619545,
          0.013504085699788166,
          0.0010888235521615624,
          0.028344177066426956,
          0.003095312291017339,
          0.0016444377929147498,
          0.007312313472461522,
          0.08854209252846397,
          0.0014921788755863751,
          0.036494611527565925,
          0.0010518610362532665,
          0.021888360706624307,
          0.7882700540466242,
          0.07813310829829599,
          0.007684381366138106,
          0.008058742113523159,
          0.015862240927107762,
          0.0998711393863208,
          0.07972156607736183,
          0.8748221619450577,
          0.035435462470921886,
          0.17850334560439926,
          0.14022421808546376,
          0.5559333651262599,
          0.09994464955584835,
          0.6997694598864191,
          0.03115988415379472,
          0.7086064809090553,
          0.0007738963479960826,
          0.02824993123170476,
          0.002479997362192328,
          0.16195754633460394,
          0.11915826838932429,
          0.03342037749072697,
          0.017879872952173435,
          0.24335620332258134,
          0.006362296025082492,
          0.016440913004101883,
          0.004661372777740683,
          0.02990903132128586,
          0.029469915479940895,
          0.0024423383798500135,
          0.8613476282128637,
          0.6669641421210879,
          0.5,
          0.006738440220931168,
          0.0007562680401635761,
          0.10092266449622628,
          0.11471709781114851,
          0.0016923478977857308,
          0.00315298670871943,
          0.11030708581339496,
          0.009548421329959632,
          0.004793099652490534,
          0.023957086394020922,
          0.0014549242715402924,
          0.001430095174890136,
          0.04951365317834861,
          0.00782989101786607,
          0.02178474890062789,
          0.013074308214164741,
          0.003445857507328419,
          0.001230537363717439,
          0.010157024118687184,
          0.00156225165362678,
          0.005645778258361906,
          0.07010514950309142,
          0.007149330154290647,
          0.06330884945697678,
          0.016984654495225477,
          0.002447079890883244,
          0.0304003219127198,
          0.2570824693208177,
          0.29279738489943713,
          0.9112140298841085,
          0.5472750348640437,
          0.9696263251473547,
          0.1387955557950019,
          0.7537965885014111,
          0.8672931251737376,
          0.15652139439494867,
          0.37297244462683043,
          0.31323468342780536,
          0.21946911491645224,
          0.4670501194893425,
          0.0359366609967336,
          0.26261429701306105,
          0.0013371775554718148
         ],
         "yaxis": "y"
        },
        {
         "line": {
          "color": "grey",
          "dash": "dash"
         },
         "mode": "lines",
         "showlegend": false,
         "type": "scatter",
         "x": [
          "000012_01",
          "000215_01"
         ],
         "y": [
          0.5,
          0.5
         ]
        }
       ],
       "layout": {
        "height": 800,
        "legend": {
         "tracegroupgap": 0
        },
        "margin": {
         "t": 60
        },
        "template": {
         "data": {
          "bar": [
           {
            "error_x": {
             "color": "rgb(51,51,51)"
            },
            "error_y": {
             "color": "rgb(51,51,51)"
            },
            "marker": {
             "line": {
              "color": "rgb(237,237,237)",
              "width": 0.5
             }
            },
            "type": "bar"
           }
          ],
          "barpolar": [
           {
            "marker": {
             "line": {
              "color": "rgb(237,237,237)",
              "width": 0.5
             }
            },
            "type": "barpolar"
           }
          ],
          "carpet": [
           {
            "aaxis": {
             "endlinecolor": "rgb(51,51,51)",
             "gridcolor": "white",
             "linecolor": "white",
             "minorgridcolor": "white",
             "startlinecolor": "rgb(51,51,51)"
            },
            "baxis": {
             "endlinecolor": "rgb(51,51,51)",
             "gridcolor": "white",
             "linecolor": "white",
             "minorgridcolor": "white",
             "startlinecolor": "rgb(51,51,51)"
            },
            "type": "carpet"
           }
          ],
          "choropleth": [
           {
            "colorbar": {
             "outlinewidth": 0,
             "tickcolor": "rgb(237,237,237)",
             "ticklen": 6,
             "ticks": "inside"
            },
            "type": "choropleth"
           }
          ],
          "contour": [
           {
            "colorbar": {
             "outlinewidth": 0,
             "tickcolor": "rgb(237,237,237)",
             "ticklen": 6,
             "ticks": "inside"
            },
            "colorscale": [
             [
              0,
              "rgb(20,44,66)"
             ],
             [
              1,
              "rgb(90,179,244)"
             ]
            ],
            "type": "contour"
           }
          ],
          "contourcarpet": [
           {
            "colorbar": {
             "outlinewidth": 0,
             "tickcolor": "rgb(237,237,237)",
             "ticklen": 6,
             "ticks": "inside"
            },
            "type": "contourcarpet"
           }
          ],
          "heatmap": [
           {
            "colorbar": {
             "outlinewidth": 0,
             "tickcolor": "rgb(237,237,237)",
             "ticklen": 6,
             "ticks": "inside"
            },
            "colorscale": [
             [
              0,
              "rgb(20,44,66)"
             ],
             [
              1,
              "rgb(90,179,244)"
             ]
            ],
            "type": "heatmap"
           }
          ],
          "heatmapgl": [
           {
            "colorbar": {
             "outlinewidth": 0,
             "tickcolor": "rgb(237,237,237)",
             "ticklen": 6,
             "ticks": "inside"
            },
            "colorscale": [
             [
              0,
              "rgb(20,44,66)"
             ],
             [
              1,
              "rgb(90,179,244)"
             ]
            ],
            "type": "heatmapgl"
           }
          ],
          "histogram": [
           {
            "marker": {
             "colorbar": {
              "outlinewidth": 0,
              "tickcolor": "rgb(237,237,237)",
              "ticklen": 6,
              "ticks": "inside"
             }
            },
            "type": "histogram"
           }
          ],
          "histogram2d": [
           {
            "colorbar": {
             "outlinewidth": 0,
             "tickcolor": "rgb(237,237,237)",
             "ticklen": 6,
             "ticks": "inside"
            },
            "colorscale": [
             [
              0,
              "rgb(20,44,66)"
             ],
             [
              1,
              "rgb(90,179,244)"
             ]
            ],
            "type": "histogram2d"
           }
          ],
          "histogram2dcontour": [
           {
            "colorbar": {
             "outlinewidth": 0,
             "tickcolor": "rgb(237,237,237)",
             "ticklen": 6,
             "ticks": "inside"
            },
            "colorscale": [
             [
              0,
              "rgb(20,44,66)"
             ],
             [
              1,
              "rgb(90,179,244)"
             ]
            ],
            "type": "histogram2dcontour"
           }
          ],
          "mesh3d": [
           {
            "colorbar": {
             "outlinewidth": 0,
             "tickcolor": "rgb(237,237,237)",
             "ticklen": 6,
             "ticks": "inside"
            },
            "type": "mesh3d"
           }
          ],
          "parcoords": [
           {
            "line": {
             "colorbar": {
              "outlinewidth": 0,
              "tickcolor": "rgb(237,237,237)",
              "ticklen": 6,
              "ticks": "inside"
             }
            },
            "type": "parcoords"
           }
          ],
          "scatter": [
           {
            "marker": {
             "colorbar": {
              "outlinewidth": 0,
              "tickcolor": "rgb(237,237,237)",
              "ticklen": 6,
              "ticks": "inside"
             }
            },
            "type": "scatter"
           }
          ],
          "scatter3d": [
           {
            "line": {
             "colorbar": {
              "outlinewidth": 0,
              "tickcolor": "rgb(237,237,237)",
              "ticklen": 6,
              "ticks": "inside"
             }
            },
            "marker": {
             "colorbar": {
              "outlinewidth": 0,
              "tickcolor": "rgb(237,237,237)",
              "ticklen": 6,
              "ticks": "inside"
             }
            },
            "type": "scatter3d"
           }
          ],
          "scattercarpet": [
           {
            "marker": {
             "colorbar": {
              "outlinewidth": 0,
              "tickcolor": "rgb(237,237,237)",
              "ticklen": 6,
              "ticks": "inside"
             }
            },
            "type": "scattercarpet"
           }
          ],
          "scattergeo": [
           {
            "marker": {
             "colorbar": {
              "outlinewidth": 0,
              "tickcolor": "rgb(237,237,237)",
              "ticklen": 6,
              "ticks": "inside"
             }
            },
            "type": "scattergeo"
           }
          ],
          "scattergl": [
           {
            "marker": {
             "colorbar": {
              "outlinewidth": 0,
              "tickcolor": "rgb(237,237,237)",
              "ticklen": 6,
              "ticks": "inside"
             }
            },
            "type": "scattergl"
           }
          ],
          "scattermapbox": [
           {
            "marker": {
             "colorbar": {
              "outlinewidth": 0,
              "tickcolor": "rgb(237,237,237)",
              "ticklen": 6,
              "ticks": "inside"
             }
            },
            "type": "scattermapbox"
           }
          ],
          "scatterpolar": [
           {
            "marker": {
             "colorbar": {
              "outlinewidth": 0,
              "tickcolor": "rgb(237,237,237)",
              "ticklen": 6,
              "ticks": "inside"
             }
            },
            "type": "scatterpolar"
           }
          ],
          "scatterpolargl": [
           {
            "marker": {
             "colorbar": {
              "outlinewidth": 0,
              "tickcolor": "rgb(237,237,237)",
              "ticklen": 6,
              "ticks": "inside"
             }
            },
            "type": "scatterpolargl"
           }
          ],
          "scatterternary": [
           {
            "marker": {
             "colorbar": {
              "outlinewidth": 0,
              "tickcolor": "rgb(237,237,237)",
              "ticklen": 6,
              "ticks": "inside"
             }
            },
            "type": "scatterternary"
           }
          ],
          "surface": [
           {
            "colorbar": {
             "outlinewidth": 0,
             "tickcolor": "rgb(237,237,237)",
             "ticklen": 6,
             "ticks": "inside"
            },
            "colorscale": [
             [
              0,
              "rgb(20,44,66)"
             ],
             [
              1,
              "rgb(90,179,244)"
             ]
            ],
            "type": "surface"
           }
          ],
          "table": [
           {
            "cells": {
             "fill": {
              "color": "rgb(237,237,237)"
             },
             "line": {
              "color": "white"
             }
            },
            "header": {
             "fill": {
              "color": "rgb(217,217,217)"
             },
             "line": {
              "color": "white"
             }
            },
            "type": "table"
           }
          ]
         },
         "layout": {
          "annotationdefaults": {
           "arrowhead": 0,
           "arrowwidth": 1
          },
          "colorscale": {
           "sequential": [
            [
             0,
             "rgb(20,44,66)"
            ],
            [
             1,
             "rgb(90,179,244)"
            ]
           ],
           "sequentialminus": [
            [
             0,
             "rgb(20,44,66)"
            ],
            [
             1,
             "rgb(90,179,244)"
            ]
           ]
          },
          "colorway": [
           "#F8766D",
           "#A3A500",
           "#00BF7D",
           "#00B0F6",
           "#E76BF3"
          ],
          "font": {
           "color": "rgb(51,51,51)"
          },
          "geo": {
           "bgcolor": "white",
           "lakecolor": "white",
           "landcolor": "rgb(237,237,237)",
           "showlakes": true,
           "showland": true,
           "subunitcolor": "white"
          },
          "hoverlabel": {
           "align": "left"
          },
          "hovermode": "closest",
          "paper_bgcolor": "white",
          "plot_bgcolor": "rgb(237,237,237)",
          "polar": {
           "angularaxis": {
            "gridcolor": "white",
            "linecolor": "white",
            "showgrid": true,
            "tickcolor": "rgb(51,51,51)",
            "ticks": "outside"
           },
           "bgcolor": "rgb(237,237,237)",
           "radialaxis": {
            "gridcolor": "white",
            "linecolor": "white",
            "showgrid": true,
            "tickcolor": "rgb(51,51,51)",
            "ticks": "outside"
           }
          },
          "scene": {
           "xaxis": {
            "backgroundcolor": "rgb(237,237,237)",
            "gridcolor": "white",
            "gridwidth": 2,
            "linecolor": "white",
            "showbackground": true,
            "showgrid": true,
            "tickcolor": "rgb(51,51,51)",
            "ticks": "outside",
            "zerolinecolor": "white"
           },
           "yaxis": {
            "backgroundcolor": "rgb(237,237,237)",
            "gridcolor": "white",
            "gridwidth": 2,
            "linecolor": "white",
            "showbackground": true,
            "showgrid": true,
            "tickcolor": "rgb(51,51,51)",
            "ticks": "outside",
            "zerolinecolor": "white"
           },
           "zaxis": {
            "backgroundcolor": "rgb(237,237,237)",
            "gridcolor": "white",
            "gridwidth": 2,
            "linecolor": "white",
            "showbackground": true,
            "showgrid": true,
            "tickcolor": "rgb(51,51,51)",
            "ticks": "outside",
            "zerolinecolor": "white"
           }
          },
          "shapedefaults": {
           "fillcolor": "black",
           "line": {
            "width": 0
           },
           "opacity": 0.3
          },
          "ternary": {
           "aaxis": {
            "gridcolor": "white",
            "linecolor": "white",
            "showgrid": true,
            "tickcolor": "rgb(51,51,51)",
            "ticks": "outside"
           },
           "baxis": {
            "gridcolor": "white",
            "linecolor": "white",
            "showgrid": true,
            "tickcolor": "rgb(51,51,51)",
            "ticks": "outside"
           },
           "bgcolor": "rgb(237,237,237)",
           "caxis": {
            "gridcolor": "white",
            "linecolor": "white",
            "showgrid": true,
            "tickcolor": "rgb(51,51,51)",
            "ticks": "outside"
           }
          },
          "xaxis": {
           "automargin": true,
           "gridcolor": "white",
           "linecolor": "white",
           "showgrid": true,
           "tickcolor": "rgb(51,51,51)",
           "ticks": "outside",
           "zerolinecolor": "white"
          },
          "yaxis": {
           "automargin": true,
           "gridcolor": "white",
           "linecolor": "white",
           "showgrid": true,
           "tickcolor": "rgb(51,51,51)",
           "ticks": "outside",
           "zerolinecolor": "white"
          }
         }
        },
        "width": 1200,
        "xaxis": {
         "anchor": "y",
         "domain": [
          0,
          0.98
         ],
         "title": {
          "text": "id"
         }
        },
        "yaxis": {
         "anchor": "x",
         "domain": [
          0,
          1
         ],
         "title": {
          "text": "pro"
         }
        }
       }
      },
      "text/html": [
       "<div>\n",
       "        \n",
       "        \n",
       "            <div id=\"e130a5a2-ec73-441f-8f14-5269eed5923e\" class=\"plotly-graph-div\" style=\"height:800px; width:1200px;\"></div>\n",
       "            <script type=\"text/javascript\">\n",
       "                require([\"plotly\"], function(Plotly) {\n",
       "                    window.PLOTLYENV=window.PLOTLYENV || {};\n",
       "                    \n",
       "                if (document.getElementById(\"e130a5a2-ec73-441f-8f14-5269eed5923e\")) {\n",
       "                    Plotly.newPlot(\n",
       "                        'e130a5a2-ec73-441f-8f14-5269eed5923e',\n",
       "                        [{\"hoverlabel\": {\"namelength\": 0}, \"hovertemplate\": \"class=0<br>id=%{x}<br>pro=%{y}\", \"legendgroup\": \"class=0\", \"marker\": {\"color\": \"green\", \"symbol\": \"circle\"}, \"mode\": \"markers\", \"name\": \"class=0\", \"showlegend\": true, \"type\": \"scatter\", \"x\": [\"000012_01\", \"000138_01\", \"000139_01\", \"000141_01\", \"000142_01\", \"000144_01\", \"000146_01\", \"000147_01\", \"000148_01\", \"000150_01\", \"000151_01\", \"000152_01\", \"000153_01\", \"000154_01\", \"000155_01\", \"000157_01\", \"000136_01\", \"000158_01\", \"000134_01\", \"000132_01\", \"000115_01\", \"000116_01\", \"000117_01\", \"000118_01\", \"000121_01\", \"000122_01\", \"000123_01\", \"000124_01\", \"000125_01\", \"000126_01\", \"000127_01\", \"000128_01\", \"000129_01\", \"000130_01\", \"000131_01\", \"000133_01\", \"000159_01\", \"000160_01\", \"000161_01\", \"000190_01\", \"000191_01\", \"000192_01\", \"000193_01\", \"000194_01\", \"000195_01\", \"000196_01\", \"000197_01\", \"000198_01\", \"000199_01\", \"000200_02\", \"000201_02\", \"000202_01\", \"000203_02\", \"000205_01\", \"000189_01\", \"000188_01\", \"000187_01\", \"000186_01\", \"000163_01\", \"000164_01\", \"000165_01\", \"000166_01\", \"000167_01\", \"000169_01\", \"000170_01\", \"000114_01\", \"000171_01\", \"000176_01\", \"000177_01\", \"000178_01\", \"000181_01\", \"000182_02\", \"000183_01\", \"000184_01\", \"000173_01\", \"000214_01\", \"000112_01\", \"000110_01\", \"000041_01\", \"000043_01\", \"000045_01\", \"000046_01\", \"000047_01\", \"000048_01\", \"000049_01\", \"000050_01\", \"000051_01\", \"000052_01\", \"000053_01\", \"000054_01\", \"000055_01\", \"000056_01\", \"000057_01\", \"000040_01\", \"000058_01\", \"000039_01\", \"000036_01\", \"000014_01\", \"000015_01\", \"000016_01\", \"000018_01\", \"000021_01\", \"000022_01\", \"000023_01\", \"000025_01\", \"000026_01\", \"000027_01\", \"000028_01\", \"000029_01\", \"000030_01\", \"000032_01\", \"000033_01\", \"000037_01\", \"000062_01\", \"000065_01\", \"000066_01\", \"000091_01\", \"000094_01\", \"000096_01\", \"000097_01\", \"000098_01\", \"000099_01\", \"000100_01\", \"000101_01\", \"000102_01\", \"000103_01\", \"000105_01\", \"000106_01\", \"000107_01\", \"000108_01\", \"000109_01\", \"000090_01\", \"000089_01\", \"000088_01\", \"000086_01\", \"000067_01\", \"000068_01\", \"000069_01\", \"000070_01\", \"000072_01\", \"000073_01\", \"000074_01\", \"000111_01\", \"000075_01\", \"000079_01\", \"000080_01\", \"000081_01\", \"000082_01\", \"000083_01\", \"000084_01\", \"000085_01\", \"000077_01\", \"000215_01\"], \"xaxis\": \"x\", \"y\": [0.05313901735497706, 0.30892264519969254, 0.10690165077590673, 0.005139080427339335, 0.16247047686576643, 0.024470223998034238, 0.9403367451866231, 0.09772096773283247, 0.10263899910518083, 0.24888175939413457, 0.08157037508158563, 0.6504809907498873, 0.46894658120287785, 0.10092906881018206, 0.11412335239087656, 0.051240044144451435, 0.509802494210361, 0.7634565078377128, 0.624054642370513, 0.8610527114880407, 0.018932799877896676, 0.060491093536326125, 0.004084601820003026, 0.004533444495626991, 0.015167438056824125, 0.10773838983291678, 0.007147296766341974, 0.020582474024352402, 0.00448376313686639, 0.004413204275276734, 0.002276027346317789, 0.052512909442578165, 0.09615747911795221, 0.6493048302487473, 0.46464529085127926, 0.4681688150250856, 0.1154489147578038, 0.5519118389281844, 0.11821121485638549, 0.0009395722266051874, 0.0004301117763762164, 0.0029714790411147418, 0.02799965337899835, 0.052025545669184485, 0.027797329716604136, 0.0077973861888887335, 0.1516620582555442, 0.08349669400482672, 0.0016066829881245185, 0.027551270094797693, 0.8359862166606999, 0.16773364494466206, 0.054368615940797546, 0.025931136087491834, 0.005682224502419992, 0.003304350642087157, 0.0026916081611324787, 0.0038741832009136154, 0.008640034367690187, 0.0005446350519670624, 0.013163267781832818, 0.027253515899246565, 0.004296050992720753, 0.1676656734253988, 0.033643794485082944, 0.020727091878619545, 0.013504085699788166, 0.0010888235521615624, 0.028344177066426956, 0.003095312291017339, 0.0016444377929147498, 0.007312313472461522, 0.08854209252846397, 0.0014921788755863751, 0.036494611527565925, 0.0010518610362532665, 0.021888360706624307, 0.7882700540466242, 0.07813310829829599, 0.007684381366138106, 0.008058742113523159, 0.015862240927107762, 0.0998711393863208, 0.07972156607736183, 0.8748221619450577, 0.035435462470921886, 0.17850334560439926, 0.14022421808546376, 0.5559333651262599, 0.09994464955584835, 0.6997694598864191, 0.03115988415379472, 0.7086064809090553, 0.0007738963479960826, 0.02824993123170476, 0.002479997362192328, 0.16195754633460394, 0.11915826838932429, 0.03342037749072697, 0.017879872952173435, 0.24335620332258134, 0.006362296025082492, 0.016440913004101883, 0.004661372777740683, 0.02990903132128586, 0.029469915479940895, 0.0024423383798500135, 0.8613476282128637, 0.6669641421210879, 0.5, 0.006738440220931168, 0.0007562680401635761, 0.10092266449622628, 0.11471709781114851, 0.0016923478977857308, 0.00315298670871943, 0.11030708581339496, 0.009548421329959632, 0.004793099652490534, 0.023957086394020922, 0.0014549242715402924, 0.001430095174890136, 0.04951365317834861, 0.00782989101786607, 0.02178474890062789, 0.013074308214164741, 0.003445857507328419, 0.001230537363717439, 0.010157024118687184, 0.00156225165362678, 0.005645778258361906, 0.07010514950309142, 0.007149330154290647, 0.06330884945697678, 0.016984654495225477, 0.002447079890883244, 0.0304003219127198, 0.2570824693208177, 0.29279738489943713, 0.9112140298841085, 0.5472750348640437, 0.9696263251473547, 0.1387955557950019, 0.7537965885014111, 0.8672931251737376, 0.15652139439494867, 0.37297244462683043, 0.31323468342780536, 0.21946911491645224, 0.4670501194893425, 0.0359366609967336, 0.26261429701306105, 0.0013371775554718148], \"yaxis\": \"y\"}, {\"line\": {\"color\": \"grey\", \"dash\": \"dash\"}, \"mode\": \"lines\", \"showlegend\": false, \"type\": \"scatter\", \"x\": [\"000012_01\", \"000215_01\"], \"y\": [0.5, 0.5]}],\n",
       "                        {\"height\": 800, \"legend\": {\"tracegroupgap\": 0}, \"margin\": {\"t\": 60}, \"template\": {\"data\": {\"bar\": [{\"error_x\": {\"color\": \"rgb(51,51,51)\"}, \"error_y\": {\"color\": \"rgb(51,51,51)\"}, \"marker\": {\"line\": {\"color\": \"rgb(237,237,237)\", \"width\": 0.5}}, \"type\": \"bar\"}], \"barpolar\": [{\"marker\": {\"line\": {\"color\": \"rgb(237,237,237)\", \"width\": 0.5}}, \"type\": \"barpolar\"}], \"carpet\": [{\"aaxis\": {\"endlinecolor\": \"rgb(51,51,51)\", \"gridcolor\": \"white\", \"linecolor\": \"white\", \"minorgridcolor\": \"white\", \"startlinecolor\": \"rgb(51,51,51)\"}, \"baxis\": {\"endlinecolor\": \"rgb(51,51,51)\", \"gridcolor\": \"white\", \"linecolor\": \"white\", \"minorgridcolor\": \"white\", \"startlinecolor\": \"rgb(51,51,51)\"}, \"type\": \"carpet\"}], \"choropleth\": [{\"colorbar\": {\"outlinewidth\": 0, \"tickcolor\": \"rgb(237,237,237)\", \"ticklen\": 6, \"ticks\": \"inside\"}, \"type\": \"choropleth\"}], \"contour\": [{\"colorbar\": {\"outlinewidth\": 0, \"tickcolor\": \"rgb(237,237,237)\", \"ticklen\": 6, \"ticks\": \"inside\"}, \"colorscale\": [[0, \"rgb(20,44,66)\"], [1, \"rgb(90,179,244)\"]], \"type\": \"contour\"}], \"contourcarpet\": [{\"colorbar\": {\"outlinewidth\": 0, \"tickcolor\": \"rgb(237,237,237)\", \"ticklen\": 6, \"ticks\": \"inside\"}, \"type\": \"contourcarpet\"}], \"heatmap\": [{\"colorbar\": {\"outlinewidth\": 0, \"tickcolor\": \"rgb(237,237,237)\", \"ticklen\": 6, \"ticks\": \"inside\"}, \"colorscale\": [[0, \"rgb(20,44,66)\"], [1, \"rgb(90,179,244)\"]], \"type\": \"heatmap\"}], \"heatmapgl\": [{\"colorbar\": {\"outlinewidth\": 0, \"tickcolor\": \"rgb(237,237,237)\", \"ticklen\": 6, \"ticks\": \"inside\"}, \"colorscale\": [[0, \"rgb(20,44,66)\"], [1, \"rgb(90,179,244)\"]], \"type\": \"heatmapgl\"}], \"histogram\": [{\"marker\": {\"colorbar\": {\"outlinewidth\": 0, \"tickcolor\": \"rgb(237,237,237)\", \"ticklen\": 6, \"ticks\": \"inside\"}}, \"type\": \"histogram\"}], \"histogram2d\": [{\"colorbar\": {\"outlinewidth\": 0, \"tickcolor\": \"rgb(237,237,237)\", \"ticklen\": 6, \"ticks\": \"inside\"}, \"colorscale\": [[0, \"rgb(20,44,66)\"], [1, \"rgb(90,179,244)\"]], \"type\": \"histogram2d\"}], \"histogram2dcontour\": [{\"colorbar\": {\"outlinewidth\": 0, \"tickcolor\": \"rgb(237,237,237)\", \"ticklen\": 6, \"ticks\": \"inside\"}, \"colorscale\": [[0, \"rgb(20,44,66)\"], [1, \"rgb(90,179,244)\"]], \"type\": \"histogram2dcontour\"}], \"mesh3d\": [{\"colorbar\": {\"outlinewidth\": 0, \"tickcolor\": \"rgb(237,237,237)\", \"ticklen\": 6, \"ticks\": \"inside\"}, \"type\": \"mesh3d\"}], \"parcoords\": [{\"line\": {\"colorbar\": {\"outlinewidth\": 0, \"tickcolor\": \"rgb(237,237,237)\", \"ticklen\": 6, \"ticks\": \"inside\"}}, \"type\": \"parcoords\"}], \"scatter\": [{\"marker\": {\"colorbar\": {\"outlinewidth\": 0, \"tickcolor\": \"rgb(237,237,237)\", \"ticklen\": 6, \"ticks\": \"inside\"}}, \"type\": \"scatter\"}], \"scatter3d\": [{\"line\": {\"colorbar\": {\"outlinewidth\": 0, \"tickcolor\": \"rgb(237,237,237)\", \"ticklen\": 6, \"ticks\": \"inside\"}}, \"marker\": {\"colorbar\": {\"outlinewidth\": 0, \"tickcolor\": \"rgb(237,237,237)\", \"ticklen\": 6, \"ticks\": \"inside\"}}, \"type\": \"scatter3d\"}], \"scattercarpet\": [{\"marker\": {\"colorbar\": {\"outlinewidth\": 0, \"tickcolor\": \"rgb(237,237,237)\", \"ticklen\": 6, \"ticks\": \"inside\"}}, \"type\": \"scattercarpet\"}], \"scattergeo\": [{\"marker\": {\"colorbar\": {\"outlinewidth\": 0, \"tickcolor\": \"rgb(237,237,237)\", \"ticklen\": 6, \"ticks\": \"inside\"}}, \"type\": \"scattergeo\"}], \"scattergl\": [{\"marker\": {\"colorbar\": {\"outlinewidth\": 0, \"tickcolor\": \"rgb(237,237,237)\", \"ticklen\": 6, \"ticks\": \"inside\"}}, \"type\": \"scattergl\"}], \"scattermapbox\": [{\"marker\": {\"colorbar\": {\"outlinewidth\": 0, \"tickcolor\": \"rgb(237,237,237)\", \"ticklen\": 6, \"ticks\": \"inside\"}}, \"type\": \"scattermapbox\"}], \"scatterpolar\": [{\"marker\": {\"colorbar\": {\"outlinewidth\": 0, \"tickcolor\": \"rgb(237,237,237)\", \"ticklen\": 6, \"ticks\": \"inside\"}}, \"type\": \"scatterpolar\"}], \"scatterpolargl\": [{\"marker\": {\"colorbar\": {\"outlinewidth\": 0, \"tickcolor\": \"rgb(237,237,237)\", \"ticklen\": 6, \"ticks\": \"inside\"}}, \"type\": \"scatterpolargl\"}], \"scatterternary\": [{\"marker\": {\"colorbar\": {\"outlinewidth\": 0, \"tickcolor\": \"rgb(237,237,237)\", \"ticklen\": 6, \"ticks\": \"inside\"}}, \"type\": \"scatterternary\"}], \"surface\": [{\"colorbar\": {\"outlinewidth\": 0, \"tickcolor\": \"rgb(237,237,237)\", \"ticklen\": 6, \"ticks\": \"inside\"}, \"colorscale\": [[0, \"rgb(20,44,66)\"], [1, \"rgb(90,179,244)\"]], \"type\": \"surface\"}], \"table\": [{\"cells\": {\"fill\": {\"color\": \"rgb(237,237,237)\"}, \"line\": {\"color\": \"white\"}}, \"header\": {\"fill\": {\"color\": \"rgb(217,217,217)\"}, \"line\": {\"color\": \"white\"}}, \"type\": \"table\"}]}, \"layout\": {\"annotationdefaults\": {\"arrowhead\": 0, \"arrowwidth\": 1}, \"colorscale\": {\"sequential\": [[0, \"rgb(20,44,66)\"], [1, \"rgb(90,179,244)\"]], \"sequentialminus\": [[0, \"rgb(20,44,66)\"], [1, \"rgb(90,179,244)\"]]}, \"colorway\": [\"#F8766D\", \"#A3A500\", \"#00BF7D\", \"#00B0F6\", \"#E76BF3\"], \"font\": {\"color\": \"rgb(51,51,51)\"}, \"geo\": {\"bgcolor\": \"white\", \"lakecolor\": \"white\", \"landcolor\": \"rgb(237,237,237)\", \"showlakes\": true, \"showland\": true, \"subunitcolor\": \"white\"}, \"hoverlabel\": {\"align\": \"left\"}, \"hovermode\": \"closest\", \"paper_bgcolor\": \"white\", \"plot_bgcolor\": \"rgb(237,237,237)\", \"polar\": {\"angularaxis\": {\"gridcolor\": \"white\", \"linecolor\": \"white\", \"showgrid\": true, \"tickcolor\": \"rgb(51,51,51)\", \"ticks\": \"outside\"}, \"bgcolor\": \"rgb(237,237,237)\", \"radialaxis\": {\"gridcolor\": \"white\", \"linecolor\": \"white\", \"showgrid\": true, \"tickcolor\": \"rgb(51,51,51)\", \"ticks\": \"outside\"}}, \"scene\": {\"xaxis\": {\"backgroundcolor\": \"rgb(237,237,237)\", \"gridcolor\": \"white\", \"gridwidth\": 2, \"linecolor\": \"white\", \"showbackground\": true, \"showgrid\": true, \"tickcolor\": \"rgb(51,51,51)\", \"ticks\": \"outside\", \"zerolinecolor\": \"white\"}, \"yaxis\": {\"backgroundcolor\": \"rgb(237,237,237)\", \"gridcolor\": \"white\", \"gridwidth\": 2, \"linecolor\": \"white\", \"showbackground\": true, \"showgrid\": true, \"tickcolor\": \"rgb(51,51,51)\", \"ticks\": \"outside\", \"zerolinecolor\": \"white\"}, \"zaxis\": {\"backgroundcolor\": \"rgb(237,237,237)\", \"gridcolor\": \"white\", \"gridwidth\": 2, \"linecolor\": \"white\", \"showbackground\": true, \"showgrid\": true, \"tickcolor\": \"rgb(51,51,51)\", \"ticks\": \"outside\", \"zerolinecolor\": \"white\"}}, \"shapedefaults\": {\"fillcolor\": \"black\", \"line\": {\"width\": 0}, \"opacity\": 0.3}, \"ternary\": {\"aaxis\": {\"gridcolor\": \"white\", \"linecolor\": \"white\", \"showgrid\": true, \"tickcolor\": \"rgb(51,51,51)\", \"ticks\": \"outside\"}, \"baxis\": {\"gridcolor\": \"white\", \"linecolor\": \"white\", \"showgrid\": true, \"tickcolor\": \"rgb(51,51,51)\", \"ticks\": \"outside\"}, \"bgcolor\": \"rgb(237,237,237)\", \"caxis\": {\"gridcolor\": \"white\", \"linecolor\": \"white\", \"showgrid\": true, \"tickcolor\": \"rgb(51,51,51)\", \"ticks\": \"outside\"}}, \"xaxis\": {\"automargin\": true, \"gridcolor\": \"white\", \"linecolor\": \"white\", \"showgrid\": true, \"tickcolor\": \"rgb(51,51,51)\", \"ticks\": \"outside\", \"zerolinecolor\": \"white\"}, \"yaxis\": {\"automargin\": true, \"gridcolor\": \"white\", \"linecolor\": \"white\", \"showgrid\": true, \"tickcolor\": \"rgb(51,51,51)\", \"ticks\": \"outside\", \"zerolinecolor\": \"white\"}}}, \"width\": 1200, \"xaxis\": {\"anchor\": \"y\", \"domain\": [0.0, 0.98], \"title\": {\"text\": \"id\"}}, \"yaxis\": {\"anchor\": \"x\", \"domain\": [0.0, 1.0], \"title\": {\"text\": \"pro\"}}},\n",
       "                        {\"responsive\": true}\n",
       "                    ).then(function(){\n",
       "                            \n",
       "var gd = document.getElementById('e130a5a2-ec73-441f-8f14-5269eed5923e');\n",
       "var x = new MutationObserver(function (mutations, observer) {{\n",
       "        var display = window.getComputedStyle(gd).display;\n",
       "        if (!display || display === 'none') {{\n",
       "            console.log([gd, 'removed!']);\n",
       "            Plotly.purge(gd);\n",
       "            observer.disconnect();\n",
       "        }}\n",
       "}});\n",
       "\n",
       "// Listen for the removal of the full notebook cells\n",
       "var notebookContainer = gd.closest('#notebook-container');\n",
       "if (notebookContainer) {{\n",
       "    x.observe(notebookContainer, {childList: true});\n",
       "}}\n",
       "\n",
       "// Listen for the clearing of the current output cell\n",
       "var outputEl = gd.closest('.output');\n",
       "if (outputEl) {{\n",
       "    x.observe(outputEl, {childList: true});\n",
       "}}\n",
       "\n",
       "                        })\n",
       "                };\n",
       "                });\n",
       "            </script>\n",
       "        </div>"
      ]
     },
     "metadata": {},
     "output_type": "display_data"
    },
    {
     "name": "stdout",
     "output_type": "stream",
     "text": [
      "总体准确率为0.8627450980392157\n",
      "混淆矩阵为[132, 21, 0, 0]\n"
     ]
    }
   ],
   "source": [
    "healthy_new_pre = predict_plot('test_healthy')\n",
    "# healthy_new_pre.to_excel('C:/Users/pc/Desktop/healthy_pre.xlsx')"
   ]
  },
  {
   "cell_type": "code",
   "execution_count": 205,
   "metadata": {
    "ExecuteTime": {
     "end_time": "2019-12-27T09:31:44.257007Z",
     "start_time": "2019-12-27T09:31:43.748367Z"
    }
   },
   "outputs": [
    {
     "data": {
      "application/vnd.plotly.v1+json": {
       "config": {
        "plotlyServerURL": "https://plot.ly"
       },
       "data": [
        {
         "hoverlabel": {
          "namelength": 0
         },
         "hovertemplate": "class=0<br>id=%{x}<br>pro=%{y}",
         "legendgroup": "class=0",
         "marker": {
          "color": "green",
          "symbol": "circle"
         },
         "mode": "markers",
         "name": "class=0",
         "showlegend": true,
         "type": "scatter",
         "x": [
          "000009_01",
          "000141_01",
          "000142_01",
          "000143_01",
          "000144_01",
          "000145_01",
          "000146_01",
          "000147_01",
          "000148_01",
          "000149_01",
          "000150_01",
          "000140_01",
          "000151_01",
          "000153_01",
          "000154_01",
          "000155_01",
          "000156_01",
          "000157_01",
          "000158_01",
          "000159_01",
          "000160_01",
          "000161_01",
          "000162_01",
          "000152_01",
          "000163_01",
          "000139_01",
          "000137_01",
          "000115_01",
          "000116_01",
          "000117_01",
          "000118_01",
          "000119_01",
          "000120_01",
          "000121_01",
          "000122_01",
          "000123_01",
          "000124_01",
          "000138_01",
          "000125_01",
          "000127_01",
          "000128_01",
          "000129_01",
          "000130_01",
          "000131_01",
          "000132_01",
          "000133_01",
          "000134_01",
          "000135_01",
          "000136_01",
          "000126_01",
          "000114_01",
          "000164_01",
          "000166_01",
          "000194_01",
          "000195_01",
          "000196_01",
          "000197_01",
          "000198_01",
          "000199_01",
          "000200_02",
          "000201_02",
          "000202_01",
          "000203_02",
          "000193_01",
          "000204_01",
          "000206_01",
          "000207_01",
          "000208_01",
          "000209_01",
          "000210_01",
          "000211_01",
          "000212_01",
          "000213_01",
          "000214_01",
          "000215_01",
          "000205_01",
          "000165_01",
          "000192_01",
          "000190_01",
          "000167_01",
          "000169_01",
          "000170_01",
          "000171_01",
          "000172_01",
          "000173_01",
          "000174_01",
          "000175_01",
          "000176_01",
          "000177_01",
          "000191_01",
          "000178_01",
          "000180_01",
          "000181_01",
          "000182_02",
          "000183_01",
          "000184_01",
          "000185_01",
          "000186_01",
          "000187_01",
          "000188_01",
          "000189_01",
          "000179_01",
          "000113_01",
          "000168_01",
          "000111_01",
          "000036_01",
          "000037_01",
          "000038_01",
          "000039_01",
          "000040_01",
          "000041_01",
          "000042_01",
          "000043_01",
          "000044_01",
          "000045_01",
          "000035_03",
          "000046_01",
          "000048_01",
          "000049_01",
          "000050_01",
          "000051_01",
          "000052_01",
          "000053_01",
          "000054_01",
          "000055_01",
          "000056_01",
          "000057_01",
          "000047_01",
          "000058_01",
          "000033_01",
          "000031_01",
          "000112_01",
          "000010_01",
          "000011_01",
          "000012_01",
          "000013_01",
          "000014_01",
          "000015_01",
          "000016_01",
          "000017_01",
          "000018_01",
          "000032_01",
          "000019_01",
          "000021_01",
          "000022_01",
          "000023_01",
          "000024_01",
          "000025_01",
          "000026_01",
          "000027_01",
          "000028_01",
          "000029_01",
          "000030_01",
          "000020_01",
          "000059_01",
          "000034_01",
          "000061_01",
          "000088_01",
          "000089_01",
          "000090_01",
          "000091_01",
          "000092_01",
          "000093_01",
          "000094_01",
          "000095_01",
          "000096_01",
          "000098_01",
          "000099_01",
          "000100_01",
          "000101_01",
          "000102_01",
          "000103_01",
          "000104_01",
          "000105_01",
          "000106_01",
          "000107_01",
          "000108_01",
          "000109_01",
          "000060_01",
          "000110_01",
          "000087_01",
          "000086_01",
          "000097_01",
          "000085_01",
          "000062_01",
          "000063_01",
          "000064_01",
          "000065_01",
          "000066_01",
          "000067_01",
          "000068_01",
          "000070_01",
          "000071_01",
          "000072_01",
          "000073_01",
          "000069_01",
          "000075_01",
          "000076_01",
          "000077_01",
          "000078_01",
          "000079_01",
          "000080_01",
          "000081_01",
          "000082_01",
          "000074_01",
          "000083_01",
          "000084_01"
         ],
         "xaxis": "x",
         "y": [
          0.017075400428139535,
          0.005139080427339335,
          0.16247047686576643,
          0.0028037898600587327,
          0.024470223998034238,
          0.00839339880689654,
          0.9403367451866231,
          0.09772096773283247,
          0.10263899910518083,
          0.08921852069223965,
          0.24888175939413457,
          0.02937229436539113,
          0.08157037508158563,
          0.46894658120287785,
          0.10092906881018206,
          0.11412335239087656,
          0.014752747796574308,
          0.051240044144451435,
          0.7634565078377128,
          0.1154489147578038,
          0.5519118389281844,
          0.11821121485638549,
          0.0009099310234398622,
          0.6504809907498873,
          0.008640034367690187,
          0.10690165077590673,
          0.6621738489455683,
          0.018932799877896676,
          0.060491093536326125,
          0.004084601820003026,
          0.004533444495626991,
          0.011420460855888236,
          0.012954392226604492,
          0.015167438056824125,
          0.10773838983291678,
          0.007147296766341974,
          0.020582474024352402,
          0.30892264519969254,
          0.00448376313686639,
          0.002276027346317789,
          0.052512909442578165,
          0.09615747911795221,
          0.6493048302487473,
          0.46464529085127926,
          0.8610527114880407,
          0.4681688150250856,
          0.624054642370513,
          0.2736628372318607,
          0.509802494210361,
          0.004413204275276734,
          0.020727091878619545,
          0.0005446350519670624,
          0.027253515899246565,
          0.052025545669184485,
          0.027797329716604136,
          0.0077973861888887335,
          0.1516620582555442,
          0.08349669400482672,
          0.0016066829881245185,
          0.027551270094797693,
          0.8359862166606999,
          0.16773364494466206,
          0.054368615940797546,
          0.02799965337899835,
          0.0024409809414703333,
          0.014976367152065226,
          0.014514485469820268,
          0.0058568433558274695,
          0.005830109785520719,
          0.0004374046390462486,
          0.05510577718448835,
          0.08558722280632483,
          0.014053365668107436,
          0.0010518610362532665,
          0.0013371775554718148,
          0.025931136087491834,
          0.013163267781832818,
          0.0029714790411147418,
          0.0009395722266051874,
          0.004296050992720753,
          0.1676656734253988,
          0.033643794485082944,
          0.013504085699788166,
          0.012947504320792653,
          0.036494611527565925,
          0.0077441496484672535,
          0.07852694465654367,
          0.0010888235521615624,
          0.028344177066426956,
          0.0004301117763762164,
          0.003095312291017339,
          0.00955109081650221,
          0.0016444377929147498,
          0.007312313472461522,
          0.08854209252846397,
          0.0014921788755863751,
          0.004597928115333155,
          0.0038741832009136154,
          0.0026916081611324787,
          0.003304350642087157,
          0.005682224502419992,
          0.005385678059284236,
          0.05976949522638249,
          0.005071907210047005,
          0.1387955557950019,
          0.16195754633460394,
          0.10092266449622628,
          0.10410346746751553,
          0.002479997362192328,
          0.0007738963479960826,
          0.07813310829829599,
          0.0036305445498363877,
          0.007684381366138106,
          0.007415814771260818,
          0.008058742113523159,
          0.007390918794886289,
          0.015862240927107762,
          0.07972156607736183,
          0.8748221619450577,
          0.035435462470921886,
          0.17850334560439926,
          0.14022421808546376,
          0.5559333651262599,
          0.09994464955584835,
          0.6997694598864191,
          0.03115988415379472,
          0.7086064809090553,
          0.0998711393863208,
          0.02824993123170476,
          0.0007562680401635761,
          0.006200721434449149,
          0.021888360706624307,
          0.006279895118050759,
          0.03330419193626414,
          0.05313901735497706,
          0.0026092451114322597,
          0.11915826838932429,
          0.03342037749072697,
          0.017879872952173435,
          0.0398333727990471,
          0.24335620332258134,
          0.006738440220931168,
          0.03082979634588303,
          0.006362296025082492,
          0.016440913004101883,
          0.004661372777740683,
          0.05607457303435109,
          0.02990903132128586,
          0.029469915479940895,
          0.0024423383798500135,
          0.8613476282128637,
          0.6669641421210879,
          0.5,
          0.06616315033199596,
          0.03682084491300213,
          0.0015064282816353732,
          0.16792266170156261,
          0.06330884945697678,
          0.007149330154290647,
          0.07010514950309142,
          0.11030708581339496,
          0.017831151109689792,
          0.010276019550401833,
          0.009548421329959632,
          0.002607580365494308,
          0.004793099652490534,
          0.0014549242715402924,
          0.001430095174890136,
          0.04951365317834861,
          0.00782989101786607,
          0.02178474890062789,
          0.013074308214164741,
          0.012964798849116286,
          0.003445857507328419,
          0.001230537363717439,
          0.010157024118687184,
          0.00156225165362678,
          0.005645778258361906,
          0.08906214135040517,
          0.7882700540466242,
          0.07223399388049748,
          0.016984654495225477,
          0.023957086394020922,
          0.0359366609967336,
          0.11471709781114851,
          0.023366858425343605,
          0.0007101766917789606,
          0.0016923478977857308,
          0.00315298670871943,
          0.002447079890883244,
          0.0304003219127198,
          0.29279738489943713,
          0.016574336760636785,
          0.9112140298841085,
          0.5472750348640437,
          0.2570824693208177,
          0.7537965885014111,
          0.09961740908404272,
          0.26261429701306105,
          0.8157295702857711,
          0.8672931251737376,
          0.15652139439494867,
          0.37297244462683043,
          0.31323468342780536,
          0.9696263251473547,
          0.21946911491645224,
          0.4670501194893425
         ],
         "yaxis": "y"
        },
        {
         "hoverlabel": {
          "namelength": 0
         },
         "hovertemplate": "class=1<br>id=%{x}<br>pro=%{y}",
         "legendgroup": "class=1",
         "marker": {
          "color": "#EE0000",
          "symbol": "circle"
         },
         "mode": "markers",
         "name": "class=1",
         "showlegend": true,
         "type": "scatter",
         "x": [
          "B081.expo",
          "B072.expo",
          "B073.expo",
          "B074.expo",
          "B075.expo",
          "B079.expo",
          "B077.expo",
          "B078.expo",
          "B080.expo",
          "B071.expo",
          "B076.expo",
          "B070.expo",
          "B060.expo",
          "B068.expo",
          "B067.expo",
          "B066.expo",
          "B065.expo",
          "B064.expo",
          "B063.expo",
          "B062.expo",
          "B061.expo",
          "B059.expo",
          "B058.expo",
          "B082.expo",
          "B069.expo",
          "B083.expo",
          "B108.expo",
          "B085.expo",
          "B110.expo",
          "B057.expo",
          "B109.expo",
          "B107.expo",
          "B106.expo",
          "B105.expo",
          "B104.expo",
          "B103.expo",
          "B102.expo",
          "B101.expo",
          "B100.expo",
          "B099.expo",
          "B098.expo",
          "B097.expo",
          "B096.expo",
          "B095.expo",
          "B094.expo",
          "B093.expo",
          "B092.expo",
          "B091.expo",
          "B090.expo",
          "B089.expo",
          "B088.expo",
          "B087.expo",
          "B086.expo",
          "B084.expo",
          "B056.expo",
          "B005.expo",
          "B054.expo",
          "B024.expo",
          "B023.expo",
          "B022.expo",
          "B021.expo",
          "B020.expo",
          "B019.expo",
          "B018.expo",
          "B017.expo",
          "B016.expo",
          "B015.expo",
          "B014.expo",
          "B025.expo",
          "B013.expo",
          "B011.expo",
          "B010.expo",
          "B009.expo",
          "B008.expo",
          "B007.expo",
          "B006.expo",
          "B004.expo",
          "B003.expo",
          "B002.expo",
          "B001.expo",
          "B111.expo",
          "B012.expo",
          "B026.expo",
          "B027.expo",
          "B028.expo",
          "B053.expo",
          "B052.expo",
          "B051.expo",
          "B050.expo",
          "B049.expo",
          "B048.expo",
          "B047.expo",
          "B046.expo",
          "B045.expo",
          "B044.expo",
          "B043.expo",
          "B042.expo",
          "B041.expo",
          "B040.expo",
          "B039.expo",
          "B038.expo",
          "B037.expo",
          "B036.expo",
          "B035.expo",
          "B034.expo",
          "B033.expo",
          "B032.expo",
          "B031.expo",
          "B030.expo",
          "B029.expo",
          "B055.expo",
          "B112.expo"
         ],
         "xaxis": "x",
         "y": [
          0.09822048858637338,
          0.9999978984126975,
          0.9755500174858285,
          0.8923770926070282,
          0.9908046530023374,
          0.07656043860090303,
          0.995499984078904,
          0.9999939372957937,
          0.6505855370741396,
          0.8840642289596917,
          0.5889769158633934,
          0.999995933029189,
          0.985329158414052,
          0.9823413161070221,
          0.9779104526227952,
          0.9605707070900362,
          0.9848547875806226,
          0.9750563093363454,
          0.9864763845991363,
          0.9917348454114777,
          0.9999985703821412,
          0.9928685916799062,
          0.9960614124337546,
          0.40602865644973823,
          0.9999933666944956,
          0.9913822647327196,
          0.9760103634769836,
          0.2787239410772126,
          0.1871885236264054,
          0.9999837422479743,
          0.8844484917012816,
          0.9950489806781455,
          0.9489028918097172,
          0.824739438208611,
          0.9967427977139857,
          0.9958544715828792,
          0.9765657610371559,
          0.5682020015688327,
          0.9962069545792619,
          0.9999851519398432,
          0.9523970693394516,
          0.4882930473584422,
          0.9408341423583508,
          0.004731873166796934,
          0.871225285075099,
          0.9162480173424495,
          0.9880794833929927,
          0.9375307604877886,
          0.47092939007941687,
          0.7655170008538481,
          0.7863850245468998,
          0.9277603802066441,
          0.6632916899945089,
          0.9706618933788614,
          0.9859324996607226,
          0.9433958528266174,
          0.9999833065205298,
          0.9912965271640952,
          0.9999949779467739,
          0.9909434249759986,
          0.995372378779465,
          0.9999940898682155,
          0.9014196074285307,
          0.7865477055393788,
          0.9875152561779353,
          0.9907159282318208,
          0.8885333758454806,
          0.9845923183360298,
          0.999997160728667,
          0.9769030886050946,
          0.2301405845611371,
          0.9194801140508998,
          0.9342344486281666,
          0.9850010902772359,
          0.9586982274658491,
          0.9851305463392727,
          0.9710750058922484,
          0.9583195585457984,
          0.992105692726048,
          0.9956125936910166,
          0.990281795869198,
          0.9999910818158063,
          0.996278026318599,
          0.9304773321006673,
          0.999998552919877,
          0.9999998124026002,
          0.9963356579548899,
          0.9818873472775795,
          0.9851595916626179,
          0.9832113538827258,
          0.9739259446648253,
          0.9941841903902381,
          0.9490612290156117,
          0.7396830306418584,
          0.9966564025995092,
          0.9697448140510706,
          0.8563307766777501,
          0.9859940049680925,
          0.8158505861185975,
          0.9908924464816591,
          0.9881155803709609,
          0.9742230515408458,
          0.9580801181503683,
          0.9740512684846014,
          0.9144991778296117,
          0.9907548819798571,
          0.9896172237796135,
          0.9925899384948339,
          0.999997615237118,
          0.9999998533659681,
          0.8026494322111012,
          0.8438172658124319
         ],
         "yaxis": "y"
        },
        {
         "line": {
          "color": "grey",
          "dash": "dash"
         },
         "mode": "lines",
         "showlegend": false,
         "type": "scatter",
         "x": [
          "000009_01",
          "B112.expo"
         ],
         "y": [
          0.5,
          0.5
         ]
        }
       ],
       "layout": {
        "height": 800,
        "legend": {
         "tracegroupgap": 0
        },
        "margin": {
         "t": 60
        },
        "template": {
         "data": {
          "bar": [
           {
            "error_x": {
             "color": "rgb(51,51,51)"
            },
            "error_y": {
             "color": "rgb(51,51,51)"
            },
            "marker": {
             "line": {
              "color": "rgb(237,237,237)",
              "width": 0.5
             }
            },
            "type": "bar"
           }
          ],
          "barpolar": [
           {
            "marker": {
             "line": {
              "color": "rgb(237,237,237)",
              "width": 0.5
             }
            },
            "type": "barpolar"
           }
          ],
          "carpet": [
           {
            "aaxis": {
             "endlinecolor": "rgb(51,51,51)",
             "gridcolor": "white",
             "linecolor": "white",
             "minorgridcolor": "white",
             "startlinecolor": "rgb(51,51,51)"
            },
            "baxis": {
             "endlinecolor": "rgb(51,51,51)",
             "gridcolor": "white",
             "linecolor": "white",
             "minorgridcolor": "white",
             "startlinecolor": "rgb(51,51,51)"
            },
            "type": "carpet"
           }
          ],
          "choropleth": [
           {
            "colorbar": {
             "outlinewidth": 0,
             "tickcolor": "rgb(237,237,237)",
             "ticklen": 6,
             "ticks": "inside"
            },
            "type": "choropleth"
           }
          ],
          "contour": [
           {
            "colorbar": {
             "outlinewidth": 0,
             "tickcolor": "rgb(237,237,237)",
             "ticklen": 6,
             "ticks": "inside"
            },
            "colorscale": [
             [
              0,
              "rgb(20,44,66)"
             ],
             [
              1,
              "rgb(90,179,244)"
             ]
            ],
            "type": "contour"
           }
          ],
          "contourcarpet": [
           {
            "colorbar": {
             "outlinewidth": 0,
             "tickcolor": "rgb(237,237,237)",
             "ticklen": 6,
             "ticks": "inside"
            },
            "type": "contourcarpet"
           }
          ],
          "heatmap": [
           {
            "colorbar": {
             "outlinewidth": 0,
             "tickcolor": "rgb(237,237,237)",
             "ticklen": 6,
             "ticks": "inside"
            },
            "colorscale": [
             [
              0,
              "rgb(20,44,66)"
             ],
             [
              1,
              "rgb(90,179,244)"
             ]
            ],
            "type": "heatmap"
           }
          ],
          "heatmapgl": [
           {
            "colorbar": {
             "outlinewidth": 0,
             "tickcolor": "rgb(237,237,237)",
             "ticklen": 6,
             "ticks": "inside"
            },
            "colorscale": [
             [
              0,
              "rgb(20,44,66)"
             ],
             [
              1,
              "rgb(90,179,244)"
             ]
            ],
            "type": "heatmapgl"
           }
          ],
          "histogram": [
           {
            "marker": {
             "colorbar": {
              "outlinewidth": 0,
              "tickcolor": "rgb(237,237,237)",
              "ticklen": 6,
              "ticks": "inside"
             }
            },
            "type": "histogram"
           }
          ],
          "histogram2d": [
           {
            "colorbar": {
             "outlinewidth": 0,
             "tickcolor": "rgb(237,237,237)",
             "ticklen": 6,
             "ticks": "inside"
            },
            "colorscale": [
             [
              0,
              "rgb(20,44,66)"
             ],
             [
              1,
              "rgb(90,179,244)"
             ]
            ],
            "type": "histogram2d"
           }
          ],
          "histogram2dcontour": [
           {
            "colorbar": {
             "outlinewidth": 0,
             "tickcolor": "rgb(237,237,237)",
             "ticklen": 6,
             "ticks": "inside"
            },
            "colorscale": [
             [
              0,
              "rgb(20,44,66)"
             ],
             [
              1,
              "rgb(90,179,244)"
             ]
            ],
            "type": "histogram2dcontour"
           }
          ],
          "mesh3d": [
           {
            "colorbar": {
             "outlinewidth": 0,
             "tickcolor": "rgb(237,237,237)",
             "ticklen": 6,
             "ticks": "inside"
            },
            "type": "mesh3d"
           }
          ],
          "parcoords": [
           {
            "line": {
             "colorbar": {
              "outlinewidth": 0,
              "tickcolor": "rgb(237,237,237)",
              "ticklen": 6,
              "ticks": "inside"
             }
            },
            "type": "parcoords"
           }
          ],
          "scatter": [
           {
            "marker": {
             "colorbar": {
              "outlinewidth": 0,
              "tickcolor": "rgb(237,237,237)",
              "ticklen": 6,
              "ticks": "inside"
             }
            },
            "type": "scatter"
           }
          ],
          "scatter3d": [
           {
            "line": {
             "colorbar": {
              "outlinewidth": 0,
              "tickcolor": "rgb(237,237,237)",
              "ticklen": 6,
              "ticks": "inside"
             }
            },
            "marker": {
             "colorbar": {
              "outlinewidth": 0,
              "tickcolor": "rgb(237,237,237)",
              "ticklen": 6,
              "ticks": "inside"
             }
            },
            "type": "scatter3d"
           }
          ],
          "scattercarpet": [
           {
            "marker": {
             "colorbar": {
              "outlinewidth": 0,
              "tickcolor": "rgb(237,237,237)",
              "ticklen": 6,
              "ticks": "inside"
             }
            },
            "type": "scattercarpet"
           }
          ],
          "scattergeo": [
           {
            "marker": {
             "colorbar": {
              "outlinewidth": 0,
              "tickcolor": "rgb(237,237,237)",
              "ticklen": 6,
              "ticks": "inside"
             }
            },
            "type": "scattergeo"
           }
          ],
          "scattergl": [
           {
            "marker": {
             "colorbar": {
              "outlinewidth": 0,
              "tickcolor": "rgb(237,237,237)",
              "ticklen": 6,
              "ticks": "inside"
             }
            },
            "type": "scattergl"
           }
          ],
          "scattermapbox": [
           {
            "marker": {
             "colorbar": {
              "outlinewidth": 0,
              "tickcolor": "rgb(237,237,237)",
              "ticklen": 6,
              "ticks": "inside"
             }
            },
            "type": "scattermapbox"
           }
          ],
          "scatterpolar": [
           {
            "marker": {
             "colorbar": {
              "outlinewidth": 0,
              "tickcolor": "rgb(237,237,237)",
              "ticklen": 6,
              "ticks": "inside"
             }
            },
            "type": "scatterpolar"
           }
          ],
          "scatterpolargl": [
           {
            "marker": {
             "colorbar": {
              "outlinewidth": 0,
              "tickcolor": "rgb(237,237,237)",
              "ticklen": 6,
              "ticks": "inside"
             }
            },
            "type": "scatterpolargl"
           }
          ],
          "scatterternary": [
           {
            "marker": {
             "colorbar": {
              "outlinewidth": 0,
              "tickcolor": "rgb(237,237,237)",
              "ticklen": 6,
              "ticks": "inside"
             }
            },
            "type": "scatterternary"
           }
          ],
          "surface": [
           {
            "colorbar": {
             "outlinewidth": 0,
             "tickcolor": "rgb(237,237,237)",
             "ticklen": 6,
             "ticks": "inside"
            },
            "colorscale": [
             [
              0,
              "rgb(20,44,66)"
             ],
             [
              1,
              "rgb(90,179,244)"
             ]
            ],
            "type": "surface"
           }
          ],
          "table": [
           {
            "cells": {
             "fill": {
              "color": "rgb(237,237,237)"
             },
             "line": {
              "color": "white"
             }
            },
            "header": {
             "fill": {
              "color": "rgb(217,217,217)"
             },
             "line": {
              "color": "white"
             }
            },
            "type": "table"
           }
          ]
         },
         "layout": {
          "annotationdefaults": {
           "arrowhead": 0,
           "arrowwidth": 1
          },
          "colorscale": {
           "sequential": [
            [
             0,
             "rgb(20,44,66)"
            ],
            [
             1,
             "rgb(90,179,244)"
            ]
           ],
           "sequentialminus": [
            [
             0,
             "rgb(20,44,66)"
            ],
            [
             1,
             "rgb(90,179,244)"
            ]
           ]
          },
          "colorway": [
           "#F8766D",
           "#A3A500",
           "#00BF7D",
           "#00B0F6",
           "#E76BF3"
          ],
          "font": {
           "color": "rgb(51,51,51)"
          },
          "geo": {
           "bgcolor": "white",
           "lakecolor": "white",
           "landcolor": "rgb(237,237,237)",
           "showlakes": true,
           "showland": true,
           "subunitcolor": "white"
          },
          "hoverlabel": {
           "align": "left"
          },
          "hovermode": "closest",
          "paper_bgcolor": "white",
          "plot_bgcolor": "rgb(237,237,237)",
          "polar": {
           "angularaxis": {
            "gridcolor": "white",
            "linecolor": "white",
            "showgrid": true,
            "tickcolor": "rgb(51,51,51)",
            "ticks": "outside"
           },
           "bgcolor": "rgb(237,237,237)",
           "radialaxis": {
            "gridcolor": "white",
            "linecolor": "white",
            "showgrid": true,
            "tickcolor": "rgb(51,51,51)",
            "ticks": "outside"
           }
          },
          "scene": {
           "xaxis": {
            "backgroundcolor": "rgb(237,237,237)",
            "gridcolor": "white",
            "gridwidth": 2,
            "linecolor": "white",
            "showbackground": true,
            "showgrid": true,
            "tickcolor": "rgb(51,51,51)",
            "ticks": "outside",
            "zerolinecolor": "white"
           },
           "yaxis": {
            "backgroundcolor": "rgb(237,237,237)",
            "gridcolor": "white",
            "gridwidth": 2,
            "linecolor": "white",
            "showbackground": true,
            "showgrid": true,
            "tickcolor": "rgb(51,51,51)",
            "ticks": "outside",
            "zerolinecolor": "white"
           },
           "zaxis": {
            "backgroundcolor": "rgb(237,237,237)",
            "gridcolor": "white",
            "gridwidth": 2,
            "linecolor": "white",
            "showbackground": true,
            "showgrid": true,
            "tickcolor": "rgb(51,51,51)",
            "ticks": "outside",
            "zerolinecolor": "white"
           }
          },
          "shapedefaults": {
           "fillcolor": "black",
           "line": {
            "width": 0
           },
           "opacity": 0.3
          },
          "ternary": {
           "aaxis": {
            "gridcolor": "white",
            "linecolor": "white",
            "showgrid": true,
            "tickcolor": "rgb(51,51,51)",
            "ticks": "outside"
           },
           "baxis": {
            "gridcolor": "white",
            "linecolor": "white",
            "showgrid": true,
            "tickcolor": "rgb(51,51,51)",
            "ticks": "outside"
           },
           "bgcolor": "rgb(237,237,237)",
           "caxis": {
            "gridcolor": "white",
            "linecolor": "white",
            "showgrid": true,
            "tickcolor": "rgb(51,51,51)",
            "ticks": "outside"
           }
          },
          "xaxis": {
           "automargin": true,
           "gridcolor": "white",
           "linecolor": "white",
           "showgrid": true,
           "tickcolor": "rgb(51,51,51)",
           "ticks": "outside",
           "zerolinecolor": "white"
          },
          "yaxis": {
           "automargin": true,
           "gridcolor": "white",
           "linecolor": "white",
           "showgrid": true,
           "tickcolor": "rgb(51,51,51)",
           "ticks": "outside",
           "zerolinecolor": "white"
          }
         }
        },
        "width": 1200,
        "xaxis": {
         "anchor": "y",
         "domain": [
          0,
          0.98
         ],
         "title": {
          "text": "id"
         }
        },
        "yaxis": {
         "anchor": "x",
         "domain": [
          0,
          1
         ],
         "title": {
          "text": "pro"
         }
        }
       }
      },
      "text/html": [
       "<div>\n",
       "        \n",
       "        \n",
       "            <div id=\"b8dca8c9-9cbc-405f-85f3-a3f676c72a9d\" class=\"plotly-graph-div\" style=\"height:800px; width:1200px;\"></div>\n",
       "            <script type=\"text/javascript\">\n",
       "                require([\"plotly\"], function(Plotly) {\n",
       "                    window.PLOTLYENV=window.PLOTLYENV || {};\n",
       "                    \n",
       "                if (document.getElementById(\"b8dca8c9-9cbc-405f-85f3-a3f676c72a9d\")) {\n",
       "                    Plotly.newPlot(\n",
       "                        'b8dca8c9-9cbc-405f-85f3-a3f676c72a9d',\n",
       "                        [{\"hoverlabel\": {\"namelength\": 0}, \"hovertemplate\": \"class=0<br>id=%{x}<br>pro=%{y}\", \"legendgroup\": \"class=0\", \"marker\": {\"color\": \"green\", \"symbol\": \"circle\"}, \"mode\": \"markers\", \"name\": \"class=0\", \"showlegend\": true, \"type\": \"scatter\", \"x\": [\"000009_01\", \"000141_01\", \"000142_01\", \"000143_01\", \"000144_01\", \"000145_01\", \"000146_01\", \"000147_01\", \"000148_01\", \"000149_01\", \"000150_01\", \"000140_01\", \"000151_01\", \"000153_01\", \"000154_01\", \"000155_01\", \"000156_01\", \"000157_01\", \"000158_01\", \"000159_01\", \"000160_01\", \"000161_01\", \"000162_01\", \"000152_01\", \"000163_01\", \"000139_01\", \"000137_01\", \"000115_01\", \"000116_01\", \"000117_01\", \"000118_01\", \"000119_01\", \"000120_01\", \"000121_01\", \"000122_01\", \"000123_01\", \"000124_01\", \"000138_01\", \"000125_01\", \"000127_01\", \"000128_01\", \"000129_01\", \"000130_01\", \"000131_01\", \"000132_01\", \"000133_01\", \"000134_01\", \"000135_01\", \"000136_01\", \"000126_01\", \"000114_01\", \"000164_01\", \"000166_01\", \"000194_01\", \"000195_01\", \"000196_01\", \"000197_01\", \"000198_01\", \"000199_01\", \"000200_02\", \"000201_02\", \"000202_01\", \"000203_02\", \"000193_01\", \"000204_01\", \"000206_01\", \"000207_01\", \"000208_01\", \"000209_01\", \"000210_01\", \"000211_01\", \"000212_01\", \"000213_01\", \"000214_01\", \"000215_01\", \"000205_01\", \"000165_01\", \"000192_01\", \"000190_01\", \"000167_01\", \"000169_01\", \"000170_01\", \"000171_01\", \"000172_01\", \"000173_01\", \"000174_01\", \"000175_01\", \"000176_01\", \"000177_01\", \"000191_01\", \"000178_01\", \"000180_01\", \"000181_01\", \"000182_02\", \"000183_01\", \"000184_01\", \"000185_01\", \"000186_01\", \"000187_01\", \"000188_01\", \"000189_01\", \"000179_01\", \"000113_01\", \"000168_01\", \"000111_01\", \"000036_01\", \"000037_01\", \"000038_01\", \"000039_01\", \"000040_01\", \"000041_01\", \"000042_01\", \"000043_01\", \"000044_01\", \"000045_01\", \"000035_03\", \"000046_01\", \"000048_01\", \"000049_01\", \"000050_01\", \"000051_01\", \"000052_01\", \"000053_01\", \"000054_01\", \"000055_01\", \"000056_01\", \"000057_01\", \"000047_01\", \"000058_01\", \"000033_01\", \"000031_01\", \"000112_01\", \"000010_01\", \"000011_01\", \"000012_01\", \"000013_01\", \"000014_01\", \"000015_01\", \"000016_01\", \"000017_01\", \"000018_01\", \"000032_01\", \"000019_01\", \"000021_01\", \"000022_01\", \"000023_01\", \"000024_01\", \"000025_01\", \"000026_01\", \"000027_01\", \"000028_01\", \"000029_01\", \"000030_01\", \"000020_01\", \"000059_01\", \"000034_01\", \"000061_01\", \"000088_01\", \"000089_01\", \"000090_01\", \"000091_01\", \"000092_01\", \"000093_01\", \"000094_01\", \"000095_01\", \"000096_01\", \"000098_01\", \"000099_01\", \"000100_01\", \"000101_01\", \"000102_01\", \"000103_01\", \"000104_01\", \"000105_01\", \"000106_01\", \"000107_01\", \"000108_01\", \"000109_01\", \"000060_01\", \"000110_01\", \"000087_01\", \"000086_01\", \"000097_01\", \"000085_01\", \"000062_01\", \"000063_01\", \"000064_01\", \"000065_01\", \"000066_01\", \"000067_01\", \"000068_01\", \"000070_01\", \"000071_01\", \"000072_01\", \"000073_01\", \"000069_01\", \"000075_01\", \"000076_01\", \"000077_01\", \"000078_01\", \"000079_01\", \"000080_01\", \"000081_01\", \"000082_01\", \"000074_01\", \"000083_01\", \"000084_01\"], \"xaxis\": \"x\", \"y\": [0.017075400428139535, 0.005139080427339335, 0.16247047686576643, 0.0028037898600587327, 0.024470223998034238, 0.00839339880689654, 0.9403367451866231, 0.09772096773283247, 0.10263899910518083, 0.08921852069223965, 0.24888175939413457, 0.02937229436539113, 0.08157037508158563, 0.46894658120287785, 0.10092906881018206, 0.11412335239087656, 0.014752747796574308, 0.051240044144451435, 0.7634565078377128, 0.1154489147578038, 0.5519118389281844, 0.11821121485638549, 0.0009099310234398622, 0.6504809907498873, 0.008640034367690187, 0.10690165077590673, 0.6621738489455683, 0.018932799877896676, 0.060491093536326125, 0.004084601820003026, 0.004533444495626991, 0.011420460855888236, 0.012954392226604492, 0.015167438056824125, 0.10773838983291678, 0.007147296766341974, 0.020582474024352402, 0.30892264519969254, 0.00448376313686639, 0.002276027346317789, 0.052512909442578165, 0.09615747911795221, 0.6493048302487473, 0.46464529085127926, 0.8610527114880407, 0.4681688150250856, 0.624054642370513, 0.2736628372318607, 0.509802494210361, 0.004413204275276734, 0.020727091878619545, 0.0005446350519670624, 0.027253515899246565, 0.052025545669184485, 0.027797329716604136, 0.0077973861888887335, 0.1516620582555442, 0.08349669400482672, 0.0016066829881245185, 0.027551270094797693, 0.8359862166606999, 0.16773364494466206, 0.054368615940797546, 0.02799965337899835, 0.0024409809414703333, 0.014976367152065226, 0.014514485469820268, 0.0058568433558274695, 0.005830109785520719, 0.0004374046390462486, 0.05510577718448835, 0.08558722280632483, 0.014053365668107436, 0.0010518610362532665, 0.0013371775554718148, 0.025931136087491834, 0.013163267781832818, 0.0029714790411147418, 0.0009395722266051874, 0.004296050992720753, 0.1676656734253988, 0.033643794485082944, 0.013504085699788166, 0.012947504320792653, 0.036494611527565925, 0.0077441496484672535, 0.07852694465654367, 0.0010888235521615624, 0.028344177066426956, 0.0004301117763762164, 0.003095312291017339, 0.00955109081650221, 0.0016444377929147498, 0.007312313472461522, 0.08854209252846397, 0.0014921788755863751, 0.004597928115333155, 0.0038741832009136154, 0.0026916081611324787, 0.003304350642087157, 0.005682224502419992, 0.005385678059284236, 0.05976949522638249, 0.005071907210047005, 0.1387955557950019, 0.16195754633460394, 0.10092266449622628, 0.10410346746751553, 0.002479997362192328, 0.0007738963479960826, 0.07813310829829599, 0.0036305445498363877, 0.007684381366138106, 0.007415814771260818, 0.008058742113523159, 0.007390918794886289, 0.015862240927107762, 0.07972156607736183, 0.8748221619450577, 0.035435462470921886, 0.17850334560439926, 0.14022421808546376, 0.5559333651262599, 0.09994464955584835, 0.6997694598864191, 0.03115988415379472, 0.7086064809090553, 0.0998711393863208, 0.02824993123170476, 0.0007562680401635761, 0.006200721434449149, 0.021888360706624307, 0.006279895118050759, 0.03330419193626414, 0.05313901735497706, 0.0026092451114322597, 0.11915826838932429, 0.03342037749072697, 0.017879872952173435, 0.0398333727990471, 0.24335620332258134, 0.006738440220931168, 0.03082979634588303, 0.006362296025082492, 0.016440913004101883, 0.004661372777740683, 0.05607457303435109, 0.02990903132128586, 0.029469915479940895, 0.0024423383798500135, 0.8613476282128637, 0.6669641421210879, 0.5, 0.06616315033199596, 0.03682084491300213, 0.0015064282816353732, 0.16792266170156261, 0.06330884945697678, 0.007149330154290647, 0.07010514950309142, 0.11030708581339496, 0.017831151109689792, 0.010276019550401833, 0.009548421329959632, 0.002607580365494308, 0.004793099652490534, 0.0014549242715402924, 0.001430095174890136, 0.04951365317834861, 0.00782989101786607, 0.02178474890062789, 0.013074308214164741, 0.012964798849116286, 0.003445857507328419, 0.001230537363717439, 0.010157024118687184, 0.00156225165362678, 0.005645778258361906, 0.08906214135040517, 0.7882700540466242, 0.07223399388049748, 0.016984654495225477, 0.023957086394020922, 0.0359366609967336, 0.11471709781114851, 0.023366858425343605, 0.0007101766917789606, 0.0016923478977857308, 0.00315298670871943, 0.002447079890883244, 0.0304003219127198, 0.29279738489943713, 0.016574336760636785, 0.9112140298841085, 0.5472750348640437, 0.2570824693208177, 0.7537965885014111, 0.09961740908404272, 0.26261429701306105, 0.8157295702857711, 0.8672931251737376, 0.15652139439494867, 0.37297244462683043, 0.31323468342780536, 0.9696263251473547, 0.21946911491645224, 0.4670501194893425], \"yaxis\": \"y\"}, {\"hoverlabel\": {\"namelength\": 0}, \"hovertemplate\": \"class=1<br>id=%{x}<br>pro=%{y}\", \"legendgroup\": \"class=1\", \"marker\": {\"color\": \"#EE0000\", \"symbol\": \"circle\"}, \"mode\": \"markers\", \"name\": \"class=1\", \"showlegend\": true, \"type\": \"scatter\", \"x\": [\"B081.expo\", \"B072.expo\", \"B073.expo\", \"B074.expo\", \"B075.expo\", \"B079.expo\", \"B077.expo\", \"B078.expo\", \"B080.expo\", \"B071.expo\", \"B076.expo\", \"B070.expo\", \"B060.expo\", \"B068.expo\", \"B067.expo\", \"B066.expo\", \"B065.expo\", \"B064.expo\", \"B063.expo\", \"B062.expo\", \"B061.expo\", \"B059.expo\", \"B058.expo\", \"B082.expo\", \"B069.expo\", \"B083.expo\", \"B108.expo\", \"B085.expo\", \"B110.expo\", \"B057.expo\", \"B109.expo\", \"B107.expo\", \"B106.expo\", \"B105.expo\", \"B104.expo\", \"B103.expo\", \"B102.expo\", \"B101.expo\", \"B100.expo\", \"B099.expo\", \"B098.expo\", \"B097.expo\", \"B096.expo\", \"B095.expo\", \"B094.expo\", \"B093.expo\", \"B092.expo\", \"B091.expo\", \"B090.expo\", \"B089.expo\", \"B088.expo\", \"B087.expo\", \"B086.expo\", \"B084.expo\", \"B056.expo\", \"B005.expo\", \"B054.expo\", \"B024.expo\", \"B023.expo\", \"B022.expo\", \"B021.expo\", \"B020.expo\", \"B019.expo\", \"B018.expo\", \"B017.expo\", \"B016.expo\", \"B015.expo\", \"B014.expo\", \"B025.expo\", \"B013.expo\", \"B011.expo\", \"B010.expo\", \"B009.expo\", \"B008.expo\", \"B007.expo\", \"B006.expo\", \"B004.expo\", \"B003.expo\", \"B002.expo\", \"B001.expo\", \"B111.expo\", \"B012.expo\", \"B026.expo\", \"B027.expo\", \"B028.expo\", \"B053.expo\", \"B052.expo\", \"B051.expo\", \"B050.expo\", \"B049.expo\", \"B048.expo\", \"B047.expo\", \"B046.expo\", \"B045.expo\", \"B044.expo\", \"B043.expo\", \"B042.expo\", \"B041.expo\", \"B040.expo\", \"B039.expo\", \"B038.expo\", \"B037.expo\", \"B036.expo\", \"B035.expo\", \"B034.expo\", \"B033.expo\", \"B032.expo\", \"B031.expo\", \"B030.expo\", \"B029.expo\", \"B055.expo\", \"B112.expo\"], \"xaxis\": \"x\", \"y\": [0.09822048858637338, 0.9999978984126975, 0.9755500174858285, 0.8923770926070282, 0.9908046530023374, 0.07656043860090303, 0.995499984078904, 0.9999939372957937, 0.6505855370741396, 0.8840642289596917, 0.5889769158633934, 0.999995933029189, 0.985329158414052, 0.9823413161070221, 0.9779104526227952, 0.9605707070900362, 0.9848547875806226, 0.9750563093363454, 0.9864763845991363, 0.9917348454114777, 0.9999985703821412, 0.9928685916799062, 0.9960614124337546, 0.40602865644973823, 0.9999933666944956, 0.9913822647327196, 0.9760103634769836, 0.2787239410772126, 0.1871885236264054, 0.9999837422479743, 0.8844484917012816, 0.9950489806781455, 0.9489028918097172, 0.824739438208611, 0.9967427977139857, 0.9958544715828792, 0.9765657610371559, 0.5682020015688327, 0.9962069545792619, 0.9999851519398432, 0.9523970693394516, 0.4882930473584422, 0.9408341423583508, 0.004731873166796934, 0.871225285075099, 0.9162480173424495, 0.9880794833929927, 0.9375307604877886, 0.47092939007941687, 0.7655170008538481, 0.7863850245468998, 0.9277603802066441, 0.6632916899945089, 0.9706618933788614, 0.9859324996607226, 0.9433958528266174, 0.9999833065205298, 0.9912965271640952, 0.9999949779467739, 0.9909434249759986, 0.995372378779465, 0.9999940898682155, 0.9014196074285307, 0.7865477055393788, 0.9875152561779353, 0.9907159282318208, 0.8885333758454806, 0.9845923183360298, 0.999997160728667, 0.9769030886050946, 0.2301405845611371, 0.9194801140508998, 0.9342344486281666, 0.9850010902772359, 0.9586982274658491, 0.9851305463392727, 0.9710750058922484, 0.9583195585457984, 0.992105692726048, 0.9956125936910166, 0.990281795869198, 0.9999910818158063, 0.996278026318599, 0.9304773321006673, 0.999998552919877, 0.9999998124026002, 0.9963356579548899, 0.9818873472775795, 0.9851595916626179, 0.9832113538827258, 0.9739259446648253, 0.9941841903902381, 0.9490612290156117, 0.7396830306418584, 0.9966564025995092, 0.9697448140510706, 0.8563307766777501, 0.9859940049680925, 0.8158505861185975, 0.9908924464816591, 0.9881155803709609, 0.9742230515408458, 0.9580801181503683, 0.9740512684846014, 0.9144991778296117, 0.9907548819798571, 0.9896172237796135, 0.9925899384948339, 0.999997615237118, 0.9999998533659681, 0.8026494322111012, 0.8438172658124319], \"yaxis\": \"y\"}, {\"line\": {\"color\": \"grey\", \"dash\": \"dash\"}, \"mode\": \"lines\", \"showlegend\": false, \"type\": \"scatter\", \"x\": [\"000009_01\", \"B112.expo\"], \"y\": [0.5, 0.5]}],\n",
       "                        {\"height\": 800, \"legend\": {\"tracegroupgap\": 0}, \"margin\": {\"t\": 60}, \"template\": {\"data\": {\"bar\": [{\"error_x\": {\"color\": \"rgb(51,51,51)\"}, \"error_y\": {\"color\": \"rgb(51,51,51)\"}, \"marker\": {\"line\": {\"color\": \"rgb(237,237,237)\", \"width\": 0.5}}, \"type\": \"bar\"}], \"barpolar\": [{\"marker\": {\"line\": {\"color\": \"rgb(237,237,237)\", \"width\": 0.5}}, \"type\": \"barpolar\"}], \"carpet\": [{\"aaxis\": {\"endlinecolor\": \"rgb(51,51,51)\", \"gridcolor\": \"white\", \"linecolor\": \"white\", \"minorgridcolor\": \"white\", \"startlinecolor\": \"rgb(51,51,51)\"}, \"baxis\": {\"endlinecolor\": \"rgb(51,51,51)\", \"gridcolor\": \"white\", \"linecolor\": \"white\", \"minorgridcolor\": \"white\", \"startlinecolor\": \"rgb(51,51,51)\"}, \"type\": \"carpet\"}], \"choropleth\": [{\"colorbar\": {\"outlinewidth\": 0, \"tickcolor\": \"rgb(237,237,237)\", \"ticklen\": 6, \"ticks\": \"inside\"}, \"type\": \"choropleth\"}], \"contour\": [{\"colorbar\": {\"outlinewidth\": 0, \"tickcolor\": \"rgb(237,237,237)\", \"ticklen\": 6, \"ticks\": \"inside\"}, \"colorscale\": [[0, \"rgb(20,44,66)\"], [1, \"rgb(90,179,244)\"]], \"type\": \"contour\"}], \"contourcarpet\": [{\"colorbar\": {\"outlinewidth\": 0, \"tickcolor\": \"rgb(237,237,237)\", \"ticklen\": 6, \"ticks\": \"inside\"}, \"type\": \"contourcarpet\"}], \"heatmap\": [{\"colorbar\": {\"outlinewidth\": 0, \"tickcolor\": \"rgb(237,237,237)\", \"ticklen\": 6, \"ticks\": \"inside\"}, \"colorscale\": [[0, \"rgb(20,44,66)\"], [1, \"rgb(90,179,244)\"]], \"type\": \"heatmap\"}], \"heatmapgl\": [{\"colorbar\": {\"outlinewidth\": 0, \"tickcolor\": \"rgb(237,237,237)\", \"ticklen\": 6, \"ticks\": \"inside\"}, \"colorscale\": [[0, \"rgb(20,44,66)\"], [1, \"rgb(90,179,244)\"]], \"type\": \"heatmapgl\"}], \"histogram\": [{\"marker\": {\"colorbar\": {\"outlinewidth\": 0, \"tickcolor\": \"rgb(237,237,237)\", \"ticklen\": 6, \"ticks\": \"inside\"}}, \"type\": \"histogram\"}], \"histogram2d\": [{\"colorbar\": {\"outlinewidth\": 0, \"tickcolor\": \"rgb(237,237,237)\", \"ticklen\": 6, \"ticks\": \"inside\"}, \"colorscale\": [[0, \"rgb(20,44,66)\"], [1, \"rgb(90,179,244)\"]], \"type\": \"histogram2d\"}], \"histogram2dcontour\": [{\"colorbar\": {\"outlinewidth\": 0, \"tickcolor\": \"rgb(237,237,237)\", \"ticklen\": 6, \"ticks\": \"inside\"}, \"colorscale\": [[0, \"rgb(20,44,66)\"], [1, \"rgb(90,179,244)\"]], \"type\": \"histogram2dcontour\"}], \"mesh3d\": [{\"colorbar\": {\"outlinewidth\": 0, \"tickcolor\": \"rgb(237,237,237)\", \"ticklen\": 6, \"ticks\": \"inside\"}, \"type\": \"mesh3d\"}], \"parcoords\": [{\"line\": {\"colorbar\": {\"outlinewidth\": 0, \"tickcolor\": \"rgb(237,237,237)\", \"ticklen\": 6, \"ticks\": \"inside\"}}, \"type\": \"parcoords\"}], \"scatter\": [{\"marker\": {\"colorbar\": {\"outlinewidth\": 0, \"tickcolor\": \"rgb(237,237,237)\", \"ticklen\": 6, \"ticks\": \"inside\"}}, \"type\": \"scatter\"}], \"scatter3d\": [{\"line\": {\"colorbar\": {\"outlinewidth\": 0, \"tickcolor\": \"rgb(237,237,237)\", \"ticklen\": 6, \"ticks\": \"inside\"}}, \"marker\": {\"colorbar\": {\"outlinewidth\": 0, \"tickcolor\": \"rgb(237,237,237)\", \"ticklen\": 6, \"ticks\": \"inside\"}}, \"type\": \"scatter3d\"}], \"scattercarpet\": [{\"marker\": {\"colorbar\": {\"outlinewidth\": 0, \"tickcolor\": \"rgb(237,237,237)\", \"ticklen\": 6, \"ticks\": \"inside\"}}, \"type\": \"scattercarpet\"}], \"scattergeo\": [{\"marker\": {\"colorbar\": {\"outlinewidth\": 0, \"tickcolor\": \"rgb(237,237,237)\", \"ticklen\": 6, \"ticks\": \"inside\"}}, \"type\": \"scattergeo\"}], \"scattergl\": [{\"marker\": {\"colorbar\": {\"outlinewidth\": 0, \"tickcolor\": \"rgb(237,237,237)\", \"ticklen\": 6, \"ticks\": \"inside\"}}, \"type\": \"scattergl\"}], \"scattermapbox\": [{\"marker\": {\"colorbar\": {\"outlinewidth\": 0, \"tickcolor\": \"rgb(237,237,237)\", \"ticklen\": 6, \"ticks\": \"inside\"}}, \"type\": \"scattermapbox\"}], \"scatterpolar\": [{\"marker\": {\"colorbar\": {\"outlinewidth\": 0, \"tickcolor\": \"rgb(237,237,237)\", \"ticklen\": 6, \"ticks\": \"inside\"}}, \"type\": \"scatterpolar\"}], \"scatterpolargl\": [{\"marker\": {\"colorbar\": {\"outlinewidth\": 0, \"tickcolor\": \"rgb(237,237,237)\", \"ticklen\": 6, \"ticks\": \"inside\"}}, \"type\": \"scatterpolargl\"}], \"scatterternary\": [{\"marker\": {\"colorbar\": {\"outlinewidth\": 0, \"tickcolor\": \"rgb(237,237,237)\", \"ticklen\": 6, \"ticks\": \"inside\"}}, \"type\": \"scatterternary\"}], \"surface\": [{\"colorbar\": {\"outlinewidth\": 0, \"tickcolor\": \"rgb(237,237,237)\", \"ticklen\": 6, \"ticks\": \"inside\"}, \"colorscale\": [[0, \"rgb(20,44,66)\"], [1, \"rgb(90,179,244)\"]], \"type\": \"surface\"}], \"table\": [{\"cells\": {\"fill\": {\"color\": \"rgb(237,237,237)\"}, \"line\": {\"color\": \"white\"}}, \"header\": {\"fill\": {\"color\": \"rgb(217,217,217)\"}, \"line\": {\"color\": \"white\"}}, \"type\": \"table\"}]}, \"layout\": {\"annotationdefaults\": {\"arrowhead\": 0, \"arrowwidth\": 1}, \"colorscale\": {\"sequential\": [[0, \"rgb(20,44,66)\"], [1, \"rgb(90,179,244)\"]], \"sequentialminus\": [[0, \"rgb(20,44,66)\"], [1, \"rgb(90,179,244)\"]]}, \"colorway\": [\"#F8766D\", \"#A3A500\", \"#00BF7D\", \"#00B0F6\", \"#E76BF3\"], \"font\": {\"color\": \"rgb(51,51,51)\"}, \"geo\": {\"bgcolor\": \"white\", \"lakecolor\": \"white\", \"landcolor\": \"rgb(237,237,237)\", \"showlakes\": true, \"showland\": true, \"subunitcolor\": \"white\"}, \"hoverlabel\": {\"align\": \"left\"}, \"hovermode\": \"closest\", \"paper_bgcolor\": \"white\", \"plot_bgcolor\": \"rgb(237,237,237)\", \"polar\": {\"angularaxis\": {\"gridcolor\": \"white\", \"linecolor\": \"white\", \"showgrid\": true, \"tickcolor\": \"rgb(51,51,51)\", \"ticks\": \"outside\"}, \"bgcolor\": \"rgb(237,237,237)\", \"radialaxis\": {\"gridcolor\": \"white\", \"linecolor\": \"white\", \"showgrid\": true, \"tickcolor\": \"rgb(51,51,51)\", \"ticks\": \"outside\"}}, \"scene\": {\"xaxis\": {\"backgroundcolor\": \"rgb(237,237,237)\", \"gridcolor\": \"white\", \"gridwidth\": 2, \"linecolor\": \"white\", \"showbackground\": true, \"showgrid\": true, \"tickcolor\": \"rgb(51,51,51)\", \"ticks\": \"outside\", \"zerolinecolor\": \"white\"}, \"yaxis\": {\"backgroundcolor\": \"rgb(237,237,237)\", \"gridcolor\": \"white\", \"gridwidth\": 2, \"linecolor\": \"white\", \"showbackground\": true, \"showgrid\": true, \"tickcolor\": \"rgb(51,51,51)\", \"ticks\": \"outside\", \"zerolinecolor\": \"white\"}, \"zaxis\": {\"backgroundcolor\": \"rgb(237,237,237)\", \"gridcolor\": \"white\", \"gridwidth\": 2, \"linecolor\": \"white\", \"showbackground\": true, \"showgrid\": true, \"tickcolor\": \"rgb(51,51,51)\", \"ticks\": \"outside\", \"zerolinecolor\": \"white\"}}, \"shapedefaults\": {\"fillcolor\": \"black\", \"line\": {\"width\": 0}, \"opacity\": 0.3}, \"ternary\": {\"aaxis\": {\"gridcolor\": \"white\", \"linecolor\": \"white\", \"showgrid\": true, \"tickcolor\": \"rgb(51,51,51)\", \"ticks\": \"outside\"}, \"baxis\": {\"gridcolor\": \"white\", \"linecolor\": \"white\", \"showgrid\": true, \"tickcolor\": \"rgb(51,51,51)\", \"ticks\": \"outside\"}, \"bgcolor\": \"rgb(237,237,237)\", \"caxis\": {\"gridcolor\": \"white\", \"linecolor\": \"white\", \"showgrid\": true, \"tickcolor\": \"rgb(51,51,51)\", \"ticks\": \"outside\"}}, \"xaxis\": {\"automargin\": true, \"gridcolor\": \"white\", \"linecolor\": \"white\", \"showgrid\": true, \"tickcolor\": \"rgb(51,51,51)\", \"ticks\": \"outside\", \"zerolinecolor\": \"white\"}, \"yaxis\": {\"automargin\": true, \"gridcolor\": \"white\", \"linecolor\": \"white\", \"showgrid\": true, \"tickcolor\": \"rgb(51,51,51)\", \"ticks\": \"outside\", \"zerolinecolor\": \"white\"}}}, \"width\": 1200, \"xaxis\": {\"anchor\": \"y\", \"domain\": [0.0, 0.98], \"title\": {\"text\": \"id\"}}, \"yaxis\": {\"anchor\": \"x\", \"domain\": [0.0, 1.0], \"title\": {\"text\": \"pro\"}}},\n",
       "                        {\"responsive\": true}\n",
       "                    ).then(function(){\n",
       "                            \n",
       "var gd = document.getElementById('b8dca8c9-9cbc-405f-85f3-a3f676c72a9d');\n",
       "var x = new MutationObserver(function (mutations, observer) {{\n",
       "        var display = window.getComputedStyle(gd).display;\n",
       "        if (!display || display === 'none') {{\n",
       "            console.log([gd, 'removed!']);\n",
       "            Plotly.purge(gd);\n",
       "            observer.disconnect();\n",
       "        }}\n",
       "}});\n",
       "\n",
       "// Listen for the removal of the full notebook cells\n",
       "var notebookContainer = gd.closest('#notebook-container');\n",
       "if (notebookContainer) {{\n",
       "    x.observe(notebookContainer, {childList: true});\n",
       "}}\n",
       "\n",
       "// Listen for the clearing of the current output cell\n",
       "var outputEl = gd.closest('.output');\n",
       "if (outputEl) {{\n",
       "    x.observe(outputEl, {childList: true});\n",
       "}}\n",
       "\n",
       "                        })\n",
       "                };\n",
       "                });\n",
       "            </script>\n",
       "        </div>"
      ]
     },
     "metadata": {},
     "output_type": "display_data"
    },
    {
     "name": "stdout",
     "output_type": "stream",
     "text": [
      "总体准确率为0.8996865203761756\n",
      "混淆矩阵为[184, 23, 103, 9]\n"
     ]
    }
   ],
   "source": [
    "pre_all = predict_plot('all')"
   ]
  },
  {
   "cell_type": "code",
   "execution_count": 163,
   "metadata": {
    "ExecuteTime": {
     "end_time": "2019-12-27T09:07:53.900455Z",
     "start_time": "2019-12-27T09:07:53.653117Z"
    }
   },
   "outputs": [
    {
     "data": {
      "application/vnd.plotly.v1+json": {
       "config": {
        "plotlyServerURL": "https://plot.ly"
       },
       "data": [
        {
         "hoverlabel": {
          "namelength": 0
         },
         "hovertemplate": "class=1<br>id=%{x}<br>pro=%{y}",
         "legendgroup": "class=1",
         "marker": {
          "color": "#EE0000",
          "symbol": "circle"
         },
         "mode": "markers",
         "name": "class=1",
         "showlegend": true,
         "type": "scatter",
         "x": [
          "B004.expo",
          "B015.expo",
          "B016.expo",
          "B023.expo",
          "B031.expo",
          "B034.expo",
          "B037.expo",
          "B053.expo"
         ],
         "xaxis": "x",
         "y": [
          0.9593484520249408,
          0.8994322055020668,
          0.9934292871486088,
          0.9935306451925131,
          0.9962511966394082,
          0.9352238105533439,
          0.946745187341109,
          0.9999992743570422
         ],
         "yaxis": "y"
        },
        {
         "line": {
          "color": "grey",
          "dash": "dash"
         },
         "mode": "lines",
         "showlegend": false,
         "type": "scatter",
         "x": [
          "B004.expo",
          "B053.expo"
         ],
         "y": [
          0.5,
          0.5
         ]
        }
       ],
       "layout": {
        "height": 800,
        "legend": {
         "tracegroupgap": 0
        },
        "margin": {
         "t": 60
        },
        "template": {
         "data": {
          "bar": [
           {
            "error_x": {
             "color": "rgb(51,51,51)"
            },
            "error_y": {
             "color": "rgb(51,51,51)"
            },
            "marker": {
             "line": {
              "color": "rgb(237,237,237)",
              "width": 0.5
             }
            },
            "type": "bar"
           }
          ],
          "barpolar": [
           {
            "marker": {
             "line": {
              "color": "rgb(237,237,237)",
              "width": 0.5
             }
            },
            "type": "barpolar"
           }
          ],
          "carpet": [
           {
            "aaxis": {
             "endlinecolor": "rgb(51,51,51)",
             "gridcolor": "white",
             "linecolor": "white",
             "minorgridcolor": "white",
             "startlinecolor": "rgb(51,51,51)"
            },
            "baxis": {
             "endlinecolor": "rgb(51,51,51)",
             "gridcolor": "white",
             "linecolor": "white",
             "minorgridcolor": "white",
             "startlinecolor": "rgb(51,51,51)"
            },
            "type": "carpet"
           }
          ],
          "choropleth": [
           {
            "colorbar": {
             "outlinewidth": 0,
             "tickcolor": "rgb(237,237,237)",
             "ticklen": 6,
             "ticks": "inside"
            },
            "type": "choropleth"
           }
          ],
          "contour": [
           {
            "colorbar": {
             "outlinewidth": 0,
             "tickcolor": "rgb(237,237,237)",
             "ticklen": 6,
             "ticks": "inside"
            },
            "colorscale": [
             [
              0,
              "rgb(20,44,66)"
             ],
             [
              1,
              "rgb(90,179,244)"
             ]
            ],
            "type": "contour"
           }
          ],
          "contourcarpet": [
           {
            "colorbar": {
             "outlinewidth": 0,
             "tickcolor": "rgb(237,237,237)",
             "ticklen": 6,
             "ticks": "inside"
            },
            "type": "contourcarpet"
           }
          ],
          "heatmap": [
           {
            "colorbar": {
             "outlinewidth": 0,
             "tickcolor": "rgb(237,237,237)",
             "ticklen": 6,
             "ticks": "inside"
            },
            "colorscale": [
             [
              0,
              "rgb(20,44,66)"
             ],
             [
              1,
              "rgb(90,179,244)"
             ]
            ],
            "type": "heatmap"
           }
          ],
          "heatmapgl": [
           {
            "colorbar": {
             "outlinewidth": 0,
             "tickcolor": "rgb(237,237,237)",
             "ticklen": 6,
             "ticks": "inside"
            },
            "colorscale": [
             [
              0,
              "rgb(20,44,66)"
             ],
             [
              1,
              "rgb(90,179,244)"
             ]
            ],
            "type": "heatmapgl"
           }
          ],
          "histogram": [
           {
            "marker": {
             "colorbar": {
              "outlinewidth": 0,
              "tickcolor": "rgb(237,237,237)",
              "ticklen": 6,
              "ticks": "inside"
             }
            },
            "type": "histogram"
           }
          ],
          "histogram2d": [
           {
            "colorbar": {
             "outlinewidth": 0,
             "tickcolor": "rgb(237,237,237)",
             "ticklen": 6,
             "ticks": "inside"
            },
            "colorscale": [
             [
              0,
              "rgb(20,44,66)"
             ],
             [
              1,
              "rgb(90,179,244)"
             ]
            ],
            "type": "histogram2d"
           }
          ],
          "histogram2dcontour": [
           {
            "colorbar": {
             "outlinewidth": 0,
             "tickcolor": "rgb(237,237,237)",
             "ticklen": 6,
             "ticks": "inside"
            },
            "colorscale": [
             [
              0,
              "rgb(20,44,66)"
             ],
             [
              1,
              "rgb(90,179,244)"
             ]
            ],
            "type": "histogram2dcontour"
           }
          ],
          "mesh3d": [
           {
            "colorbar": {
             "outlinewidth": 0,
             "tickcolor": "rgb(237,237,237)",
             "ticklen": 6,
             "ticks": "inside"
            },
            "type": "mesh3d"
           }
          ],
          "parcoords": [
           {
            "line": {
             "colorbar": {
              "outlinewidth": 0,
              "tickcolor": "rgb(237,237,237)",
              "ticklen": 6,
              "ticks": "inside"
             }
            },
            "type": "parcoords"
           }
          ],
          "scatter": [
           {
            "marker": {
             "colorbar": {
              "outlinewidth": 0,
              "tickcolor": "rgb(237,237,237)",
              "ticklen": 6,
              "ticks": "inside"
             }
            },
            "type": "scatter"
           }
          ],
          "scatter3d": [
           {
            "line": {
             "colorbar": {
              "outlinewidth": 0,
              "tickcolor": "rgb(237,237,237)",
              "ticklen": 6,
              "ticks": "inside"
             }
            },
            "marker": {
             "colorbar": {
              "outlinewidth": 0,
              "tickcolor": "rgb(237,237,237)",
              "ticklen": 6,
              "ticks": "inside"
             }
            },
            "type": "scatter3d"
           }
          ],
          "scattercarpet": [
           {
            "marker": {
             "colorbar": {
              "outlinewidth": 0,
              "tickcolor": "rgb(237,237,237)",
              "ticklen": 6,
              "ticks": "inside"
             }
            },
            "type": "scattercarpet"
           }
          ],
          "scattergeo": [
           {
            "marker": {
             "colorbar": {
              "outlinewidth": 0,
              "tickcolor": "rgb(237,237,237)",
              "ticklen": 6,
              "ticks": "inside"
             }
            },
            "type": "scattergeo"
           }
          ],
          "scattergl": [
           {
            "marker": {
             "colorbar": {
              "outlinewidth": 0,
              "tickcolor": "rgb(237,237,237)",
              "ticklen": 6,
              "ticks": "inside"
             }
            },
            "type": "scattergl"
           }
          ],
          "scattermapbox": [
           {
            "marker": {
             "colorbar": {
              "outlinewidth": 0,
              "tickcolor": "rgb(237,237,237)",
              "ticklen": 6,
              "ticks": "inside"
             }
            },
            "type": "scattermapbox"
           }
          ],
          "scatterpolar": [
           {
            "marker": {
             "colorbar": {
              "outlinewidth": 0,
              "tickcolor": "rgb(237,237,237)",
              "ticklen": 6,
              "ticks": "inside"
             }
            },
            "type": "scatterpolar"
           }
          ],
          "scatterpolargl": [
           {
            "marker": {
             "colorbar": {
              "outlinewidth": 0,
              "tickcolor": "rgb(237,237,237)",
              "ticklen": 6,
              "ticks": "inside"
             }
            },
            "type": "scatterpolargl"
           }
          ],
          "scatterternary": [
           {
            "marker": {
             "colorbar": {
              "outlinewidth": 0,
              "tickcolor": "rgb(237,237,237)",
              "ticklen": 6,
              "ticks": "inside"
             }
            },
            "type": "scatterternary"
           }
          ],
          "surface": [
           {
            "colorbar": {
             "outlinewidth": 0,
             "tickcolor": "rgb(237,237,237)",
             "ticklen": 6,
             "ticks": "inside"
            },
            "colorscale": [
             [
              0,
              "rgb(20,44,66)"
             ],
             [
              1,
              "rgb(90,179,244)"
             ]
            ],
            "type": "surface"
           }
          ],
          "table": [
           {
            "cells": {
             "fill": {
              "color": "rgb(237,237,237)"
             },
             "line": {
              "color": "white"
             }
            },
            "header": {
             "fill": {
              "color": "rgb(217,217,217)"
             },
             "line": {
              "color": "white"
             }
            },
            "type": "table"
           }
          ]
         },
         "layout": {
          "annotationdefaults": {
           "arrowhead": 0,
           "arrowwidth": 1
          },
          "colorscale": {
           "sequential": [
            [
             0,
             "rgb(20,44,66)"
            ],
            [
             1,
             "rgb(90,179,244)"
            ]
           ],
           "sequentialminus": [
            [
             0,
             "rgb(20,44,66)"
            ],
            [
             1,
             "rgb(90,179,244)"
            ]
           ]
          },
          "colorway": [
           "#F8766D",
           "#A3A500",
           "#00BF7D",
           "#00B0F6",
           "#E76BF3"
          ],
          "font": {
           "color": "rgb(51,51,51)"
          },
          "geo": {
           "bgcolor": "white",
           "lakecolor": "white",
           "landcolor": "rgb(237,237,237)",
           "showlakes": true,
           "showland": true,
           "subunitcolor": "white"
          },
          "hoverlabel": {
           "align": "left"
          },
          "hovermode": "closest",
          "paper_bgcolor": "white",
          "plot_bgcolor": "rgb(237,237,237)",
          "polar": {
           "angularaxis": {
            "gridcolor": "white",
            "linecolor": "white",
            "showgrid": true,
            "tickcolor": "rgb(51,51,51)",
            "ticks": "outside"
           },
           "bgcolor": "rgb(237,237,237)",
           "radialaxis": {
            "gridcolor": "white",
            "linecolor": "white",
            "showgrid": true,
            "tickcolor": "rgb(51,51,51)",
            "ticks": "outside"
           }
          },
          "scene": {
           "xaxis": {
            "backgroundcolor": "rgb(237,237,237)",
            "gridcolor": "white",
            "gridwidth": 2,
            "linecolor": "white",
            "showbackground": true,
            "showgrid": true,
            "tickcolor": "rgb(51,51,51)",
            "ticks": "outside",
            "zerolinecolor": "white"
           },
           "yaxis": {
            "backgroundcolor": "rgb(237,237,237)",
            "gridcolor": "white",
            "gridwidth": 2,
            "linecolor": "white",
            "showbackground": true,
            "showgrid": true,
            "tickcolor": "rgb(51,51,51)",
            "ticks": "outside",
            "zerolinecolor": "white"
           },
           "zaxis": {
            "backgroundcolor": "rgb(237,237,237)",
            "gridcolor": "white",
            "gridwidth": 2,
            "linecolor": "white",
            "showbackground": true,
            "showgrid": true,
            "tickcolor": "rgb(51,51,51)",
            "ticks": "outside",
            "zerolinecolor": "white"
           }
          },
          "shapedefaults": {
           "fillcolor": "black",
           "line": {
            "width": 0
           },
           "opacity": 0.3
          },
          "ternary": {
           "aaxis": {
            "gridcolor": "white",
            "linecolor": "white",
            "showgrid": true,
            "tickcolor": "rgb(51,51,51)",
            "ticks": "outside"
           },
           "baxis": {
            "gridcolor": "white",
            "linecolor": "white",
            "showgrid": true,
            "tickcolor": "rgb(51,51,51)",
            "ticks": "outside"
           },
           "bgcolor": "rgb(237,237,237)",
           "caxis": {
            "gridcolor": "white",
            "linecolor": "white",
            "showgrid": true,
            "tickcolor": "rgb(51,51,51)",
            "ticks": "outside"
           }
          },
          "xaxis": {
           "automargin": true,
           "gridcolor": "white",
           "linecolor": "white",
           "showgrid": true,
           "tickcolor": "rgb(51,51,51)",
           "ticks": "outside",
           "zerolinecolor": "white"
          },
          "yaxis": {
           "automargin": true,
           "gridcolor": "white",
           "linecolor": "white",
           "showgrid": true,
           "tickcolor": "rgb(51,51,51)",
           "ticks": "outside",
           "zerolinecolor": "white"
          }
         }
        },
        "width": 1200,
        "xaxis": {
         "anchor": "y",
         "domain": [
          0,
          0.98
         ],
         "title": {
          "text": "id"
         }
        },
        "yaxis": {
         "anchor": "x",
         "domain": [
          0,
          1
         ],
         "title": {
          "text": "pro"
         }
        }
       }
      },
      "text/html": [
       "<div>\n",
       "        \n",
       "        \n",
       "            <div id=\"163568bc-809c-4563-b888-35a1581a7fbb\" class=\"plotly-graph-div\" style=\"height:800px; width:1200px;\"></div>\n",
       "            <script type=\"text/javascript\">\n",
       "                require([\"plotly\"], function(Plotly) {\n",
       "                    window.PLOTLYENV=window.PLOTLYENV || {};\n",
       "                    \n",
       "                if (document.getElementById(\"163568bc-809c-4563-b888-35a1581a7fbb\")) {\n",
       "                    Plotly.newPlot(\n",
       "                        '163568bc-809c-4563-b888-35a1581a7fbb',\n",
       "                        [{\"hoverlabel\": {\"namelength\": 0}, \"hovertemplate\": \"class=1<br>id=%{x}<br>pro=%{y}\", \"legendgroup\": \"class=1\", \"marker\": {\"color\": \"#EE0000\", \"symbol\": \"circle\"}, \"mode\": \"markers\", \"name\": \"class=1\", \"showlegend\": true, \"type\": \"scatter\", \"x\": [\"B004.expo\", \"B015.expo\", \"B016.expo\", \"B023.expo\", \"B031.expo\", \"B034.expo\", \"B037.expo\", \"B053.expo\"], \"xaxis\": \"x\", \"y\": [0.9593484520249408, 0.8994322055020668, 0.9934292871486088, 0.9935306451925131, 0.9962511966394082, 0.9352238105533439, 0.946745187341109, 0.9999992743570422], \"yaxis\": \"y\"}, {\"line\": {\"color\": \"grey\", \"dash\": \"dash\"}, \"mode\": \"lines\", \"showlegend\": false, \"type\": \"scatter\", \"x\": [\"B004.expo\", \"B053.expo\"], \"y\": [0.5, 0.5]}],\n",
       "                        {\"height\": 800, \"legend\": {\"tracegroupgap\": 0}, \"margin\": {\"t\": 60}, \"template\": {\"data\": {\"bar\": [{\"error_x\": {\"color\": \"rgb(51,51,51)\"}, \"error_y\": {\"color\": \"rgb(51,51,51)\"}, \"marker\": {\"line\": {\"color\": \"rgb(237,237,237)\", \"width\": 0.5}}, \"type\": \"bar\"}], \"barpolar\": [{\"marker\": {\"line\": {\"color\": \"rgb(237,237,237)\", \"width\": 0.5}}, \"type\": \"barpolar\"}], \"carpet\": [{\"aaxis\": {\"endlinecolor\": \"rgb(51,51,51)\", \"gridcolor\": \"white\", \"linecolor\": \"white\", \"minorgridcolor\": \"white\", \"startlinecolor\": \"rgb(51,51,51)\"}, \"baxis\": {\"endlinecolor\": \"rgb(51,51,51)\", \"gridcolor\": \"white\", \"linecolor\": \"white\", \"minorgridcolor\": \"white\", \"startlinecolor\": \"rgb(51,51,51)\"}, \"type\": \"carpet\"}], \"choropleth\": [{\"colorbar\": {\"outlinewidth\": 0, \"tickcolor\": \"rgb(237,237,237)\", \"ticklen\": 6, \"ticks\": \"inside\"}, \"type\": \"choropleth\"}], \"contour\": [{\"colorbar\": {\"outlinewidth\": 0, \"tickcolor\": \"rgb(237,237,237)\", \"ticklen\": 6, \"ticks\": \"inside\"}, \"colorscale\": [[0, \"rgb(20,44,66)\"], [1, \"rgb(90,179,244)\"]], \"type\": \"contour\"}], \"contourcarpet\": [{\"colorbar\": {\"outlinewidth\": 0, \"tickcolor\": \"rgb(237,237,237)\", \"ticklen\": 6, \"ticks\": \"inside\"}, \"type\": \"contourcarpet\"}], \"heatmap\": [{\"colorbar\": {\"outlinewidth\": 0, \"tickcolor\": \"rgb(237,237,237)\", \"ticklen\": 6, \"ticks\": \"inside\"}, \"colorscale\": [[0, \"rgb(20,44,66)\"], [1, \"rgb(90,179,244)\"]], \"type\": \"heatmap\"}], \"heatmapgl\": [{\"colorbar\": {\"outlinewidth\": 0, \"tickcolor\": \"rgb(237,237,237)\", \"ticklen\": 6, \"ticks\": \"inside\"}, \"colorscale\": [[0, \"rgb(20,44,66)\"], [1, \"rgb(90,179,244)\"]], \"type\": \"heatmapgl\"}], \"histogram\": [{\"marker\": {\"colorbar\": {\"outlinewidth\": 0, \"tickcolor\": \"rgb(237,237,237)\", \"ticklen\": 6, \"ticks\": \"inside\"}}, \"type\": \"histogram\"}], \"histogram2d\": [{\"colorbar\": {\"outlinewidth\": 0, \"tickcolor\": \"rgb(237,237,237)\", \"ticklen\": 6, \"ticks\": \"inside\"}, \"colorscale\": [[0, \"rgb(20,44,66)\"], [1, \"rgb(90,179,244)\"]], \"type\": \"histogram2d\"}], \"histogram2dcontour\": [{\"colorbar\": {\"outlinewidth\": 0, \"tickcolor\": \"rgb(237,237,237)\", \"ticklen\": 6, \"ticks\": \"inside\"}, \"colorscale\": [[0, \"rgb(20,44,66)\"], [1, \"rgb(90,179,244)\"]], \"type\": \"histogram2dcontour\"}], \"mesh3d\": [{\"colorbar\": {\"outlinewidth\": 0, \"tickcolor\": \"rgb(237,237,237)\", \"ticklen\": 6, \"ticks\": \"inside\"}, \"type\": \"mesh3d\"}], \"parcoords\": [{\"line\": {\"colorbar\": {\"outlinewidth\": 0, \"tickcolor\": \"rgb(237,237,237)\", \"ticklen\": 6, \"ticks\": \"inside\"}}, \"type\": \"parcoords\"}], \"scatter\": [{\"marker\": {\"colorbar\": {\"outlinewidth\": 0, \"tickcolor\": \"rgb(237,237,237)\", \"ticklen\": 6, \"ticks\": \"inside\"}}, \"type\": \"scatter\"}], \"scatter3d\": [{\"line\": {\"colorbar\": {\"outlinewidth\": 0, \"tickcolor\": \"rgb(237,237,237)\", \"ticklen\": 6, \"ticks\": \"inside\"}}, \"marker\": {\"colorbar\": {\"outlinewidth\": 0, \"tickcolor\": \"rgb(237,237,237)\", \"ticklen\": 6, \"ticks\": \"inside\"}}, \"type\": \"scatter3d\"}], \"scattercarpet\": [{\"marker\": {\"colorbar\": {\"outlinewidth\": 0, \"tickcolor\": \"rgb(237,237,237)\", \"ticklen\": 6, \"ticks\": \"inside\"}}, \"type\": \"scattercarpet\"}], \"scattergeo\": [{\"marker\": {\"colorbar\": {\"outlinewidth\": 0, \"tickcolor\": \"rgb(237,237,237)\", \"ticklen\": 6, \"ticks\": \"inside\"}}, \"type\": \"scattergeo\"}], \"scattergl\": [{\"marker\": {\"colorbar\": {\"outlinewidth\": 0, \"tickcolor\": \"rgb(237,237,237)\", \"ticklen\": 6, \"ticks\": \"inside\"}}, \"type\": \"scattergl\"}], \"scattermapbox\": [{\"marker\": {\"colorbar\": {\"outlinewidth\": 0, \"tickcolor\": \"rgb(237,237,237)\", \"ticklen\": 6, \"ticks\": \"inside\"}}, \"type\": \"scattermapbox\"}], \"scatterpolar\": [{\"marker\": {\"colorbar\": {\"outlinewidth\": 0, \"tickcolor\": \"rgb(237,237,237)\", \"ticklen\": 6, \"ticks\": \"inside\"}}, \"type\": \"scatterpolar\"}], \"scatterpolargl\": [{\"marker\": {\"colorbar\": {\"outlinewidth\": 0, \"tickcolor\": \"rgb(237,237,237)\", \"ticklen\": 6, \"ticks\": \"inside\"}}, \"type\": \"scatterpolargl\"}], \"scatterternary\": [{\"marker\": {\"colorbar\": {\"outlinewidth\": 0, \"tickcolor\": \"rgb(237,237,237)\", \"ticklen\": 6, \"ticks\": \"inside\"}}, \"type\": \"scatterternary\"}], \"surface\": [{\"colorbar\": {\"outlinewidth\": 0, \"tickcolor\": \"rgb(237,237,237)\", \"ticklen\": 6, \"ticks\": \"inside\"}, \"colorscale\": [[0, \"rgb(20,44,66)\"], [1, \"rgb(90,179,244)\"]], \"type\": \"surface\"}], \"table\": [{\"cells\": {\"fill\": {\"color\": \"rgb(237,237,237)\"}, \"line\": {\"color\": \"white\"}}, \"header\": {\"fill\": {\"color\": \"rgb(217,217,217)\"}, \"line\": {\"color\": \"white\"}}, \"type\": \"table\"}]}, \"layout\": {\"annotationdefaults\": {\"arrowhead\": 0, \"arrowwidth\": 1}, \"colorscale\": {\"sequential\": [[0, \"rgb(20,44,66)\"], [1, \"rgb(90,179,244)\"]], \"sequentialminus\": [[0, \"rgb(20,44,66)\"], [1, \"rgb(90,179,244)\"]]}, \"colorway\": [\"#F8766D\", \"#A3A500\", \"#00BF7D\", \"#00B0F6\", \"#E76BF3\"], \"font\": {\"color\": \"rgb(51,51,51)\"}, \"geo\": {\"bgcolor\": \"white\", \"lakecolor\": \"white\", \"landcolor\": \"rgb(237,237,237)\", \"showlakes\": true, \"showland\": true, \"subunitcolor\": \"white\"}, \"hoverlabel\": {\"align\": \"left\"}, \"hovermode\": \"closest\", \"paper_bgcolor\": \"white\", \"plot_bgcolor\": \"rgb(237,237,237)\", \"polar\": {\"angularaxis\": {\"gridcolor\": \"white\", \"linecolor\": \"white\", \"showgrid\": true, \"tickcolor\": \"rgb(51,51,51)\", \"ticks\": \"outside\"}, \"bgcolor\": \"rgb(237,237,237)\", \"radialaxis\": {\"gridcolor\": \"white\", \"linecolor\": \"white\", \"showgrid\": true, \"tickcolor\": \"rgb(51,51,51)\", \"ticks\": \"outside\"}}, \"scene\": {\"xaxis\": {\"backgroundcolor\": \"rgb(237,237,237)\", \"gridcolor\": \"white\", \"gridwidth\": 2, \"linecolor\": \"white\", \"showbackground\": true, \"showgrid\": true, \"tickcolor\": \"rgb(51,51,51)\", \"ticks\": \"outside\", \"zerolinecolor\": \"white\"}, \"yaxis\": {\"backgroundcolor\": \"rgb(237,237,237)\", \"gridcolor\": \"white\", \"gridwidth\": 2, \"linecolor\": \"white\", \"showbackground\": true, \"showgrid\": true, \"tickcolor\": \"rgb(51,51,51)\", \"ticks\": \"outside\", \"zerolinecolor\": \"white\"}, \"zaxis\": {\"backgroundcolor\": \"rgb(237,237,237)\", \"gridcolor\": \"white\", \"gridwidth\": 2, \"linecolor\": \"white\", \"showbackground\": true, \"showgrid\": true, \"tickcolor\": \"rgb(51,51,51)\", \"ticks\": \"outside\", \"zerolinecolor\": \"white\"}}, \"shapedefaults\": {\"fillcolor\": \"black\", \"line\": {\"width\": 0}, \"opacity\": 0.3}, \"ternary\": {\"aaxis\": {\"gridcolor\": \"white\", \"linecolor\": \"white\", \"showgrid\": true, \"tickcolor\": \"rgb(51,51,51)\", \"ticks\": \"outside\"}, \"baxis\": {\"gridcolor\": \"white\", \"linecolor\": \"white\", \"showgrid\": true, \"tickcolor\": \"rgb(51,51,51)\", \"ticks\": \"outside\"}, \"bgcolor\": \"rgb(237,237,237)\", \"caxis\": {\"gridcolor\": \"white\", \"linecolor\": \"white\", \"showgrid\": true, \"tickcolor\": \"rgb(51,51,51)\", \"ticks\": \"outside\"}}, \"xaxis\": {\"automargin\": true, \"gridcolor\": \"white\", \"linecolor\": \"white\", \"showgrid\": true, \"tickcolor\": \"rgb(51,51,51)\", \"ticks\": \"outside\", \"zerolinecolor\": \"white\"}, \"yaxis\": {\"automargin\": true, \"gridcolor\": \"white\", \"linecolor\": \"white\", \"showgrid\": true, \"tickcolor\": \"rgb(51,51,51)\", \"ticks\": \"outside\", \"zerolinecolor\": \"white\"}}}, \"width\": 1200, \"xaxis\": {\"anchor\": \"y\", \"domain\": [0.0, 0.98], \"title\": {\"text\": \"id\"}}, \"yaxis\": {\"anchor\": \"x\", \"domain\": [0.0, 1.0], \"title\": {\"text\": \"pro\"}}},\n",
       "                        {\"responsive\": true}\n",
       "                    ).then(function(){\n",
       "                            \n",
       "var gd = document.getElementById('163568bc-809c-4563-b888-35a1581a7fbb');\n",
       "var x = new MutationObserver(function (mutations, observer) {{\n",
       "        var display = window.getComputedStyle(gd).display;\n",
       "        if (!display || display === 'none') {{\n",
       "            console.log([gd, 'removed!']);\n",
       "            Plotly.purge(gd);\n",
       "            observer.disconnect();\n",
       "        }}\n",
       "}});\n",
       "\n",
       "// Listen for the removal of the full notebook cells\n",
       "var notebookContainer = gd.closest('#notebook-container');\n",
       "if (notebookContainer) {{\n",
       "    x.observe(notebookContainer, {childList: true});\n",
       "}}\n",
       "\n",
       "// Listen for the clearing of the current output cell\n",
       "var outputEl = gd.closest('.output');\n",
       "if (outputEl) {{\n",
       "    x.observe(outputEl, {childList: true});\n",
       "}}\n",
       "\n",
       "                        })\n",
       "                };\n",
       "                });\n",
       "            </script>\n",
       "        </div>"
      ]
     },
     "metadata": {},
     "output_type": "display_data"
    },
    {
     "name": "stdout",
     "output_type": "stream",
     "text": [
      "总体准确率为1.0\n",
      "混淆矩阵为[0, 0, 8, 0]\n"
     ]
    }
   ],
   "source": [
    "benign_pre = predict_plot('test_benign')"
   ]
  },
  {
   "cell_type": "code",
   "execution_count": 164,
   "metadata": {
    "ExecuteTime": {
     "end_time": "2019-12-27T09:07:54.137855Z",
     "start_time": "2019-12-27T09:07:53.901453Z"
    }
   },
   "outputs": [
    {
     "data": {
      "application/vnd.plotly.v1+json": {
       "config": {
        "plotlyServerURL": "https://plot.ly"
       },
       "data": [
        {
         "hoverlabel": {
          "namelength": 0
         },
         "hovertemplate": "class=0<br>id=%{x}<br>pro=%{y}",
         "legendgroup": "class=0",
         "marker": {
          "color": "green",
          "symbol": "circle"
         },
         "mode": "markers",
         "name": "class=0",
         "showlegend": true,
         "type": "scatter",
         "x": [
          "B085_F.ex",
          "B096_F.ex",
          "B149_F.ex",
          "B150_F.ex",
          "B216_F.ex",
          "B229_F.ex",
          "B246_F.ex",
          "B247_F.ex"
         ],
         "xaxis": "x",
         "y": [
          0.002444191214764518,
          0.1418744908280103,
          0.03782614770178959,
          0.24548960997001143,
          0.0936459348132456,
          0.8219116479409753,
          0.46265134777657774,
          0.5100649303122301
         ],
         "yaxis": "y"
        },
        {
         "line": {
          "color": "grey",
          "dash": "dash"
         },
         "mode": "lines",
         "showlegend": false,
         "type": "scatter",
         "x": [
          "B085_F.ex",
          "B247_F.ex"
         ],
         "y": [
          0.5,
          0.5
         ]
        }
       ],
       "layout": {
        "height": 800,
        "legend": {
         "tracegroupgap": 0
        },
        "margin": {
         "t": 60
        },
        "template": {
         "data": {
          "bar": [
           {
            "error_x": {
             "color": "rgb(51,51,51)"
            },
            "error_y": {
             "color": "rgb(51,51,51)"
            },
            "marker": {
             "line": {
              "color": "rgb(237,237,237)",
              "width": 0.5
             }
            },
            "type": "bar"
           }
          ],
          "barpolar": [
           {
            "marker": {
             "line": {
              "color": "rgb(237,237,237)",
              "width": 0.5
             }
            },
            "type": "barpolar"
           }
          ],
          "carpet": [
           {
            "aaxis": {
             "endlinecolor": "rgb(51,51,51)",
             "gridcolor": "white",
             "linecolor": "white",
             "minorgridcolor": "white",
             "startlinecolor": "rgb(51,51,51)"
            },
            "baxis": {
             "endlinecolor": "rgb(51,51,51)",
             "gridcolor": "white",
             "linecolor": "white",
             "minorgridcolor": "white",
             "startlinecolor": "rgb(51,51,51)"
            },
            "type": "carpet"
           }
          ],
          "choropleth": [
           {
            "colorbar": {
             "outlinewidth": 0,
             "tickcolor": "rgb(237,237,237)",
             "ticklen": 6,
             "ticks": "inside"
            },
            "type": "choropleth"
           }
          ],
          "contour": [
           {
            "colorbar": {
             "outlinewidth": 0,
             "tickcolor": "rgb(237,237,237)",
             "ticklen": 6,
             "ticks": "inside"
            },
            "colorscale": [
             [
              0,
              "rgb(20,44,66)"
             ],
             [
              1,
              "rgb(90,179,244)"
             ]
            ],
            "type": "contour"
           }
          ],
          "contourcarpet": [
           {
            "colorbar": {
             "outlinewidth": 0,
             "tickcolor": "rgb(237,237,237)",
             "ticklen": 6,
             "ticks": "inside"
            },
            "type": "contourcarpet"
           }
          ],
          "heatmap": [
           {
            "colorbar": {
             "outlinewidth": 0,
             "tickcolor": "rgb(237,237,237)",
             "ticklen": 6,
             "ticks": "inside"
            },
            "colorscale": [
             [
              0,
              "rgb(20,44,66)"
             ],
             [
              1,
              "rgb(90,179,244)"
             ]
            ],
            "type": "heatmap"
           }
          ],
          "heatmapgl": [
           {
            "colorbar": {
             "outlinewidth": 0,
             "tickcolor": "rgb(237,237,237)",
             "ticklen": 6,
             "ticks": "inside"
            },
            "colorscale": [
             [
              0,
              "rgb(20,44,66)"
             ],
             [
              1,
              "rgb(90,179,244)"
             ]
            ],
            "type": "heatmapgl"
           }
          ],
          "histogram": [
           {
            "marker": {
             "colorbar": {
              "outlinewidth": 0,
              "tickcolor": "rgb(237,237,237)",
              "ticklen": 6,
              "ticks": "inside"
             }
            },
            "type": "histogram"
           }
          ],
          "histogram2d": [
           {
            "colorbar": {
             "outlinewidth": 0,
             "tickcolor": "rgb(237,237,237)",
             "ticklen": 6,
             "ticks": "inside"
            },
            "colorscale": [
             [
              0,
              "rgb(20,44,66)"
             ],
             [
              1,
              "rgb(90,179,244)"
             ]
            ],
            "type": "histogram2d"
           }
          ],
          "histogram2dcontour": [
           {
            "colorbar": {
             "outlinewidth": 0,
             "tickcolor": "rgb(237,237,237)",
             "ticklen": 6,
             "ticks": "inside"
            },
            "colorscale": [
             [
              0,
              "rgb(20,44,66)"
             ],
             [
              1,
              "rgb(90,179,244)"
             ]
            ],
            "type": "histogram2dcontour"
           }
          ],
          "mesh3d": [
           {
            "colorbar": {
             "outlinewidth": 0,
             "tickcolor": "rgb(237,237,237)",
             "ticklen": 6,
             "ticks": "inside"
            },
            "type": "mesh3d"
           }
          ],
          "parcoords": [
           {
            "line": {
             "colorbar": {
              "outlinewidth": 0,
              "tickcolor": "rgb(237,237,237)",
              "ticklen": 6,
              "ticks": "inside"
             }
            },
            "type": "parcoords"
           }
          ],
          "scatter": [
           {
            "marker": {
             "colorbar": {
              "outlinewidth": 0,
              "tickcolor": "rgb(237,237,237)",
              "ticklen": 6,
              "ticks": "inside"
             }
            },
            "type": "scatter"
           }
          ],
          "scatter3d": [
           {
            "line": {
             "colorbar": {
              "outlinewidth": 0,
              "tickcolor": "rgb(237,237,237)",
              "ticklen": 6,
              "ticks": "inside"
             }
            },
            "marker": {
             "colorbar": {
              "outlinewidth": 0,
              "tickcolor": "rgb(237,237,237)",
              "ticklen": 6,
              "ticks": "inside"
             }
            },
            "type": "scatter3d"
           }
          ],
          "scattercarpet": [
           {
            "marker": {
             "colorbar": {
              "outlinewidth": 0,
              "tickcolor": "rgb(237,237,237)",
              "ticklen": 6,
              "ticks": "inside"
             }
            },
            "type": "scattercarpet"
           }
          ],
          "scattergeo": [
           {
            "marker": {
             "colorbar": {
              "outlinewidth": 0,
              "tickcolor": "rgb(237,237,237)",
              "ticklen": 6,
              "ticks": "inside"
             }
            },
            "type": "scattergeo"
           }
          ],
          "scattergl": [
           {
            "marker": {
             "colorbar": {
              "outlinewidth": 0,
              "tickcolor": "rgb(237,237,237)",
              "ticklen": 6,
              "ticks": "inside"
             }
            },
            "type": "scattergl"
           }
          ],
          "scattermapbox": [
           {
            "marker": {
             "colorbar": {
              "outlinewidth": 0,
              "tickcolor": "rgb(237,237,237)",
              "ticklen": 6,
              "ticks": "inside"
             }
            },
            "type": "scattermapbox"
           }
          ],
          "scatterpolar": [
           {
            "marker": {
             "colorbar": {
              "outlinewidth": 0,
              "tickcolor": "rgb(237,237,237)",
              "ticklen": 6,
              "ticks": "inside"
             }
            },
            "type": "scatterpolar"
           }
          ],
          "scatterpolargl": [
           {
            "marker": {
             "colorbar": {
              "outlinewidth": 0,
              "tickcolor": "rgb(237,237,237)",
              "ticklen": 6,
              "ticks": "inside"
             }
            },
            "type": "scatterpolargl"
           }
          ],
          "scatterternary": [
           {
            "marker": {
             "colorbar": {
              "outlinewidth": 0,
              "tickcolor": "rgb(237,237,237)",
              "ticklen": 6,
              "ticks": "inside"
             }
            },
            "type": "scatterternary"
           }
          ],
          "surface": [
           {
            "colorbar": {
             "outlinewidth": 0,
             "tickcolor": "rgb(237,237,237)",
             "ticklen": 6,
             "ticks": "inside"
            },
            "colorscale": [
             [
              0,
              "rgb(20,44,66)"
             ],
             [
              1,
              "rgb(90,179,244)"
             ]
            ],
            "type": "surface"
           }
          ],
          "table": [
           {
            "cells": {
             "fill": {
              "color": "rgb(237,237,237)"
             },
             "line": {
              "color": "white"
             }
            },
            "header": {
             "fill": {
              "color": "rgb(217,217,217)"
             },
             "line": {
              "color": "white"
             }
            },
            "type": "table"
           }
          ]
         },
         "layout": {
          "annotationdefaults": {
           "arrowhead": 0,
           "arrowwidth": 1
          },
          "colorscale": {
           "sequential": [
            [
             0,
             "rgb(20,44,66)"
            ],
            [
             1,
             "rgb(90,179,244)"
            ]
           ],
           "sequentialminus": [
            [
             0,
             "rgb(20,44,66)"
            ],
            [
             1,
             "rgb(90,179,244)"
            ]
           ]
          },
          "colorway": [
           "#F8766D",
           "#A3A500",
           "#00BF7D",
           "#00B0F6",
           "#E76BF3"
          ],
          "font": {
           "color": "rgb(51,51,51)"
          },
          "geo": {
           "bgcolor": "white",
           "lakecolor": "white",
           "landcolor": "rgb(237,237,237)",
           "showlakes": true,
           "showland": true,
           "subunitcolor": "white"
          },
          "hoverlabel": {
           "align": "left"
          },
          "hovermode": "closest",
          "paper_bgcolor": "white",
          "plot_bgcolor": "rgb(237,237,237)",
          "polar": {
           "angularaxis": {
            "gridcolor": "white",
            "linecolor": "white",
            "showgrid": true,
            "tickcolor": "rgb(51,51,51)",
            "ticks": "outside"
           },
           "bgcolor": "rgb(237,237,237)",
           "radialaxis": {
            "gridcolor": "white",
            "linecolor": "white",
            "showgrid": true,
            "tickcolor": "rgb(51,51,51)",
            "ticks": "outside"
           }
          },
          "scene": {
           "xaxis": {
            "backgroundcolor": "rgb(237,237,237)",
            "gridcolor": "white",
            "gridwidth": 2,
            "linecolor": "white",
            "showbackground": true,
            "showgrid": true,
            "tickcolor": "rgb(51,51,51)",
            "ticks": "outside",
            "zerolinecolor": "white"
           },
           "yaxis": {
            "backgroundcolor": "rgb(237,237,237)",
            "gridcolor": "white",
            "gridwidth": 2,
            "linecolor": "white",
            "showbackground": true,
            "showgrid": true,
            "tickcolor": "rgb(51,51,51)",
            "ticks": "outside",
            "zerolinecolor": "white"
           },
           "zaxis": {
            "backgroundcolor": "rgb(237,237,237)",
            "gridcolor": "white",
            "gridwidth": 2,
            "linecolor": "white",
            "showbackground": true,
            "showgrid": true,
            "tickcolor": "rgb(51,51,51)",
            "ticks": "outside",
            "zerolinecolor": "white"
           }
          },
          "shapedefaults": {
           "fillcolor": "black",
           "line": {
            "width": 0
           },
           "opacity": 0.3
          },
          "ternary": {
           "aaxis": {
            "gridcolor": "white",
            "linecolor": "white",
            "showgrid": true,
            "tickcolor": "rgb(51,51,51)",
            "ticks": "outside"
           },
           "baxis": {
            "gridcolor": "white",
            "linecolor": "white",
            "showgrid": true,
            "tickcolor": "rgb(51,51,51)",
            "ticks": "outside"
           },
           "bgcolor": "rgb(237,237,237)",
           "caxis": {
            "gridcolor": "white",
            "linecolor": "white",
            "showgrid": true,
            "tickcolor": "rgb(51,51,51)",
            "ticks": "outside"
           }
          },
          "xaxis": {
           "automargin": true,
           "gridcolor": "white",
           "linecolor": "white",
           "showgrid": true,
           "tickcolor": "rgb(51,51,51)",
           "ticks": "outside",
           "zerolinecolor": "white"
          },
          "yaxis": {
           "automargin": true,
           "gridcolor": "white",
           "linecolor": "white",
           "showgrid": true,
           "tickcolor": "rgb(51,51,51)",
           "ticks": "outside",
           "zerolinecolor": "white"
          }
         }
        },
        "width": 1200,
        "xaxis": {
         "anchor": "y",
         "domain": [
          0,
          0.98
         ],
         "title": {
          "text": "id"
         }
        },
        "yaxis": {
         "anchor": "x",
         "domain": [
          0,
          1
         ],
         "title": {
          "text": "pro"
         }
        }
       }
      },
      "text/html": [
       "<div>\n",
       "        \n",
       "        \n",
       "            <div id=\"04701a1d-a09b-40ab-80e3-2c81705e836c\" class=\"plotly-graph-div\" style=\"height:800px; width:1200px;\"></div>\n",
       "            <script type=\"text/javascript\">\n",
       "                require([\"plotly\"], function(Plotly) {\n",
       "                    window.PLOTLYENV=window.PLOTLYENV || {};\n",
       "                    \n",
       "                if (document.getElementById(\"04701a1d-a09b-40ab-80e3-2c81705e836c\")) {\n",
       "                    Plotly.newPlot(\n",
       "                        '04701a1d-a09b-40ab-80e3-2c81705e836c',\n",
       "                        [{\"hoverlabel\": {\"namelength\": 0}, \"hovertemplate\": \"class=0<br>id=%{x}<br>pro=%{y}\", \"legendgroup\": \"class=0\", \"marker\": {\"color\": \"green\", \"symbol\": \"circle\"}, \"mode\": \"markers\", \"name\": \"class=0\", \"showlegend\": true, \"type\": \"scatter\", \"x\": [\"B085_F.ex\", \"B096_F.ex\", \"B149_F.ex\", \"B150_F.ex\", \"B216_F.ex\", \"B229_F.ex\", \"B246_F.ex\", \"B247_F.ex\"], \"xaxis\": \"x\", \"y\": [0.002444191214764518, 0.1418744908280103, 0.03782614770178959, 0.24548960997001143, 0.0936459348132456, 0.8219116479409753, 0.46265134777657774, 0.5100649303122301], \"yaxis\": \"y\"}, {\"line\": {\"color\": \"grey\", \"dash\": \"dash\"}, \"mode\": \"lines\", \"showlegend\": false, \"type\": \"scatter\", \"x\": [\"B085_F.ex\", \"B247_F.ex\"], \"y\": [0.5, 0.5]}],\n",
       "                        {\"height\": 800, \"legend\": {\"tracegroupgap\": 0}, \"margin\": {\"t\": 60}, \"template\": {\"data\": {\"bar\": [{\"error_x\": {\"color\": \"rgb(51,51,51)\"}, \"error_y\": {\"color\": \"rgb(51,51,51)\"}, \"marker\": {\"line\": {\"color\": \"rgb(237,237,237)\", \"width\": 0.5}}, \"type\": \"bar\"}], \"barpolar\": [{\"marker\": {\"line\": {\"color\": \"rgb(237,237,237)\", \"width\": 0.5}}, \"type\": \"barpolar\"}], \"carpet\": [{\"aaxis\": {\"endlinecolor\": \"rgb(51,51,51)\", \"gridcolor\": \"white\", \"linecolor\": \"white\", \"minorgridcolor\": \"white\", \"startlinecolor\": \"rgb(51,51,51)\"}, \"baxis\": {\"endlinecolor\": \"rgb(51,51,51)\", \"gridcolor\": \"white\", \"linecolor\": \"white\", \"minorgridcolor\": \"white\", \"startlinecolor\": \"rgb(51,51,51)\"}, \"type\": \"carpet\"}], \"choropleth\": [{\"colorbar\": {\"outlinewidth\": 0, \"tickcolor\": \"rgb(237,237,237)\", \"ticklen\": 6, \"ticks\": \"inside\"}, \"type\": \"choropleth\"}], \"contour\": [{\"colorbar\": {\"outlinewidth\": 0, \"tickcolor\": \"rgb(237,237,237)\", \"ticklen\": 6, \"ticks\": \"inside\"}, \"colorscale\": [[0, \"rgb(20,44,66)\"], [1, \"rgb(90,179,244)\"]], \"type\": \"contour\"}], \"contourcarpet\": [{\"colorbar\": {\"outlinewidth\": 0, \"tickcolor\": \"rgb(237,237,237)\", \"ticklen\": 6, \"ticks\": \"inside\"}, \"type\": \"contourcarpet\"}], \"heatmap\": [{\"colorbar\": {\"outlinewidth\": 0, \"tickcolor\": \"rgb(237,237,237)\", \"ticklen\": 6, \"ticks\": \"inside\"}, \"colorscale\": [[0, \"rgb(20,44,66)\"], [1, \"rgb(90,179,244)\"]], \"type\": \"heatmap\"}], \"heatmapgl\": [{\"colorbar\": {\"outlinewidth\": 0, \"tickcolor\": \"rgb(237,237,237)\", \"ticklen\": 6, \"ticks\": \"inside\"}, \"colorscale\": [[0, \"rgb(20,44,66)\"], [1, \"rgb(90,179,244)\"]], \"type\": \"heatmapgl\"}], \"histogram\": [{\"marker\": {\"colorbar\": {\"outlinewidth\": 0, \"tickcolor\": \"rgb(237,237,237)\", \"ticklen\": 6, \"ticks\": \"inside\"}}, \"type\": \"histogram\"}], \"histogram2d\": [{\"colorbar\": {\"outlinewidth\": 0, \"tickcolor\": \"rgb(237,237,237)\", \"ticklen\": 6, \"ticks\": \"inside\"}, \"colorscale\": [[0, \"rgb(20,44,66)\"], [1, \"rgb(90,179,244)\"]], \"type\": \"histogram2d\"}], \"histogram2dcontour\": [{\"colorbar\": {\"outlinewidth\": 0, \"tickcolor\": \"rgb(237,237,237)\", \"ticklen\": 6, \"ticks\": \"inside\"}, \"colorscale\": [[0, \"rgb(20,44,66)\"], [1, \"rgb(90,179,244)\"]], \"type\": \"histogram2dcontour\"}], \"mesh3d\": [{\"colorbar\": {\"outlinewidth\": 0, \"tickcolor\": \"rgb(237,237,237)\", \"ticklen\": 6, \"ticks\": \"inside\"}, \"type\": \"mesh3d\"}], \"parcoords\": [{\"line\": {\"colorbar\": {\"outlinewidth\": 0, \"tickcolor\": \"rgb(237,237,237)\", \"ticklen\": 6, \"ticks\": \"inside\"}}, \"type\": \"parcoords\"}], \"scatter\": [{\"marker\": {\"colorbar\": {\"outlinewidth\": 0, \"tickcolor\": \"rgb(237,237,237)\", \"ticklen\": 6, \"ticks\": \"inside\"}}, \"type\": \"scatter\"}], \"scatter3d\": [{\"line\": {\"colorbar\": {\"outlinewidth\": 0, \"tickcolor\": \"rgb(237,237,237)\", \"ticklen\": 6, \"ticks\": \"inside\"}}, \"marker\": {\"colorbar\": {\"outlinewidth\": 0, \"tickcolor\": \"rgb(237,237,237)\", \"ticklen\": 6, \"ticks\": \"inside\"}}, \"type\": \"scatter3d\"}], \"scattercarpet\": [{\"marker\": {\"colorbar\": {\"outlinewidth\": 0, \"tickcolor\": \"rgb(237,237,237)\", \"ticklen\": 6, \"ticks\": \"inside\"}}, \"type\": \"scattercarpet\"}], \"scattergeo\": [{\"marker\": {\"colorbar\": {\"outlinewidth\": 0, \"tickcolor\": \"rgb(237,237,237)\", \"ticklen\": 6, \"ticks\": \"inside\"}}, \"type\": \"scattergeo\"}], \"scattergl\": [{\"marker\": {\"colorbar\": {\"outlinewidth\": 0, \"tickcolor\": \"rgb(237,237,237)\", \"ticklen\": 6, \"ticks\": \"inside\"}}, \"type\": \"scattergl\"}], \"scattermapbox\": [{\"marker\": {\"colorbar\": {\"outlinewidth\": 0, \"tickcolor\": \"rgb(237,237,237)\", \"ticklen\": 6, \"ticks\": \"inside\"}}, \"type\": \"scattermapbox\"}], \"scatterpolar\": [{\"marker\": {\"colorbar\": {\"outlinewidth\": 0, \"tickcolor\": \"rgb(237,237,237)\", \"ticklen\": 6, \"ticks\": \"inside\"}}, \"type\": \"scatterpolar\"}], \"scatterpolargl\": [{\"marker\": {\"colorbar\": {\"outlinewidth\": 0, \"tickcolor\": \"rgb(237,237,237)\", \"ticklen\": 6, \"ticks\": \"inside\"}}, \"type\": \"scatterpolargl\"}], \"scatterternary\": [{\"marker\": {\"colorbar\": {\"outlinewidth\": 0, \"tickcolor\": \"rgb(237,237,237)\", \"ticklen\": 6, \"ticks\": \"inside\"}}, \"type\": \"scatterternary\"}], \"surface\": [{\"colorbar\": {\"outlinewidth\": 0, \"tickcolor\": \"rgb(237,237,237)\", \"ticklen\": 6, \"ticks\": \"inside\"}, \"colorscale\": [[0, \"rgb(20,44,66)\"], [1, \"rgb(90,179,244)\"]], \"type\": \"surface\"}], \"table\": [{\"cells\": {\"fill\": {\"color\": \"rgb(237,237,237)\"}, \"line\": {\"color\": \"white\"}}, \"header\": {\"fill\": {\"color\": \"rgb(217,217,217)\"}, \"line\": {\"color\": \"white\"}}, \"type\": \"table\"}]}, \"layout\": {\"annotationdefaults\": {\"arrowhead\": 0, \"arrowwidth\": 1}, \"colorscale\": {\"sequential\": [[0, \"rgb(20,44,66)\"], [1, \"rgb(90,179,244)\"]], \"sequentialminus\": [[0, \"rgb(20,44,66)\"], [1, \"rgb(90,179,244)\"]]}, \"colorway\": [\"#F8766D\", \"#A3A500\", \"#00BF7D\", \"#00B0F6\", \"#E76BF3\"], \"font\": {\"color\": \"rgb(51,51,51)\"}, \"geo\": {\"bgcolor\": \"white\", \"lakecolor\": \"white\", \"landcolor\": \"rgb(237,237,237)\", \"showlakes\": true, \"showland\": true, \"subunitcolor\": \"white\"}, \"hoverlabel\": {\"align\": \"left\"}, \"hovermode\": \"closest\", \"paper_bgcolor\": \"white\", \"plot_bgcolor\": \"rgb(237,237,237)\", \"polar\": {\"angularaxis\": {\"gridcolor\": \"white\", \"linecolor\": \"white\", \"showgrid\": true, \"tickcolor\": \"rgb(51,51,51)\", \"ticks\": \"outside\"}, \"bgcolor\": \"rgb(237,237,237)\", \"radialaxis\": {\"gridcolor\": \"white\", \"linecolor\": \"white\", \"showgrid\": true, \"tickcolor\": \"rgb(51,51,51)\", \"ticks\": \"outside\"}}, \"scene\": {\"xaxis\": {\"backgroundcolor\": \"rgb(237,237,237)\", \"gridcolor\": \"white\", \"gridwidth\": 2, \"linecolor\": \"white\", \"showbackground\": true, \"showgrid\": true, \"tickcolor\": \"rgb(51,51,51)\", \"ticks\": \"outside\", \"zerolinecolor\": \"white\"}, \"yaxis\": {\"backgroundcolor\": \"rgb(237,237,237)\", \"gridcolor\": \"white\", \"gridwidth\": 2, \"linecolor\": \"white\", \"showbackground\": true, \"showgrid\": true, \"tickcolor\": \"rgb(51,51,51)\", \"ticks\": \"outside\", \"zerolinecolor\": \"white\"}, \"zaxis\": {\"backgroundcolor\": \"rgb(237,237,237)\", \"gridcolor\": \"white\", \"gridwidth\": 2, \"linecolor\": \"white\", \"showbackground\": true, \"showgrid\": true, \"tickcolor\": \"rgb(51,51,51)\", \"ticks\": \"outside\", \"zerolinecolor\": \"white\"}}, \"shapedefaults\": {\"fillcolor\": \"black\", \"line\": {\"width\": 0}, \"opacity\": 0.3}, \"ternary\": {\"aaxis\": {\"gridcolor\": \"white\", \"linecolor\": \"white\", \"showgrid\": true, \"tickcolor\": \"rgb(51,51,51)\", \"ticks\": \"outside\"}, \"baxis\": {\"gridcolor\": \"white\", \"linecolor\": \"white\", \"showgrid\": true, \"tickcolor\": \"rgb(51,51,51)\", \"ticks\": \"outside\"}, \"bgcolor\": \"rgb(237,237,237)\", \"caxis\": {\"gridcolor\": \"white\", \"linecolor\": \"white\", \"showgrid\": true, \"tickcolor\": \"rgb(51,51,51)\", \"ticks\": \"outside\"}}, \"xaxis\": {\"automargin\": true, \"gridcolor\": \"white\", \"linecolor\": \"white\", \"showgrid\": true, \"tickcolor\": \"rgb(51,51,51)\", \"ticks\": \"outside\", \"zerolinecolor\": \"white\"}, \"yaxis\": {\"automargin\": true, \"gridcolor\": \"white\", \"linecolor\": \"white\", \"showgrid\": true, \"tickcolor\": \"rgb(51,51,51)\", \"ticks\": \"outside\", \"zerolinecolor\": \"white\"}}}, \"width\": 1200, \"xaxis\": {\"anchor\": \"y\", \"domain\": [0.0, 0.98], \"title\": {\"text\": \"id\"}}, \"yaxis\": {\"anchor\": \"x\", \"domain\": [0.0, 1.0], \"title\": {\"text\": \"pro\"}}},\n",
       "                        {\"responsive\": true}\n",
       "                    ).then(function(){\n",
       "                            \n",
       "var gd = document.getElementById('04701a1d-a09b-40ab-80e3-2c81705e836c');\n",
       "var x = new MutationObserver(function (mutations, observer) {{\n",
       "        var display = window.getComputedStyle(gd).display;\n",
       "        if (!display || display === 'none') {{\n",
       "            console.log([gd, 'removed!']);\n",
       "            Plotly.purge(gd);\n",
       "            observer.disconnect();\n",
       "        }}\n",
       "}});\n",
       "\n",
       "// Listen for the removal of the full notebook cells\n",
       "var notebookContainer = gd.closest('#notebook-container');\n",
       "if (notebookContainer) {{\n",
       "    x.observe(notebookContainer, {childList: true});\n",
       "}}\n",
       "\n",
       "// Listen for the clearing of the current output cell\n",
       "var outputEl = gd.closest('.output');\n",
       "if (outputEl) {{\n",
       "    x.observe(outputEl, {childList: true});\n",
       "}}\n",
       "\n",
       "                        })\n",
       "                };\n",
       "                });\n",
       "            </script>\n",
       "        </div>"
      ]
     },
     "metadata": {},
     "output_type": "display_data"
    },
    {
     "name": "stdout",
     "output_type": "stream",
     "text": [
      "总体准确率为0.75\n",
      "混淆矩阵为[6, 2, 0, 0]\n"
     ]
    }
   ],
   "source": [
    "PLT_healthy_pre = predict_plot('test_PLT')"
   ]
  },
  {
   "cell_type": "code",
   "execution_count": 165,
   "metadata": {
    "ExecuteTime": {
     "end_time": "2019-12-27T09:07:54.379202Z",
     "start_time": "2019-12-27T09:07:54.138862Z"
    }
   },
   "outputs": [
    {
     "data": {
      "application/vnd.plotly.v1+json": {
       "config": {
        "plotlyServerURL": "https://plot.ly"
       },
       "data": [
        {
         "hoverlabel": {
          "namelength": 0
         },
         "hovertemplate": "class=0<br>id=%{x}<br>pro=%{y}",
         "legendgroup": "class=0",
         "marker": {
          "color": "green",
          "symbol": "circle"
         },
         "mode": "markers",
         "name": "class=0",
         "showlegend": true,
         "type": "scatter",
         "x": [
          "B094_F.ex",
          "B246_F.ex",
          "B229_F.ex",
          "B216_F.ex",
          "B184_F.ex",
          "B174_F.ex",
          "B173_F.ex",
          "B168_F.ex",
          "B247_F.ex",
          "B167_F.ex",
          "B161_F.ex",
          "B160_F.ex",
          "B159_F.ex",
          "B158_F.ex",
          "B157_F.ex",
          "B096_F.ex",
          "B095_F.ex",
          "B162_F.ex",
          "B256_F.ex"
         ],
         "xaxis": "x",
         "y": [
          0.9167808307536324,
          0.439215393382328,
          0.8216108845059737,
          0.09345989223471214,
          0.8155547401008182,
          0.039992746588622945,
          0.09012143132543644,
          0.9968646303609592,
          0.5112923995357298,
          0.8859999389330142,
          0.2189400152757609,
          0.8934190532025675,
          0.9410763271537768,
          0.5539666768261536,
          0.9065688641020454,
          0.14264102242181934,
          0.03208416005567717,
          0.7460178563587564,
          0.05501189964543733
         ],
         "yaxis": "y"
        },
        {
         "line": {
          "color": "grey",
          "dash": "dash"
         },
         "mode": "lines",
         "showlegend": false,
         "type": "scatter",
         "x": [
          "B094_F.ex",
          "B256_F.ex"
         ],
         "y": [
          0.5,
          0.5
         ]
        }
       ],
       "layout": {
        "height": 800,
        "legend": {
         "tracegroupgap": 0
        },
        "margin": {
         "t": 60
        },
        "template": {
         "data": {
          "bar": [
           {
            "error_x": {
             "color": "rgb(51,51,51)"
            },
            "error_y": {
             "color": "rgb(51,51,51)"
            },
            "marker": {
             "line": {
              "color": "rgb(237,237,237)",
              "width": 0.5
             }
            },
            "type": "bar"
           }
          ],
          "barpolar": [
           {
            "marker": {
             "line": {
              "color": "rgb(237,237,237)",
              "width": 0.5
             }
            },
            "type": "barpolar"
           }
          ],
          "carpet": [
           {
            "aaxis": {
             "endlinecolor": "rgb(51,51,51)",
             "gridcolor": "white",
             "linecolor": "white",
             "minorgridcolor": "white",
             "startlinecolor": "rgb(51,51,51)"
            },
            "baxis": {
             "endlinecolor": "rgb(51,51,51)",
             "gridcolor": "white",
             "linecolor": "white",
             "minorgridcolor": "white",
             "startlinecolor": "rgb(51,51,51)"
            },
            "type": "carpet"
           }
          ],
          "choropleth": [
           {
            "colorbar": {
             "outlinewidth": 0,
             "tickcolor": "rgb(237,237,237)",
             "ticklen": 6,
             "ticks": "inside"
            },
            "type": "choropleth"
           }
          ],
          "contour": [
           {
            "colorbar": {
             "outlinewidth": 0,
             "tickcolor": "rgb(237,237,237)",
             "ticklen": 6,
             "ticks": "inside"
            },
            "colorscale": [
             [
              0,
              "rgb(20,44,66)"
             ],
             [
              1,
              "rgb(90,179,244)"
             ]
            ],
            "type": "contour"
           }
          ],
          "contourcarpet": [
           {
            "colorbar": {
             "outlinewidth": 0,
             "tickcolor": "rgb(237,237,237)",
             "ticklen": 6,
             "ticks": "inside"
            },
            "type": "contourcarpet"
           }
          ],
          "heatmap": [
           {
            "colorbar": {
             "outlinewidth": 0,
             "tickcolor": "rgb(237,237,237)",
             "ticklen": 6,
             "ticks": "inside"
            },
            "colorscale": [
             [
              0,
              "rgb(20,44,66)"
             ],
             [
              1,
              "rgb(90,179,244)"
             ]
            ],
            "type": "heatmap"
           }
          ],
          "heatmapgl": [
           {
            "colorbar": {
             "outlinewidth": 0,
             "tickcolor": "rgb(237,237,237)",
             "ticklen": 6,
             "ticks": "inside"
            },
            "colorscale": [
             [
              0,
              "rgb(20,44,66)"
             ],
             [
              1,
              "rgb(90,179,244)"
             ]
            ],
            "type": "heatmapgl"
           }
          ],
          "histogram": [
           {
            "marker": {
             "colorbar": {
              "outlinewidth": 0,
              "tickcolor": "rgb(237,237,237)",
              "ticklen": 6,
              "ticks": "inside"
             }
            },
            "type": "histogram"
           }
          ],
          "histogram2d": [
           {
            "colorbar": {
             "outlinewidth": 0,
             "tickcolor": "rgb(237,237,237)",
             "ticklen": 6,
             "ticks": "inside"
            },
            "colorscale": [
             [
              0,
              "rgb(20,44,66)"
             ],
             [
              1,
              "rgb(90,179,244)"
             ]
            ],
            "type": "histogram2d"
           }
          ],
          "histogram2dcontour": [
           {
            "colorbar": {
             "outlinewidth": 0,
             "tickcolor": "rgb(237,237,237)",
             "ticklen": 6,
             "ticks": "inside"
            },
            "colorscale": [
             [
              0,
              "rgb(20,44,66)"
             ],
             [
              1,
              "rgb(90,179,244)"
             ]
            ],
            "type": "histogram2dcontour"
           }
          ],
          "mesh3d": [
           {
            "colorbar": {
             "outlinewidth": 0,
             "tickcolor": "rgb(237,237,237)",
             "ticklen": 6,
             "ticks": "inside"
            },
            "type": "mesh3d"
           }
          ],
          "parcoords": [
           {
            "line": {
             "colorbar": {
              "outlinewidth": 0,
              "tickcolor": "rgb(237,237,237)",
              "ticklen": 6,
              "ticks": "inside"
             }
            },
            "type": "parcoords"
           }
          ],
          "scatter": [
           {
            "marker": {
             "colorbar": {
              "outlinewidth": 0,
              "tickcolor": "rgb(237,237,237)",
              "ticklen": 6,
              "ticks": "inside"
             }
            },
            "type": "scatter"
           }
          ],
          "scatter3d": [
           {
            "line": {
             "colorbar": {
              "outlinewidth": 0,
              "tickcolor": "rgb(237,237,237)",
              "ticklen": 6,
              "ticks": "inside"
             }
            },
            "marker": {
             "colorbar": {
              "outlinewidth": 0,
              "tickcolor": "rgb(237,237,237)",
              "ticklen": 6,
              "ticks": "inside"
             }
            },
            "type": "scatter3d"
           }
          ],
          "scattercarpet": [
           {
            "marker": {
             "colorbar": {
              "outlinewidth": 0,
              "tickcolor": "rgb(237,237,237)",
              "ticklen": 6,
              "ticks": "inside"
             }
            },
            "type": "scattercarpet"
           }
          ],
          "scattergeo": [
           {
            "marker": {
             "colorbar": {
              "outlinewidth": 0,
              "tickcolor": "rgb(237,237,237)",
              "ticklen": 6,
              "ticks": "inside"
             }
            },
            "type": "scattergeo"
           }
          ],
          "scattergl": [
           {
            "marker": {
             "colorbar": {
              "outlinewidth": 0,
              "tickcolor": "rgb(237,237,237)",
              "ticklen": 6,
              "ticks": "inside"
             }
            },
            "type": "scattergl"
           }
          ],
          "scattermapbox": [
           {
            "marker": {
             "colorbar": {
              "outlinewidth": 0,
              "tickcolor": "rgb(237,237,237)",
              "ticklen": 6,
              "ticks": "inside"
             }
            },
            "type": "scattermapbox"
           }
          ],
          "scatterpolar": [
           {
            "marker": {
             "colorbar": {
              "outlinewidth": 0,
              "tickcolor": "rgb(237,237,237)",
              "ticklen": 6,
              "ticks": "inside"
             }
            },
            "type": "scatterpolar"
           }
          ],
          "scatterpolargl": [
           {
            "marker": {
             "colorbar": {
              "outlinewidth": 0,
              "tickcolor": "rgb(237,237,237)",
              "ticklen": 6,
              "ticks": "inside"
             }
            },
            "type": "scatterpolargl"
           }
          ],
          "scatterternary": [
           {
            "marker": {
             "colorbar": {
              "outlinewidth": 0,
              "tickcolor": "rgb(237,237,237)",
              "ticklen": 6,
              "ticks": "inside"
             }
            },
            "type": "scatterternary"
           }
          ],
          "surface": [
           {
            "colorbar": {
             "outlinewidth": 0,
             "tickcolor": "rgb(237,237,237)",
             "ticklen": 6,
             "ticks": "inside"
            },
            "colorscale": [
             [
              0,
              "rgb(20,44,66)"
             ],
             [
              1,
              "rgb(90,179,244)"
             ]
            ],
            "type": "surface"
           }
          ],
          "table": [
           {
            "cells": {
             "fill": {
              "color": "rgb(237,237,237)"
             },
             "line": {
              "color": "white"
             }
            },
            "header": {
             "fill": {
              "color": "rgb(217,217,217)"
             },
             "line": {
              "color": "white"
             }
            },
            "type": "table"
           }
          ]
         },
         "layout": {
          "annotationdefaults": {
           "arrowhead": 0,
           "arrowwidth": 1
          },
          "colorscale": {
           "sequential": [
            [
             0,
             "rgb(20,44,66)"
            ],
            [
             1,
             "rgb(90,179,244)"
            ]
           ],
           "sequentialminus": [
            [
             0,
             "rgb(20,44,66)"
            ],
            [
             1,
             "rgb(90,179,244)"
            ]
           ]
          },
          "colorway": [
           "#F8766D",
           "#A3A500",
           "#00BF7D",
           "#00B0F6",
           "#E76BF3"
          ],
          "font": {
           "color": "rgb(51,51,51)"
          },
          "geo": {
           "bgcolor": "white",
           "lakecolor": "white",
           "landcolor": "rgb(237,237,237)",
           "showlakes": true,
           "showland": true,
           "subunitcolor": "white"
          },
          "hoverlabel": {
           "align": "left"
          },
          "hovermode": "closest",
          "paper_bgcolor": "white",
          "plot_bgcolor": "rgb(237,237,237)",
          "polar": {
           "angularaxis": {
            "gridcolor": "white",
            "linecolor": "white",
            "showgrid": true,
            "tickcolor": "rgb(51,51,51)",
            "ticks": "outside"
           },
           "bgcolor": "rgb(237,237,237)",
           "radialaxis": {
            "gridcolor": "white",
            "linecolor": "white",
            "showgrid": true,
            "tickcolor": "rgb(51,51,51)",
            "ticks": "outside"
           }
          },
          "scene": {
           "xaxis": {
            "backgroundcolor": "rgb(237,237,237)",
            "gridcolor": "white",
            "gridwidth": 2,
            "linecolor": "white",
            "showbackground": true,
            "showgrid": true,
            "tickcolor": "rgb(51,51,51)",
            "ticks": "outside",
            "zerolinecolor": "white"
           },
           "yaxis": {
            "backgroundcolor": "rgb(237,237,237)",
            "gridcolor": "white",
            "gridwidth": 2,
            "linecolor": "white",
            "showbackground": true,
            "showgrid": true,
            "tickcolor": "rgb(51,51,51)",
            "ticks": "outside",
            "zerolinecolor": "white"
           },
           "zaxis": {
            "backgroundcolor": "rgb(237,237,237)",
            "gridcolor": "white",
            "gridwidth": 2,
            "linecolor": "white",
            "showbackground": true,
            "showgrid": true,
            "tickcolor": "rgb(51,51,51)",
            "ticks": "outside",
            "zerolinecolor": "white"
           }
          },
          "shapedefaults": {
           "fillcolor": "black",
           "line": {
            "width": 0
           },
           "opacity": 0.3
          },
          "ternary": {
           "aaxis": {
            "gridcolor": "white",
            "linecolor": "white",
            "showgrid": true,
            "tickcolor": "rgb(51,51,51)",
            "ticks": "outside"
           },
           "baxis": {
            "gridcolor": "white",
            "linecolor": "white",
            "showgrid": true,
            "tickcolor": "rgb(51,51,51)",
            "ticks": "outside"
           },
           "bgcolor": "rgb(237,237,237)",
           "caxis": {
            "gridcolor": "white",
            "linecolor": "white",
            "showgrid": true,
            "tickcolor": "rgb(51,51,51)",
            "ticks": "outside"
           }
          },
          "xaxis": {
           "automargin": true,
           "gridcolor": "white",
           "linecolor": "white",
           "showgrid": true,
           "tickcolor": "rgb(51,51,51)",
           "ticks": "outside",
           "zerolinecolor": "white"
          },
          "yaxis": {
           "automargin": true,
           "gridcolor": "white",
           "linecolor": "white",
           "showgrid": true,
           "tickcolor": "rgb(51,51,51)",
           "ticks": "outside",
           "zerolinecolor": "white"
          }
         }
        },
        "width": 1200,
        "xaxis": {
         "anchor": "y",
         "domain": [
          0,
          0.98
         ],
         "title": {
          "text": "id"
         }
        },
        "yaxis": {
         "anchor": "x",
         "domain": [
          0,
          1
         ],
         "title": {
          "text": "pro"
         }
        }
       }
      },
      "text/html": [
       "<div>\n",
       "        \n",
       "        \n",
       "            <div id=\"c14c0d90-ad44-433f-9929-52527ebf78ea\" class=\"plotly-graph-div\" style=\"height:800px; width:1200px;\"></div>\n",
       "            <script type=\"text/javascript\">\n",
       "                require([\"plotly\"], function(Plotly) {\n",
       "                    window.PLOTLYENV=window.PLOTLYENV || {};\n",
       "                    \n",
       "                if (document.getElementById(\"c14c0d90-ad44-433f-9929-52527ebf78ea\")) {\n",
       "                    Plotly.newPlot(\n",
       "                        'c14c0d90-ad44-433f-9929-52527ebf78ea',\n",
       "                        [{\"hoverlabel\": {\"namelength\": 0}, \"hovertemplate\": \"class=0<br>id=%{x}<br>pro=%{y}\", \"legendgroup\": \"class=0\", \"marker\": {\"color\": \"green\", \"symbol\": \"circle\"}, \"mode\": \"markers\", \"name\": \"class=0\", \"showlegend\": true, \"type\": \"scatter\", \"x\": [\"B094_F.ex\", \"B246_F.ex\", \"B229_F.ex\", \"B216_F.ex\", \"B184_F.ex\", \"B174_F.ex\", \"B173_F.ex\", \"B168_F.ex\", \"B247_F.ex\", \"B167_F.ex\", \"B161_F.ex\", \"B160_F.ex\", \"B159_F.ex\", \"B158_F.ex\", \"B157_F.ex\", \"B096_F.ex\", \"B095_F.ex\", \"B162_F.ex\", \"B256_F.ex\"], \"xaxis\": \"x\", \"y\": [0.9167808307536324, 0.439215393382328, 0.8216108845059737, 0.09345989223471214, 0.8155547401008182, 0.039992746588622945, 0.09012143132543644, 0.9968646303609592, 0.5112923995357298, 0.8859999389330142, 0.2189400152757609, 0.8934190532025675, 0.9410763271537768, 0.5539666768261536, 0.9065688641020454, 0.14264102242181934, 0.03208416005567717, 0.7460178563587564, 0.05501189964543733], \"yaxis\": \"y\"}, {\"line\": {\"color\": \"grey\", \"dash\": \"dash\"}, \"mode\": \"lines\", \"showlegend\": false, \"type\": \"scatter\", \"x\": [\"B094_F.ex\", \"B256_F.ex\"], \"y\": [0.5, 0.5]}],\n",
       "                        {\"height\": 800, \"legend\": {\"tracegroupgap\": 0}, \"margin\": {\"t\": 60}, \"template\": {\"data\": {\"bar\": [{\"error_x\": {\"color\": \"rgb(51,51,51)\"}, \"error_y\": {\"color\": \"rgb(51,51,51)\"}, \"marker\": {\"line\": {\"color\": \"rgb(237,237,237)\", \"width\": 0.5}}, \"type\": \"bar\"}], \"barpolar\": [{\"marker\": {\"line\": {\"color\": \"rgb(237,237,237)\", \"width\": 0.5}}, \"type\": \"barpolar\"}], \"carpet\": [{\"aaxis\": {\"endlinecolor\": \"rgb(51,51,51)\", \"gridcolor\": \"white\", \"linecolor\": \"white\", \"minorgridcolor\": \"white\", \"startlinecolor\": \"rgb(51,51,51)\"}, \"baxis\": {\"endlinecolor\": \"rgb(51,51,51)\", \"gridcolor\": \"white\", \"linecolor\": \"white\", \"minorgridcolor\": \"white\", \"startlinecolor\": \"rgb(51,51,51)\"}, \"type\": \"carpet\"}], \"choropleth\": [{\"colorbar\": {\"outlinewidth\": 0, \"tickcolor\": \"rgb(237,237,237)\", \"ticklen\": 6, \"ticks\": \"inside\"}, \"type\": \"choropleth\"}], \"contour\": [{\"colorbar\": {\"outlinewidth\": 0, \"tickcolor\": \"rgb(237,237,237)\", \"ticklen\": 6, \"ticks\": \"inside\"}, \"colorscale\": [[0, \"rgb(20,44,66)\"], [1, \"rgb(90,179,244)\"]], \"type\": \"contour\"}], \"contourcarpet\": [{\"colorbar\": {\"outlinewidth\": 0, \"tickcolor\": \"rgb(237,237,237)\", \"ticklen\": 6, \"ticks\": \"inside\"}, \"type\": \"contourcarpet\"}], \"heatmap\": [{\"colorbar\": {\"outlinewidth\": 0, \"tickcolor\": \"rgb(237,237,237)\", \"ticklen\": 6, \"ticks\": \"inside\"}, \"colorscale\": [[0, \"rgb(20,44,66)\"], [1, \"rgb(90,179,244)\"]], \"type\": \"heatmap\"}], \"heatmapgl\": [{\"colorbar\": {\"outlinewidth\": 0, \"tickcolor\": \"rgb(237,237,237)\", \"ticklen\": 6, \"ticks\": \"inside\"}, \"colorscale\": [[0, \"rgb(20,44,66)\"], [1, \"rgb(90,179,244)\"]], \"type\": \"heatmapgl\"}], \"histogram\": [{\"marker\": {\"colorbar\": {\"outlinewidth\": 0, \"tickcolor\": \"rgb(237,237,237)\", \"ticklen\": 6, \"ticks\": \"inside\"}}, \"type\": \"histogram\"}], \"histogram2d\": [{\"colorbar\": {\"outlinewidth\": 0, \"tickcolor\": \"rgb(237,237,237)\", \"ticklen\": 6, \"ticks\": \"inside\"}, \"colorscale\": [[0, \"rgb(20,44,66)\"], [1, \"rgb(90,179,244)\"]], \"type\": \"histogram2d\"}], \"histogram2dcontour\": [{\"colorbar\": {\"outlinewidth\": 0, \"tickcolor\": \"rgb(237,237,237)\", \"ticklen\": 6, \"ticks\": \"inside\"}, \"colorscale\": [[0, \"rgb(20,44,66)\"], [1, \"rgb(90,179,244)\"]], \"type\": \"histogram2dcontour\"}], \"mesh3d\": [{\"colorbar\": {\"outlinewidth\": 0, \"tickcolor\": \"rgb(237,237,237)\", \"ticklen\": 6, \"ticks\": \"inside\"}, \"type\": \"mesh3d\"}], \"parcoords\": [{\"line\": {\"colorbar\": {\"outlinewidth\": 0, \"tickcolor\": \"rgb(237,237,237)\", \"ticklen\": 6, \"ticks\": \"inside\"}}, \"type\": \"parcoords\"}], \"scatter\": [{\"marker\": {\"colorbar\": {\"outlinewidth\": 0, \"tickcolor\": \"rgb(237,237,237)\", \"ticklen\": 6, \"ticks\": \"inside\"}}, \"type\": \"scatter\"}], \"scatter3d\": [{\"line\": {\"colorbar\": {\"outlinewidth\": 0, \"tickcolor\": \"rgb(237,237,237)\", \"ticklen\": 6, \"ticks\": \"inside\"}}, \"marker\": {\"colorbar\": {\"outlinewidth\": 0, \"tickcolor\": \"rgb(237,237,237)\", \"ticklen\": 6, \"ticks\": \"inside\"}}, \"type\": \"scatter3d\"}], \"scattercarpet\": [{\"marker\": {\"colorbar\": {\"outlinewidth\": 0, \"tickcolor\": \"rgb(237,237,237)\", \"ticklen\": 6, \"ticks\": \"inside\"}}, \"type\": \"scattercarpet\"}], \"scattergeo\": [{\"marker\": {\"colorbar\": {\"outlinewidth\": 0, \"tickcolor\": \"rgb(237,237,237)\", \"ticklen\": 6, \"ticks\": \"inside\"}}, \"type\": \"scattergeo\"}], \"scattergl\": [{\"marker\": {\"colorbar\": {\"outlinewidth\": 0, \"tickcolor\": \"rgb(237,237,237)\", \"ticklen\": 6, \"ticks\": \"inside\"}}, \"type\": \"scattergl\"}], \"scattermapbox\": [{\"marker\": {\"colorbar\": {\"outlinewidth\": 0, \"tickcolor\": \"rgb(237,237,237)\", \"ticklen\": 6, \"ticks\": \"inside\"}}, \"type\": \"scattermapbox\"}], \"scatterpolar\": [{\"marker\": {\"colorbar\": {\"outlinewidth\": 0, \"tickcolor\": \"rgb(237,237,237)\", \"ticklen\": 6, \"ticks\": \"inside\"}}, \"type\": \"scatterpolar\"}], \"scatterpolargl\": [{\"marker\": {\"colorbar\": {\"outlinewidth\": 0, \"tickcolor\": \"rgb(237,237,237)\", \"ticklen\": 6, \"ticks\": \"inside\"}}, \"type\": \"scatterpolargl\"}], \"scatterternary\": [{\"marker\": {\"colorbar\": {\"outlinewidth\": 0, \"tickcolor\": \"rgb(237,237,237)\", \"ticklen\": 6, \"ticks\": \"inside\"}}, \"type\": \"scatterternary\"}], \"surface\": [{\"colorbar\": {\"outlinewidth\": 0, \"tickcolor\": \"rgb(237,237,237)\", \"ticklen\": 6, \"ticks\": \"inside\"}, \"colorscale\": [[0, \"rgb(20,44,66)\"], [1, \"rgb(90,179,244)\"]], \"type\": \"surface\"}], \"table\": [{\"cells\": {\"fill\": {\"color\": \"rgb(237,237,237)\"}, \"line\": {\"color\": \"white\"}}, \"header\": {\"fill\": {\"color\": \"rgb(217,217,217)\"}, \"line\": {\"color\": \"white\"}}, \"type\": \"table\"}]}, \"layout\": {\"annotationdefaults\": {\"arrowhead\": 0, \"arrowwidth\": 1}, \"colorscale\": {\"sequential\": [[0, \"rgb(20,44,66)\"], [1, \"rgb(90,179,244)\"]], \"sequentialminus\": [[0, \"rgb(20,44,66)\"], [1, \"rgb(90,179,244)\"]]}, \"colorway\": [\"#F8766D\", \"#A3A500\", \"#00BF7D\", \"#00B0F6\", \"#E76BF3\"], \"font\": {\"color\": \"rgb(51,51,51)\"}, \"geo\": {\"bgcolor\": \"white\", \"lakecolor\": \"white\", \"landcolor\": \"rgb(237,237,237)\", \"showlakes\": true, \"showland\": true, \"subunitcolor\": \"white\"}, \"hoverlabel\": {\"align\": \"left\"}, \"hovermode\": \"closest\", \"paper_bgcolor\": \"white\", \"plot_bgcolor\": \"rgb(237,237,237)\", \"polar\": {\"angularaxis\": {\"gridcolor\": \"white\", \"linecolor\": \"white\", \"showgrid\": true, \"tickcolor\": \"rgb(51,51,51)\", \"ticks\": \"outside\"}, \"bgcolor\": \"rgb(237,237,237)\", \"radialaxis\": {\"gridcolor\": \"white\", \"linecolor\": \"white\", \"showgrid\": true, \"tickcolor\": \"rgb(51,51,51)\", \"ticks\": \"outside\"}}, \"scene\": {\"xaxis\": {\"backgroundcolor\": \"rgb(237,237,237)\", \"gridcolor\": \"white\", \"gridwidth\": 2, \"linecolor\": \"white\", \"showbackground\": true, \"showgrid\": true, \"tickcolor\": \"rgb(51,51,51)\", \"ticks\": \"outside\", \"zerolinecolor\": \"white\"}, \"yaxis\": {\"backgroundcolor\": \"rgb(237,237,237)\", \"gridcolor\": \"white\", \"gridwidth\": 2, \"linecolor\": \"white\", \"showbackground\": true, \"showgrid\": true, \"tickcolor\": \"rgb(51,51,51)\", \"ticks\": \"outside\", \"zerolinecolor\": \"white\"}, \"zaxis\": {\"backgroundcolor\": \"rgb(237,237,237)\", \"gridcolor\": \"white\", \"gridwidth\": 2, \"linecolor\": \"white\", \"showbackground\": true, \"showgrid\": true, \"tickcolor\": \"rgb(51,51,51)\", \"ticks\": \"outside\", \"zerolinecolor\": \"white\"}}, \"shapedefaults\": {\"fillcolor\": \"black\", \"line\": {\"width\": 0}, \"opacity\": 0.3}, \"ternary\": {\"aaxis\": {\"gridcolor\": \"white\", \"linecolor\": \"white\", \"showgrid\": true, \"tickcolor\": \"rgb(51,51,51)\", \"ticks\": \"outside\"}, \"baxis\": {\"gridcolor\": \"white\", \"linecolor\": \"white\", \"showgrid\": true, \"tickcolor\": \"rgb(51,51,51)\", \"ticks\": \"outside\"}, \"bgcolor\": \"rgb(237,237,237)\", \"caxis\": {\"gridcolor\": \"white\", \"linecolor\": \"white\", \"showgrid\": true, \"tickcolor\": \"rgb(51,51,51)\", \"ticks\": \"outside\"}}, \"xaxis\": {\"automargin\": true, \"gridcolor\": \"white\", \"linecolor\": \"white\", \"showgrid\": true, \"tickcolor\": \"rgb(51,51,51)\", \"ticks\": \"outside\", \"zerolinecolor\": \"white\"}, \"yaxis\": {\"automargin\": true, \"gridcolor\": \"white\", \"linecolor\": \"white\", \"showgrid\": true, \"tickcolor\": \"rgb(51,51,51)\", \"ticks\": \"outside\", \"zerolinecolor\": \"white\"}}}, \"width\": 1200, \"xaxis\": {\"anchor\": \"y\", \"domain\": [0.0, 0.98], \"title\": {\"text\": \"id\"}}, \"yaxis\": {\"anchor\": \"x\", \"domain\": [0.0, 1.0], \"title\": {\"text\": \"pro\"}}},\n",
       "                        {\"responsive\": true}\n",
       "                    ).then(function(){\n",
       "                            \n",
       "var gd = document.getElementById('c14c0d90-ad44-433f-9929-52527ebf78ea');\n",
       "var x = new MutationObserver(function (mutations, observer) {{\n",
       "        var display = window.getComputedStyle(gd).display;\n",
       "        if (!display || display === 'none') {{\n",
       "            console.log([gd, 'removed!']);\n",
       "            Plotly.purge(gd);\n",
       "            observer.disconnect();\n",
       "        }}\n",
       "}});\n",
       "\n",
       "// Listen for the removal of the full notebook cells\n",
       "var notebookContainer = gd.closest('#notebook-container');\n",
       "if (notebookContainer) {{\n",
       "    x.observe(notebookContainer, {childList: true});\n",
       "}}\n",
       "\n",
       "// Listen for the clearing of the current output cell\n",
       "var outputEl = gd.closest('.output');\n",
       "if (outputEl) {{\n",
       "    x.observe(outputEl, {childList: true});\n",
       "}}\n",
       "\n",
       "                        })\n",
       "                };\n",
       "                });\n",
       "            </script>\n",
       "        </div>"
      ]
     },
     "metadata": {},
     "output_type": "display_data"
    },
    {
     "name": "stdout",
     "output_type": "stream",
     "text": [
      "总体准确率为0.42105263157894735\n",
      "混淆矩阵为[8, 11, 0, 0]\n"
     ]
    }
   ],
   "source": [
    "pul_pre = predict_plot('test_pulmonary')"
   ]
  },
  {
   "cell_type": "code",
   "execution_count": null,
   "metadata": {},
   "outputs": [],
   "source": []
  },
  {
   "cell_type": "code",
   "execution_count": null,
   "metadata": {},
   "outputs": [],
   "source": []
  }
 ],
 "metadata": {
  "kernelspec": {
   "display_name": "Python 3",
   "language": "python",
   "name": "python3"
  },
  "language_info": {
   "codemirror_mode": {
    "name": "ipython",
    "version": 3
   },
   "file_extension": ".py",
   "mimetype": "text/x-python",
   "name": "python",
   "nbconvert_exporter": "python",
   "pygments_lexer": "ipython3",
   "version": "3.7.3"
  }
 },
 "nbformat": 4,
 "nbformat_minor": 2
}
