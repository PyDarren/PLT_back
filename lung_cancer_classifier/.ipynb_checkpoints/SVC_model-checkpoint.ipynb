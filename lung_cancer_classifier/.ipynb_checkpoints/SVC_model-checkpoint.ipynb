{
 "cells": [
  {
   "cell_type": "code",
   "execution_count": 1,
   "metadata": {
    "ExecuteTime": {
     "end_time": "2019-12-18T08:08:41.235867Z",
     "start_time": "2019-12-18T08:08:41.232875Z"
    }
   },
   "outputs": [],
   "source": [
    "# Created by: Chen Da\n",
    "# Created on: 20191217"
   ]
  },
  {
   "cell_type": "code",
   "execution_count": 2,
   "metadata": {
    "ExecuteTime": {
     "end_time": "2019-12-18T08:08:43.478780Z",
     "start_time": "2019-12-18T08:08:41.415875Z"
    }
   },
   "outputs": [],
   "source": [
    "import pandas as pd\n",
    "import numpy as np\n",
    "import matplotlib.pyplot as plt\n",
    "import random, warnings\n",
    "import matplotlib.pyplot as plt\n",
    "from sklearn.model_selection import validation_curve\n",
    "from sklearn.linear_model import LogisticRegression\n",
    "from sklearn.svm import SVC\n",
    "\n",
    "warnings.filterwarnings('ignore')"
   ]
  },
  {
   "cell_type": "code",
   "execution_count": 3,
   "metadata": {
    "ExecuteTime": {
     "end_time": "2019-12-18T08:08:43.489773Z",
     "start_time": "2019-12-18T08:08:43.479778Z"
    }
   },
   "outputs": [],
   "source": [
    "def final_model(df):\n",
    "    predict_score = list()\n",
    "    for info in range(df.shape[0]):\n",
    "        new_data = df.iloc[info, :].values[1:-1]\n",
    "        z = np.dot(new_data, coefs) + intercept\n",
    "        y = 1 / (1 + np.exp(-z))\n",
    "        predict_score.append(y)\n",
    "    predict_df = pd.DataFrame(predict_score, columns=['pro'])\n",
    "    df.index = [i for i in range(df.shape[0])]\n",
    "    predict_df['id'] = df['id']\n",
    "    predict_df['class'] = df['class']\n",
    "    predict_df = predict_df.reindex(columns=['id', 'pro', 'class'])\n",
    "    positive = predict_df[predict_df['class'] == 1]\n",
    "    negtive = predict_df[predict_df['class'] == 0]\n",
    "    plt.figure(figsize=(20, 12))\n",
    "    plt.scatter(x=positive['id'], y=positive['pro'], color='red')\n",
    "    plt.scatter(x=negtive['id'], y=negtive['pro'], color='blue')\n",
    "    plt.axhline(y=0.5, color='grey', linestyle='--', alpha=0.6)\n",
    "    plt.xticks(rotation=90)\n",
    "    plt.grid()\n",
    "    plt.show()\n",
    "    predict_df['pre_label'] = predict_df['pro'].apply(lambda x: round(x))\n",
    "    predict_df['class'] = predict_df['class'].apply(lambda x: int(x))\n",
    "    pre_0_right = predict_df[np.logical_and(predict_df['class'] == 0, predict_df['pre_label'] == 0)].shape[0]\n",
    "    pre_0_wrong = predict_df[np.logical_and(predict_df['class'] == 0, predict_df['pre_label'] == 1)].shape[0]\n",
    "    pre_1_right = predict_df[np.logical_and(predict_df['class'] == 1, predict_df['pre_label'] == 1)].shape[0]\n",
    "    pre_1_wrong = predict_df[np.logical_and(predict_df['class'] == 1, predict_df['pre_label'] == 0)].shape[0]\n",
    "    print('总体准确率为%s' % ((pre_0_right + pre_1_right) / predict_df.shape[0]))\n",
    "    return predict_df"
   ]
  },
  {
   "cell_type": "code",
   "execution_count": 4,
   "metadata": {
    "ExecuteTime": {
     "end_time": "2019-12-18T08:08:43.499728Z",
     "start_time": "2019-12-18T08:08:43.491746Z"
    }
   },
   "outputs": [],
   "source": [
    "def split_func(data_frame, size=0.8):\n",
    "    \"\"\"\n",
    "    Split the data into two data set\n",
    "    :param data_frame: the name of input data\n",
    "    :param size : the size of train data\n",
    "    :return: train_data, test_data\n",
    "    \"\"\"\n",
    "    data_frame = pd.DataFrame(data_frame.values,\n",
    "                              index=[i for i in range(data_frame.values.shape[0])],\n",
    "                              columns=data_frame.columns)\n",
    "    healthy_data = data_frame[data_frame[\"class\"] == 0]\n",
    "    unhealthy_data = data_frame[data_frame[\"class\"] == 1]\n",
    "    healthy_index = list(healthy_data.index)\n",
    "    unhealthy_index = list(unhealthy_data.index)\n",
    "    healthy_train_data_index = random.sample(healthy_index, int(size * len(healthy_index)))\n",
    "    unhealthy_train_data_index = random.sample(unhealthy_index, int(size * len(unhealthy_index)))\n",
    "    healthy_test_data_index = list(set(healthy_index).difference(set(healthy_train_data_index)))\n",
    "    unhealthy_test_data_index = list(set(unhealthy_index).difference(set(unhealthy_train_data_index)))\n",
    "    train_index = list(set(healthy_train_data_index).union(set(unhealthy_train_data_index)))\n",
    "    test_index = list(set(healthy_test_data_index).union(set(unhealthy_test_data_index)))\n",
    "    train = data_frame.iloc[train_index, :]\n",
    "    test = data_frame.iloc[test_index, :]\n",
    "    return train, test"
   ]
  },
  {
   "cell_type": "code",
   "execution_count": 5,
   "metadata": {
    "ExecuteTime": {
     "end_time": "2019-12-18T08:08:43.670537Z",
     "start_time": "2019-12-18T08:08:43.501719Z"
    },
    "scrolled": true
   },
   "outputs": [
    {
     "data": {
      "text/plain": [
       "(110, 45)"
      ]
     },
     "execution_count": 5,
     "metadata": {},
     "output_type": "execute_result"
    }
   ],
   "source": [
    "path = 'C:/Users/pc/OneDrive/PLTTECH/Project/20191205_lung_cancer/'\n",
    "df_name = 'raw_data'\n",
    "df = pd.read_excel(path + 'rawdata/' + df_name + '.xlsx')\n",
    "df['id'] = df['id'].apply(lambda x:str(x))\n",
    "pnasSubsetsIndex = [0, 4, 5, 18, 27, 28, 29, 30, 31, 36, 37, 38, 43, 46, 57,\n",
    "                    58, 59, 60, 61, 62, 63, 64, 69, 70, 71, 72, 75, 76, 77,\n",
    "                    80, 81, 87, 89, 90, 91, 92, 93, 94, 95, 96, 97, 98, 99, 101, 103\n",
    "                    ]       \n",
    "df = df.iloc[:, pnasSubsetsIndex]\n",
    "df.iloc[:, 1:-1] = df.iloc[:, 1:-1].multiply(100)\n",
    "df.shape"
   ]
  },
  {
   "cell_type": "code",
   "execution_count": 6,
   "metadata": {
    "ExecuteTime": {
     "end_time": "2019-12-18T08:08:46.764910Z",
     "start_time": "2019-12-18T08:08:46.760946Z"
    }
   },
   "outputs": [],
   "source": [
    "## 划分训练集和测试集\n",
    "# train_df, test_df = split_func(df)\n",
    "# X_train = train_df.iloc[:, 1:-1].values\n",
    "# y_train = train_df['class'].values.astype('int')\n",
    "# X_test = test_df.iloc[:, 1:-1].values\n",
    "# y_test = test_df['class'].values.astype('int')\n",
    "X_train = df.iloc[:, 1:-1].values\n",
    "y_train = df['class'].values.astype('int')"
   ]
  },
  {
   "cell_type": "code",
   "execution_count": 88,
   "metadata": {
    "ExecuteTime": {
     "end_time": "2019-12-18T08:32:29.740786Z",
     "start_time": "2019-12-18T08:32:28.966881Z"
    },
    "scrolled": false
   },
   "outputs": [
    {
     "name": "stdout",
     "output_type": "stream",
     "text": [
      "[1.00000000e-06 1.83298071e-06 3.35981829e-06 6.15848211e-06\n",
      " 1.12883789e-05 2.06913808e-05 3.79269019e-05 6.95192796e-05\n",
      " 1.27427499e-04 2.33572147e-04 4.28133240e-04 7.84759970e-04\n",
      " 1.43844989e-03 2.63665090e-03 4.83293024e-03 8.85866790e-03\n",
      " 1.62377674e-02 2.97635144e-02 5.45559478e-02 1.00000000e-01]\n"
     ]
    },
    {
     "data": {
      "image/png": "[encoded data removed]",
      "text/plain": [
       "<Figure size 1440x864 with 1 Axes>"
      ]
     },
     "metadata": {
      "needs_background": "light"
     },
     "output_type": "display_data"
    }
   ],
   "source": [
    "# 通过验证曲线来确定正则参数\n",
    "# clf = LogisticRegression(penalty='elasticnet', solver='saga', l1_ratio=0.9)\n",
    "# clf = LogisticRegression(penalty='l1')\n",
    "clf = SVC(C=1)\n",
    "# param_range = [0.001, 0.01, 0.1, 1.0, 10.0, 100.0]\n",
    "param_range = np.logspace(-6, -1, 20)\n",
    "print(param_range)\n",
    "train_scores, test_scores = validation_curve(estimator=clf, X=X_train, \n",
    "                                             y=y_train,\n",
    "                                             param_name='gamma',\n",
    "                                             param_range=param_range,\n",
    "                                             cv=10)\n",
    "train_mean = np.mean(train_scores, axis=1)\n",
    "train_std = np.std(train_scores, axis=1)\n",
    "test_mean = np.mean(test_scores, axis=1)\n",
    "test_std = np.std(test_scores, axis=1)\n",
    "plt.figure(figsize=(20,12))\n",
    "plt.plot(param_range, train_mean, color='blue', marker='o',\n",
    "         markersize=5, label='training acucracy')\n",
    "plt.fill_between(param_range, train_mean+train_std, train_mean-train_std,\n",
    "                 alpha=0.15, color='blue')\n",
    "plt.plot(param_range, test_mean, color='green', linestyle='--',\n",
    "         marker='s', markersize=5, label='validation accuracy')\n",
    "plt.fill_between(param_range, test_mean+test_std, test_mean-test_std,\n",
    "                 alpha=0.15, color='green')\n",
    "plt.grid()\n",
    "plt.xscale('log')\n",
    "plt.legend(loc='best')\n",
    "plt.xlabel('Parameter C')\n",
    "plt.ylabel('Accuracy')\n",
    "plt.ylim([0.2, 1.2])\n",
    "plt.show()                # 图形观察出最优正则参数在0.1附近"
   ]
  },
  {
   "cell_type": "code",
   "execution_count": 229,
   "metadata": {
    "ExecuteTime": {
     "end_time": "2019-12-18T08:38:15.202694Z",
     "start_time": "2019-12-18T08:38:15.194716Z"
    }
   },
   "outputs": [
    {
     "data": {
      "text/plain": [
       "SVC(C=1, cache_size=200, class_weight=None, coef0=0.0,\n",
       "    decision_function_shape='ovr', degree=3, gamma=3.9795e-05, kernel='rbf',\n",
       "    max_iter=-1, probability=True, random_state=None, shrinking=True, tol=0.001,\n",
       "    verbose=False)"
      ]
     },
     "execution_count": 229,
     "metadata": {},
     "output_type": "execute_result"
    }
   ],
   "source": [
    "# lr = LogisticRegression(penalty='elasticnet', solver='saga', l1_ratio=0.7, C=0.01)\n",
    "# lr = LogisticRegression(penalty='l1', C=0.1)\n",
    "lr = SVC(gamma=3.9795e-05, C=1, probability=True)\n",
    "lr.fit(X_train, y_train)"
   ]
  },
  {
   "cell_type": "code",
   "execution_count": 230,
   "metadata": {
    "ExecuteTime": {
     "end_time": "2019-12-18T08:38:15.395134Z",
     "start_time": "2019-12-18T08:38:15.389141Z"
    }
   },
   "outputs": [
    {
     "data": {
      "text/plain": [
       "0.990909090909091"
      ]
     },
     "execution_count": 230,
     "metadata": {},
     "output_type": "execute_result"
    }
   ],
   "source": [
    "lr.score(X_train, y_train)"
   ]
  },
  {
   "cell_type": "code",
   "execution_count": 231,
   "metadata": {
    "ExecuteTime": {
     "end_time": "2019-12-18T08:38:15.587387Z",
     "start_time": "2019-12-18T08:38:15.582407Z"
    }
   },
   "outputs": [
    {
     "data": {
      "text/plain": [
       "array([0, 0, 0, 0, 0, 0, 0, 0, 0, 0, 0, 0, 0, 0, 0, 0, 0, 0, 0, 0, 0, 1,\n",
       "       0, 0, 0, 0, 0, 0, 0, 0, 0, 0, 0, 0, 0, 0, 0, 0, 0, 0, 0, 0, 0, 0,\n",
       "       0, 0, 0, 0, 0, 0, 0, 0, 0, 0, 0, 1, 1, 1, 1, 1, 1, 1, 1, 1, 1, 1,\n",
       "       1, 1, 1, 1, 1, 1, 1, 1, 1, 1, 1, 1, 1, 1, 1, 1, 1, 1, 1, 1, 1, 1,\n",
       "       1, 1, 1, 1, 1, 1, 1, 1, 1, 1, 1, 1, 1, 1, 1, 1, 1, 1, 1, 1, 1, 1])"
      ]
     },
     "execution_count": 231,
     "metadata": {},
     "output_type": "execute_result"
    }
   ],
   "source": [
    "lr.predict(X_train)"
   ]
  },
  {
   "cell_type": "code",
   "execution_count": 232,
   "metadata": {
    "ExecuteTime": {
     "end_time": "2019-12-18T08:38:15.796905Z",
     "start_time": "2019-12-18T08:38:15.792913Z"
    }
   },
   "outputs": [],
   "source": [
    "# lr.score(X_test, y_test)"
   ]
  },
  {
   "cell_type": "code",
   "execution_count": 233,
   "metadata": {
    "ExecuteTime": {
     "end_time": "2019-12-18T08:38:16.254547Z",
     "start_time": "2019-12-18T08:38:16.069015Z"
    }
   },
   "outputs": [
    {
     "data": {
      "text/plain": [
       "0.7268041237113402"
      ]
     },
     "execution_count": 233,
     "metadata": {},
     "output_type": "execute_result"
    }
   ],
   "source": [
    "test_all = pd.read_excel(path + 'rawdata/test_all.xlsx').iloc[:, pnasSubsetsIndex]\n",
    "lr.score(test_all.iloc[:, 1:-1].values, test_all['class'].values)\n",
    "# lr.predict(test_all.iloc[:, 1:-1].values)"
   ]
  },
  {
   "cell_type": "code",
   "execution_count": 234,
   "metadata": {
    "ExecuteTime": {
     "end_time": "2019-12-18T08:38:16.973731Z",
     "start_time": "2019-12-18T08:38:16.815181Z"
    }
   },
   "outputs": [
    {
     "data": {
      "text/plain": [
       "0.7133757961783439"
      ]
     },
     "execution_count": 234,
     "metadata": {},
     "output_type": "execute_result"
    }
   ],
   "source": [
    "healthy_new = pd.read_excel(path + 'rawdata/test_healthy_new.xlsx').iloc[:, pnasSubsetsIndex]\n",
    "lr.score(healthy_new.iloc[:, 1:-1].values, healthy_new['class'].values)\n",
    "# lr.predict(healthy_new.iloc[:, 1:-1].values)"
   ]
  },
  {
   "cell_type": "code",
   "execution_count": 235,
   "metadata": {
    "ExecuteTime": {
     "end_time": "2019-12-18T08:38:17.514215Z",
     "start_time": "2019-12-18T08:38:17.473324Z"
    },
    "scrolled": false
   },
   "outputs": [
    {
     "data": {
      "text/plain": [
       "0.9166666666666666"
      ]
     },
     "execution_count": 235,
     "metadata": {},
     "output_type": "execute_result"
    }
   ],
   "source": [
    "lung_cancer_new = pd.read_excel(path + 'rawdata/test_lung_cancer_new.xlsx').iloc[:, pnasSubsetsIndex]\n",
    "lr.score(lung_cancer_new.iloc[:, 1:-1].values, lung_cancer_new['class'].values)"
   ]
  },
  {
   "cell_type": "code",
   "execution_count": 206,
   "metadata": {
    "ExecuteTime": {
     "end_time": "2019-12-18T08:37:15.438654Z",
     "start_time": "2019-12-18T08:37:15.408724Z"
    }
   },
   "outputs": [
    {
     "data": {
      "text/plain": [
       "0.5"
      ]
     },
     "execution_count": 206,
     "metadata": {},
     "output_type": "execute_result"
    }
   ],
   "source": [
    "benign_new = pd.read_excel(path + 'rawdata/test_benign.xlsx').iloc[:, pnasSubsetsIndex]\n",
    "lr.score(benign_new.iloc[:, 1:-1].values, benign_new['class'].values)"
   ]
  },
  {
   "cell_type": "code",
   "execution_count": 207,
   "metadata": {
    "ExecuteTime": {
     "end_time": "2019-12-18T08:37:15.706349Z",
     "start_time": "2019-12-18T08:37:15.665459Z"
    }
   },
   "outputs": [
    {
     "data": {
      "text/plain": [
       "0.6923076923076923"
      ]
     },
     "execution_count": 207,
     "metadata": {},
     "output_type": "execute_result"
    }
   ],
   "source": [
    "pulmonary_nodule = pd.read_excel(path + 'rawdata/test_pulmonary_nodule.xlsx').iloc[:, pnasSubsetsIndex]\n",
    "lr.score(pulmonary_nodule.iloc[:, 1:-1].values, pulmonary_nodule['class'].values)"
   ]
  },
  {
   "cell_type": "code",
   "execution_count": null,
   "metadata": {},
   "outputs": [],
   "source": []
  },
  {
   "cell_type": "code",
   "execution_count": null,
   "metadata": {},
   "outputs": [],
   "source": []
  }
 ],
 "metadata": {
  "kernelspec": {
   "display_name": "Python 3",
   "language": "python",
   "name": "python3"
  },
  "language_info": {
   "codemirror_mode": {
    "name": "ipython",
    "version": 3
   },
   "file_extension": ".py",
   "mimetype": "text/x-python",
   "name": "python",
   "nbconvert_exporter": "python",
   "pygments_lexer": "ipython3",
   "version": "3.7.3"
  }
 },
 "nbformat": 4,
 "nbformat_minor": 2
}
