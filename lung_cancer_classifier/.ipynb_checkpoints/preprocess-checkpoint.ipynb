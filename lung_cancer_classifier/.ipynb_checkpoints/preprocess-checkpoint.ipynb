{
 "cells": [
  {
   "cell_type": "code",
   "execution_count": 1,
   "metadata": {
    "ExecuteTime": {
     "end_time": "2019-12-19T01:16:51.898475Z",
     "start_time": "2019-12-19T01:16:51.894486Z"
    }
   },
   "outputs": [],
   "source": [
    "# Created by: Chen Da\n",
    "# Created on: 20191219"
   ]
  },
  {
   "cell_type": "code",
   "execution_count": 4,
   "metadata": {
    "ExecuteTime": {
     "end_time": "2019-12-19T01:25:29.327619Z",
     "start_time": "2019-12-19T01:25:29.322643Z"
    }
   },
   "outputs": [],
   "source": [
    "import pandas as pd\n",
    "import numpy as np\n",
    "import matplotlib.pyplot as plt\n",
    "import random, warnings\n",
    "import matplotlib.pyplot as plt\n",
    "from sklearn.model_selection import validation_curve\n",
    "from sklearn.linear_model import LogisticRegression\n",
    "from sklearn.svm import SVC\n",
    "from sklearn.cluster import KMeans\n",
    "\n",
    "warnings.filterwarnings('ignore')"
   ]
  },
  {
   "cell_type": "code",
   "execution_count": 27,
   "metadata": {
    "ExecuteTime": {
     "end_time": "2019-12-19T01:45:11.872878Z",
     "start_time": "2019-12-19T01:45:11.751204Z"
    }
   },
   "outputs": [
    {
     "data": {
      "text/plain": [
       "(110, 20)"
      ]
     },
     "execution_count": 27,
     "metadata": {},
     "output_type": "execute_result"
    }
   ],
   "source": [
    "path = 'C:/Users/pc/OneDrive/PLTTECH/Project/20191205_lung_cancer/'\n",
    "# df_name = 'data_all'\n",
    "df_name = 'raw_data'\n",
    "df = pd.read_excel(path + 'rawdata/' + df_name + '.xlsx')\n",
    "df['id'] = df['id'].apply(lambda x:str(x))\n",
    "subsets_index = [0,4,5,29,30,43,58,60,69,70,71,72,81,91,95,96,98,99,101,103]       \n",
    "df = df.iloc[:, subsets_index]\n",
    "df.iloc[:, 1:-1] = df.iloc[:, 1:-1].multiply(100)\n",
    "df.shape"
   ]
  },
  {
   "cell_type": "code",
   "execution_count": 28,
   "metadata": {
    "ExecuteTime": {
     "end_time": "2019-12-19T01:45:11.961013Z",
     "start_time": "2019-12-19T01:45:11.957994Z"
    }
   },
   "outputs": [],
   "source": [
    "km = KMeans(n_clusters=3,\n",
    "            init='random',\n",
    "            max_iter=300,\n",
    "            tol=1e-04,\n",
    "            random_state=0)"
   ]
  },
  {
   "cell_type": "code",
   "execution_count": 29,
   "metadata": {
    "ExecuteTime": {
     "end_time": "2019-12-19T01:45:12.993576Z",
     "start_time": "2019-12-19T01:45:12.973630Z"
    }
   },
   "outputs": [],
   "source": [
    "y_km = km.fit_predict(df.iloc[:, 1:-1].values)"
   ]
  },
  {
   "cell_type": "code",
   "execution_count": 30,
   "metadata": {
    "ExecuteTime": {
     "end_time": "2019-12-19T01:45:13.379175Z",
     "start_time": "2019-12-19T01:45:13.374188Z"
    }
   },
   "outputs": [
    {
     "data": {
      "text/plain": [
       "array([2, 2, 0, 0, 0, 2, 0, 2, 2, 2, 0, 0, 0, 0, 2, 0, 2, 2, 0, 2, 2, 1,\n",
       "       2, 0, 2, 0, 2, 2, 0, 0, 2, 1, 0, 2, 0, 0, 0, 0, 0, 0, 2, 2, 2, 2,\n",
       "       0, 0, 2, 2, 2, 2, 2, 0, 2, 0, 2, 1, 1, 1, 1, 1, 1, 1, 2, 2, 2, 1,\n",
       "       1, 1, 1, 0, 1, 1, 1, 1, 1, 1, 1, 1, 1, 1, 1, 1, 1, 1, 1, 1, 1, 1,\n",
       "       1, 1, 1, 1, 0, 1, 1, 1, 1, 1, 1, 1, 1, 1, 0, 1, 1, 2, 1, 1, 1, 1])"
      ]
     },
     "execution_count": 30,
     "metadata": {},
     "output_type": "execute_result"
    }
   ],
   "source": [
    "y_km"
   ]
  },
  {
   "cell_type": "code",
   "execution_count": null,
   "metadata": {},
   "outputs": [],
   "source": []
  }
 ],
 "metadata": {
  "kernelspec": {
   "display_name": "Python 3",
   "language": "python",
   "name": "python3"
  },
  "language_info": {
   "codemirror_mode": {
    "name": "ipython",
    "version": 3
   },
   "file_extension": ".py",
   "mimetype": "text/x-python",
   "name": "python",
   "nbconvert_exporter": "python",
   "pygments_lexer": "ipython3",
   "version": "3.7.3"
  }
 },
 "nbformat": 4,
 "nbformat_minor": 2
}
